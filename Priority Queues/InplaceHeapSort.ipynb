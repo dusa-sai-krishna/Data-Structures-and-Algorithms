{
 "cells": [
  {
   "cell_type": "code",
   "execution_count": 7,
   "metadata": {},
   "outputs": [],
   "source": [
    "def heapSort(arr):\n",
    "    n=len(arr)\n",
    "    if n in (0,1):\n",
    "        return arr\n",
    "    #create heap\n",
    "    for i in range(n//2,-1,-1):\n",
    "        downHeapify(arr,i,n)\n",
    "    #sort heap\n",
    "    for i in range(n-1,0,-1):\n",
    "        arr[0],arr[i]=arr[i],arr[0]\n",
    "        downHeapify(arr,0,i)\n",
    "    \n",
    "def downHeapify(arr,i,n):\n",
    "    parentIndex=i\n",
    "    leftChildIndex=2*parentIndex+1\n",
    "    rightChildIndex=2*parentIndex+2\n",
    "    while leftChildIndex<n:\n",
    "        minIndex=parentIndex\n",
    "        if arr[minIndex]>arr[leftChildIndex]:\n",
    "            minIndex=leftChildIndex\n",
    "        if rightChildIndex<n and arr[minIndex]>arr[rightChildIndex]:\n",
    "            minIndex=rightChildIndex\n",
    "        if minIndex==parentIndex:\n",
    "            break\n",
    "        arr[minIndex],arr[parentIndex]=arr[parentIndex],arr[minIndex]\n",
    "        parentIndex=minIndex\n",
    "        leftChildIndex=2*parentIndex+1\n",
    "        rightChildIndex=2*parentIndex+2\n",
    "\n",
    "        "
   ]
  },
  {
   "cell_type": "code",
   "execution_count": 8,
   "metadata": {},
   "outputs": [
    {
     "name": "stdout",
     "output_type": "stream",
     "text": [
      "Enter the ele\n",
      "2 3 4 5 6 8 "
     ]
    }
   ],
   "source": [
    "#Driver Code\n",
    "print(\"Enter the ele\")\n",
    "arr=[int(i) for i in input().split()]\n",
    "heapSort(arr)\n",
    "for i in arr[::-1]:\n",
    "    print(i,end=\" \")"
   ]
  },
  {
   "cell_type": "code",
   "execution_count": null,
   "metadata": {},
   "outputs": [],
   "source": []
  },
  {
   "cell_type": "code",
   "execution_count": null,
   "metadata": {},
   "outputs": [],
   "source": []
  }
 ],
 "metadata": {
  "kernelspec": {
   "display_name": "base",
   "language": "python",
   "name": "python3"
  },
  "language_info": {
   "codemirror_mode": {
    "name": "ipython",
    "version": 3
   },
   "file_extension": ".py",
   "mimetype": "text/x-python",
   "name": "python",
   "nbconvert_exporter": "python",
   "pygments_lexer": "ipython3",
   "version": "3.9.13"
  },
  "orig_nbformat": 4
 },
 "nbformat": 4,
 "nbformat_minor": 2
}
