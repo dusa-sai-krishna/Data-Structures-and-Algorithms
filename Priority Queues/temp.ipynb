{
 "cells": [
  {
   "cell_type": "code",
   "execution_count": null,
   "metadata": {},
   "outputs": [],
   "source": [
    "class PriorityQueueNode:\n",
    "    def __init__(self,value,priority):\n",
    "        self.value=value\n",
    "        self.priority=priority\n",
    "\n",
    "class PriorityQueue:\n",
    "    def __init__(self):\n",
    "        self.pq=[]\n",
    "        \n",
    "    def getSize(self):\n",
    "        return len(self.pq)\n",
    "    \n",
    "    def isEmpty(self):\n",
    "        return self.getSize==0\n",
    "    \n",
    "    def getMin(self):\n",
    "        if self.isEmpty():"
   ]
  },
  {
   "cell_type": "code",
   "execution_count": 1,
   "metadata": {},
   "outputs": [
    {
     "name": "stdout",
     "output_type": "stream",
     "text": [
      "[1, 6, 3, 7, 8, 22, 5, 9, 20]\n",
      "1\n"
     ]
    }
   ],
   "source": [
    "import heapq\n",
    "\n",
    "arr=[5,20,3,6,8,22,1,9,7]\n",
    "heapq.heapify(arr)\n",
    "print(arr)\n",
    "print(arr[0])"
   ]
  },
  {
   "cell_type": "code",
   "execution_count": 3,
   "metadata": {},
   "outputs": [
    {
     "data": {
      "text/plain": [
       "5"
      ]
     },
     "execution_count": 3,
     "metadata": {},
     "output_type": "execute_result"
    }
   ],
   "source": [
    "def getNthMin(arr,n):\n",
    "    heapq.heapify(arr)\n",
    "    i=0\n",
    "    while i<n:\n",
    "        d=heapq.heappop(arr)\n",
    "        i+=1\n",
    "    return d\n",
    "getNthMin(arr,3)"
   ]
  },
  {
   "cell_type": "code",
   "execution_count": 6,
   "metadata": {},
   "outputs": [
    {
     "data": {
      "text/plain": [
       "2"
      ]
     },
     "execution_count": 6,
     "metadata": {},
     "output_type": "execute_result"
    }
   ],
   "source": [
    "def getNthMaximum(arr,n):\n",
    "    heapq.heapify(arr)\n",
    "    i=0\n",
    "    n=len(arr)-n+1\n",
    "    while i<n:\n",
    "        d=heapq.heappop(arr)\n",
    "        i+=1\n",
    "    return d\n",
    "\n",
    "getNthMaximum([1,2,3,4,5],4)"
   ]
  },
  {
   "cell_type": "code",
   "execution_count": 10,
   "metadata": {},
   "outputs": [
    {
     "data": {
      "text/plain": [
       "True"
      ]
     },
     "execution_count": 10,
     "metadata": {},
     "output_type": "execute_result"
    }
   ],
   "source": [
    "def checkMinHeap(arr):\n",
    "    for i,val in enumerate(arr):\n",
    "        #check left\n",
    "        left_index=2*i+1\n",
    "        if left_index<len(arr) and arr[left_index]<val: return False\n",
    "        #check right\n",
    "        right_index=2*i+2\n",
    "        if right_index<len(arr) and arr[right_index]<val: return False\n",
    "    return True\n",
    "checkMinHeap([1,3,6])"
   ]
  },
  {
   "cell_type": "code",
   "execution_count": 14,
   "metadata": {},
   "outputs": [
    {
     "data": {
      "text/plain": [
       "86"
      ]
     },
     "execution_count": 14,
     "metadata": {},
     "output_type": "execute_result"
    }
   ],
   "source": [
    "def goldenwire(arr):\n",
    "    cost=0\n",
    "    heapq.heapify(arr)\n",
    "    while len(arr)>1:\n",
    "        x,y=heapq.heappop(arr),heapq.heappop(arr)\n",
    "        curr_cost=x+y\n",
    "        heapq.heappush(arr,curr_cost)\n",
    "        cost+=curr_cost\n",
    "    return cost\n",
    "\n",
    "goldenwire([5,9,6,7,1,2,3])\n"
   ]
  },
  {
   "cell_type": "code",
   "execution_count": null,
   "metadata": {},
   "outputs": [],
   "source": []
  }
 ],
 "metadata": {
  "kernelspec": {
   "display_name": "base",
   "language": "python",
   "name": "python3"
  },
  "language_info": {
   "codemirror_mode": {
    "name": "ipython",
    "version": 3
   },
   "file_extension": ".py",
   "mimetype": "text/x-python",
   "name": "python",
   "nbconvert_exporter": "python",
   "pygments_lexer": "ipython3",
   "version": "3.9.18"
  },
  "orig_nbformat": 4
 },
 "nbformat": 4,
 "nbformat_minor": 2
}
