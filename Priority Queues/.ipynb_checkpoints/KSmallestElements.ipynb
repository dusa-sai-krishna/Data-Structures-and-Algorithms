{
 "cells": [
  {
   "cell_type": "code",
   "execution_count": 1,
   "metadata": {},
   "outputs": [
    {
     "name": "stdout",
     "output_type": "stream",
     "text": [
      "1 2 3 5\n"
     ]
    }
   ],
   "source": [
    "import heapq\n",
    "def kSmallest(lst, k):\n",
    "    mlst=lst[:k]\n",
    "    #create a maxHeap\n",
    "    heapq._heapify_max(mlst)\n",
    "    for i in lst[k:]:\n",
    "        if mlst[0]>i:\n",
    "            heapq._heapreplace_max(mlst,i)\n",
    "    return mlst\n",
    "\n",
    "\n",
    "# Main\n",
    "n=int(input())  \n",
    "lst=list(int(i) for i in input().strip().split(' '))\n",
    "k=int(input())\n",
    "ans=kSmallest(lst, k)\n",
    "ans.sort()\n",
    "print(*ans, sep=' ')"
   ]
  },
  {
   "cell_type": "code",
   "execution_count": null,
   "metadata": {},
   "outputs": [],
   "source": []
  }
 ],
 "metadata": {
  "kernelspec": {
   "display_name": "base",
   "language": "python",
   "name": "python3"
  },
  "language_info": {
   "codemirror_mode": {
    "name": "ipython",
    "version": 3
   },
   "file_extension": ".py",
   "mimetype": "text/x-python",
   "name": "python",
   "nbconvert_exporter": "python",
   "pygments_lexer": "ipython3",
   "version": "3.9.13"
  },
  "orig_nbformat": 4
 },
 "nbformat": 4,
 "nbformat_minor": 2
}
