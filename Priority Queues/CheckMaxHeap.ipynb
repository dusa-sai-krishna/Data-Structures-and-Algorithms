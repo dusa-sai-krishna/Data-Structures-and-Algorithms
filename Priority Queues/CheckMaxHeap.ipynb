{
 "cells": [
  {
   "cell_type": "code",
   "execution_count": 1,
   "metadata": {},
   "outputs": [
    {
     "name": "stdout",
     "output_type": "stream",
     "text": [
      "true\n"
     ]
    }
   ],
   "source": [
    "def checkMaxHeap(arr):\n",
    "    n=len(arr)\n",
    "    if n in (0,1):\n",
    "        return 1\n",
    "    isMaxHeap=1\n",
    "    for i in range(n):\n",
    "        parentIndex=i\n",
    "        leftChildIndex=2*i+1\n",
    "        rightChildIndex=2*i+2\n",
    "        if leftChildIndex<n and arr[parentIndex]<arr[leftChildIndex]:\n",
    "            isMaxHeap=0\n",
    "            break\n",
    "        elif rightChildIndex<n and arr[parentIndex]<arr[rightChildIndex]:\n",
    "            isMaxHeap=0\n",
    "            break\n",
    "    if isMaxHeap==1:\n",
    "        return True\n",
    "    else:\n",
    "        return False\n",
    "# Main Code\n",
    "n=int(input())\n",
    "lst=list(int(i) for i in input().strip().split(' '))\n",
    "if checkMaxHeap(lst):\n",
    "    print('true')\n",
    "else:\n",
    "    print('false')  "
   ]
  },
  {
   "cell_type": "code",
   "execution_count": null,
   "metadata": {},
   "outputs": [],
   "source": []
  }
 ],
 "metadata": {
  "kernelspec": {
   "display_name": "base",
   "language": "python",
   "name": "python3"
  },
  "language_info": {
   "codemirror_mode": {
    "name": "ipython",
    "version": 3
   },
   "file_extension": ".py",
   "mimetype": "text/x-python",
   "name": "python",
   "nbconvert_exporter": "python",
   "pygments_lexer": "ipython3",
   "version": "3.9.18"
  },
  "orig_nbformat": 4
 },
 "nbformat": 4,
 "nbformat_minor": 2
}
