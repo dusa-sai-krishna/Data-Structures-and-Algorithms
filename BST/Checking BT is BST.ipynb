{
 "cells": [
  {
   "cell_type": "code",
   "execution_count": 1,
   "id": "756850fb",
   "metadata": {},
   "outputs": [],
   "source": [
    "import queue\n",
    "\n",
    "class BinaryTreeNode:\n",
    "    \n",
    "    def __init__(self,data):\n",
    "        self.data=data\n",
    "        self.left=None\n",
    "        self.right=None\n",
    "    \n",
    "def printBT(root):\n",
    "    if root is None:\n",
    "        return \n",
    "    print(\"{}:\".format(root.data),end=\"\")\n",
    "    if root.left!=None:\n",
    "        print(\"L-{},\".format(root.left.data),end=\"\")\n",
    "    if root.right!=None:\n",
    "        print(\"R-{}\".format(root.right.data),end=\"\")\n",
    "    print()\n",
    "    printBT(root.left)\n",
    "    printBT(root.right)\n",
    "\n",
    "    \n",
    "def numNodes(root):\n",
    "    if root is None:\n",
    "        return 0\n",
    "    leftcount=numNodes(root.left)\n",
    "    rightcount=numNodes(root.right)\n",
    "    return leftcount+rightcount+1\n",
    "\n",
    "def takeLevelWiseInput():\n",
    "    #Create a queue\n",
    "    q=queue.Queue()\n",
    "    #Take Root Input\n",
    "    rootData=int(input(\"Enter the root data:\"))\n",
    "    #check whether its -1\n",
    "    if rootData==-1:\n",
    "        return None\n",
    "    root=BinaryTreeNode(rootData)\n",
    "    #place it in queue\n",
    "    q.put(root)\n",
    "    #Create a while loop until queue is empty\n",
    "    while (not(q.empty())):\n",
    "        currentNode=q.get()\n",
    "    #Take leftChild Data\n",
    "        print(\"Enter the left Child data for the node {}:\".format(currentNode.data))\n",
    "        leftChildData=int(input())\n",
    "        if leftChildData!=-1:\n",
    "            leftChild=BinaryTreeNode(leftChildData)\n",
    "            currentNode.left=leftChild\n",
    "            q.put(leftChild)\n",
    "    #Take RightChild Data\n",
    "        print(\"Enter the right Child data for the node {}:\".format(currentNode.data))\n",
    "        rightChildData=int(input())\n",
    "        if rightChildData!=-1:\n",
    "            rightChild=BinaryTreeNode(rightChildData)\n",
    "            currentNode.right=rightChild\n",
    "            q.put(rightChild)\n",
    "    return root  \n",
    "            \n",
    "            \n",
    "def levelWisePrintBT(root):\n",
    "    #Create a Queue\n",
    "    q=queue.Queue()\n",
    "    #Check whether root is not None\n",
    "    if root is None:\n",
    "        return None\n",
    "    #put root into queue\n",
    "    q.put(root)\n",
    "    #Create a While loop\n",
    "    while (not(q.empty())):\n",
    "        currentNode=q.get()\n",
    "        print(\"{}:\".format(currentNode.data),end=\"\")\n",
    "    #print left child\n",
    "        leftChild=currentNode.left\n",
    "        if leftChild is not None:\n",
    "            q.put(leftChild)\n",
    "            ld=leftChild.data\n",
    "            print(\"L{},\".format(ld),end=\"\")\n",
    "    #print right child\n",
    "        rightChild=currentNode.right\n",
    "        if rightChild is not None:\n",
    "            q.put(rightChild)\n",
    "            rd=rightChild.data\n",
    "            print(\"R{}\".format(rd),end=\"\")\n",
    "        print()"
   ]
  },
  {
   "cell_type": "code",
   "execution_count": 7,
   "id": "06aba546",
   "metadata": {},
   "outputs": [],
   "source": [
    "def maxBT(root):\n",
    "    if root is None:\n",
    "        return -100000\n",
    "    leftMax=maxBT(root.left)\n",
    "    rightMax=maxBT(root.right)\n",
    "    return max(leftMax,rightMax,root.data)\n",
    "\n",
    "\n",
    "def minBT(root):\n",
    "    if root is None:\n",
    "        return 100000\n",
    "    leftMin=minBT(root.left)\n",
    "    rightMin=minBT(root.right)\n",
    "    return min(leftMin,rightMin,root.data)\n",
    "\n",
    "\n",
    "\n",
    "def isBST(root):\n",
    "    if root is None:\n",
    "        return True\n",
    "    leftMax=maxBT(root.left)\n",
    "    rightMin=minBT(root.right)\n",
    "    value=root.data\n",
    "    if value<=leftMax or value>rightMin:\n",
    "        return False\n",
    "    leftIsBST=isBST(root.left)\n",
    "    rightIsBST=isBST(root.right)\n",
    "    return leftIsBST and rightIsBST\n",
    "        "
   ]
  },
  {
   "cell_type": "code",
   "execution_count": 9,
   "id": "7c5e23a1",
   "metadata": {},
   "outputs": [
    {
     "name": "stdout",
     "output_type": "stream",
     "text": [
      "Enter the root data:4\n",
      "Enter the left Child data for the node 4:\n",
      "2\n",
      "Enter the right Child data for the node 4:\n",
      "6\n",
      "Enter the left Child data for the node 2:\n",
      "1\n",
      "Enter the right Child data for the node 2:\n",
      "3\n",
      "Enter the left Child data for the node 6:\n",
      "5\n",
      "Enter the right Child data for the node 6:\n",
      "7\n",
      "Enter the left Child data for the node 1:\n",
      "-1\n",
      "Enter the right Child data for the node 1:\n",
      "-1\n",
      "Enter the left Child data for the node 3:\n",
      "-1\n",
      "Enter the right Child data for the node 3:\n",
      "-1\n",
      "Enter the left Child data for the node 5:\n",
      "-1\n",
      "Enter the right Child data for the node 5:\n",
      "-1\n",
      "Enter the left Child data for the node 7:\n",
      "-1\n",
      "Enter the right Child data for the node 7:\n",
      "-1\n",
      "4:L2,R6\n",
      "2:L1,R3\n",
      "6:L5,R7\n",
      "1:\n",
      "3:\n",
      "5:\n",
      "7:\n"
     ]
    }
   ],
   "source": [
    "root=takeLevelWiseInput()\n",
    "levelWisePrintBT(root)\n"
   ]
  },
  {
   "cell_type": "code",
   "execution_count": 10,
   "id": "9890d2a2",
   "metadata": {},
   "outputs": [
    {
     "data": {
      "text/plain": [
       "True"
      ]
     },
     "execution_count": 10,
     "metadata": {},
     "output_type": "execute_result"
    }
   ],
   "source": [
    "isBST(root)"
   ]
  },
  {
   "cell_type": "code",
   "execution_count": 15,
   "id": "b76e66d3",
   "metadata": {},
   "outputs": [],
   "source": [
    "def isBST2(root):\n",
    "    if root is None:\n",
    "        return 10000,-10000,True\n",
    "    leftMin,leftMax,leftIsBST=isBST2(root.left)\n",
    "    rightMin,rightMax,rightIsBST=isBST2(root.right)\n",
    "    minimum=min(leftMin,rightMin,root.data)\n",
    "    maximum=max(leftMax,rightMax,root.data)\n",
    "    isTreeBST=True\n",
    "    if root.data>rightMin or root.data<=leftMax:\n",
    "        isTreeBST=False\n",
    "    if (not(leftIsBST)) and (not(rightIsBST)):\n",
    "        isTreeBST=False\n",
    "    else:\n",
    "        return minimum,maximum,isTreeBST"
   ]
  },
  {
   "cell_type": "code",
   "execution_count": 13,
   "id": "cbf82658",
   "metadata": {},
   "outputs": [
    {
     "name": "stdout",
     "output_type": "stream",
     "text": [
      "Enter the root data:4\n",
      "Enter the left Child data for the node 4:\n",
      "2\n",
      "Enter the right Child data for the node 4:\n",
      "6\n",
      "Enter the left Child data for the node 2:\n",
      "1\n",
      "Enter the right Child data for the node 2:\n",
      "10\n",
      "Enter the left Child data for the node 6:\n",
      "5\n",
      "Enter the right Child data for the node 6:\n",
      "7\n",
      "Enter the left Child data for the node 1:\n",
      "-1\n",
      "Enter the right Child data for the node 1:\n",
      "-1\n",
      "Enter the left Child data for the node 10:\n",
      "-1\n",
      "Enter the right Child data for the node 10:\n",
      "-1\n",
      "Enter the left Child data for the node 5:\n",
      "-1\n",
      "Enter the right Child data for the node 5:\n",
      "-1\n",
      "Enter the left Child data for the node 7:\n",
      "-1\n",
      "Enter the right Child data for the node 7:\n",
      "-1\n",
      "4:L2,R6\n",
      "2:L1,R10\n",
      "6:L5,R7\n",
      "1:\n",
      "10:\n",
      "5:\n",
      "7:\n"
     ]
    }
   ],
   "source": [
    "root=takeLevelWiseInput()\n",
    "levelWisePrintBT(root)\n"
   ]
  },
  {
   "cell_type": "code",
   "execution_count": 16,
   "id": "1fb5be52",
   "metadata": {},
   "outputs": [
    {
     "data": {
      "text/plain": [
       "(1, 10, False)"
      ]
     },
     "execution_count": 16,
     "metadata": {},
     "output_type": "execute_result"
    }
   ],
   "source": [
    "isBST2(root)"
   ]
  },
  {
   "cell_type": "code",
   "execution_count": 23,
   "id": "f485151b",
   "metadata": {},
   "outputs": [],
   "source": [
    "def isBST3(root,min_range,max_range):\n",
    "    if root is None:\n",
    "        return True\n",
    "    if root.data<=min_range or root.data>max_range:\n",
    "        return False\n",
    "    leftBST=isBST3(root.left,min_range,root.data-1)\n",
    "    rightBST=isBST3(root.right,root.data,max_range)\n",
    "    if leftBST and rightBST:\n",
    "        return True"
   ]
  },
  {
   "cell_type": "code",
   "execution_count": 20,
   "id": "d5b4bc36",
   "metadata": {},
   "outputs": [
    {
     "name": "stdout",
     "output_type": "stream",
     "text": [
      "Enter the root data:4\n",
      "Enter the left Child data for the node 4:\n",
      "2\n",
      "Enter the right Child data for the node 4:\n",
      "6\n",
      "Enter the left Child data for the node 2:\n",
      "1\n",
      "Enter the right Child data for the node 2:\n",
      "10\n",
      "Enter the left Child data for the node 6:\n",
      "5\n",
      "Enter the right Child data for the node 6:\n",
      "7\n",
      "Enter the left Child data for the node 1:\n",
      "-1\n",
      "Enter the right Child data for the node 1:\n",
      "-1\n",
      "Enter the left Child data for the node 10:\n",
      "-1\n",
      "Enter the right Child data for the node 10:\n",
      "-1\n",
      "Enter the left Child data for the node 5:\n",
      "-1\n",
      "Enter the right Child data for the node 5:\n",
      "-1\n",
      "Enter the left Child data for the node 7:\n",
      "-1\n",
      "Enter the right Child data for the node 7:\n",
      "-1\n",
      "4:L2,R6\n",
      "2:L1,R10\n",
      "6:L5,R7\n",
      "1:\n",
      "10:\n",
      "5:\n",
      "7:\n"
     ]
    }
   ],
   "source": [
    "root=takeLevelWiseInput()\n",
    "levelWisePrintBT(root)\n"
   ]
  },
  {
   "cell_type": "code",
   "execution_count": 24,
   "id": "38b9b564",
   "metadata": {},
   "outputs": [
    {
     "data": {
      "text/plain": [
       "False"
      ]
     },
     "execution_count": 24,
     "metadata": {},
     "output_type": "execute_result"
    }
   ],
   "source": [
    "isBST3(root,1000000,-1000000)"
   ]
  },
  {
   "cell_type": "code",
   "execution_count": null,
   "id": "7d2db3c8",
   "metadata": {},
   "outputs": [],
   "source": []
  },
  {
   "cell_type": "code",
   "execution_count": null,
   "id": "38310a1a",
   "metadata": {},
   "outputs": [],
   "source": []
  }
 ],
 "metadata": {
  "kernelspec": {
   "display_name": "Python 3 (ipykernel)",
   "language": "python",
   "name": "python3"
  },
  "language_info": {
   "codemirror_mode": {
    "name": "ipython",
    "version": 3
   },
   "file_extension": ".py",
   "mimetype": "text/x-python",
   "name": "python",
   "nbconvert_exporter": "python",
   "pygments_lexer": "ipython3",
   "version": "3.9.13"
  }
 },
 "nbformat": 4,
 "nbformat_minor": 5
}
