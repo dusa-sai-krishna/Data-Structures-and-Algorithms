{
 "cells": [
  {
   "cell_type": "code",
   "execution_count": 1,
   "metadata": {},
   "outputs": [],
   "source": [
    "def dic(s,t,i,j):\n",
    "    #Base condition\n",
    "    #If string t has been run out then we have found all characters in order\n",
    "    if len(t)==j:\n",
    "        return True\n",
    "    #If string s has been run out then we have not found all characters in order\n",
    "    if len(s)==i:\n",
    "        return False\n",
    "    #Hypothesis\n",
    "    if s[i]==t[j]:\n",
    "        return dic(s,t,i+1,j+1)\n",
    "    if s[i]!=t[j]:\n",
    "        return dic(s,t,i+1,j)\n",
    "    "
   ]
  },
  {
   "cell_type": "code",
   "execution_count": 2,
   "metadata": {},
   "outputs": [
    {
     "data": {
      "text/plain": [
       "True"
      ]
     },
     "execution_count": 2,
     "metadata": {},
     "output_type": "execute_result"
    }
   ],
   "source": [
    "s=input('Enter big string')\n",
    "t=input('Enter small string')\n",
    "dic(s,t,0,0)"
   ]
  },
  {
   "cell_type": "code",
   "execution_count": null,
   "metadata": {},
   "outputs": [],
   "source": []
  }
 ],
 "metadata": {
  "kernelspec": {
   "display_name": "base",
   "language": "python",
   "name": "python3"
  },
  "language_info": {
   "codemirror_mode": {
    "name": "ipython",
    "version": 3
   },
   "file_extension": ".py",
   "mimetype": "text/x-python",
   "name": "python",
   "nbconvert_exporter": "python",
   "pygments_lexer": "ipython3",
   "version": "3.9.13"
  },
  "orig_nbformat": 4
 },
 "nbformat": 4,
 "nbformat_minor": 2
}
