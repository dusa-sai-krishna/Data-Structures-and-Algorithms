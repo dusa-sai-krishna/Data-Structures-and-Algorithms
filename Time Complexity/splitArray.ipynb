{
 "cells": [
  {
   "cell_type": "code",
   "execution_count": 2,
   "metadata": {},
   "outputs": [],
   "source": [
    "\n",
    "\n",
    "\n",
    "def splitArray(array,si,lsum,rsum):\n",
    "    #Checking Base conditon\n",
    "    if si==len(array):\n",
    "        return lsum==rsum\n",
    "    #Checking whether arr[si] divisible by 5\n",
    "    #If divisible add to left sid\n",
    "    if array[si]%5==0:\n",
    "        lsum+=array[si]\n",
    "    #Checking whether arr[si] divisible by 3\n",
    "    #If divisible add to right\n",
    "    elif array[si]%3==0:\n",
    "        rsum+=array[si]\n",
    "    #If not divisible by either 5 or 3 then add on both sides to check which will satisfy\n",
    "    else:\n",
    "        return splitArray(array,si+1,lsum+array[si],rsum) or splitArray(array,si+1,lsum,rsum+array[si]) \n",
    "    \n",
    "    return splitArray(array,si+1,lsum,rsum)"
   ]
  },
  {
   "cell_type": "code",
   "execution_count": 4,
   "metadata": {},
   "outputs": [
    {
     "data": {
      "text/plain": [
       "False"
      ]
     },
     "execution_count": 4,
     "metadata": {},
     "output_type": "execute_result"
    }
   ],
   "source": [
    "array=[int(i) for i in input().split()]\n",
    "splitArray(array,0,0,0)"
   ]
  },
  {
   "cell_type": "code",
   "execution_count": null,
   "metadata": {},
   "outputs": [],
   "source": []
  }
 ],
 "metadata": {
  "kernelspec": {
   "display_name": "base",
   "language": "python",
   "name": "python3"
  },
  "language_info": {
   "codemirror_mode": {
    "name": "ipython",
    "version": 3
   },
   "file_extension": ".py",
   "mimetype": "text/x-python",
   "name": "python",
   "nbconvert_exporter": "python",
   "pygments_lexer": "ipython3",
   "version": "3.9.13"
  },
  "orig_nbformat": 4
 },
 "nbformat": 4,
 "nbformat_minor": 2
}
