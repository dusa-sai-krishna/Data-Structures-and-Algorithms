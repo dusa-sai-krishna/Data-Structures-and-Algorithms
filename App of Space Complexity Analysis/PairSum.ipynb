{
 "cells": [
  {
   "cell_type": "code",
   "execution_count": 1,
   "id": "04a3e0f3",
   "metadata": {},
   "outputs": [],
   "source": [
    "def pairSum(arr,n,sum):\n",
    "    #Sort the array\n",
    "    arr.sort()\n",
    "    #Place pointers\n",
    "    i=0\n",
    "    j=n-1\n",
    "    #Counter\n",
    "    numpair=0\n",
    "    #Traverse the array\n",
    "    while i<j:\n",
    "        if arr[i]+arr[j]<sum:\n",
    "            i+=1\n",
    "        elif arr[i]+arr[j]>sum:\n",
    "            j-=1\n",
    "        else:\n",
    "            if arr[i]==arr[j]:\n",
    "                #How many are there\n",
    "                temp=arr.count(arr[i])\n",
    "                numpair+=(temp*(temp-1)//2)\n",
    "                break\n",
    "            else:\n",
    "                #Count of starting ele\n",
    "                a=arr.count(arr[i])\n",
    "                b=arr.count(arr[j])\n",
    "                numpair+=a*b\n",
    "                i+=a\n",
    "                j-=b\n",
    "    return numpair"
   ]
  },
  {
   "cell_type": "code",
   "execution_count": 2,
   "id": "55b75f81",
   "metadata": {},
   "outputs": [
    {
     "name": "stdout",
     "output_type": "stream",
     "text": [
      "1 3 6 2 5 4 3 2 4\n",
      "7\n"
     ]
    },
    {
     "data": {
      "text/plain": [
       "7"
      ]
     },
     "execution_count": 2,
     "metadata": {},
     "output_type": "execute_result"
    }
   ],
   "source": [
    "#Driver Code\n",
    "arr=[int(i) for i in input().split()]\n",
    "pairSum(arr,len(arr),int(input()))"
   ]
  },
  {
   "cell_type": "code",
   "execution_count": null,
   "id": "c17afa53",
   "metadata": {},
   "outputs": [],
   "source": []
  }
 ],
 "metadata": {
  "kernelspec": {
   "display_name": "Python 3 (ipykernel)",
   "language": "python",
   "name": "python3"
  },
  "language_info": {
   "codemirror_mode": {
    "name": "ipython",
    "version": 3
   },
   "file_extension": ".py",
   "mimetype": "text/x-python",
   "name": "python",
   "nbconvert_exporter": "python",
   "pygments_lexer": "ipython3",
   "version": "3.9.13"
  }
 },
 "nbformat": 4,
 "nbformat_minor": 5
}
