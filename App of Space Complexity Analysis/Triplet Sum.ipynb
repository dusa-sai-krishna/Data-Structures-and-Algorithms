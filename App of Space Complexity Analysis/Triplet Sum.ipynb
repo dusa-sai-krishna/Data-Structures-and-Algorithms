{
 "cells": [
  {
   "cell_type": "code",
   "execution_count": 10,
   "id": "446bc595",
   "metadata": {},
   "outputs": [],
   "source": [
    "def tripsum(arr,n,x):\n",
    "    arr.sort()\n",
    "    count=0\n",
    "    if n<3:\n",
    "        return 0\n",
    "    for i in range(len(arr)):\n",
    "        fi=arr[i]\n",
    "        front=i+1\n",
    "        rear=n-1\n",
    "        while front<rear:\n",
    "            sum=fi+arr[front]+arr[rear]\n",
    "            if sum==x:\n",
    "                count+=1\n",
    "                if arr[i]+arr[front+1]+arr[rear]==x:\n",
    "                    front=front+1\n",
    "                elif arr[i]+arr[front]+arr[rear-1]==x:\n",
    "                    rear-=1\n",
    "                else:\n",
    "                    front+=1\n",
    "                    rear-=1\n",
    "            elif sum>x:\n",
    "                rear-=1\n",
    "            else:\n",
    "                front+=1\n",
    "    return count"
   ]
  },
  {
   "cell_type": "code",
   "execution_count": 23,
   "id": "6d8c3b3c",
   "metadata": {},
   "outputs": [],
   "source": [
    "import math\n",
    "def tripletCount(arr,n,sum):\n",
    "    if n<3:\n",
    "        return 0\n",
    "    #sort the array\n",
    "    arr.sort()\n",
    "    #Counter for triplets\n",
    "    triplets=0\n",
    "    #Create a loop and consider each value as an element of a triplet\n",
    "    for i in range(len(arr)):\n",
    "        pairSumFor=sum-arr[i]\n",
    "        triplets+=pairSum(arr,i+1,n-1,pairSumFor)\n",
    "    return triplets\n",
    "\n",
    "\n",
    "def pairSum(arr,si,ei,sum):\n",
    "    #Counter which checks number of pairs\n",
    "    numPairs=0\n",
    "    while si<ei:\n",
    "        if arr[si]+arr[ei]<sum:\n",
    "            si+=1\n",
    "        elif arr[si]+arr[ei]>sum:\n",
    "            ei-=1\n",
    "        else:#Now arr[si]+arr[ei]==sum\n",
    "            #To handle two edge cases.\n",
    "            if arr[si]==arr[ei]:\n",
    "                numberOfElements=ei-si+1\n",
    "                numPairs+=math.factorial(numberOfElements)/(math.factorial(numberOfElements-2)*2)\n",
    "                return numPairs\n",
    "            #Now there may exist duplicates of arr[si] and arr[ei] but do not cover entire lenght from si to ei\n",
    "            elementAtStart=arr[si]\n",
    "            elementAtEnd=arr[ei]\n",
    "            pairStartIndex=si\n",
    "            pairEndIndex=ei\n",
    "            while pairStartIndex<pairEndIndex and elementAtStart==arr[pairStartIndex]:\n",
    "                pairStartIndex+=1\n",
    "            while pairStartIndex and elementAtEnd==arr[pairEndIndex]:\n",
    "                pairEndIndex-=1\n",
    "            numberOfElementsFromStart=pairStartIndex-si\n",
    "            numberOfElementsFromEnd=ei-pairEndIndex\n",
    "            numPairs+=numberOfElementsFromStart*numberOfElementsFromEnd\n",
    "            \n",
    "            si=pairStartIndex\n",
    "            ei=pairEndIndex\n",
    "            \n",
    "    return numPairs\n",
    "            \n",
    "                \n",
    "                \n",
    "            "
   ]
  },
  {
   "cell_type": "code",
   "execution_count": 25,
   "id": "4dc1af91",
   "metadata": {},
   "outputs": [
    {
     "data": {
      "text/plain": [
       "2"
      ]
     },
     "execution_count": 25,
     "metadata": {},
     "output_type": "execute_result"
    }
   ],
   "source": [
    "#DriverCode\n",
    "arr=[int(i) for i in input().split()]\n",
    "tripletCount(arr,len(arr),int(input()))"
   ]
  },
  {
   "cell_type": "code",
   "execution_count": null,
   "id": "185054d5",
   "metadata": {},
   "outputs": [],
   "source": []
  },
  {
   "cell_type": "code",
   "execution_count": null,
   "id": "743352c8",
   "metadata": {},
   "outputs": [],
   "source": []
  },
  {
   "cell_type": "code",
   "execution_count": null,
   "id": "a9eb6cbd",
   "metadata": {},
   "outputs": [],
   "source": []
  }
 ],
 "metadata": {
  "kernelspec": {
   "display_name": "Python 3 (ipykernel)",
   "language": "python",
   "name": "python3"
  },
  "language_info": {
   "codemirror_mode": {
    "name": "ipython",
    "version": 3
   },
   "file_extension": ".py",
   "mimetype": "text/x-python",
   "name": "python",
   "nbconvert_exporter": "python",
   "pygments_lexer": "ipython3",
   "version": "3.9.13"
  }
 },
 "nbformat": 4,
 "nbformat_minor": 5
}
