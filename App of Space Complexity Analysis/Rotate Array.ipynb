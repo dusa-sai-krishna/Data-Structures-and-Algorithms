{
 "cells": [
  {
   "cell_type": "code",
   "execution_count": 5,
   "id": "26056d53",
   "metadata": {},
   "outputs": [],
   "source": [
    "def rotatearr(arr,x):\n",
    "    arr.reverse()\n",
    "    lst=[]\n",
    "    while x!=0:\n",
    "        lst.append(arr.pop())\n",
    "        x-=1\n",
    "    arr.reverse()\n",
    "    return arr+lst"
   ]
  },
  {
   "cell_type": "code",
   "execution_count": 8,
   "id": "157a0468",
   "metadata": {},
   "outputs": [
    {
     "name": "stdout",
     "output_type": "stream",
     "text": [
      "1 3 6 11 12 17\n",
      "4\n",
      "[12, 17, 1, 3, 6, 11]\n"
     ]
    }
   ],
   "source": [
    "lst=[int(i) for i in input().split()]\n",
    "print(rotatearr(lst,int(input())))"
   ]
  },
  {
   "cell_type": "code",
   "execution_count": null,
   "id": "9e16f778",
   "metadata": {},
   "outputs": [],
   "source": []
  },
  {
   "cell_type": "code",
   "execution_count": null,
   "id": "295a7572",
   "metadata": {},
   "outputs": [],
   "source": []
  }
 ],
 "metadata": {
  "kernelspec": {
   "display_name": "Python 3 (ipykernel)",
   "language": "python",
   "name": "python3"
  },
  "language_info": {
   "codemirror_mode": {
    "name": "ipython",
    "version": 3
   },
   "file_extension": ".py",
   "mimetype": "text/x-python",
   "name": "python",
   "nbconvert_exporter": "python",
   "pygments_lexer": "ipython3",
   "version": "3.9.13"
  }
 },
 "nbformat": 4,
 "nbformat_minor": 5
}
