{
 "cells": [
  {
   "cell_type": "code",
   "execution_count": 18,
   "id": "2228ea1b",
   "metadata": {},
   "outputs": [],
   "source": [
    "def eqindex(lst,n):\n",
    "    if n in (0,1,2):\n",
    "        return -1\n",
    "    else:\n",
    "        front=0\n",
    "        rear=n-1\n",
    "        lsum=lst[front]\n",
    "        rsum=lst[rear]\n",
    "        while front<rear:\n",
    "            if lsum<rsum:\n",
    "                front=front+1\n",
    "                lsum+=lst[front]\n",
    "            elif rsum<lsum:\n",
    "                rear=rear-1\n",
    "                rsum+=lst[rear]\n",
    "            else:\n",
    "                return front+1\n",
    "            print(lsum,rsum,front,rear)\n",
    "    return -1"
   ]
  },
  {
   "cell_type": "code",
   "execution_count": 20,
   "id": "36cffd61",
   "metadata": {},
   "outputs": [],
   "source": [
    "def eqindex2(lst,n):\n",
    "    if n in (0,1,2):\n",
    "        return -1\n",
    "    else:\n",
    "        lsum=lst[0]\n",
    "        rsum=sum(lst)-lst[0]-lst[1]\n",
    "        for i in range(1,n-1):\n",
    "            if i!=1:\n",
    "                rsum-=lst[i]\n",
    "            if lsum==rsum:\n",
    "                return i\n",
    "            else:\n",
    "                lsum+=lst[i]\n",
    "    return -1"
   ]
  },
  {
   "cell_type": "code",
   "execution_count": 12,
   "id": "584c24a8",
   "metadata": {},
   "outputs": [],
   "source": [
    "def eqIndex3(array,n):\n",
    "    if n in (0,1,2):\n",
    "        return -1\n",
    "    lsum=0\n",
    "    rsum=sum(array)\n",
    "    for i in range(len(array)):\n",
    "        rsum-=array[i]\n",
    "        if lsum==rsum:\n",
    "            return i\n",
    "        else:\n",
    "            lsum+=array[i]\n",
    "    return -1"
   ]
  },
  {
   "cell_type": "code",
   "execution_count": 13,
   "id": "e7c996ac",
   "metadata": {},
   "outputs": [
    {
     "name": "stdout",
     "output_type": "stream",
     "text": [
      "-1\n"
     ]
    }
   ],
   "source": [
    "#driver code\n",
    "lst=[int(i) for i in input().split()]\n",
    "print(eqIndex3(lst,len(lst)))"
   ]
  },
  {
   "cell_type": "code",
   "execution_count": null,
   "id": "3874e5cb",
   "metadata": {},
   "outputs": [],
   "source": []
  },
  {
   "cell_type": "code",
   "execution_count": null,
   "id": "652542e0",
   "metadata": {},
   "outputs": [],
   "source": []
  },
  {
   "cell_type": "code",
   "execution_count": null,
   "id": "71b53368",
   "metadata": {},
   "outputs": [],
   "source": []
  },
  {
   "cell_type": "code",
   "execution_count": null,
   "id": "b4366425",
   "metadata": {},
   "outputs": [],
   "source": []
  },
  {
   "cell_type": "code",
   "execution_count": null,
   "id": "c5d977c9",
   "metadata": {},
   "outputs": [],
   "source": []
  }
 ],
 "metadata": {
  "kernelspec": {
   "display_name": "Python 3 (ipykernel)",
   "language": "python",
   "name": "python3"
  },
  "language_info": {
   "codemirror_mode": {
    "name": "ipython",
    "version": 3
   },
   "file_extension": ".py",
   "mimetype": "text/x-python",
   "name": "python",
   "nbconvert_exporter": "python",
   "pygments_lexer": "ipython3",
   "version": "3.9.13"
  }
 },
 "nbformat": 4,
 "nbformat_minor": 5
}
