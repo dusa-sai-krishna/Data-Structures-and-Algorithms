{
 "cells": [
  {
   "cell_type": "code",
   "execution_count": 1,
   "id": "f4ce7512",
   "metadata": {},
   "outputs": [],
   "source": [
    "def arrintersection(arr1,arr2,n1,n2):\n",
    "    #Let's Sort \n",
    "    arr1.sort()\n",
    "    arr2.sort()\n",
    "    #Place Pointers\n",
    "    p1=0\n",
    "    p2=0\n",
    "    #Traverse and Print\n",
    "    while p1<len(arr1) and p2<len(arr2):\n",
    "        if arr1[p1]<arr2[p2]:\n",
    "            p1+=1\n",
    "        elif arr1[p1]>arr2[p2]:\n",
    "            p2+=1\n",
    "        else:\n",
    "            print(arr1[p1],end=\" \")\n",
    "            p1+=1\n",
    "            p2+=1\n",
    "    "
   ]
  },
  {
   "cell_type": "code",
   "execution_count": 2,
   "id": "88be2203",
   "metadata": {},
   "outputs": [
    {
     "name": "stdout",
     "output_type": "stream",
     "text": [
      "2 6 8 5 4 3\n",
      "2 3 4 7 \n",
      "2 3 4 "
     ]
    }
   ],
   "source": [
    "#driver Code\n",
    "arr1=[int(i) for i in input().split()]\n",
    "arr2=[int(i) for i in input().split()]\n",
    "arrintersection(arr1,arr2,len(arr1),len(arr2))\n"
   ]
  },
  {
   "cell_type": "code",
   "execution_count": null,
   "id": "d59f4319",
   "metadata": {},
   "outputs": [],
   "source": []
  },
  {
   "cell_type": "code",
   "execution_count": null,
   "id": "27daec22",
   "metadata": {},
   "outputs": [],
   "source": []
  },
  {
   "cell_type": "code",
   "execution_count": null,
   "id": "85b1495e",
   "metadata": {},
   "outputs": [],
   "source": []
  },
  {
   "cell_type": "code",
   "execution_count": null,
   "id": "fd0d4849",
   "metadata": {},
   "outputs": [],
   "source": []
  },
  {
   "cell_type": "code",
   "execution_count": null,
   "id": "48fd9760",
   "metadata": {},
   "outputs": [],
   "source": []
  },
  {
   "cell_type": "code",
   "execution_count": null,
   "id": "e6450da7",
   "metadata": {},
   "outputs": [],
   "source": []
  },
  {
   "cell_type": "code",
   "execution_count": null,
   "id": "98f2130b",
   "metadata": {},
   "outputs": [],
   "source": []
  }
 ],
 "metadata": {
  "kernelspec": {
   "display_name": "Python 3 (ipykernel)",
   "language": "python",
   "name": "python3"
  },
  "language_info": {
   "codemirror_mode": {
    "name": "ipython",
    "version": 3
   },
   "file_extension": ".py",
   "mimetype": "text/x-python",
   "name": "python",
   "nbconvert_exporter": "python",
   "pygments_lexer": "ipython3",
   "version": "3.9.13"
  }
 },
 "nbformat": 4,
 "nbformat_minor": 5
}
