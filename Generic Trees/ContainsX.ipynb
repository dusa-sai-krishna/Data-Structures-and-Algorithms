{
 "cells": [
  {
   "cell_type": "code",
   "execution_count": 1,
   "id": "05a99e38",
   "metadata": {},
   "outputs": [],
   "source": [
    "import queue\n",
    "class GenericTreeNode:\n",
    "    def __init__(self,data):\n",
    "        self.data=data\n",
    "        self.children=list()\n",
    "        \n",
    "def takeInputGT():\n",
    "    print(\"Enter root data:\")\n",
    "    rootData=int(input())\n",
    "    if rootData==-1:\n",
    "        return None\n",
    "    root=GenericTreeNode(rootData)\n",
    "    print(\"No of children for {}:\".format(rootData))\n",
    "    numChild=int(input())\n",
    "    \n",
    "    for i in range(numChild):\n",
    "        child=takeInputGT()\n",
    "        root.children.append(child)\n",
    "    return root\n",
    "\n",
    "def printGT(root):\n",
    "    if root is None:\n",
    "        return None\n",
    "    #print root Data\n",
    " \n",
    "    print(\"{}:\".format(root.data),end=\"\")\n",
    "    #print children Data\n",
    "    for child in root.children:\n",
    "        print(\"{},\".format(child.data),end=\"\")\n",
    "    print()\n",
    "    #calling its children\n",
    "    for child in root.children:\n",
    "        printGT(child)\n",
    "        \n",
    "def levelWiseInputGT():\n",
    "    q=queue.Queue()\n",
    "    rootData=int(input(\"Enter the root data:\"))\n",
    "    if rootData==-1:\n",
    "        return None\n",
    "    root=GenericTreeNode(rootData)\n",
    "    q.put(root)\n",
    "    while (not(q.empty())):\n",
    "        currentNode=q.get()\n",
    "        print(\"No of children for {}:\".format(currentNode.data))\n",
    "        numChild=int(input())\n",
    "        if numChild!=0:\n",
    "            for i in range(numChild):\n",
    "                print(\"Enter the data of {} child\".format(i+1))\n",
    "                childData=int(input())\n",
    "                child=GenericTreeNode(childData)\n",
    "                currentNode.children.append(child)\n",
    "                q.put(child)\n",
    "    return root"
   ]
  },
  {
   "cell_type": "code",
   "execution_count": 2,
   "id": "52315880",
   "metadata": {},
   "outputs": [],
   "source": [
    "def containsX(tree, x):\n",
    "    if tree is None or x<=0:\n",
    "        return False\n",
    "    if tree.data==x:\n",
    "        return True\n",
    "    lst=[]\n",
    "    for child in tree.children:\n",
    "        lst.append(containsX(child,x))\n",
    "    if True in lst:\n",
    "        return True\n",
    "    else:\n",
    "        return False\n"
   ]
  },
  {
   "cell_type": "code",
   "execution_count": 3,
   "id": "9fd31c65",
   "metadata": {},
   "outputs": [
    {
     "name": "stdout",
     "output_type": "stream",
     "text": [
      "Enter the root data:5\n",
      "No of children for 5:\n",
      "3\n",
      "Enter the data of 1 child\n",
      "1\n",
      "Enter the data of 2 child\n",
      "2\n",
      "Enter the data of 3 child\n",
      "3\n",
      "No of children for 1:\n",
      "0\n",
      "No of children for 2:\n",
      "0\n",
      "No of children for 3:\n",
      "0\n",
      "5:1,2,3,\n",
      "1:\n",
      "2:\n",
      "3:\n",
      "True\n"
     ]
    }
   ],
   "source": [
    "root=levelWiseInputGT()\n",
    "printGT(root)\n",
    "print(containsX(root,3))"
   ]
  },
  {
   "cell_type": "code",
   "execution_count": null,
   "id": "0a27a2b6",
   "metadata": {},
   "outputs": [],
   "source": []
  }
 ],
 "metadata": {
  "kernelspec": {
   "display_name": "Python 3 (ipykernel)",
   "language": "python",
   "name": "python3"
  },
  "language_info": {
   "codemirror_mode": {
    "name": "ipython",
    "version": 3
   },
   "file_extension": ".py",
   "mimetype": "text/x-python",
   "name": "python",
   "nbconvert_exporter": "python",
   "pygments_lexer": "ipython3",
   "version": "3.9.13"
  }
 },
 "nbformat": 4,
 "nbformat_minor": 5
}
