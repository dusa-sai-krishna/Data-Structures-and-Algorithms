{
 "cells": [
  {
   "cell_type": "code",
   "execution_count": 3,
   "id": "ffe06954",
   "metadata": {},
   "outputs": [],
   "source": [
    "class GenericTreeNode:\n",
    "    def __init__(self,data):\n",
    "        self.data=data\n",
    "        self.children=list()\n",
    "        \n",
    "def takeInputGT():\n",
    "    print(\"Enter root data:\")\n",
    "    rootData=int(input())\n",
    "    if rootData==-1:\n",
    "        return None\n",
    "    root=GenericTreeNode(rootData)\n",
    "    print(\"No of children for {}:\".format(rootData))\n",
    "    numChild=int(input())\n",
    "    \n",
    "    for i in range(numChild):\n",
    "        child=takeInputGT()\n",
    "        root.children.append(child)\n",
    "    return root\n",
    "\n",
    "def printGT(root):\n",
    "    if root is None:\n",
    "        return None\n",
    "    #print root Data\n",
    " \n",
    "    print(\"{}:\".format(root.data),end=\"\")\n",
    "    #print children Data\n",
    "    for child in root.children:\n",
    "        print(\"{},\".format(child.data),end=\"\")\n",
    "    print()\n",
    "    #calling its children\n",
    "    for child in root.children:\n",
    "        printGT(child)"
   ]
  },
  {
   "cell_type": "code",
   "execution_count": 4,
   "id": "58d4fad0",
   "metadata": {},
   "outputs": [],
   "source": [
    "def numNodesGT(root):\n",
    "    if root is None:\n",
    "        return 0\n",
    "    count=0\n",
    "    for child in root.children:\n",
    "        count+=numNodesGT(child)\n",
    "    return count+1"
   ]
  },
  {
   "cell_type": "code",
   "execution_count": 6,
   "id": "c778e067",
   "metadata": {},
   "outputs": [
    {
     "name": "stdout",
     "output_type": "stream",
     "text": [
      "Enter root data:\n",
      "5\n",
      "No of children for 5:\n",
      "3\n",
      "Enter root data:\n",
      "1\n",
      "No of children for 1:\n",
      "0\n",
      "Enter root data:\n",
      "2\n",
      "No of children for 2:\n",
      "0\n",
      "Enter root data:\n",
      "3\n",
      "No of children for 3:\n",
      "0\n",
      "5:1,2,3,\n",
      "1:\n",
      "2:\n",
      "3:\n"
     ]
    }
   ],
   "source": [
    "root=takeInputGT()\n",
    "printGT(root)"
   ]
  },
  {
   "cell_type": "code",
   "execution_count": 7,
   "id": "f4eb1dd0",
   "metadata": {},
   "outputs": [
    {
     "data": {
      "text/plain": [
       "4"
      ]
     },
     "execution_count": 7,
     "metadata": {},
     "output_type": "execute_result"
    }
   ],
   "source": [
    "numNodesGT(root)"
   ]
  },
  {
   "cell_type": "code",
   "execution_count": null,
   "id": "7d9d31c6",
   "metadata": {},
   "outputs": [],
   "source": []
  }
 ],
 "metadata": {
  "kernelspec": {
   "display_name": "Python 3 (ipykernel)",
   "language": "python",
   "name": "python3"
  },
  "language_info": {
   "codemirror_mode": {
    "name": "ipython",
    "version": 3
   },
   "file_extension": ".py",
   "mimetype": "text/x-python",
   "name": "python",
   "nbconvert_exporter": "python",
   "pygments_lexer": "ipython3",
   "version": "3.9.13"
  }
 },
 "nbformat": 4,
 "nbformat_minor": 5
}
