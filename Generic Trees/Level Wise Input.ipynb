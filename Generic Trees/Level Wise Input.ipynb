{
 "cells": [
  {
   "cell_type": "code",
   "execution_count": 2,
   "id": "5298e7f9",
   "metadata": {},
   "outputs": [],
   "source": [
    "import queue\n",
    "class GenericTreeNode:\n",
    "    def __init__(self,data):\n",
    "        self.data=data\n",
    "        self.children=list()\n",
    "        \n",
    "def takeInputGT():\n",
    "    print(\"Enter root data:\")\n",
    "    rootData=int(input())\n",
    "    if rootData==-1:\n",
    "        return None\n",
    "    root=GenericTreeNode(rootData)\n",
    "    print(\"No of children for {}:\".format(rootData))\n",
    "    numChild=int(input())\n",
    "    \n",
    "    for i in range(numChild):\n",
    "        child=takeInputGT()\n",
    "        root.children.append(child)\n",
    "    return root\n",
    "\n",
    "def printGT(root):\n",
    "    if root is None:\n",
    "        return None\n",
    "    #print root Data\n",
    " \n",
    "    print(\"{}:\".format(root.data),end=\"\")\n",
    "    #print children Data\n",
    "    for child in root.children:\n",
    "        print(\"{},\".format(child.data),end=\"\")\n",
    "    print()\n",
    "    #calling its children\n",
    "    for child in root.children:\n",
    "        printGT(child)"
   ]
  },
  {
   "cell_type": "code",
   "execution_count": 7,
   "id": "24080625",
   "metadata": {},
   "outputs": [],
   "source": [
    "def levelWiseInputGT():\n",
    "    q=queue.Queue()\n",
    "    rootData=int(input(\"Enter the root data:\"))\n",
    "    if rootData==-1:\n",
    "        return None\n",
    "    root=GenericTreeNode(rootData)\n",
    "    q.put(root)\n",
    "    while (not(q.empty())):\n",
    "        currentNode=q.get()\n",
    "        print(\"No of children for {}:\".format(currentNode.data))\n",
    "        numChild=int(input())\n",
    "        if numChild!=0:\n",
    "            for i in range(numChild):\n",
    "                print(\"Enter the data of {} child\".format(i+1))\n",
    "                childData=int(input())\n",
    "                child=GenericTreeNode(childData)\n",
    "                currentNode.children.append(child)\n",
    "                q.put(child)\n",
    "    return root"
   ]
  },
  {
   "cell_type": "code",
   "execution_count": 9,
   "id": "4356ed4a",
   "metadata": {},
   "outputs": [
    {
     "name": "stdout",
     "output_type": "stream",
     "text": [
      "Enter the root data:10\n",
      "No of children for 10:\n",
      "3\n",
      "Enter the data of 1 child\n",
      "20\n",
      "Enter the data of 2 child\n",
      "30\n",
      "Enter the data of 3 child\n",
      "40\n",
      "No of children for 20:\n",
      "2\n",
      "Enter the data of 1 child\n",
      "40\n",
      "Enter the data of 2 child\n",
      "50\n",
      "No of children for 30:\n",
      "0\n",
      "No of children for 40:\n",
      "0\n",
      "No of children for 40:\n",
      "0\n",
      "No of children for 50:\n",
      "0\n",
      "10:20,30,40,\n",
      "20:40,50,\n",
      "40:\n",
      "50:\n",
      "30:\n",
      "40:\n"
     ]
    }
   ],
   "source": [
    "root=levelWiseInputGT()\n",
    "printGT(root)\n",
    "#10 3 20 30 40 2 40 50 0 0 0 0 "
   ]
  },
  {
   "cell_type": "code",
   "execution_count": null,
   "id": "edf457b9",
   "metadata": {},
   "outputs": [],
   "source": []
  }
 ],
 "metadata": {
  "kernelspec": {
   "display_name": "Python 3 (ipykernel)",
   "language": "python",
   "name": "python3"
  },
  "language_info": {
   "codemirror_mode": {
    "name": "ipython",
    "version": 3
   },
   "file_extension": ".py",
   "mimetype": "text/x-python",
   "name": "python",
   "nbconvert_exporter": "python",
   "pygments_lexer": "ipython3",
   "version": "3.9.13"
  }
 },
 "nbformat": 4,
 "nbformat_minor": 5
}
