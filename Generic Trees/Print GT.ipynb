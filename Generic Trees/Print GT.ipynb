{
 "cells": [
  {
   "cell_type": "code",
   "execution_count": 3,
   "id": "cf179765",
   "metadata": {},
   "outputs": [],
   "source": [
    "class GenericTreeNode:\n",
    "    def __init__(self,data):\n",
    "        self.data=data\n"
   ]
  },
  {
   "cell_type": "code",
   "execution_count": 4,
   "id": "ea5a94db",
   "metadata": {},
   "outputs": [],
   "source": [
    "def printGT(root):\n",
    "    if root is None:\n",
    "        return None\n",
    "    #print root Data\n",
    " \n",
    "    print(\"{}:\".format(root.data),end=\"\")\n",
    "    #print children Data\n",
    "    for child in root.children:\n",
    "        print(\"{},\".format(child.data),end=\"\")\n",
    "    print()\n",
    "    #calling its children\n",
    "    for child in root.children:\n",
    "        printGT(child)"
   ]
  },
  {
   "cell_type": "code",
   "execution_count": null,
   "id": "5309d5e6",
   "metadata": {},
   "outputs": [],
   "source": []
  }
 ],
 "metadata": {
  "kernelspec": {
   "display_name": "Python 3 (ipykernel)",
   "language": "python",
   "name": "python3"
  },
  "language_info": {
   "codemirror_mode": {
    "name": "ipython",
    "version": 3
   },
   "file_extension": ".py",
   "mimetype": "text/x-python",
   "name": "python",
   "nbconvert_exporter": "python",
   "pygments_lexer": "ipython3",
   "version": "3.9.13"
  }
 },
 "nbformat": 4,
 "nbformat_minor": 5
}
