{
 "cells": [
  {
   "cell_type": "code",
   "execution_count": 6,
   "metadata": {},
   "outputs": [
    {
     "name": "stdout",
     "output_type": "stream",
     "text": [
      "SRC:0 DEST:1 WEIGHT:2\n",
      "SRC:2 DEST:3 WEIGHT:2\n",
      "SRC:1 DEST:3 WEIGHT:2\n"
     ]
    }
   ],
   "source": [
    "import sys\n",
    "\n",
    "from sklearn.feature_selection import SelectFromModel\n",
    "\n",
    "\n",
    "class Graph:\n",
    "    def __init__(self,nvertices):\n",
    "        self.nvertices=nvertices\n",
    "        self.adjMatrix=[[ 0 for i in range(nvertices)] for j in range(nvertices)]\n",
    "    def addEdge(self,v1,v2,wt):\n",
    "        self.adjMatrix[v1][v2]=wt\n",
    "        self.adjMatrix[v2][v1]=wt\n",
    "    \n",
    "    def removeEdge(self,v1,v2,):\n",
    "        if self.adjMatrix[v1][v2] is False:\n",
    "            return \n",
    "        self.adjMatrix[v1][v2]=0\n",
    "        self.adjMatrix[v2][v1]=0\n",
    "        \n",
    "    def __str__(self):\n",
    "        return str(self.adjMatrix)\n",
    "    \n",
    "    def __getMinVertex(self,visited,weights):\n",
    "        minVertex=-1\n",
    "        for i in range(self.nvertices):\n",
    "            if visited[i]==0 and (minVertex==-1 or weights[i]<weights[minVertex]):\n",
    "                minVertex=i\n",
    "        return minVertex\n",
    "    \n",
    "    def prims(self):\n",
    "        parent=[-1 for i in range(self.nvertices)]\n",
    "        visited=[0 for i in range(self.nvertices)]\n",
    "        weights=[sys.maxsize for i in range(self.nvertices)]\n",
    "        for i in range(self.nvertices-1):\n",
    "            minVertex=self.__getMinVertex(visited,weights)\n",
    "            visited[minVertex]=1\n",
    "            #check of adjacent non visited vertices\n",
    "            for j in range(self.nvertices):\n",
    "                if self.adjMatrix[minVertex][j]>0 and visited[j]==0:\n",
    "                    if weights[j]>self.adjMatrix[minVertex][j]:\n",
    "                        weights[j]=self.adjMatrix[minVertex][j]\n",
    "                        parent[j]=minVertex\n",
    "        #print the answer\n",
    "        for i in range(1,self.nvertices):\n",
    "            if i<parent[i]:\n",
    "                print(\"SRC:{} DEST:{} WEIGHT:{}\".format(i,parent[i],weights[i]))\n",
    "            else:\n",
    "                print(\"SRC:{} DEST:{} WEIGHT:{}\".format(parent[i],i,weights[i]))        \n",
    "\n",
    "#driver Code\n",
    "vertices,edges=[int(i) for i in input().split()]\n",
    "g=Graph(vertices)\n",
    "for i in range(edges):\n",
    "    v1,v2,wt=[int(i) for i in input().split()]\n",
    "    g.addEdge(v1,v2,wt)\n",
    "g.prims()"
   ]
  },
  {
   "cell_type": "code",
   "execution_count": null,
   "metadata": {},
   "outputs": [],
   "source": []
  },
  {
   "cell_type": "code",
   "execution_count": null,
   "metadata": {},
   "outputs": [],
   "source": []
  }
 ],
 "metadata": {
  "kernelspec": {
   "display_name": "base",
   "language": "python",
   "name": "python3"
  },
  "language_info": {
   "codemirror_mode": {
    "name": "ipython",
    "version": 3
   },
   "file_extension": ".py",
   "mimetype": "text/x-python",
   "name": "python",
   "nbconvert_exporter": "python",
   "pygments_lexer": "ipython3",
   "version": "3.9.13"
  },
  "orig_nbformat": 4
 },
 "nbformat": 4,
 "nbformat_minor": 2
}
