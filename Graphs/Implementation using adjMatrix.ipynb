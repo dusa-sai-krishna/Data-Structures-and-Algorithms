{
 "cells": [
  {
   "cell_type": "code",
   "execution_count": 27,
   "metadata": {},
   "outputs": [],
   "source": [
    "\n",
    "from cgitb import small\n",
    "import queue\n",
    "\n",
    "from sympy import false\n",
    "\n",
    "class Graph:\n",
    "    def __init__(self,nvertices):\n",
    "        self.nvertices=nvertices\n",
    "        self.adjMatrix=[[ 0 for i in range(nvertices)] for j in range(nvertices)]\n",
    "    def addEdge(self,v1,v2):\n",
    "        self.adjMatrix[v1][v2]=1\n",
    "        self.adjMatrix[v2][v1]=1\n",
    "    \n",
    "    def removeEdge(self,v1,v2):\n",
    "        if self.adjMatrix[v1][v2] is False:\n",
    "            return \n",
    "        self.adjMatrix[v1][v2]=0\n",
    "        self.adjMatrix[v2][v1]=0\n",
    "        \n",
    "    def __str__(self):\n",
    "        return str(self.adjMatrix)\n",
    "    \n",
    "    def __dfsHelper(self,vertex,visited):\n",
    "        if visited is None:\n",
    "            return \n",
    "        print(vertex)\n",
    "        visited[vertex]=1\n",
    "        for i in range(self.nvertices):\n",
    "            if self.adjMatrix[vertex][i]>0 and visited[i]!=1:\n",
    "                self.__dfsHelper(i,visited)\n",
    "        return\n",
    "    \n",
    "    def dfs(self):\n",
    "        visited=[0 for i in range(self.nvertices)]\n",
    "        self.__dfsHelper(0,visited)\n",
    "    \n",
    "    def __bfsHelper(self,sv,visited):\n",
    "        q=queue.Queue()\n",
    "        q.put(sv)\n",
    "        visited[sv]=1\n",
    "        while q.empty() is False:\n",
    "            x=q.get()\n",
    "            print(x)\n",
    "            for i in range(self.nvertices):\n",
    "                if self.adjMatrix[i][x]==1 and visited[i]==0:\n",
    "                    q.put(i)\n",
    "                    visited[i]=1\n",
    "                    \n",
    "    \n",
    "    def bfs(self):\n",
    "        visited=[0 for i in range(self.nvertices)]\n",
    "        for i in range(self.nvertices):\n",
    "            if visited[i]==0:\n",
    "                self.__bfsHelper(i,visited)\n",
    "                \n",
    "\n",
    "    def __hasPathHelper(self,v1,v2,visited):\n",
    "        if self.adjMatrix[v1][v2]==1:\n",
    "            return True\n",
    "        else:\n",
    "            visited[v1]=1\n",
    "            for i in range(self.nvertices):\n",
    "                if self.adjMatrix[v1][i]==1 and visited[i]==0:\n",
    "                    visited[i]==1\n",
    "                    check=self.__hasPathHelper(i,v2,visited)\n",
    "                    if check:\n",
    "                        return True\n",
    "                else:\n",
    "                    pass\n",
    "            return False\n",
    "    \n",
    "    def hasPath(self,v1,v2):\n",
    "        if v1 is not None and v2 is not None and v1!=v2:\n",
    "            visited=[0 for i in range(self.nvertices)]\n",
    "            visited[0]=1\n",
    "            return self.__hasPathHelper(v1,v2,visited)\n",
    "        return False\n",
    "    \n",
    "    def getPathDFS(self,v1,v2):\n",
    "        if v1<self.nvertices and v2<self.nvertices and v1<v2 and v2!=0:\n",
    "            visited=[0 for i in range(self.nvertices)]\n",
    "            return self.__getPathDFSHelper(v1,v2,visited)\n",
    "        else:\n",
    "            return []\n",
    "\n",
    "    def __getPathDFSHelper(self,v1,v2,visited):\n",
    "        if v1==v2:\n",
    "            lst=[v2]\n",
    "            return lst\n",
    "        visited[v1]=1\n",
    "        for i in range(self.nvertices):\n",
    "            if self.adjMatrix[v1][i]==1 and visited[i]==0:\n",
    "                visited[i]=1\n",
    "                smallans=self.__getPathDFSHelper(i,v2,visited)\n",
    "                if len(smallans)>0:\n",
    "                    ans=smallans+[v1]\n",
    "                    return ans\n",
    "        return []\n",
    "\n",
    "    def getPathBFS(self,v1,v2):\n",
    "        if v1<self.nvertices and v2<self.nvertices and v2!=0:\n",
    "            visited=[0 for i in range(self.nvertices)]\n",
    "            return self.__getPathBFSHelper(v1,v2,visited)\n",
    "        else:\n",
    "            return []\n",
    "        \n",
    "    def __getPathBFSHelper(self,v1,v2,visited):\n",
    "        q=queue.Queue()\n",
    "        q.put(v1)\n",
    "        d=dict()\n",
    "        isPath=0\n",
    "        while q.empty() is False and isPath==0:\n",
    "            x=q.get()\n",
    "            visited[x]=1\n",
    "            for i in range(self.nvertices):\n",
    "                if self.adjMatrix[x][i]==1 and visited[i]==0:\n",
    "                    q.put(i)\n",
    "                    visited[i]=1\n",
    "                    d[i]=x\n",
    "                    if i==v2:\n",
    "                        isPath=1\n",
    "                        break\n",
    "        if isPath:\n",
    "            ans=[v2]\n",
    "            parent=d[v2]\n",
    "            while True:\n",
    "\n",
    "                if parent==v1:\n",
    "                    ans.append(parent)\n",
    "                    break\n",
    "                else:\n",
    "                    ans=ans+[parent]\n",
    "                    parent=d[parent]\n",
    "        else:\n",
    "            ans=[]\n",
    "        return ans\n",
    "        "
   ]
  },
  {
   "cell_type": "code",
   "execution_count": 28,
   "metadata": {},
   "outputs": [
    {
     "data": {
      "text/plain": [
       "'[[0, 1, 1, 0, 1, 0, 0], [1, 0, 0, 0, 0, 0, 0], [1, 0, 0, 0, 0, 0, 0], [0, 0, 0, 0, 1, 0, 0], [1, 0, 0, 1, 0, 0, 0], [0, 0, 0, 0, 0, 0, 0], [0, 0, 0, 0, 0, 0, 0]]'"
      ]
     },
     "execution_count": 28,
     "metadata": {},
     "output_type": "execute_result"
    }
   ],
   "source": [
    "g=Graph(7)\n",
    "g.addEdge(0,1)\n",
    "g.addEdge(0,4)\n",
    "g.addEdge(0,2)\n",
    "g.addEdge(3,4)\n",
    "g.__str__()"
   ]
  },
  {
   "cell_type": "code",
   "execution_count": 29,
   "metadata": {},
   "outputs": [
    {
     "data": {
      "text/plain": [
       "[]"
      ]
     },
     "execution_count": 29,
     "metadata": {},
     "output_type": "execute_result"
    }
   ],
   "source": [
    "g.getPathBFS(0,5)"
   ]
  },
  {
   "cell_type": "code",
   "execution_count": 15,
   "metadata": {},
   "outputs": [
    {
     "name": "stdout",
     "output_type": "stream",
     "text": [
      "0\n",
      "1\n",
      "2\n",
      "4\n",
      "3\n",
      "5\n",
      "6\n"
     ]
    }
   ],
   "source": [
    "g.bfs()"
   ]
  },
  {
   "cell_type": "code",
   "execution_count": 16,
   "metadata": {},
   "outputs": [
    {
     "data": {
      "text/plain": [
       "False"
      ]
     },
     "execution_count": 16,
     "metadata": {},
     "output_type": "execute_result"
    }
   ],
   "source": [
    "g.hasPath(0,5)"
   ]
  },
  {
   "cell_type": "code",
   "execution_count": 39,
   "metadata": {},
   "outputs": [
    {
     "data": {
      "text/plain": [
       "[]"
      ]
     },
     "execution_count": 39,
     "metadata": {},
     "output_type": "execute_result"
    }
   ],
   "source": [
    "g.getPathDFS(0,5)"
   ]
  },
  {
   "cell_type": "code",
   "execution_count": 40,
   "metadata": {},
   "outputs": [],
   "source": [
    "g.getPathBFS(0,3)"
   ]
  },
  {
   "cell_type": "code",
   "execution_count": 32,
   "metadata": {},
   "outputs": [
    {
     "name": "stdout",
     "output_type": "stream",
     "text": [
      "{1: 2}\n"
     ]
    }
   ],
   "source": [
    "di=dict()\n",
    "di[1]=2\n",
    "print(di)"
   ]
  },
  {
   "cell_type": "code",
   "execution_count": null,
   "metadata": {},
   "outputs": [],
   "source": []
  },
  {
   "cell_type": "code",
   "execution_count": null,
   "metadata": {},
   "outputs": [],
   "source": []
  },
  {
   "cell_type": "code",
   "execution_count": null,
   "metadata": {},
   "outputs": [],
   "source": []
  }
 ],
 "metadata": {
  "kernelspec": {
   "display_name": "base",
   "language": "python",
   "name": "python3"
  },
  "language_info": {
   "codemirror_mode": {
    "name": "ipython",
    "version": 3
   },
   "file_extension": ".py",
   "mimetype": "text/x-python",
   "name": "python",
   "nbconvert_exporter": "python",
   "pygments_lexer": "ipython3",
   "version": "3.9.13"
  },
  "orig_nbformat": 4
 },
 "nbformat": 4,
 "nbformat_minor": 2
}
