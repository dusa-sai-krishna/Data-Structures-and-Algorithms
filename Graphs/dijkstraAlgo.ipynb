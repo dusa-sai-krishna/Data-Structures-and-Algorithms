{
 "cells": [
  {
   "cell_type": "code",
   "execution_count": 1,
   "metadata": {},
   "outputs": [],
   "source": [
    "import sys\n",
    "\n",
    "\n",
    "\n",
    "class Graph:\n",
    "    def __init__(self,nvertices):\n",
    "        self.nvertices=nvertices\n",
    "        self.adjMatrix=[[ 0 for i in range(nvertices)] for j in range(nvertices)]\n",
    "    def addEdge(self,v1,v2,wt):\n",
    "        self.adjMatrix[v1][v2]=wt\n",
    "        self.adjMatrix[v2][v1]=wt\n",
    "    \n",
    "    def removeEdge(self,v1,v2,):\n",
    "        if self.adjMatrix[v1][v2] is False:\n",
    "            return \n",
    "        self.adjMatrix[v1][v2]=0\n",
    "        self.adjMatrix[v2][v1]=0\n",
    "        \n",
    "    def __str__(self):\n",
    "        return str(self.adjMatrix)\n",
    "    \n",
    "    def dijkstra(self):\n",
    "        visited=[0 for i in range(self.nvertices)]\n",
    "        distance=[sys.maxsize for i in range(self.nvertices)]\n",
    "        distance[0]=0\n",
    "        for i in range(self.nvertices):\n",
    "            visited[i]=1\n",
    "            #find adjacent \n",
    "            for j in range(self.nvertices):\n",
    "                if self.adjMatrix[i][j]>0 and visited[j]==0:\n",
    "                    if distance[j]>distance[i]+self.adjMatrix[i][j]:\n",
    "                        distance[j]=distance[i]+self.adjMatrix[i][j]\n",
    "        for i,j in enumerate(distance):\n",
    "            print(i,j)\n",
    "\n"
   ]
  },
  {
   "cell_type": "code",
   "execution_count": 3,
   "metadata": {},
   "outputs": [
    {
     "name": "stdout",
     "output_type": "stream",
     "text": [
      "0 0\n",
      "1 3\n",
      "2 4\n",
      "3 5\n"
     ]
    }
   ],
   "source": [
    "#DriverCode\n",
    "vertices,edges=[int(i) for i in input().split()]\n",
    "g=Graph(vertices)\n",
    "for i in range(edges):\n",
    "    v1,v2,wt=[int(i) for i in input().split()]\n",
    "    g.addEdge(v1,v2,wt)\n",
    "g.dijkstra()"
   ]
  },
  {
   "cell_type": "code",
   "execution_count": null,
   "metadata": {},
   "outputs": [],
   "source": []
  }
 ],
 "metadata": {
  "kernelspec": {
   "display_name": "base",
   "language": "python",
   "name": "python3"
  },
  "language_info": {
   "codemirror_mode": {
    "name": "ipython",
    "version": 3
   },
   "file_extension": ".py",
   "mimetype": "text/x-python",
   "name": "python",
   "nbconvert_exporter": "python",
   "pygments_lexer": "ipython3",
   "version": "3.9.13"
  },
  "orig_nbformat": 4
 },
 "nbformat": 4,
 "nbformat_minor": 2
}
