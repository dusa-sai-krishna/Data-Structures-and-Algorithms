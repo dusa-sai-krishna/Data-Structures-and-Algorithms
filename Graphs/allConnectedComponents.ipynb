{
 "cells": [
  {
   "cell_type": "code",
   "execution_count": 7,
   "metadata": {},
   "outputs": [],
   "source": [
    "import queue\n",
    "\n",
    "from sympy import false\n",
    "\n",
    "class Graph:\n",
    "    def __init__(self,nvertices):\n",
    "        self.nvertices=nvertices\n",
    "        self.adjMatrix=[[ 0 for i in range(nvertices)] for j in range(nvertices)]\n",
    "    def addEdge(self,v1,v2):\n",
    "        self.adjMatrix[v1][v2]=1\n",
    "        self.adjMatrix[v2][v1]=1\n",
    "    \n",
    "    def removeEdge(self,v1,v2):\n",
    "        if self.adjMatrix[v1][v2] is False:\n",
    "            return \n",
    "        self.adjMatrix[v1][v2]=0\n",
    "        self.adjMatrix[v2][v1]=0\n",
    "        \n",
    "    def __str__(self):\n",
    "        return str(self.adjMatrix)\n",
    "    \n",
    "    def allConnectedComponents(self):\n",
    "        visited=[0 for i in range(self.nvertices)]\n",
    "        for i in range(self.nvertices):\n",
    "            if visited[i]==0:\n",
    "                smallans=[]\n",
    "                self.__allConnectedComponentsHelper(i,visited,smallans)\n",
    "                if len(smallans)>0:\n",
    "                    smallans.sort()\n",
    "                    for i in smallans:\n",
    "                        print(i,end=\" \")\n",
    "                print()\n",
    "        \n",
    "    def __allConnectedComponentsHelper(self,sv,visited,smallans):\n",
    "        visited[sv]=1\n",
    "        smallans.append(sv)\n",
    "        for i in range(self.nvertices):\n",
    "            if self.adjMatrix[i][sv]==1 and visited[i]==0:\n",
    "                visited[i]=1\n",
    "                self.__allConnectedComponentsHelper(i,visited,smallans)\n",
    "        return \n",
    "        "
   ]
  },
  {
   "cell_type": "code",
   "execution_count": 8,
   "metadata": {},
   "outputs": [
    {
     "data": {
      "text/plain": [
       "'[[0, 1, 1, 0, 1, 0, 0], [1, 0, 0, 0, 0, 0, 0], [1, 0, 0, 0, 0, 0, 0], [0, 0, 0, 0, 1, 0, 0], [1, 0, 0, 1, 0, 0, 0], [0, 0, 0, 0, 0, 0, 0], [0, 0, 0, 0, 0, 0, 0]]'"
      ]
     },
     "execution_count": 8,
     "metadata": {},
     "output_type": "execute_result"
    }
   ],
   "source": [
    "g=Graph(7)\n",
    "g.addEdge(0,1)\n",
    "g.addEdge(0,4)\n",
    "g.addEdge(0,2)\n",
    "g.addEdge(3,4)\n",
    "g.__str__()"
   ]
  },
  {
   "cell_type": "code",
   "execution_count": 9,
   "metadata": {},
   "outputs": [
    {
     "name": "stdout",
     "output_type": "stream",
     "text": [
      "0 1 2 3 4 \n",
      "5 \n",
      "6 \n"
     ]
    }
   ],
   "source": [
    "g.allConnectedComponents()"
   ]
  },
  {
   "cell_type": "code",
   "execution_count": null,
   "metadata": {},
   "outputs": [],
   "source": []
  }
 ],
 "metadata": {
  "kernelspec": {
   "display_name": "base",
   "language": "python",
   "name": "python3"
  },
  "language_info": {
   "codemirror_mode": {
    "name": "ipython",
    "version": 3
   },
   "file_extension": ".py",
   "mimetype": "text/x-python",
   "name": "python",
   "nbconvert_exporter": "python",
   "pygments_lexer": "ipython3",
   "version": "3.9.13"
  },
  "orig_nbformat": 4
 },
 "nbformat": 4,
 "nbformat_minor": 2
}
