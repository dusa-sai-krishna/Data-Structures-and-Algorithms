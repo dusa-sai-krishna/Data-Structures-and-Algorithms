{
 "cells": [
  {
   "cell_type": "code",
   "execution_count": 2,
   "metadata": {},
   "outputs": [
    {
     "name": "stdout",
     "output_type": "stream",
     "text": [
      "[<__main__.Edge object at 0x0000020B7F50D8E0>, <__main__.Edge object at 0x0000020B7F50D400>, <__main__.Edge object at 0x0000020B7F50DFD0>, <__main__.Edge object at 0x0000020B7F50D5E0>]\n",
      "SRC:2 DEST:3 Weigth:2\n",
      "SRC:1 DEST:3 Weigth:2\n",
      "SRC:0 DEST:1 Weigth:2\n"
     ]
    }
   ],
   "source": [
    "from numpy import sort\n",
    "\n",
    "\n",
    "class Edge:\n",
    "    def __init__(self,src,dest,wt):\n",
    "        self.src=src\n",
    "        self.dest=dest\n",
    "        self.wt=wt\n",
    "\n",
    "def kruskal(vertices,edges,sorted_edges):\n",
    "    parent=[int(i) for i in range(vertices)]\n",
    "    output=[]\n",
    "    count=0\n",
    "    i=0\n",
    "    while count<vertices-1:\n",
    "        currentEdge=sorted_edges[i]\n",
    "        src=currentEdge.src\n",
    "        dest=currentEdge.dest\n",
    "        wt=currentEdge.wt\n",
    "        pSrc=getParent(src,parent)\n",
    "        pDest=getParent(dest,parent)\n",
    "        if pSrc!=pDest:\n",
    "            output.append(currentEdge)\n",
    "            count+=1\n",
    "            parent[dest]=pSrc\n",
    "        i+=1\n",
    "    return output   \n",
    "\n",
    "def getParent(v,parent):\n",
    "    if v==parent[v]:\n",
    "        return v\n",
    "    return getParent(parent[v],parent)\n",
    "\n",
    "#DriverCode\n",
    "sorted_edges=[]\n",
    "vertices,edges=[int(i) for i in input().split()]\n",
    "for i in range(edges):\n",
    "    src,dest,wt=[int(i) for i in input().split()]\n",
    "    newEdge=Edge(src,dest,wt)\n",
    "    sorted_edges.append(newEdge)\n",
    "sorted_edges=sorted(sorted_edges,key=lambda edge:edge.wt)\n",
    "print(sorted_edges)\n",
    "output=kruskal(vertices,edges,sorted_edges)\n",
    "\n",
    "for edge in output:\n",
    "    if edge.src<edge.dest:\n",
    "        print(\"SRC:{} DEST:{} Weigth:{}\".format(edge.src,edge.dest,edge.wt))\n",
    "    else:\n",
    "        print(\"SRC:{} DEST:{} Weigth:{}\".format(edge.dest,edge.src,edge.wt))\n",
    "\n",
    "\n"
   ]
  },
  {
   "cell_type": "code",
   "execution_count": null,
   "metadata": {},
   "outputs": [],
   "source": []
  },
  {
   "cell_type": "code",
   "execution_count": null,
   "metadata": {},
   "outputs": [],
   "source": []
  }
 ],
 "metadata": {
  "kernelspec": {
   "display_name": "base",
   "language": "python",
   "name": "python3"
  },
  "language_info": {
   "codemirror_mode": {
    "name": "ipython",
    "version": 3
   },
   "file_extension": ".py",
   "mimetype": "text/x-python",
   "name": "python",
   "nbconvert_exporter": "python",
   "pygments_lexer": "ipython3",
   "version": "3.9.13"
  },
  "orig_nbformat": 4
 },
 "nbformat": 4,
 "nbformat_minor": 2
}
