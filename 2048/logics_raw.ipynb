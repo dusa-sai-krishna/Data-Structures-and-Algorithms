{
 "cells": [
  {
   "cell_type": "code",
   "execution_count": 3,
   "metadata": {},
   "outputs": [],
   "source": [
    "import random\n",
    "#create the matrix\n",
    "def start_game():\n",
    "    mat=[[0 for j in range(4)] for i in range(4)]\n",
    "    return mat\n",
    "\n",
    "def add_new_2(mat):\n",
    "    r=random.randint(0,3)\n",
    "    c=random.randint(0,3)\n",
    "    while mat[r][c]!=0:\n",
    "        r=random.randint(0,3)\n",
    "        c=random.randint(0,3)\n",
    "    mat[r][c]=2 \n",
    "\n",
    "def merge(mat):\n",
    "    changed=False\n",
    "    for i in range(4):\n",
    "        for j in range(3):\n",
    "            if mat[i][j]==mat[i][j+1] and mat[i][j]!=0:\n",
    "                changed=True\n",
    "                mat[i][j]=mat[i][j]*2\n",
    "                mat[i][j+1]=0\n",
    "    return mat,changed\n",
    "\n",
    "def reverse(mat):\n",
    "    new_mat=[]\n",
    "    for i in range(4):\n",
    "        new_mat.append([])\n",
    "        for j in range(4):\n",
    "            new_mat[i].append(mat[i][4-j-1])\n",
    "    return new_mat\n",
    "\n",
    "def transpose(mat):\n",
    "    new_mat=[]\n",
    "    for i in range(4):\n",
    "        new_mat.append([])\n",
    "        for j in range(4):\n",
    "            new_mat[i].append(mat[j][i])\n",
    "    return new_mat\n",
    "\n",
    "def compress(mat):\n",
    "    new_mat=[[0 for j in range(4)] for i in range(4)]\n",
    "    changed=False\n",
    "    for i in range(4):\n",
    "        pos=0\n",
    "        for j in range(4):\n",
    "            if mat[i][j]!=0:\n",
    "                new_mat[i][pos]=mat[i][j]\n",
    "                pos+=1\n",
    "                if j!=pos:\n",
    "                    changed=True\n",
    "    return new_mat,changed\n",
    "\n",
    "def move_up(grid):\n",
    "    transposed_grid=transpose(grid)\n",
    "    new_grid,changed1=compress(transposed_grid)\n",
    "    new_grid,changed2=merge(new_grid)\n",
    "    changed=changed1 or changed2\n",
    "    new_grid=compress(new_grid)\n",
    "    final_grid=transpose(new_grid)\n",
    "    return final_grid,changed\n",
    "\n",
    "def move_down(grid):\n",
    "    transposed_grid=transpose(grid)\n",
    "    reversed_grid=reverse(transposed_grid)\n",
    "    new_grid,changed1=compress(reversed_grid)\n",
    "    new_grid,changed2=merge(new_grid)\n",
    "    changed=changed1 or changed2\n",
    "    new_grid=compress(new_grid)\n",
    "    final_reversed_grid=reverse(new_grid)\n",
    "    final_grid=transpose(final_reversed_grid)\n",
    "    return final_grid,changed\n",
    "\n",
    "def move_right(grid):\n",
    "    reversed_grid=reverse(grid)\n",
    "    new_grid,changed1=compress(reversed_grid)\n",
    "    new_grid,changed2=merge(new_grid)\n",
    "    changed=changed1 or changed2\n",
    "    new_grid=compress(new_grid)\n",
    "    final_grid=reverse(new_grid)\n",
    "    return final_grid,changed\n",
    "\n",
    "def move_left(grid):\n",
    "    new_grid,changed1=compress(grid)\n",
    "    new_grid,changed2=merge(new_grid)\n",
    "    changed=changed1 or changed2\n",
    "    final_grid=compress(new_grid)\n",
    "    return final_grid,changed\n",
    "               \n",
    "def get_current_state(mat):\n",
    "    #checking for 2048\n",
    "    for i in range(4):\n",
    "        for j in range(4):\n",
    "            if mat[i][j]==2048:\n",
    "                return  'WON'\n",
    "    #checking for zeros\n",
    "    for i in range(4):\n",
    "        for j in range(4):\n",
    "            if mat[i][j]==0:\n",
    "                return 'GAME NOT OVER'\n",
    "            \n",
    "    #checking for consecutive elements\n",
    "    for i in range(3):\n",
    "        for j in range(3):\n",
    "            if mat[i][j]==mat[i+1][j] or mat[i][j]==mat[i][j+1]:\n",
    "                return 'GAME NOT OVER'\n",
    "    #checking last row\n",
    "    for j in range(3):\n",
    "        if mat[3][j]==mat[3][j+1]:\n",
    "            return 'GAME NOT OVER'\n",
    "    \n",
    "    #checking last column\n",
    "    for i in range(3):\n",
    "        if mat[i][3]==mat[i+1][3]:\n",
    "            return 'GAME NOT OVER'\n",
    "    \n",
    "    return 'LOST'"
   ]
  },
  {
   "cell_type": "code",
   "execution_count": 4,
   "metadata": {},
   "outputs": [
    {
     "name": "stdout",
     "output_type": "stream",
     "text": [
      "[[0, 0, 0, 0], [0, 0, 0, 0], [0, 0, 0, 0], [0, 0, 0, 0]]\n"
     ]
    }
   ],
   "source": [
    "mat=start_game()\n",
    "print(mat)"
   ]
  },
  {
   "cell_type": "code",
   "execution_count": 5,
   "metadata": {},
   "outputs": [
    {
     "name": "stdout",
     "output_type": "stream",
     "text": [
      "[[0, 0, 0, 0], [0, 0, 0, 0], [0, 0, 0, 2], [0, 0, 0, 0]]\n",
      "[[0, 0, 0, 2], [0, 0, 0, 0], [0, 0, 0, 2], [0, 0, 0, 0]]\n"
     ]
    }
   ],
   "source": [
    "add_new_2(mat)\n",
    "print(mat)\n",
    "add_new_2(mat)\n",
    "print(mat)"
   ]
  },
  {
   "cell_type": "code",
   "execution_count": 7,
   "metadata": {},
   "outputs": [
    {
     "name": "stdout",
     "output_type": "stream",
     "text": [
      "[[0, 0, 0, 4], [0, 0, 0, 0], [0, 0, 0, 0], [0, 0, 0, 0]]\n"
     ]
    }
   ],
   "source": [
    "mat=move_up(mat)\n",
    "print(mat)\n"
   ]
  },
  {
   "cell_type": "code",
   "execution_count": 8,
   "metadata": {},
   "outputs": [
    {
     "name": "stdout",
     "output_type": "stream",
     "text": [
      "[[0, 0, 0, 4], [0, 0, 0, 0], [0, 0, 0, 0], [2, 0, 0, 0]]\n",
      "[[0, 0, 0, 4], [0, 0, 0, 0], [0, 0, 0, 0], [2, 0, 0, 2]]\n"
     ]
    }
   ],
   "source": [
    "add_new_2(mat)\n",
    "print(mat)\n",
    "add_new_2(mat)\n",
    "print(mat)"
   ]
  },
  {
   "cell_type": "code",
   "execution_count": 9,
   "metadata": {},
   "outputs": [
    {
     "name": "stdout",
     "output_type": "stream",
     "text": [
      "[[4, 0, 0, 0], [0, 0, 0, 0], [0, 0, 0, 0], [4, 0, 0, 0]]\n"
     ]
    }
   ],
   "source": [
    "mat=move_left(mat)\n",
    "print(mat)"
   ]
  },
  {
   "cell_type": "code",
   "execution_count": 10,
   "metadata": {},
   "outputs": [
    {
     "name": "stdout",
     "output_type": "stream",
     "text": [
      "[[4, 0, 0, 0], [0, 0, 0, 0], [0, 0, 2, 0], [4, 0, 0, 0]]\n",
      "[[4, 0, 0, 0], [0, 0, 0, 0], [0, 0, 2, 0], [4, 0, 0, 2]]\n"
     ]
    }
   ],
   "source": [
    "add_new_2(mat)\n",
    "print(mat)\n",
    "add_new_2(mat)\n",
    "print(mat)"
   ]
  },
  {
   "cell_type": "code",
   "execution_count": 11,
   "metadata": {},
   "outputs": [
    {
     "name": "stdout",
     "output_type": "stream",
     "text": [
      "[0, 0, 0, 0]\n",
      "[0, 0, 0, 0]\n",
      "[0, 0, 0, 0]\n",
      "[8, 0, 2, 2]\n"
     ]
    }
   ],
   "source": [
    "mat=move_down(mat)\n",
    "for i in range(4):\n",
    "    print(mat[i])"
   ]
  },
  {
   "cell_type": "code",
   "execution_count": 12,
   "metadata": {},
   "outputs": [
    {
     "name": "stdout",
     "output_type": "stream",
     "text": [
      "[0, 0, 0, 0]\n",
      "[0, 0, 0, 0]\n",
      "[0, 0, 0, 0]\n",
      "[0, 0, 8, 4]\n"
     ]
    }
   ],
   "source": [
    "mat=move_right(mat)\n",
    "for i in range(4):\n",
    "    print(mat[i])"
   ]
  },
  {
   "cell_type": "code",
   "execution_count": 2,
   "metadata": {},
   "outputs": [],
   "source": [
    "import tkinter"
   ]
  },
  {
   "cell_type": "code",
   "execution_count": null,
   "metadata": {},
   "outputs": [],
   "source": []
  }
 ],
 "metadata": {
  "kernelspec": {
   "display_name": "base",
   "language": "python",
   "name": "python3"
  },
  "language_info": {
   "codemirror_mode": {
    "name": "ipython",
    "version": 3
   },
   "file_extension": ".py",
   "mimetype": "text/x-python",
   "name": "python",
   "nbconvert_exporter": "python",
   "pygments_lexer": "ipython3",
   "version": "3.9.13"
  },
  "orig_nbformat": 4
 },
 "nbformat": 4,
 "nbformat_minor": 2
}
