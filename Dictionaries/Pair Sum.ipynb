{
 "cells": [
  {
   "cell_type": "code",
   "execution_count": 1,
   "id": "e463a817",
   "metadata": {},
   "outputs": [],
   "source": [
    "def pairSum0(l,n):\n",
    "    # Write your code here\n",
    "    arr=l\n",
    "    d=dict()\n",
    "    ans=0\n",
    "    for key in arr:\n",
    "        if -key in d.keys():\n",
    "            ans+=d[-key]\n",
    "        d[key]=d.get(key,0)+1\n",
    "    return ans"
   ]
  },
  {
   "cell_type": "code",
   "execution_count": 2,
   "id": "d7c3329c",
   "metadata": {},
   "outputs": [
    {
     "name": "stdout",
     "output_type": "stream",
     "text": [
      "2 1 -2 2 3\n",
      "2\n"
     ]
    }
   ],
   "source": [
    "arr=[int(i) for i in input().split()]\n",
    "print(pairSum0(arr,len(arr)))"
   ]
  },
  {
   "cell_type": "code",
   "execution_count": null,
   "id": "2b67f187",
   "metadata": {},
   "outputs": [],
   "source": []
  }
 ],
 "metadata": {
  "kernelspec": {
   "display_name": "Python 3 (ipykernel)",
   "language": "python",
   "name": "python3"
  },
  "language_info": {
   "codemirror_mode": {
    "name": "ipython",
    "version": 3
   },
   "file_extension": ".py",
   "mimetype": "text/x-python",
   "name": "python",
   "nbconvert_exporter": "python",
   "pygments_lexer": "ipython3",
   "version": "3.9.13"
  }
 },
 "nbformat": 4,
 "nbformat_minor": 5
}
