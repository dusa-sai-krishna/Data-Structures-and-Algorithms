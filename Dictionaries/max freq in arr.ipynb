{
 "cells": [
  {
   "cell_type": "code",
   "execution_count": 4,
   "id": "4f0d0a37",
   "metadata": {},
   "outputs": [
    {
     "name": "stdout",
     "output_type": "stream",
     "text": [
      "5\n",
      "1 2 3 4 4\n",
      "4\n"
     ]
    }
   ],
   "source": [
    "# Read input as sepcified in the question\n",
    "# Print output as specified in the question\n",
    "from sys import stdin\n",
    "def maxFreq(arr):\n",
    "    d={}\n",
    "    for num in arr:\n",
    "        if num in d:\n",
    "            d[num]+=1\n",
    "        else:\n",
    "            d[num]=1\n",
    "    ans = arr[0]\n",
    "    for num in arr:\n",
    "        if d[num] > d[ans]:\n",
    "            ans = num \n",
    "    return ans \n",
    "\n",
    "    \n",
    "#Driver Code\n",
    "def takeInput():\n",
    "    n=int(input())\n",
    "    if n==0:\n",
    "        return list(),0\n",
    "    arr=[int(i) for i in input().split()]\n",
    "    return arr, n \n",
    "\n",
    "arr, n=takeInput()\n",
    "print(maxFreq(arr))\n"
   ]
  },
  {
   "cell_type": "code",
   "execution_count": null,
   "id": "4b3069f3",
   "metadata": {},
   "outputs": [],
   "source": []
  }
 ],
 "metadata": {
  "kernelspec": {
   "display_name": "Python 3 (ipykernel)",
   "language": "python",
   "name": "python3"
  },
  "language_info": {
   "codemirror_mode": {
    "name": "ipython",
    "version": 3
   },
   "file_extension": ".py",
   "mimetype": "text/x-python",
   "name": "python",
   "nbconvert_exporter": "python",
   "pygments_lexer": "ipython3",
   "version": "3.9.13"
  }
 },
 "nbformat": 4,
 "nbformat_minor": 5
}
