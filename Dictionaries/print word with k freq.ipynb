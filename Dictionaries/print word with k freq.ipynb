{
 "cells": [
  {
   "cell_type": "code",
   "execution_count": 9,
   "id": "3d817c5f",
   "metadata": {},
   "outputs": [],
   "source": [
    "def printFreqK(str,k):\n",
    "    list=str.split()\n",
    "    d=dict()\n",
    "    for i in list:\n",
    "        d[i]=d.get(i,0)+1\n",
    "    for i in d.keys():\n",
    "        if d[i]==k:\n",
    "            print(i)"
   ]
  },
  {
   "cell_type": "code",
   "execution_count": 12,
   "id": "bc3fb262",
   "metadata": {},
   "outputs": [
    {
     "name": "stdout",
     "output_type": "stream",
     "text": [
      "sai\n"
     ]
    }
   ],
   "source": [
    "str=\"sai sai krishna\"\n",
    "printFreqK(str,2)"
   ]
  },
  {
   "cell_type": "code",
   "execution_count": null,
   "id": "f768e899",
   "metadata": {},
   "outputs": [],
   "source": []
  }
 ],
 "metadata": {
  "kernelspec": {
   "display_name": "Python 3 (ipykernel)",
   "language": "python",
   "name": "python3"
  },
  "language_info": {
   "codemirror_mode": {
    "name": "ipython",
    "version": 3
   },
   "file_extension": ".py",
   "mimetype": "text/x-python",
   "name": "python",
   "nbconvert_exporter": "python",
   "pygments_lexer": "ipython3",
   "version": "3.9.13"
  }
 },
 "nbformat": 4,
 "nbformat_minor": 5
}
