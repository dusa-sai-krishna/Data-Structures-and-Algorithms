{
 "cells": [
  {
   "cell_type": "code",
   "execution_count": 1,
   "id": "2a770648",
   "metadata": {},
   "outputs": [],
   "source": [
    "import queue"
   ]
  },
  {
   "cell_type": "code",
   "execution_count": 6,
   "id": "fd2373ec",
   "metadata": {},
   "outputs": [],
   "source": [
    "def rev(q,k):\n",
    "    if k==0 :\n",
    "        return q\n",
    "    else:\n",
    "        ele=q.get()\n",
    "        smallrevq=rev(q,k-1)\n",
    "        smallrevq.put(ele)\n",
    "        return smallrevq\n",
    "    \n",
    "def main(q,k):\n",
    "    n=q.qsize()\n",
    "    if n in (0,1):\n",
    "        return q\n",
    "    else:\n",
    "        q=rev(q,k)\n",
    "        for i in range(n-k):\n",
    "                ele=q.get()\n",
    "                q.put(ele)\n",
    "    return q"
   ]
  },
  {
   "cell_type": "code",
   "execution_count": 10,
   "id": "07f843ba",
   "metadata": {},
   "outputs": [
    {
     "name": "stdout",
     "output_type": "stream",
     "text": [
      "5\n",
      "5 4 3 2 1 6 7 8 9 10 "
     ]
    }
   ],
   "source": [
    "#Driver Code\n",
    "q=queue.Queue()\n",
    "for i in range(1,11):\n",
    "    q.put(i)\n",
    "    \n",
    "k=int(input())\n",
    "q=main(q,k)\n",
    "while q.qsize()!=0:\n",
    "    print(q.get(),end=\" \")"
   ]
  },
  {
   "cell_type": "code",
   "execution_count": null,
   "id": "22c735aa",
   "metadata": {},
   "outputs": [],
   "source": []
  }
 ],
 "metadata": {
  "kernelspec": {
   "display_name": "Python 3 (ipykernel)",
   "language": "python",
   "name": "python3"
  },
  "language_info": {
   "codemirror_mode": {
    "name": "ipython",
    "version": 3
   },
   "file_extension": ".py",
   "mimetype": "text/x-python",
   "name": "python",
   "nbconvert_exporter": "python",
   "pygments_lexer": "ipython3",
   "version": "3.9.13"
  }
 },
 "nbformat": 4,
 "nbformat_minor": 5
}
