{
 "cells": [
  {
   "cell_type": "code",
   "execution_count": 2,
   "id": "92997c94",
   "metadata": {},
   "outputs": [
    {
     "ename": "SyntaxError",
     "evalue": "invalid syntax (836411276.py, line 43)",
     "output_type": "error",
     "traceback": [
      "\u001b[1;36m  File \u001b[1;32m\"C:\\Users\\dsai9\\AppData\\Local\\Temp\\ipykernel_6404\\836411276.py\"\u001b[1;36m, line \u001b[1;32m43\u001b[0m\n\u001b[1;33m    elif ch==2:\u001b[0m\n\u001b[1;37m    ^\u001b[0m\n\u001b[1;31mSyntaxError\u001b[0m\u001b[1;31m:\u001b[0m invalid syntax\n"
     ]
    }
   ],
   "source": [
    "def createQueue():\n",
    "    queue=[]\n",
    "    return queue\n",
    "def isEmpty(q):\n",
    "    return len(q)==0\n",
    "def enqueue(q,item):\n",
    "    q.append(item)\n",
    "    \n",
    "def dequeue(q,front):\n",
    "    if isEmpty(q):\n",
    "        return '$'\n",
    "    item=q[front]\n",
    "    del q[front]\n",
    "    return item\n",
    "\n",
    "def display(q,front):\n",
    "    for i in range(front,len(q)):\n",
    "        print(q[i],end=\" \")\n",
    "\n",
    "#Driver code\n",
    "q=createQueue()\n",
    "print(type(q))\n",
    "\n",
    "print(\"1.Enqueue\")\n",
    "print(\"2.Dequeue\")\n",
    "print(\"3.isEmpty\")\n",
    "print(\"4.display\")\n",
    "print(\"5.exit\")\n",
    "\n",
    "rear=0\n",
    "x=1\n",
    "maxsize=10\n",
    "while x:\n",
    "    ch=int(input(\"Enter your choice:\"))\n",
    "    if (rear<maxsize):\n",
    "        if ch==1:\n",
    "            item=int(input(\"Enter the key:\"))\n",
    "        \n",
    "            enqueue(q,item)\n",
    "            rear+=1\n",
    "    else:\n",
    "        print('Queue is full')\n",
    "    elif ch==2:\n",
    "        print(dequeue(q,front))\n",
    "    elif ch==3:\n",
    "        print(isEmpty(q))\n",
    "    elif ch==4:\n",
    "        print(q)\n",
    "    elif ch==5:\n",
    "        break\n",
    "    else:\n",
    "        print(\"Enter correct choices\")"
   ]
  },
  {
   "cell_type": "code",
   "execution_count": null,
   "id": "943c52f3",
   "metadata": {},
   "outputs": [],
   "source": [
    "\n"
   ]
  },
  {
   "cell_type": "code",
   "execution_count": null,
   "id": "0510b7de",
   "metadata": {},
   "outputs": [],
   "source": []
  },
  {
   "cell_type": "code",
   "execution_count": null,
   "id": "8b98633c",
   "metadata": {},
   "outputs": [],
   "source": []
  }
 ],
 "metadata": {
  "kernelspec": {
   "display_name": "Python 3 (ipykernel)",
   "language": "python",
   "name": "python3"
  },
  "language_info": {
   "codemirror_mode": {
    "name": "ipython",
    "version": 3
   },
   "file_extension": ".py",
   "mimetype": "text/x-python",
   "name": "python",
   "nbconvert_exporter": "python",
   "pygments_lexer": "ipython3",
   "version": "3.9.13"
  }
 },
 "nbformat": 4,
 "nbformat_minor": 5
}
