{
 "cells": [
  {
   "cell_type": "code",
   "execution_count": 6,
   "id": "ff657b1e",
   "metadata": {},
   "outputs": [],
   "source": [
    "class Queue:\n",
    "    def __init__(self):\n",
    "        self.__arr=[]\n",
    "        self.__front=0\n",
    "        self.__count=0\n",
    "    \n",
    "    def enqueue(self,ele):\n",
    "        self.__arr.append(ele)\n",
    "        self.__count=self.__count+1\n",
    "        \n",
    "    def dequeue(self):\n",
    "        if self.isEmpty():\n",
    "            return -1\n",
    "        else:\n",
    "            ele=self.__arr[self.__front]\n",
    "            self.__front=self.__front+1\n",
    "            self.__count=self.__count-1\n",
    "            return ele\n",
    "    def front(self):\n",
    "        if self.isEmpty():\n",
    "            return -1\n",
    "        else:\n",
    "            return self.__arr[self.__front]\n",
    "    def size(self):\n",
    "        return self.__count\n",
    "    def isEmpty(self):\n",
    "        return self.size()==0"
   ]
  },
  {
   "cell_type": "code",
   "execution_count": 7,
   "id": "089ba8a6",
   "metadata": {},
   "outputs": [
    {
     "data": {
      "text/plain": [
       "1"
      ]
     },
     "execution_count": 7,
     "metadata": {},
     "output_type": "execute_result"
    }
   ],
   "source": [
    "#Driver Code\n",
    "q=Queue()\n",
    "q.enqueue(1)\n",
    "q.enqueue(2)\n",
    "q.enqueue(3)\n",
    "q.dequeue()\n"
   ]
  },
  {
   "cell_type": "code",
   "execution_count": 8,
   "id": "9307275a",
   "metadata": {},
   "outputs": [
    {
     "data": {
      "text/plain": [
       "2"
      ]
     },
     "execution_count": 8,
     "metadata": {},
     "output_type": "execute_result"
    }
   ],
   "source": [
    "q.front()\n"
   ]
  },
  {
   "cell_type": "code",
   "execution_count": 9,
   "id": "5de7d68f",
   "metadata": {},
   "outputs": [
    {
     "data": {
      "text/plain": [
       "2"
      ]
     },
     "execution_count": 9,
     "metadata": {},
     "output_type": "execute_result"
    }
   ],
   "source": [
    "q.size()\n"
   ]
  },
  {
   "cell_type": "code",
   "execution_count": 10,
   "id": "ed95adb1",
   "metadata": {},
   "outputs": [
    {
     "data": {
      "text/plain": [
       "False"
      ]
     },
     "execution_count": 10,
     "metadata": {},
     "output_type": "execute_result"
    }
   ],
   "source": [
    "q.isEmpty()"
   ]
  },
  {
   "cell_type": "code",
   "execution_count": 6,
   "id": "d1d01710",
   "metadata": {},
   "outputs": [],
   "source": [
    "import sys\n",
    "class Queue:\n",
    "    def __init__(self):\n",
    "        self.arr=[]\n",
    "        self.front=0\n",
    "        self.count=0\n",
    "        \n",
    "    def isEmpty(self):\n",
    "        return self.count==0\n",
    "    \n",
    "    def display(self):\n",
    "        for i in range(self.front,len(self.arr)):\n",
    "            print(i,end=\" \")\n",
    "            \n",
    "    def size(self):\n",
    "        return self.count\n",
    "    \n",
    "    def enqueue(self,item):\n",
    "        if self.count==sys.maxsize:\n",
    "            print(\"Overflow\")\n",
    "        else:\n",
    "            self.arr.append(item)\n",
    "            self.count+=1\n",
    "    \n",
    "    def dequeue(self):\n",
    "        if self.isEmpty():\n",
    "            print(\"Underflow\")\n",
    "        else:\n",
    "            self.front=self.front+1\n",
    "            self.count=self.count-1\n",
    "            print(\"{} has been removed\".format(self.arr[self.front-1]))\n",
    "            \n",
    "    def front(self):\n",
    "        if self.isEmpty():\n",
    "            print(\"Underflow\")\n",
    "        else:\n",
    "            print(self.arr[self.front])"
   ]
  },
  {
   "cell_type": "code",
   "execution_count": 7,
   "id": "2c11b021",
   "metadata": {},
   "outputs": [
    {
     "name": "stdout",
     "output_type": "stream",
     "text": [
      "0 1 5 has been removed\n"
     ]
    }
   ],
   "source": [
    "q=Queue()\n",
    "q.enqueue(5)\n",
    "q.enqueue(10)\n",
    "q.display()\n",
    "q.size()\n",
    "q.isEmpty()\n",
    "q.dequeue()\n"
   ]
  },
  {
   "cell_type": "code",
   "execution_count": null,
   "id": "e4cf6b93",
   "metadata": {},
   "outputs": [],
   "source": []
  }
 ],
 "metadata": {
  "kernelspec": {
   "display_name": "Python 3 (ipykernel)",
   "language": "python",
   "name": "python3"
  },
  "language_info": {
   "codemirror_mode": {
    "name": "ipython",
    "version": 3
   },
   "file_extension": ".py",
   "mimetype": "text/x-python",
   "name": "python",
   "nbconvert_exporter": "python",
   "pygments_lexer": "ipython3",
   "version": "3.9.13"
  }
 },
 "nbformat": 4,
 "nbformat_minor": 5
}
