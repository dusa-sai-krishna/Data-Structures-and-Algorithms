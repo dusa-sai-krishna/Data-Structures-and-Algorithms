{
 "cells": [
  {
   "cell_type": "code",
   "execution_count": 21,
   "id": "05d4c778",
   "metadata": {},
   "outputs": [],
   "source": [
    "#enqueu is o(1) and dequeue is o(n)\n",
    "class Queue:\n",
    "    def __init__(self):\n",
    "        self.__s1=[]\n",
    "        self.__s2=[]\n",
    "        \n",
    "    def enqueue(self,data):\n",
    "        self.__s1.append(data)\n",
    "    \n",
    "    def dequeue(self):\n",
    "        if self.isEmpty():\n",
    "            return -1\n",
    "        else:\n",
    "            while len(self.__s1)!=1:\n",
    "                self.__s2.append(self.__s1.pop())\n",
    "            ele=self.__s1.pop()\n",
    "            while self.__s2!=[]:\n",
    "                self.__s1.append(self.__s2.pop())\n",
    "            return ele\n",
    "        \n",
    "    def front(self):\n",
    "        return self.__s1[-1]\n",
    "    \n",
    "    def size(self):\n",
    "        return len(self.__s1)\n",
    "\n",
    "    def isEmpty(self):\n",
    "        return self.size()==0\n",
    "    "
   ]
  },
  {
   "cell_type": "code",
   "execution_count": 22,
   "id": "d04d4b0c",
   "metadata": {},
   "outputs": [
    {
     "data": {
      "text/plain": [
       "1"
      ]
     },
     "execution_count": 22,
     "metadata": {},
     "output_type": "execute_result"
    }
   ],
   "source": [
    "#driver code\n",
    "q=Queue()\n",
    "q.enqueue(1)\n",
    "q.enqueue(2)\n",
    "q.enqueue(3)\n",
    "q.dequeue()"
   ]
  },
  {
   "cell_type": "code",
   "execution_count": 23,
   "id": "38eef9a2",
   "metadata": {},
   "outputs": [
    {
     "data": {
      "text/plain": [
       "2"
      ]
     },
     "execution_count": 23,
     "metadata": {},
     "output_type": "execute_result"
    }
   ],
   "source": [
    "q.dequeue()"
   ]
  },
  {
   "cell_type": "code",
   "execution_count": 16,
   "id": "350d55d9",
   "metadata": {},
   "outputs": [],
   "source": [
    "#enqueu is o(n) and dequeue is o(1)\n",
    "class Queue:\n",
    "    def __init__(self):\n",
    "        self.__s1=[]\n",
    "        self.__s2=[]\n",
    "        \n",
    "    def enqueue(self,data):\n",
    "        if self.__s1==[]:\n",
    "            self.__s1.append(data)\n",
    "        else:\n",
    "            while len(self.__s1)!=1:\n",
    "                self.__s2.append(self.__s1.pop())\n",
    "            self.__s1.append(data)\n",
    "            while self.__s2!=[]:\n",
    "                self.__s1.append(self.__s2.pop())\n",
    "    \n",
    "    def dequeue(self):\n",
    "        if self.isEmpty():\n",
    "            return -1\n",
    "        else:\n",
    "            ele=self.__s1.pop()\n",
    "            return ele\n",
    "        \n",
    "    def front(self):\n",
    "        return self.__s1[-1]\n",
    "    \n",
    "    def size(self):\n",
    "        return len(self.__s1)\n",
    "\n",
    "    def isEmpty(self):\n",
    "        return self.size()==0\n",
    "    "
   ]
  },
  {
   "cell_type": "code",
   "execution_count": null,
   "id": "14783c03",
   "metadata": {},
   "outputs": [],
   "source": []
  },
  {
   "cell_type": "code",
   "execution_count": 17,
   "id": "bf2f563b",
   "metadata": {},
   "outputs": [
    {
     "data": {
      "text/plain": [
       "2"
      ]
     },
     "execution_count": 17,
     "metadata": {},
     "output_type": "execute_result"
    }
   ],
   "source": [
    "#driver code\n",
    "q=Queue()\n",
    "q.enqueue(1)\n",
    "q.enqueue(2)\n",
    "q.enqueue(3)\n",
    "q.dequeue()"
   ]
  },
  {
   "cell_type": "code",
   "execution_count": 18,
   "id": "973f6f3e",
   "metadata": {},
   "outputs": [
    {
     "data": {
      "text/plain": [
       "3"
      ]
     },
     "execution_count": 18,
     "metadata": {},
     "output_type": "execute_result"
    }
   ],
   "source": [
    "q.front()"
   ]
  },
  {
   "cell_type": "code",
   "execution_count": 19,
   "id": "5f3be075",
   "metadata": {},
   "outputs": [
    {
     "data": {
      "text/plain": [
       "2"
      ]
     },
     "execution_count": 19,
     "metadata": {},
     "output_type": "execute_result"
    }
   ],
   "source": [
    "q.size()"
   ]
  },
  {
   "cell_type": "code",
   "execution_count": 20,
   "id": "a6eae0ce",
   "metadata": {},
   "outputs": [
    {
     "data": {
      "text/plain": [
       "False"
      ]
     },
     "execution_count": 20,
     "metadata": {},
     "output_type": "execute_result"
    }
   ],
   "source": [
    "q.isEmpty()"
   ]
  },
  {
   "cell_type": "code",
   "execution_count": null,
   "id": "5ac2aebd",
   "metadata": {},
   "outputs": [],
   "source": []
  }
 ],
 "metadata": {
  "kernelspec": {
   "display_name": "Python 3 (ipykernel)",
   "language": "python",
   "name": "python3"
  },
  "language_info": {
   "codemirror_mode": {
    "name": "ipython",
    "version": 3
   },
   "file_extension": ".py",
   "mimetype": "text/x-python",
   "name": "python",
   "nbconvert_exporter": "python",
   "pygments_lexer": "ipython3",
   "version": "3.9.13"
  }
 },
 "nbformat": 4,
 "nbformat_minor": 5
}
