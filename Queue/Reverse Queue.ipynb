{
 "cells": [
  {
   "cell_type": "code",
   "execution_count": 8,
   "id": "81bb31e8",
   "metadata": {},
   "outputs": [],
   "source": [
    "import queue"
   ]
  },
  {
   "cell_type": "code",
   "execution_count": 9,
   "id": "2854dee2",
   "metadata": {},
   "outputs": [],
   "source": [
    "q=queue.Queue()"
   ]
  },
  {
   "cell_type": "code",
   "execution_count": 29,
   "id": "03ca84e5",
   "metadata": {},
   "outputs": [],
   "source": [
    "def reverse(q):\n",
    "        if q.qsize() in (0,1):\n",
    "            return q\n",
    "        else:\n",
    "            ele=q.get()\n",
    "            smallrevq=reverse(q)\n",
    "            smallrevq.put(ele)\n",
    "            q=smallrevq\n",
    "            return q\n",
    "        \n",
    "def rev(q):\n",
    "    #q=inputQueue\n",
    "    if q.qsize() in (0,1):\n",
    "        return q\n",
    "    else:\n",
    "        ele=q.get()\n",
    "        smallrevq=rev(q)\n",
    "        smallrevq.put(ele)\n",
    "        q=smallrevq\n",
    "        return q\n"
   ]
  },
  {
   "cell_type": "code",
   "execution_count": 30,
   "id": "fffce02c",
   "metadata": {},
   "outputs": [
    {
     "name": "stdout",
     "output_type": "stream",
     "text": [
      "2 8 5 1 10 5 9 \n",
      "9\n",
      "5\n",
      "10\n",
      "1\n",
      "5\n",
      "8\n",
      "2\n"
     ]
    }
   ],
   "source": [
    "#Driver code\n",
    "lst=[int(i) for i in input().split()]\n",
    "for i in lst:\n",
    "    q.put(i)\n",
    "rev(q)\n",
    "while q.qsize()!=0:\n",
    "    print(q.get())"
   ]
  },
  {
   "cell_type": "code",
   "execution_count": 12,
   "id": "c1543d79",
   "metadata": {},
   "outputs": [
    {
     "data": {
      "text/plain": [
       "1"
      ]
     },
     "execution_count": 12,
     "metadata": {},
     "output_type": "execute_result"
    }
   ],
   "source": []
  },
  {
   "cell_type": "code",
   "execution_count": null,
   "id": "0927fe15",
   "metadata": {},
   "outputs": [],
   "source": []
  }
 ],
 "metadata": {
  "kernelspec": {
   "display_name": "Python 3 (ipykernel)",
   "language": "python",
   "name": "python3"
  },
  "language_info": {
   "codemirror_mode": {
    "name": "ipython",
    "version": 3
   },
   "file_extension": ".py",
   "mimetype": "text/x-python",
   "name": "python",
   "nbconvert_exporter": "python",
   "pygments_lexer": "ipython3",
   "version": "3.9.13"
  }
 },
 "nbformat": 4,
 "nbformat_minor": 5
}
