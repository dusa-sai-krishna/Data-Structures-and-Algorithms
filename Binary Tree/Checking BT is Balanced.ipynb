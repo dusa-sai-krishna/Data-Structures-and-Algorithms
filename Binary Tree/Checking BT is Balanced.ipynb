{
 "cells": [
  {
   "cell_type": "code",
   "execution_count": 3,
   "id": "a6f91480",
   "metadata": {},
   "outputs": [],
   "source": [
    "class BinaryTreeNode:\n",
    "    \n",
    "    def __init__(self,data):\n",
    "        self.data=data\n",
    "        self.left=None\n",
    "        self.right=None\n",
    "    \n",
    "def printBT(root):\n",
    "    if root is None:\n",
    "        return \n",
    "    print(\"{}:\".format(root.data),end=\"\")\n",
    "    if root.left!=None:\n",
    "        print(\"L-{},\".format(root.left.data),end=\"\")\n",
    "    if root.right!=None:\n",
    "        print(\"R-{}\".format(root.right.data),end=\"\")\n",
    "    print()\n",
    "    printBT(root.left)\n",
    "    printBT(root.right)\n",
    "    \n",
    "    \n",
    "def bTInput():\n",
    "    rootData=int(input())\n",
    "    if rootData==-1:\n",
    "        return None\n",
    "    root=BinaryTreeNode(rootData)\n",
    "    leftTree=bTInput()\n",
    "    rightTree=bTInput()\n",
    "    root.left=leftTree\n",
    "    root.right=rightTree\n",
    "    return root\n",
    "\n",
    "def numNodes(root):\n",
    "    if root is None:\n",
    "        return 0\n",
    "    leftcount=numNodes(root.left)\n",
    "    rightcount=numNodes(root.right)\n",
    "    return leftcount+rightcount+1\n",
    "\n",
    "def height(root):\n",
    "    if root is None:\n",
    "        return 0\n",
    "    leftHeight=height(root.left)\n",
    "    rightHeight=height(root.right)\n",
    "    return leftHeight+rightHeight+1"
   ]
  },
  {
   "cell_type": "code",
   "execution_count": 3,
   "id": "29696b24",
   "metadata": {},
   "outputs": [],
   "source": [
    "def isBalanced(root):\n",
    "    if root is None:\n",
    "        return True\n",
    "    leftHeight=height(root.left)\n",
    "    rightHeight=height(root.right)\n",
    "    if abs(leftHeight-rightHeight)>1:\n",
    "        return False\n",
    "    leftBalanced=isBalanced(root.left)\n",
    "    rightBalanced=isBalanced(root.right)\n",
    "    if leftBalanced and rightBalanced:\n",
    "        return True\n",
    "    else:\n",
    "        return False"
   ]
  },
  {
   "cell_type": "code",
   "execution_count": 6,
   "id": "cca23720",
   "metadata": {},
   "outputs": [],
   "source": [
    "def heightAndCheckIsBalanced(root):\n",
    "    if root is None:\n",
    "        return 0,True\n",
    "    lh,leftBalanced=heightAndCheckIsBalanced(root.left)\n",
    "    rh,rightBalanced=heightAndCheckIsBalanced(root.right)\n",
    "    h=1+max(lh,rh)\n",
    "    if abs(lh-rh)>1:\n",
    "        return h,False\n",
    "    if leftBalanced and rightBalanced:\n",
    "        return h,True\n",
    "    else:\n",
    "        return h,False"
   ]
  },
  {
   "cell_type": "code",
   "execution_count": 4,
   "id": "62e3a390",
   "metadata": {},
   "outputs": [
    {
     "name": "stdout",
     "output_type": "stream",
     "text": [
      "1\n",
      "2\n",
      "-1\n",
      "-1\n",
      "3\n",
      "-1\n",
      "-1\n",
      "1:L-2,R-3\n",
      "2:\n",
      "3:\n"
     ]
    }
   ],
   "source": [
    "root=bTInput()\n",
    "printBT(root)"
   ]
  },
  {
   "cell_type": "code",
   "execution_count": 8,
   "id": "2576b954",
   "metadata": {},
   "outputs": [
    {
     "data": {
      "text/plain": [
       "True"
      ]
     },
     "execution_count": 8,
     "metadata": {},
     "output_type": "execute_result"
    }
   ],
   "source": [
    "h,ans=heightAndCheckIsBalanced(root)\n",
    "ans"
   ]
  },
  {
   "cell_type": "code",
   "execution_count": null,
   "id": "4ed71076",
   "metadata": {},
   "outputs": [],
   "source": []
  }
 ],
 "metadata": {
  "kernelspec": {
   "display_name": "Python 3 (ipykernel)",
   "language": "python",
   "name": "python3"
  },
  "language_info": {
   "codemirror_mode": {
    "name": "ipython",
    "version": 3
   },
   "file_extension": ".py",
   "mimetype": "text/x-python",
   "name": "python",
   "nbconvert_exporter": "python",
   "pygments_lexer": "ipython3",
   "version": "3.9.13"
  }
 },
 "nbformat": 4,
 "nbformat_minor": 5
}
