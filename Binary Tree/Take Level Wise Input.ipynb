{
 "cells": [
  {
   "cell_type": "code",
   "execution_count": 20,
   "id": "2ea414fa",
   "metadata": {},
   "outputs": [],
   "source": [
    "import queue\n",
    "\n",
    "class BinaryTreeNode:\n",
    "    \n",
    "    def __init__(self,data):\n",
    "        self.data=data\n",
    "        self.left=None\n",
    "        self.right=None\n",
    "    \n",
    "def printBT(root):\n",
    "    if root is None:\n",
    "        return \n",
    "    print(\"{}:\".format(root.data),end=\"\")\n",
    "    if root.left!=None:\n",
    "        print(\"L-{},\".format(root.left.data),end=\"\")\n",
    "    if root.right!=None:\n",
    "        print(\"R-{}\".format(root.right.data),end=\"\")\n",
    "    print()\n",
    "    printBT(root.left)\n",
    "    printBT(root.right)\n",
    "    \n",
    "def numNodes(root):\n",
    "    if root is None:\n",
    "        return 0\n",
    "    leftcount=numNodes(root.left)\n",
    "    rightcount=numNodes(root.right)\n",
    "    return leftcount+rightcount+1\n",
    "\n",
    "def takeLevelWiseInput():\n",
    "    q=queue.Queue()\n",
    "    rootData=int(input())\n",
    "    if rootData==-1:\n",
    "        return None\n",
    "    root=BinaryTreeNode(rootData)\n",
    "    q.put(root)\n",
    "    while (not(q.empty())):\n",
    "        currentNode=q.get()\n",
    "        #Left Node\n",
    "        print(\"Enter the data for left child of {}:\".format(currentNode.data))\n",
    "        leftChildData=int(input())\n",
    "        if leftChildData!=-1:\n",
    "            leftChild=BinaryTreeNode(leftChildData)\n",
    "            currentNode.left=leftChild\n",
    "            q.put(leftChild)\n",
    "        #RightNode\n",
    "        print(\"Enter the data for right child of {}:\".format(currentNode.data))\n",
    "        rightChildData=int(input())\n",
    "        if rightChildData!=-1:\n",
    "            rightChild=BinaryTreeNode(rightChildData)\n",
    "            currentNode.right=rightChild\n",
    "            q.put(rightChild)\n",
    "    return root"
   ]
  },
  {
   "cell_type": "code",
   "execution_count": 21,
   "id": "d452a22d",
   "metadata": {},
   "outputs": [
    {
     "name": "stdout",
     "output_type": "stream",
     "text": [
      "1\n",
      "Enter the data for left child of 1:\n",
      "2\n",
      "Enter the data for right child of 1:\n",
      "3\n",
      "Enter the data for left child of 2:\n",
      "4\n",
      "Enter the data for right child of 2:\n",
      "5\n",
      "Enter the data for left child of 3:\n",
      "6\n",
      "Enter the data for right child of 3:\n",
      "7\n",
      "Enter the data for left child of 4:\n",
      "-1\n",
      "Enter the data for right child of 4:\n",
      "-1\n",
      "Enter the data for left child of 5:\n",
      "-1\n",
      "Enter the data for right child of 5:\n",
      "-1\n",
      "Enter the data for left child of 6:\n",
      "-1\n",
      "Enter the data for right child of 6:\n",
      "-1\n",
      "Enter the data for left child of 7:\n",
      "-1\n",
      "Enter the data for right child of 7:\n",
      "-1\n"
     ]
    }
   ],
   "source": [
    "root=takeLevelWiseInput()"
   ]
  },
  {
   "cell_type": "code",
   "execution_count": 22,
   "id": "18cf03d6",
   "metadata": {},
   "outputs": [
    {
     "name": "stdout",
     "output_type": "stream",
     "text": [
      "1:L-2,R-3\n",
      "2:L-4,R-5\n",
      "4:\n",
      "5:\n",
      "3:L-6,R-7\n",
      "6:\n",
      "7:\n"
     ]
    }
   ],
   "source": [
    "printBT(root)"
   ]
  },
  {
   "cell_type": "code",
   "execution_count": null,
   "id": "87a0778f",
   "metadata": {},
   "outputs": [],
   "source": []
  },
  {
   "cell_type": "code",
   "execution_count": null,
   "id": "5887a4ad",
   "metadata": {},
   "outputs": [],
   "source": []
  },
  {
   "cell_type": "code",
   "execution_count": null,
   "id": "5979d4fe",
   "metadata": {},
   "outputs": [],
   "source": []
  }
 ],
 "metadata": {
  "kernelspec": {
   "display_name": "Python 3 (ipykernel)",
   "language": "python",
   "name": "python3"
  },
  "language_info": {
   "codemirror_mode": {
    "name": "ipython",
    "version": 3
   },
   "file_extension": ".py",
   "mimetype": "text/x-python",
   "name": "python",
   "nbconvert_exporter": "python",
   "pygments_lexer": "ipython3",
   "version": "3.9.13"
  }
 },
 "nbformat": 4,
 "nbformat_minor": 5
}
