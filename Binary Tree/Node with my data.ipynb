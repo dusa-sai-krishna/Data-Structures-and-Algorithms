{
 "cells": [
  {
   "cell_type": "code",
   "execution_count": 1,
   "id": "2130c47b",
   "metadata": {},
   "outputs": [],
   "source": [
    "class BinaryTreeNode:\n",
    "    \n",
    "    def __init__(self,data):\n",
    "        self.data=data\n",
    "        self.left=None\n",
    "        self.right=None\n",
    "    \n",
    "def printBT(root):\n",
    "    if root is None:\n",
    "        return \n",
    "    print(\"{}:\".format(root.data),end=\"\")\n",
    "    if root.left!=None:\n",
    "        print(\"L-{},\".format(root.left.data),end=\"\")\n",
    "    if root.right!=None:\n",
    "        print(\"R-{}\".format(root.right.data),end=\"\")\n",
    "    print()\n",
    "    printBT(root.left)\n",
    "    printBT(root.right)\n",
    "    \n",
    "    \n",
    "def bTInput():\n",
    "    rootData=int(input())\n",
    "    if rootData==-1:\n",
    "        return None\n",
    "    root=BinaryTreeNode(rootData)\n",
    "    leftTree=bTInput()\n",
    "    rightTree=bTInput()\n",
    "    root.left=leftTree\n",
    "    root.right=rightTree\n",
    "    return root\n",
    "\n",
    "def numNodes(root):\n",
    "    if root is None:\n",
    "        return 0\n",
    "    leftcount=numNodes(root.left)\n",
    "    rightcount=numNodes(root.right)\n",
    "    return leftcount+rightcount+1\n",
    "\n"
   ]
  },
  {
   "cell_type": "code",
   "execution_count": 2,
   "id": "9f14da15",
   "metadata": {},
   "outputs": [],
   "source": [
    "def isNodePresent(root,x):\n",
    "    if root is None:\n",
    "        return\n",
    "    if root.data==x:\n",
    "        return True\n",
    "    a=isNodePresent(root.left,x)\n",
    "    if a:\n",
    "        return True\n",
    "    b=isNodePresent(root.right,x)\n",
    "    if b:\n",
    "        return True\n",
    "    return False"
   ]
  },
  {
   "cell_type": "code",
   "execution_count": 3,
   "id": "07b0d832",
   "metadata": {},
   "outputs": [
    {
     "name": "stdout",
     "output_type": "stream",
     "text": [
      "1\n",
      "2\n",
      "-1\n",
      "-1\n",
      "3\n",
      "-1\n",
      "-1\n",
      "1:L-2,R-3\n",
      "2:\n",
      "3:\n"
     ]
    }
   ],
   "source": [
    "root=bTInput()\n",
    "printBT(root)\n"
   ]
  },
  {
   "cell_type": "code",
   "execution_count": 4,
   "id": "1c6f76e9",
   "metadata": {},
   "outputs": [
    {
     "data": {
      "text/plain": [
       "True"
      ]
     },
     "execution_count": 4,
     "metadata": {},
     "output_type": "execute_result"
    }
   ],
   "source": [
    "isNodePresent(root,3)"
   ]
  },
  {
   "cell_type": "code",
   "execution_count": 5,
   "id": "cc0b8bd4",
   "metadata": {},
   "outputs": [
    {
     "data": {
      "text/plain": [
       "False"
      ]
     },
     "execution_count": 5,
     "metadata": {},
     "output_type": "execute_result"
    }
   ],
   "source": [
    "isNodePresent(root,34)"
   ]
  },
  {
   "cell_type": "code",
   "execution_count": null,
   "id": "0dd12c38",
   "metadata": {},
   "outputs": [],
   "source": []
  }
 ],
 "metadata": {
  "kernelspec": {
   "display_name": "Python 3 (ipykernel)",
   "language": "python",
   "name": "python3"
  },
  "language_info": {
   "codemirror_mode": {
    "name": "ipython",
    "version": 3
   },
   "file_extension": ".py",
   "mimetype": "text/x-python",
   "name": "python",
   "nbconvert_exporter": "python",
   "pygments_lexer": "ipython3",
   "version": "3.9.13"
  }
 },
 "nbformat": 4,
 "nbformat_minor": 5
}
