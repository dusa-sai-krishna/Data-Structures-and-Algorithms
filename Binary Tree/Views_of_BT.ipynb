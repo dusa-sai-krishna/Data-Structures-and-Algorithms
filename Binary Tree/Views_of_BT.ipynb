{
 "cells": [
  {
   "cell_type": "markdown",
   "metadata": {},
   "source": [
    "# Initializing class Node"
   ]
  },
  {
   "cell_type": "code",
   "execution_count": 1,
   "metadata": {},
   "outputs": [],
   "source": [
    "class Node:\n",
    "    def __init__(self, d):\n",
    "        self.lc=None\n",
    "        self.rc=None\n",
    "        self.d=d\n",
    "        self.hd=0\n",
    "        "
   ]
  },
  {
   "cell_type": "markdown",
   "metadata": {},
   "source": [
    "# Top view\n"
   ]
  },
  {
   "cell_type": "code",
   "execution_count": 2,
   "metadata": {},
   "outputs": [],
   "source": [
    "def topview(root):\n",
    "    m={}\n",
    "    q=[]\n",
    "    q.append(root)\n",
    "    while len(q) > 0:\n",
    "        node = q.pop(0)\n",
    "        if node.hd not in m:\n",
    "            m[node.hd]=node.d\n",
    "        if node.lc:\n",
    "            node.lc.hd = node.hd -1\n",
    "            q.append(node.lc)\n",
    "        if node.rc:\n",
    "            node.rc.hd = node.hd +1\n",
    "            q.append(node.rc)\n",
    "    print(\"Top view \")\n",
    "    for k in sorted(m):        \n",
    "        print(m[k],end=\",\")\n",
    "    print()"
   ]
  },
  {
   "cell_type": "markdown",
   "metadata": {},
   "source": [
    "# Bottom View"
   ]
  },
  {
   "cell_type": "code",
   "execution_count": 3,
   "metadata": {},
   "outputs": [],
   "source": [
    "def bottomview(root):\n",
    "    m={}\n",
    "    q=[]\n",
    "    q.append(root)\n",
    "    while len(q) > 0:\n",
    "        node = q.pop(0)\n",
    "        m[node.hd]=node.d\n",
    "        if node.lc:\n",
    "            node.lc.hd = node.hd -1\n",
    "            q.append(node.lc)\n",
    "        if node.rc:\n",
    "            node.rc.hd = node.hd +1\n",
    "            q.append(node.rc)\n",
    "    print(\"bottom view \")\n",
    "    for k in sorted(m):        \n",
    "        print(m[k],end=\",\")\n",
    "    print()"
   ]
  },
  {
   "cell_type": "markdown",
   "metadata": {},
   "source": [
    "# Left View"
   ]
  },
  {
   "cell_type": "code",
   "execution_count": 4,
   "metadata": {},
   "outputs": [],
   "source": [
    "def leftview(root):\n",
    "    m={}\n",
    "    q=[]\n",
    "    q.append(root)\n",
    "    while len(q) > 0:\n",
    "        node = q.pop(0)\n",
    "        if node.hd not in m:\n",
    "            m[node.hd]=node.d\n",
    "        if node.lc:\n",
    "            node.lc.hd = node.hd -1\n",
    "            q.append(node.lc)\n",
    "        if node.rc:\n",
    "            node.rc.hd = node.hd +1\n",
    "            q.append(node.rc)\n",
    "    print(\"left view \")\n",
    "    for k in sorted(m):\n",
    "        if k < 0: \n",
    "            print(m[k],end=\",\")\n",
    "    print()"
   ]
  },
  {
   "cell_type": "markdown",
   "metadata": {},
   "source": [
    "# Right view"
   ]
  },
  {
   "cell_type": "code",
   "execution_count": 5,
   "metadata": {},
   "outputs": [],
   "source": [
    "\n",
    "\n",
    "def rightview(root):\n",
    "    m={}\n",
    "    q=[]\n",
    "    q.append(root)\n",
    "    while len(q) > 0:\n",
    "        node = q.pop(0)\n",
    "        if node.hd not in m:    \n",
    "            m[node.hd]=node.d\n",
    "        if node.lc:\n",
    "            node.lc.hd = node.hd -1\n",
    "            q.append(node.lc)\n",
    "        if node.rc:\n",
    "            node.rc.hd = node.hd +1\n",
    "            q.append(node.rc)\n",
    "    print(\"right view \")\n",
    "    for k in sorted(m):\n",
    "        if k>=0:\n",
    "            print(m[k],end=\",\")\n",
    "    print()"
   ]
  },
  {
   "cell_type": "code",
   "execution_count": 6,
   "metadata": {},
   "outputs": [
    {
     "name": "stdout",
     "output_type": "stream",
     "text": [
      "Top view \n",
      "10,4,2,1,3,6,\n",
      "bottom view \n",
      "10,9,7,5,8,11,\n",
      "left view \n",
      "10,4,2,\n",
      "right view \n",
      "1,3,6,\n"
     ]
    }
   ],
   "source": [
    "\n",
    "# Driver code\n",
    "root=Node(1)\n",
    "root.lc=Node(2)\n",
    "root.rc=Node(3)\n",
    "root.lc.lc=Node(4)\n",
    "root.lc.rc=Node(5)\n",
    "root.lc.lc.rc=Node(7)\n",
    "\n",
    "root.lc.lc.rc.lc=Node(9)\n",
    "root.lc.lc.rc.lc.lc=Node(10)\n",
    "root.rc.rc=Node(6)\n",
    "root.rc.rc.lc=Node(8)\n",
    "root.rc.rc.lc.rc=Node(11)\n",
    "topview(root)\n",
    "bottomview(root)\n",
    "leftview(root)\n",
    "rightview(root)"
   ]
  },
  {
   "cell_type": "code",
   "execution_count": null,
   "metadata": {},
   "outputs": [],
   "source": []
  }
 ],
 "metadata": {
  "kernelspec": {
   "display_name": "base",
   "language": "python",
   "name": "python3"
  },
  "language_info": {
   "codemirror_mode": {
    "name": "ipython",
    "version": 3
   },
   "file_extension": ".py",
   "mimetype": "text/x-python",
   "name": "python",
   "nbconvert_exporter": "python",
   "pygments_lexer": "ipython3",
   "version": "3.9.18"
  }
 },
 "nbformat": 4,
 "nbformat_minor": 2
}
