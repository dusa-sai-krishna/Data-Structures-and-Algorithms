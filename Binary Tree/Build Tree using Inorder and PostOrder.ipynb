{
 "cells": [
  {
   "cell_type": "code",
   "execution_count": 1,
   "id": "2a5dc82c",
   "metadata": {},
   "outputs": [],
   "source": [
    "import queue\n",
    "\n",
    "class BinaryTreeNode:\n",
    "    \n",
    "    def __init__(self,data):\n",
    "        self.data=data\n",
    "        self.left=None\n",
    "        self.right=None\n",
    "    \n",
    "def printBT(root):\n",
    "    if root is None:\n",
    "        return \n",
    "    print(\"{}:\".format(root.data),end=\"\")\n",
    "    if root.left!=None:\n",
    "        print(\"L-{},\".format(root.left.data),end=\"\")\n",
    "    if root.right!=None:\n",
    "        print(\"R-{}\".format(root.right.data),end=\"\")\n",
    "    print()\n",
    "    printBT(root.left)\n",
    "    printBT(root.right)\n",
    "\n",
    "    \n",
    "def numNodes(root):\n",
    "    if root is None:\n",
    "        return 0\n",
    "    leftcount=numNodes(root.left)\n",
    "    rightcount=numNodes(root.right)\n",
    "    return leftcount+rightcount+1\n",
    "\n",
    "def takeLevelWiseInput():\n",
    "    #Create a queue\n",
    "    q=queue.Queue()\n",
    "    #Take Root Input\n",
    "    rootData=int(input(\"Enter the root data:\"))\n",
    "    #check whether its -1\n",
    "    if rootData==-1:\n",
    "        return None\n",
    "    root=BinaryTreeNode(rootData)\n",
    "    #place it in queue\n",
    "    q.put(root)\n",
    "    #Create a while loop until queue is empty\n",
    "    while (not(q.empty())):\n",
    "        currentNode=q.get()\n",
    "    #Take leftChild Data\n",
    "        print(\"Enter the left Child data for the node {}:\".format(currentNode.data))\n",
    "        leftChildData=int(input())\n",
    "        if leftChildData!=-1:\n",
    "            leftChild=BinaryTreeNode(leftChildData)\n",
    "            currentNode.left=leftChild\n",
    "            q.put(leftChild)\n",
    "    #Take RightChild Data\n",
    "        print(\"Enter the right Child data for the node {}:\".format(currentNode.data))\n",
    "        rightChildData=int(input())\n",
    "        if rightChildData!=-1:\n",
    "            rightChild=BinaryTreeNode(rightChildData)\n",
    "            currentNode.right=rightChild\n",
    "            q.put(rightChild)\n",
    "    return root  \n",
    "            \n",
    "            \n",
    "def levelWisePrintBT(root):\n",
    "    #Create a Queue\n",
    "    q=queue.Queue()\n",
    "    #Check whether root is not None\n",
    "    if root is None:\n",
    "        return None\n",
    "    #put root into queue\n",
    "    q.put(root)\n",
    "    #Create a While loop\n",
    "    while (not(q.empty())):\n",
    "        currentNode=q.get()\n",
    "        print(\"{}:\".format(currentNode.data),end=\"\")\n",
    "    #print left child\n",
    "        leftChild=currentNode.left\n",
    "        if leftChild is not None:\n",
    "            q.put(leftChild)\n",
    "            ld=leftChild.data\n",
    "            print(\"L{},\".format(ld),end=\"\")\n",
    "    #print right child\n",
    "        rightChild=currentNode.right\n",
    "        if rightChild is not None:\n",
    "            q.put(rightChild)\n",
    "            rd=rightChild.data\n",
    "            print(\"R{}\".format(rd),end=\"\")\n",
    "        print()"
   ]
  },
  {
   "cell_type": "code",
   "execution_count": 2,
   "id": "3c3c2e76",
   "metadata": {},
   "outputs": [],
   "source": [
    "def buildTree(postOrder, inOrder, n) :\n",
    "\t#Your code goes here\n",
    "    if n==0:\n",
    "        return None\n",
    "    #Find rootData and create a root\n",
    "    rootData=postOrder[-1]\n",
    "    root=BinaryTreeNode(rootData)\\\n",
    "    #Find root node at Inorder\n",
    "    rootIndexAtInOrder=inOrder.index(rootData)\n",
    "    leftInOrder=inOrder[:rootIndexAtInOrder]\n",
    "    rightInOrder=inOrder[rootIndexAtInOrder+1:]\n",
    "    lenLeftSubTree=len(leftInOrder)\n",
    "    leftPostOrder=postOrder[:lenLeftSubTree]\n",
    "    rightPostOrder=postOrder[lenLeftSubTree:len(postOrder)-1]\n",
    "    leftChild=buildTree(leftPostOrder,leftInOrder,len(leftPostOrder))\n",
    "    rightChild = buildTree(rightPostOrder,rightInOrder, len(rightPostOrder))\n",
    "    root.left=leftChild\n",
    "    root.right=rightChild\n",
    "    return root"
   ]
  },
  {
   "cell_type": "code",
   "execution_count": 3,
   "id": "044cef0a",
   "metadata": {},
   "outputs": [
    {
     "name": "stdout",
     "output_type": "stream",
     "text": [
      "1\n",
      "2\n"
     ]
    },
    {
     "ename": "ValueError",
     "evalue": "1 is not in list",
     "output_type": "error",
     "traceback": [
      "\u001b[1;31m---------------------------------------------------------------------------\u001b[0m",
      "\u001b[1;31mValueError\u001b[0m                                Traceback (most recent call last)",
      "\u001b[1;32m~\\AppData\\Local\\Temp\\ipykernel_1228\\2567005349.py\u001b[0m in \u001b[0;36m<module>\u001b[1;34m\u001b[0m\n\u001b[0;32m      1\u001b[0m \u001b[0mpostOrder\u001b[0m\u001b[1;33m=\u001b[0m\u001b[1;33m[\u001b[0m\u001b[0mint\u001b[0m\u001b[1;33m(\u001b[0m\u001b[0mi\u001b[0m\u001b[1;33m)\u001b[0m \u001b[1;32mfor\u001b[0m \u001b[0mi\u001b[0m \u001b[1;32min\u001b[0m \u001b[0minput\u001b[0m\u001b[1;33m(\u001b[0m\u001b[1;33m)\u001b[0m\u001b[1;33m.\u001b[0m\u001b[0msplit\u001b[0m\u001b[1;33m(\u001b[0m\u001b[1;33m)\u001b[0m\u001b[1;33m]\u001b[0m\u001b[1;33m\u001b[0m\u001b[1;33m\u001b[0m\u001b[0m\n\u001b[0;32m      2\u001b[0m \u001b[0minOrder\u001b[0m\u001b[1;33m=\u001b[0m\u001b[1;33m[\u001b[0m\u001b[0mint\u001b[0m\u001b[1;33m(\u001b[0m\u001b[0mi\u001b[0m\u001b[1;33m)\u001b[0m \u001b[1;32mfor\u001b[0m \u001b[0mi\u001b[0m \u001b[1;32min\u001b[0m \u001b[0minput\u001b[0m\u001b[1;33m(\u001b[0m\u001b[1;33m)\u001b[0m\u001b[1;33m.\u001b[0m\u001b[0msplit\u001b[0m\u001b[1;33m(\u001b[0m\u001b[1;33m)\u001b[0m\u001b[1;33m]\u001b[0m\u001b[1;33m\u001b[0m\u001b[1;33m\u001b[0m\u001b[0m\n\u001b[1;32m----> 3\u001b[1;33m \u001b[0mroot\u001b[0m\u001b[1;33m=\u001b[0m\u001b[0mbuildTree\u001b[0m\u001b[1;33m(\u001b[0m\u001b[0mpostOrder\u001b[0m\u001b[1;33m,\u001b[0m\u001b[0minOrder\u001b[0m\u001b[1;33m,\u001b[0m\u001b[0mlen\u001b[0m\u001b[1;33m(\u001b[0m\u001b[0mpostOrder\u001b[0m\u001b[1;33m)\u001b[0m\u001b[1;33m)\u001b[0m\u001b[1;33m\u001b[0m\u001b[1;33m\u001b[0m\u001b[0m\n\u001b[0m\u001b[0;32m      4\u001b[0m \u001b[0mlevelWisePrintBT\u001b[0m\u001b[1;33m(\u001b[0m\u001b[0mroot\u001b[0m\u001b[1;33m)\u001b[0m\u001b[1;33m\u001b[0m\u001b[1;33m\u001b[0m\u001b[0m\n",
      "\u001b[1;32m~\\AppData\\Local\\Temp\\ipykernel_1228\\2305408752.py\u001b[0m in \u001b[0;36mbuildTree\u001b[1;34m(postOrder, inOrder, n)\u001b[0m\n\u001b[0;32m      7\u001b[0m     \u001b[0mroot\u001b[0m\u001b[1;33m=\u001b[0m\u001b[0mBinaryTreeNode\u001b[0m\u001b[1;33m(\u001b[0m\u001b[0mrootData\u001b[0m\u001b[1;33m)\u001b[0m\u001b[0;31m\\\u001b[0m\u001b[1;33m\u001b[0m\u001b[1;33m\u001b[0m\u001b[0m\n\u001b[0;32m      8\u001b[0m     \u001b[1;31m#Find root node at Inorder\u001b[0m\u001b[1;33m\u001b[0m\u001b[1;33m\u001b[0m\u001b[0m\n\u001b[1;32m----> 9\u001b[1;33m     \u001b[0mrootIndexAtInOrder\u001b[0m\u001b[1;33m=\u001b[0m\u001b[0minOrder\u001b[0m\u001b[1;33m.\u001b[0m\u001b[0mindex\u001b[0m\u001b[1;33m(\u001b[0m\u001b[0mrootData\u001b[0m\u001b[1;33m)\u001b[0m\u001b[1;33m\u001b[0m\u001b[1;33m\u001b[0m\u001b[0m\n\u001b[0m\u001b[0;32m     10\u001b[0m     \u001b[0mleftInOrder\u001b[0m\u001b[1;33m=\u001b[0m\u001b[0minOrder\u001b[0m\u001b[1;33m[\u001b[0m\u001b[1;33m:\u001b[0m\u001b[0mrootIndexAtInOrder\u001b[0m\u001b[1;33m]\u001b[0m\u001b[1;33m\u001b[0m\u001b[1;33m\u001b[0m\u001b[0m\n\u001b[0;32m     11\u001b[0m     \u001b[0mrightInOrder\u001b[0m\u001b[1;33m=\u001b[0m\u001b[0minOrder\u001b[0m\u001b[1;33m[\u001b[0m\u001b[0mrootIndexAtInOrder\u001b[0m\u001b[1;33m+\u001b[0m\u001b[1;36m1\u001b[0m\u001b[1;33m:\u001b[0m\u001b[1;33m]\u001b[0m\u001b[1;33m\u001b[0m\u001b[1;33m\u001b[0m\u001b[0m\n",
      "\u001b[1;31mValueError\u001b[0m: 1 is not in list"
     ]
    }
   ],
   "source": [
    "postOrder=[int(i) for i in input().split()]\n",
    "inOrder=[int(i) for i in input().split()]\n",
    "root=buildTree(postOrder,inOrder,len(postOrder))\n",
    "levelWisePrintBT(root)"
   ]
  },
  {
   "cell_type": "code",
   "execution_count": null,
   "id": "8f2df972",
   "metadata": {},
   "outputs": [],
   "source": []
  }
 ],
 "metadata": {
  "kernelspec": {
   "display_name": "Python 3 (ipykernel)",
   "language": "python",
   "name": "python3"
  },
  "language_info": {
   "codemirror_mode": {
    "name": "ipython",
    "version": 3
   },
   "file_extension": ".py",
   "mimetype": "text/x-python",
   "name": "python",
   "nbconvert_exporter": "python",
   "pygments_lexer": "ipython3",
   "version": "3.9.13"
  }
 },
 "nbformat": 4,
 "nbformat_minor": 5
}
