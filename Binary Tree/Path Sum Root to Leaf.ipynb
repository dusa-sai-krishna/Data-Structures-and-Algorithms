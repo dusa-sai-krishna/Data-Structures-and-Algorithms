{
 "cells": [
  {
   "cell_type": "code",
   "execution_count": 1,
   "id": "646adab4",
   "metadata": {},
   "outputs": [],
   "source": [
    "import queue\n",
    "\n",
    "class BinaryTreeNode:\n",
    "    \n",
    "    def __init__(self,data):\n",
    "        self.data=data\n",
    "        self.left=None\n",
    "        self.right=None\n",
    "    \n",
    "def printBT(root):\n",
    "    if root is None:\n",
    "        return \n",
    "    print(\"{}:\".format(root.data),end=\"\")\n",
    "    if root.left!=None:\n",
    "        print(\"L-{},\".format(root.left.data),end=\"\")\n",
    "    if root.right!=None:\n",
    "        print(\"R-{}\".format(root.right.data),end=\"\")\n",
    "    print()\n",
    "    printBT(root.left)\n",
    "    printBT(root.right)\n",
    "\n",
    "    \n",
    "def numNodes(root):\n",
    "    if root is None:\n",
    "        return 0\n",
    "    leftcount=numNodes(root.left)\n",
    "    rightcount=numNodes(root.right)\n",
    "    return leftcount+rightcount+1\n",
    "\n",
    "def takeLevelWiseInput():\n",
    "    #Create a queue\n",
    "    q=queue.Queue()\n",
    "    #Take Root Input\n",
    "    rootData=int(input(\"Enter the root data:\"))\n",
    "    #check whether its -1\n",
    "    if rootData==-1:\n",
    "        return None\n",
    "    root=BinaryTreeNode(rootData)\n",
    "    #place it in queue\n",
    "    q.put(root)\n",
    "    #Create a while loop until queue is empty\n",
    "    while (not(q.empty())):\n",
    "        currentNode=q.get()\n",
    "    #Take leftChild Data\n",
    "        print(\"Enter the left Child data for the node {}:\".format(currentNode.data))\n",
    "        leftChildData=int(input())\n",
    "        if leftChildData!=-1:\n",
    "            leftChild=BinaryTreeNode(leftChildData)\n",
    "            currentNode.left=leftChild\n",
    "            q.put(leftChild)\n",
    "    #Take RightChild Data\n",
    "        print(\"Enter the right Child data for the node {}:\".format(currentNode.data))\n",
    "        rightChildData=int(input())\n",
    "        if rightChildData!=-1:\n",
    "            rightChild=BinaryTreeNode(rightChildData)\n",
    "            currentNode.right=rightChild\n",
    "            q.put(rightChild)\n",
    "    return root  \n",
    "            \n",
    "            \n",
    "def levelWisePrintBT(root):\n",
    "    #Create a Queue\n",
    "    q=queue.Queue()\n",
    "    #Check whether root is not None\n",
    "    if root is None:\n",
    "        return None\n",
    "    #put root into queue\n",
    "    q.put(root)\n",
    "    #Create a While loop\n",
    "    while (not(q.empty())):\n",
    "        currentNode=q.get()\n",
    "        print(\"{}:\".format(currentNode.data),end=\"\")\n",
    "    #print left child\n",
    "        leftChild=currentNode.left\n",
    "        if leftChild is not None:\n",
    "            q.put(leftChild)\n",
    "            ld=leftChild.data\n",
    "            print(\"L{},\".format(ld),end=\"\")\n",
    "    #print right child\n",
    "        rightChild=currentNode.right\n",
    "        if rightChild is not None:\n",
    "            q.put(rightChild)\n",
    "            rd=rightChild.data\n",
    "            print(\"R{}\".format(rd),end=\"\")\n",
    "        print()"
   ]
  },
  {
   "cell_type": "code",
   "execution_count": 2,
   "id": "0984ce4f",
   "metadata": {},
   "outputs": [],
   "source": [
    "def rootToLeafPathsSumToK(root, k,ans=\"\"):\n",
    "\t#Your code goes here\n",
    "    if root is None or k==0:\n",
    "        return None\n",
    "    if root.left is None and root.right is None:\n",
    "        if root.data==k:\n",
    "            ans=ans+str(root.data)\n",
    "            print(ans)\n",
    "    \n",
    "        return None\n",
    "    ans=ans+str(root.data)+\" \"\n",
    "    rootToLeafPathsSumToK(root.left,k-root.data,ans)\n",
    "    rootToLeafPathsSumToK(root.right,k-root.data,ans)\n"
   ]
  },
  {
   "cell_type": "code",
   "execution_count": 5,
   "id": "82d7e76e",
   "metadata": {},
   "outputs": [
    {
     "name": "stdout",
     "output_type": "stream",
     "text": [
      "Enter the root data:5\n",
      "Enter the left Child data for the node 5:\n",
      "6\n",
      "Enter the right Child data for the node 5:\n",
      "10\n",
      "Enter the left Child data for the node 6:\n",
      "2\n",
      "Enter the right Child data for the node 6:\n",
      "3\n",
      "Enter the left Child data for the node 10:\n",
      "-1\n",
      "Enter the right Child data for the node 10:\n",
      "-1\n",
      "Enter the left Child data for the node 2:\n",
      "-1\n",
      "Enter the right Child data for the node 2:\n",
      "-1\n",
      "Enter the left Child data for the node 3:\n",
      "-1\n",
      "Enter the right Child data for the node 3:\n",
      "9\n",
      "Enter the left Child data for the node 9:\n",
      "-1\n",
      "Enter the right Child data for the node 9:\n",
      "-1\n",
      "5:L6,R10\n",
      "6:L2,R3\n",
      "10:\n",
      "2:\n",
      "3:R9\n",
      "9:\n"
     ]
    },
    {
     "data": {
      "text/plain": [
       "23"
      ]
     },
     "execution_count": 5,
     "metadata": {},
     "output_type": "execute_result"
    }
   ],
   "source": [
    "root=takeLevelWiseInput()\n",
    "levelWisePrintBT(root)\n",
    "#5 6 10 2 3 -1 -1 -1 -1 -1 9 -1 -1\n",
    "#23"
   ]
  },
  {
   "cell_type": "code",
   "execution_count": 6,
   "id": "3b4e1b03",
   "metadata": {},
   "outputs": [
    {
     "name": "stdout",
     "output_type": "stream",
     "text": [
      "5 6 3 9\n"
     ]
    }
   ],
   "source": [
    "rootToLeafPathsSumToK(root,23,ans=\"\")"
   ]
  },
  {
   "cell_type": "code",
   "execution_count": null,
   "id": "314dfa76",
   "metadata": {},
   "outputs": [],
   "source": []
  }
 ],
 "metadata": {
  "kernelspec": {
   "display_name": "Python 3 (ipykernel)",
   "language": "python",
   "name": "python3"
  },
  "language_info": {
   "codemirror_mode": {
    "name": "ipython",
    "version": 3
   },
   "file_extension": ".py",
   "mimetype": "text/x-python",
   "name": "python",
   "nbconvert_exporter": "python",
   "pygments_lexer": "ipython3",
   "version": "3.9.13"
  }
 },
 "nbformat": 4,
 "nbformat_minor": 5
}
