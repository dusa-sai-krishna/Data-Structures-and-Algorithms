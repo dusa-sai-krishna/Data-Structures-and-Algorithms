{
 "cells": [
  {
   "cell_type": "code",
   "execution_count": 1,
   "id": "c2a3274f",
   "metadata": {},
   "outputs": [],
   "source": [
    "class BinaryTreeNode:\n",
    "    \n",
    "    def __init__(self,data):\n",
    "        self.data=data\n",
    "        self.left=None\n",
    "        self.right=None\n",
    "    \n",
    "def printBT(root):\n",
    "    if root is None:\n",
    "        return \n",
    "    print(\"{}:\".format(root.data),end=\"\")\n",
    "    if root.left!=None:\n",
    "        print(\"L-{},\".format(root.left.data),end=\"\")\n",
    "    if root.right!=None:\n",
    "        print(\"R-{}\".format(root.right.data),end=\"\")\n",
    "    print()\n",
    "    printBT(root.left)\n",
    "    printBT(root.right)\n",
    "    \n",
    "    \n",
    "def bTInput():\n",
    "    rootData=int(input())\n",
    "    if rootData==-1:\n",
    "        return None\n",
    "    root=BinaryTreeNode(rootData)\n",
    "    leftTree=bTInput()\n",
    "    rightTree=bTInput()\n",
    "    root.left=leftTree\n",
    "    root.right=rightTree\n",
    "    return root\n",
    "\n",
    "def numNodes(root):\n",
    "    if root is None:\n",
    "        return 0\n",
    "    leftcount=numNodes(root.left)\n",
    "    rightcount=numNodes(root.right)\n",
    "    return leftcount+rightcount+1\n",
    "\n"
   ]
  },
  {
   "cell_type": "code",
   "execution_count": 2,
   "id": "12416d15",
   "metadata": {},
   "outputs": [],
   "source": [
    "def mirrorBT(root):\n",
    "    if root is None:\n",
    "        return None\n",
    "    mirrorBT(root.left)\n",
    "    mirrorBT(root.right)\n",
    "    root.left,root.right=root.right,root.left"
   ]
  },
  {
   "cell_type": "code",
   "execution_count": 3,
   "id": "9cc53aba",
   "metadata": {},
   "outputs": [
    {
     "name": "stdout",
     "output_type": "stream",
     "text": [
      "1\n",
      "2\n",
      "-1\n",
      "-1\n",
      "3\n",
      "-1\n",
      "-1\n",
      "1:L-2,R-3\n",
      "2:\n",
      "3:\n"
     ]
    }
   ],
   "source": [
    "root=bTInput()\n",
    "printBT(root)"
   ]
  },
  {
   "cell_type": "code",
   "execution_count": 4,
   "id": "13288d52",
   "metadata": {},
   "outputs": [],
   "source": [
    "mirrorBT(root)"
   ]
  },
  {
   "cell_type": "code",
   "execution_count": 5,
   "id": "0ba339d6",
   "metadata": {},
   "outputs": [
    {
     "name": "stdout",
     "output_type": "stream",
     "text": [
      "1:L-3,R-2\n",
      "3:\n",
      "2:\n"
     ]
    }
   ],
   "source": [
    "printBT(root)"
   ]
  },
  {
   "cell_type": "code",
   "execution_count": null,
   "id": "c58c2c80",
   "metadata": {},
   "outputs": [],
   "source": []
  }
 ],
 "metadata": {
  "kernelspec": {
   "display_name": "Python 3 (ipykernel)",
   "language": "python",
   "name": "python3"
  },
  "language_info": {
   "codemirror_mode": {
    "name": "ipython",
    "version": 3
   },
   "file_extension": ".py",
   "mimetype": "text/x-python",
   "name": "python",
   "nbconvert_exporter": "python",
   "pygments_lexer": "ipython3",
   "version": "3.9.13"
  }
 },
 "nbformat": 4,
 "nbformat_minor": 5
}
