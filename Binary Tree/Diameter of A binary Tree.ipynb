{
 "cells": [
  {
   "cell_type": "code",
   "execution_count": 1,
   "id": "dee847a0",
   "metadata": {},
   "outputs": [],
   "source": [
    "class BinaryTreeNode:\n",
    "    \n",
    "    def __init__(self,data):\n",
    "        self.data=data\n",
    "        self.left=None\n",
    "        self.right=None\n",
    "    \n",
    "def printBT(root):\n",
    "    if root is None:\n",
    "        return \n",
    "    print(\"{}:\".format(root.data),end=\"\")\n",
    "    if root.left!=None:\n",
    "        print(\"L-{},\".format(root.left.data),end=\"\")\n",
    "    if root.right!=None:\n",
    "        print(\"R-{}\".format(root.right.data),end=\"\")\n",
    "    print()\n",
    "    printBT(root.left)\n",
    "    printBT(root.right)\n",
    "    \n",
    "    \n",
    "def bTInput():\n",
    "    rootData=int(input())\n",
    "    if rootData==-1:\n",
    "        return None\n",
    "    root=BinaryTreeNode(rootData)\n",
    "    leftTree=bTInput()\n",
    "    rightTree=bTInput()\n",
    "    root.left=leftTree\n",
    "    root.right=rightTree\n",
    "    return root\n",
    "\n",
    "def numNodes(root):\n",
    "    if root is None:\n",
    "        return 0\n",
    "    leftcount=numNodes(root.left)\n",
    "    rightcount=numNodes(root.right)\n",
    "    return leftcount+rightcount+1\n",
    "\n",
    "def height(root):\n",
    "    if root is None:\n",
    "        return 0\n",
    "    leftHeight=height(root.left)\n",
    "    rightHeight=height(root.right)\n",
    "    return leftHeight+rightHeight+1"
   ]
  },
  {
   "cell_type": "code",
   "execution_count": 2,
   "id": "3915399b",
   "metadata": {},
   "outputs": [],
   "source": [
    "def diameterOfBT(root):\n",
    "    if root is None:\n",
    "        return 0\n",
    "    #find heights\n",
    "    lh=height(root.left)\n",
    "    rh=height(root.right)\n",
    "    d=lh+h+1\n",
    "    ld=diameterOfBT(root.left)\n",
    "    rd=diameterOfBT(root.right)\n",
    "    return max(d,ld,rd)"
   ]
  },
  {
   "cell_type": "code",
   "execution_count": 3,
   "id": "b3e073ff",
   "metadata": {},
   "outputs": [],
   "source": [
    "#Optimized Code\n",
    "def heightAndDiameterOfBT(root):\n",
    "    if root is None:\n",
    "        return 0,0\n",
    "    lh,ld=heightAndDiameterOfBT(root.left)\n",
    "    rh,rd=heightAndDiameterOfBT(root.right)\n",
    "    d=lh+rh+1\n",
    "    height=max(lh,rh)+1\n",
    "    return height,max(d,ld,rd)"
   ]
  },
  {
   "cell_type": "code",
   "execution_count": null,
   "id": "00a1e28d",
   "metadata": {},
   "outputs": [],
   "source": []
  }
 ],
 "metadata": {
  "kernelspec": {
   "display_name": "Python 3 (ipykernel)",
   "language": "python",
   "name": "python3"
  },
  "language_info": {
   "codemirror_mode": {
    "name": "ipython",
    "version": 3
   },
   "file_extension": ".py",
   "mimetype": "text/x-python",
   "name": "python",
   "nbconvert_exporter": "python",
   "pygments_lexer": "ipython3",
   "version": "3.9.13"
  }
 },
 "nbformat": 4,
 "nbformat_minor": 5
}
