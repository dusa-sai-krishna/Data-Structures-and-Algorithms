{
 "cells": [
  {
   "cell_type": "code",
   "execution_count": 1,
   "id": "483e7fe7",
   "metadata": {},
   "outputs": [],
   "source": [
    "import queue\n",
    "\n",
    "class BinaryTreeNode:\n",
    "    \n",
    "    def __init__(self,data):\n",
    "        self.data=data\n",
    "        self.left=None\n",
    "        self.right=None\n",
    "    \n",
    "def printBT(root):\n",
    "    if root is None:\n",
    "        return \n",
    "    print(\"{}:\".format(root.data),end=\"\")\n",
    "    if root.left!=None:\n",
    "        print(\"L-{},\".format(root.left.data),end=\"\")\n",
    "    if root.right!=None:\n",
    "        print(\"R-{}\".format(root.right.data),end=\"\")\n",
    "    print()\n",
    "    printBT(root.left)\n",
    "    printBT(root.right)\n",
    "\n",
    "    \n",
    "def numNodes(root):\n",
    "    if root is None:\n",
    "        return 0\n",
    "    leftcount=numNodes(root.left)\n",
    "    rightcount=numNodes(root.right)\n",
    "    return leftcount+rightcount+1\n",
    "\n",
    "def takeLevelWiseInput():\n",
    "    #Create a queue\n",
    "    q=queue.Queue()\n",
    "    #Take Root Input\n",
    "    rootData=int(input(\"Enter the root data:\"))\n",
    "    #check whether its -1\n",
    "    if rootData==-1:\n",
    "        return None\n",
    "    root=BinaryTreeNode(rootData)\n",
    "    #place it in queue\n",
    "    q.put(root)\n",
    "    #Create a while loop until queue is empty\n",
    "    while (not(q.empty())):\n",
    "        currentNode=q.get()\n",
    "    #Take leftChild Data\n",
    "        print(\"Enter the left Child data for the node {}:\".format(currentNode.data))\n",
    "        leftChildData=int(input())\n",
    "        if leftChildData!=-1:\n",
    "            leftChild=BinaryTreeNode(leftChildData)\n",
    "            currentNode.left=leftChild\n",
    "            q.put(leftChild)\n",
    "    #Take RightChild Data\n",
    "        print(\"Enter the right Child data for the node {}:\".format(currentNode.data))\n",
    "        rightChildData=int(input())\n",
    "        if rightChildData!=-1:\n",
    "            rightChild=BinaryTreeNode(rightChildData)\n",
    "            currentNode.right=rightChild\n",
    "            q.put(rightChild)\n",
    "    return root  \n",
    "            \n",
    "            \n",
    "def levelWisePrintBT(root):\n",
    "    #Create a Queue\n",
    "    q=queue.Queue()\n",
    "    #Check whether root is not None\n",
    "    if root is None:\n",
    "        return None\n",
    "    #put root into queue\n",
    "    q.put(root)\n",
    "    #Create a While loop\n",
    "    while (not(q.empty())):\n",
    "        currentNode=q.get()\n",
    "        print(\"{}:\".format(currentNode.data),end=\"\")\n",
    "    #print left child\n",
    "        leftChild=currentNode.left\n",
    "        if leftChild is not None:\n",
    "            q.put(leftChild)\n",
    "            ld=leftChild.data\n",
    "            print(\"L{},\".format(ld),end=\"\")\n",
    "    #print right child\n",
    "        rightChild=currentNode.right\n",
    "        if rightChild is not None:\n",
    "            q.put(rightChild)\n",
    "            rd=rightChild.data\n",
    "            print(\"R{}\".format(rd),end=\"\")\n",
    "        print()"
   ]
  },
  {
   "cell_type": "code",
   "execution_count": 9,
   "id": "2bdc3098",
   "metadata": {},
   "outputs": [],
   "source": [
    "def printNodeToRoot(root,x):\n",
    "    if root is None:\n",
    "        return None\n",
    "    if root.data==x:\n",
    "        lst=[root.data]\n",
    "        return lst\n",
    "    #Calling on left subTree\n",
    "    leftlst=printNodeToRoot(root.left,x)\n",
    "    if leftlst is not None:\n",
    "        leftlst.append(root.data)\n",
    "        return leftlst\n",
    "    #Calling on right subTree\n",
    "    rightlst=printNodeToRoot(root.right,x)\n",
    "    if rightlst is not None:\n",
    "        rightlst.append(root.data)\n",
    "        return rightlst\n",
    "    if leftlst is None and rightlst is None:\n",
    "        return None"
   ]
  },
  {
   "cell_type": "code",
   "execution_count": 3,
   "id": "0bb18a3c",
   "metadata": {},
   "outputs": [
    {
     "name": "stdout",
     "output_type": "stream",
     "text": [
      "Enter the root data:1\n",
      "Enter the left Child data for the node 1:\n",
      "2\n",
      "Enter the right Child data for the node 1:\n",
      "3\n",
      "Enter the left Child data for the node 2:\n",
      "4\n",
      "Enter the right Child data for the node 2:\n",
      "5\n",
      "Enter the left Child data for the node 3:\n",
      "6\n",
      "Enter the right Child data for the node 3:\n",
      "7\n",
      "Enter the left Child data for the node 4:\n",
      "-1\n",
      "Enter the right Child data for the node 4:\n",
      "-1\n",
      "Enter the left Child data for the node 5:\n",
      "-1\n",
      "Enter the right Child data for the node 5:\n",
      "-1\n",
      "Enter the left Child data for the node 6:\n",
      "-1\n",
      "Enter the right Child data for the node 6:\n",
      "-1\n",
      "Enter the left Child data for the node 7:\n",
      "-1\n",
      "Enter the right Child data for the node 7:\n",
      "-1\n",
      "1:L2,R3\n",
      "2:L4,R5\n",
      "3:L6,R7\n",
      "4:\n",
      "5:\n",
      "6:\n",
      "7:\n"
     ]
    }
   ],
   "source": [
    "root=takeLevelWiseInput()\n",
    "levelWisePrintBT(root)"
   ]
  },
  {
   "cell_type": "code",
   "execution_count": 11,
   "id": "a3b109f6",
   "metadata": {},
   "outputs": [
    {
     "data": {
      "text/plain": [
       "[7, 3, 1]"
      ]
     },
     "execution_count": 11,
     "metadata": {},
     "output_type": "execute_result"
    }
   ],
   "source": [
    "printNodeToRoot(root,7)"
   ]
  },
  {
   "cell_type": "code",
   "execution_count": null,
   "id": "5d2e8596",
   "metadata": {},
   "outputs": [],
   "source": []
  }
 ],
 "metadata": {
  "kernelspec": {
   "display_name": "Python 3 (ipykernel)",
   "language": "python",
   "name": "python3"
  },
  "language_info": {
   "codemirror_mode": {
    "name": "ipython",
    "version": 3
   },
   "file_extension": ".py",
   "mimetype": "text/x-python",
   "name": "python",
   "nbconvert_exporter": "python",
   "pygments_lexer": "ipython3",
   "version": "3.9.13"
  }
 },
 "nbformat": 4,
 "nbformat_minor": 5
}
