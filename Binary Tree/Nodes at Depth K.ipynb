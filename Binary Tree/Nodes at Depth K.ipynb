{
 "cells": [
  {
   "cell_type": "code",
   "execution_count": 1,
   "id": "200dd133",
   "metadata": {},
   "outputs": [],
   "source": [
    "class BinaryTreeNode:\n",
    "    \n",
    "    def __init__(self,data):\n",
    "        self.data=data\n",
    "        self.left=None\n",
    "        self.right=None\n",
    "    \n",
    "def printBT(root):\n",
    "    if root is None:\n",
    "        return \n",
    "    print(\"{}:\".format(root.data),end=\"\")\n",
    "    if root.left!=None:\n",
    "        print(\"L-{},\".format(root.left.data),end=\"\")\n",
    "    if root.right!=None:\n",
    "        print(\"R-{}\".format(root.right.data),end=\"\")\n",
    "    print()\n",
    "    printBT(root.left)\n",
    "    printBT(root.right)\n",
    "    \n",
    "    \n",
    "def bTInput():\n",
    "    rootData=int(input())\n",
    "    if rootData==-1:\n",
    "        return None\n",
    "    root=BinaryTreeNode(rootData)\n",
    "    leftTree=bTInput()\n",
    "    rightTree=bTInput()\n",
    "    root.left=leftTree\n",
    "    root.right=rightTree\n",
    "    return root\n",
    "\n",
    "def numNodes(root):\n",
    "    if root is None:\n",
    "        return 0\n",
    "    leftcount=numNodes(root.left)\n",
    "    rightcount=numNodes(root.right)\n",
    "    return leftcount+rightcount+1\n",
    "\n"
   ]
  },
  {
   "cell_type": "code",
   "execution_count": 2,
   "id": "00d5d1a7",
   "metadata": {},
   "outputs": [],
   "source": [
    "def nodesAtDepthK(root,k):\n",
    "    if root is None:\n",
    "        return\n",
    "    if k==0:\n",
    "        print(root.data)\n",
    "    nodesAtDepthK(root.left,k-1)\n",
    "    nodesAtDepthK(root.right,k-1)\n",
    "    \n",
    "    \n",
    "def nodesAtDepthKIncreamenting(root,k,d=0):\n",
    "    if root is None:\n",
    "        return\n",
    "    if k==d:\n",
    "        print(root.data)\n",
    "    nodesAtDepthKIncreamenting(root.left,k,d+1)\n",
    "    nodesAtDepthKIncreamenting(root.right,k,d+1)\n",
    "    "
   ]
  },
  {
   "cell_type": "code",
   "execution_count": 3,
   "id": "fc8d0a84",
   "metadata": {},
   "outputs": [
    {
     "name": "stdout",
     "output_type": "stream",
     "text": [
      "1\n",
      "2\n",
      "-1\n",
      "-1\n",
      "3\n",
      "-1\n",
      "-1\n",
      "1:L-2,R-3\n",
      "2:\n",
      "3:\n"
     ]
    }
   ],
   "source": [
    "root=bTInput()\n",
    "printBT(root)"
   ]
  },
  {
   "cell_type": "code",
   "execution_count": 4,
   "id": "f2b39e5a",
   "metadata": {},
   "outputs": [
    {
     "name": "stdout",
     "output_type": "stream",
     "text": [
      "2\n",
      "3\n"
     ]
    }
   ],
   "source": [
    "nodesAtDepthK(root,1)"
   ]
  },
  {
   "cell_type": "code",
   "execution_count": 5,
   "id": "8a192e73",
   "metadata": {},
   "outputs": [
    {
     "name": "stdout",
     "output_type": "stream",
     "text": [
      "2\n",
      "3\n"
     ]
    }
   ],
   "source": [
    "nodesAtDepthKIncreamenting(root,1,0)"
   ]
  },
  {
   "cell_type": "code",
   "execution_count": null,
   "id": "8c3f908a",
   "metadata": {},
   "outputs": [],
   "source": []
  }
 ],
 "metadata": {
  "kernelspec": {
   "display_name": "Python 3 (ipykernel)",
   "language": "python",
   "name": "python3"
  },
  "language_info": {
   "codemirror_mode": {
    "name": "ipython",
    "version": 3
   },
   "file_extension": ".py",
   "mimetype": "text/x-python",
   "name": "python",
   "nbconvert_exporter": "python",
   "pygments_lexer": "ipython3",
   "version": "3.9.13"
  }
 },
 "nbformat": 4,
 "nbformat_minor": 5
}
