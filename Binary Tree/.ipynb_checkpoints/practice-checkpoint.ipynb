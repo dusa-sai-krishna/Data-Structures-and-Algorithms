{
 "cells": [
  {
   "cell_type": "markdown",
   "id": "430b3e2e",
   "metadata": {},
   "source": [
    "# Create a program which creates a binary Treeeand performs summation of its content and also prints it in in normal fashion"
   ]
  },
  {
   "cell_type": "code",
   "execution_count": 5,
   "id": "77cc5900",
   "metadata": {},
   "outputs": [],
   "source": [
    "class BinaryTreeNode:\n",
    "    \n",
    "    def __init__(self,data):\n",
    "        self.data=data\n",
    "        self.left=None\n",
    "        self.right=None\n",
    "    \n",
    "def printBT(root):\n",
    "    if root is None:\n",
    "        return \n",
    "    print(\"{}:\".format(root.data),end=\"\")\n",
    "    if root.left!=None:\n",
    "        print(\"L-{},\".format(root.left.data),end=\"\")\n",
    "    if root.right!=None:\n",
    "        print(\"R-{}\".format(root.right.data),end=\"\")\n",
    "    print()\n",
    "    printBT(root.left)\n",
    "    printBT(root.right)\n",
    "    \n",
    "    \n",
    "def bTInput():\n",
    "    rootData=int(input())\n",
    "    if rootData==-1:\n",
    "        return None\n",
    "    root=BinaryTreeNode(rootData)\n",
    "    leftTree=bTInput()\n",
    "    rightTree=bTInput()\n",
    "    root.left=leftTree\n",
    "    root.right=rightTree\n",
    "    return root\n",
    "\n",
    "def numNodes(root):\n",
    "    if root is None:\n",
    "        return 0\n",
    "    leftcount=numNodes(root.left)\n",
    "    rightcount=numNodes(root.right)\n",
    "    return leftcount+rightcount+1\n",
    "def sumNodes(root):\n",
    "    if root is None:\n",
    "        return 0\n",
    "    leftsum=sumNodes(root.left)\n",
    "    rightsum=sumNodes(root.right)\n",
    "    return leftsum+rightsum+root.data"
   ]
  },
  {
   "cell_type": "code",
   "execution_count": 7,
   "id": "7e13a295",
   "metadata": {},
   "outputs": [],
   "source": [
    "def countGreaterThanX(root,x):\n",
    "    if root is None:\n",
    "        return 0\n",
    "    left_count=countGreaterThanX(root.left,x)\n",
    "    right_count=countGreaterThanX(root.right,x)\n",
    "    if root.value>x: return left_count+right_count+1\n",
    "    return left_count+right_count"
   ]
  },
  {
   "cell_type": "code",
   "execution_count": 8,
   "id": "d3881a57",
   "metadata": {},
   "outputs": [],
   "source": [
    "def heightBT(root):\n",
    "    if root is None: return 0\n",
    "    left_height,right_height=heightBT(root.left),heightBT(root.right)\n",
    "    return max(left_height,right_height)+1"
   ]
  },
  {
   "cell_type": "code",
   "execution_count": 9,
   "id": "ef6ef28e",
   "metadata": {},
   "outputs": [],
   "source": [
    "def replaceWithDepth(root,depth):\n",
    "    if root is None:\n",
    "        return 0\n",
    "    root.value=depth\n",
    "    replaceWithDepth(root.left,depth+1)\n",
    "    replaceWithDepth(root.right,depth+1)"
   ]
  },
  {
   "cell_type": "code",
   "execution_count": 10,
   "id": "735bd9d0",
   "metadata": {},
   "outputs": [],
   "source": [
    "def removeLeafNodes(root):\n",
    "    if root is None:\n",
    "        return None\n",
    "    if root.left is None and root.right is None: return None\n",
    "    root.left,root.right=removeLeafNodes(root.left),removeLeafNodes(root.right)\n",
    "    return root"
   ]
  },
  {
   "cell_type": "code",
   "execution_count": null,
   "id": "c152c1f1",
   "metadata": {},
   "outputs": [],
   "source": [
    "def invertBT(root):\n",
    "    if root is None: return \n",
    "    root.left=invertBT(root.right)\n",
    "    root.right=invertBT(root.left)\n",
    "    return root"
   ]
  }
 ],
 "metadata": {
  "kernelspec": {
   "display_name": "Python 3 (ipykernel)",
   "language": "python",
   "name": "python3"
  },
  "language_info": {
   "codemirror_mode": {
    "name": "ipython",
    "version": 3
   },
   "file_extension": ".py",
   "mimetype": "text/x-python",
   "name": "python",
   "nbconvert_exporter": "python",
   "pygments_lexer": "ipython3",
   "version": "3.9.18"
  }
 },
 "nbformat": 4,
 "nbformat_minor": 5
}
