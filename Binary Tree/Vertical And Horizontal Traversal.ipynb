{
 "cells": [
  {
   "cell_type": "markdown",
   "metadata": {},
   "source": [
    "# Building Tree"
   ]
  },
  {
   "cell_type": "code",
   "execution_count": 23,
   "metadata": {},
   "outputs": [],
   "source": [
    "import queue\n",
    "\n",
    "class BinaryTreeNode:\n",
    "    \n",
    "    def __init__(self,data):\n",
    "        self.data=data\n",
    "        self.left=None\n",
    "        self.right=None\n",
    "        self.hd=0\n",
    "        self.level=0\n",
    "    \n",
    "def printBT(root):\n",
    "    if root is None:\n",
    "        return \n",
    "    print(\"{}:\".format(root.data),end=\"\")\n",
    "    if root.left!=None:\n",
    "        print(\"L-{},\".format(root.left.data),end=\"\")\n",
    "    if root.right!=None:\n",
    "        print(\"R-{}\".format(root.right.data),end=\"\")\n",
    "    print()\n",
    "    printBT(root.left)\n",
    "    printBT(root.right)\n",
    "\n",
    "    \n",
    "def numNodes(root):\n",
    "    if root is None:\n",
    "        return 0\n",
    "    leftcount=numNodes(root.left)\n",
    "    rightcount=numNodes(root.right)\n",
    "    return leftcount+rightcount+1\n",
    "\n",
    "def takeLevelWiseInput():\n",
    "    #Create a queue\n",
    "    q=queue.Queue()\n",
    "    #Take Root Input\n",
    "    rootData=int(input(\"Enter the root data:\"))\n",
    "    #check whether its -1\n",
    "    if rootData==-1:\n",
    "        return None\n",
    "    root=BinaryTreeNode(rootData)\n",
    "    #place it in queue\n",
    "    q.put(root)\n",
    "    #Create a while loop until queue is empty\n",
    "    while (not(q.empty())):\n",
    "        currentNode=q.get()\n",
    "    #Take leftChild Data\n",
    "        print(\"Enter the left Child data for the node {}:\".format(currentNode.data))\n",
    "        leftChildData=int(input())\n",
    "        if leftChildData!=-1:\n",
    "            leftChild=BinaryTreeNode(leftChildData)\n",
    "            currentNode.left=leftChild\n",
    "            q.put(leftChild)\n",
    "    #Take RightChild Data\n",
    "        print(\"Enter the right Child data for the node {}:\".format(currentNode.data))\n",
    "        rightChildData=int(input())\n",
    "        if rightChildData!=-1:\n",
    "            rightChild=BinaryTreeNode(rightChildData)\n",
    "            currentNode.right=rightChild\n",
    "            q.put(rightChild)\n",
    "    return root  \n",
    "            \n",
    "            \n",
    "def levelWisePrintBT(root):\n",
    "    #Create a Queue\n",
    "    q=queue.Queue()\n",
    "    #Check whether root is not None\n",
    "    if root is None:\n",
    "        return None\n",
    "    #put root into queue\n",
    "    q.put(root)\n",
    "    #Create a While loop\n",
    "    while (not(q.empty())):\n",
    "        currentNode=q.get()\n",
    "        print(\"{}:\".format(currentNode.data),end=\"\")\n",
    "    #print left child\n",
    "        leftChild=currentNode.left\n",
    "        if leftChild is not None:\n",
    "            q.put(leftChild)\n",
    "            ld=leftChild.data\n",
    "            print(\"L{},\".format(ld),end=\"\")\n",
    "    #print right child\n",
    "        rightChild=currentNode.right\n",
    "        if rightChild is not None:\n",
    "            q.put(rightChild)\n",
    "            rd=rightChild.data\n",
    "            print(\"R{}\".format(rd),end=\"\")\n",
    "        print()"
   ]
  },
  {
   "cell_type": "code",
   "execution_count": 25,
   "metadata": {},
   "outputs": [
    {
     "name": "stdout",
     "output_type": "stream",
     "text": [
      "Enter the left Child data for the node 2:\n",
      "Enter the right Child data for the node 2:\n",
      "Enter the left Child data for the node 7:\n",
      "Enter the right Child data for the node 7:\n",
      "Enter the left Child data for the node 5:\n",
      "Enter the right Child data for the node 5:\n",
      "Enter the left Child data for the node 2:\n",
      "Enter the right Child data for the node 2:\n",
      "Enter the left Child data for the node 6:\n",
      "Enter the right Child data for the node 6:\n",
      "Enter the left Child data for the node 9:\n",
      "Enter the right Child data for the node 9:\n",
      "Enter the left Child data for the node 5:\n",
      "Enter the right Child data for the node 5:\n",
      "Enter the left Child data for the node 11:\n",
      "Enter the right Child data for the node 11:\n",
      "Enter the left Child data for the node 4:\n",
      "Enter the right Child data for the node 4:\n"
     ]
    }
   ],
   "source": [
    "root=takeLevelWiseInput()"
   ]
  },
  {
   "cell_type": "code",
   "execution_count": 26,
   "metadata": {},
   "outputs": [
    {
     "name": "stdout",
     "output_type": "stream",
     "text": [
      "2:L7,R5\n",
      "7:L2,R6\n",
      "5:R9\n",
      "2:\n",
      "6:L5,R11\n",
      "9:L4,\n",
      "5:\n",
      "11:\n",
      "4:\n"
     ]
    }
   ],
   "source": [
    "levelWisePrintBT(root)"
   ]
  },
  {
   "cell_type": "markdown",
   "metadata": {},
   "source": [
    "# Vertical Traversal"
   ]
  },
  {
   "cell_type": "code",
   "execution_count": 22,
   "metadata": {},
   "outputs": [
    {
     "name": "stdout",
     "output_type": "stream",
     "text": [
      "-2:2 \n",
      "-1:7 5 \n",
      "0:2 6 \n",
      "1:5 11 4 \n",
      "2:9 \n"
     ]
    }
   ],
   "source": [
    "import collections\n",
    "\n",
    "def verticalTraversal(root):\n",
    "    hashmap=collections.defaultdict(list)\n",
    "    q=[]\n",
    "    if root!=None:\n",
    "        q.append(root)\n",
    "    else: return None\n",
    "    while len(q)!=0:\n",
    "        curr=q.pop(0)\n",
    "        hashmap[curr.hd].append(curr.data)\n",
    "        left,right=curr.left,curr.right\n",
    "        #consider left\n",
    "        if left!=None:\n",
    "            left.hd=curr.hd-1\n",
    "            q.append(left)\n",
    "        \n",
    "        if right!=None:\n",
    "            right.hd=curr.hd+1\n",
    "            q.append(right)\n",
    "    for i in sorted(hashmap.keys()):\n",
    "        print(f'{i}:',end=\"\")\n",
    "        for j in hashmap[i]:\n",
    "            print(j,end=\" \")\n",
    "        print()\n",
    "\n",
    "verticalTraversal(root)\n",
    "            "
   ]
  },
  {
   "cell_type": "markdown",
   "metadata": {},
   "source": [
    "# Level Order Traversal"
   ]
  },
  {
   "cell_type": "code",
   "execution_count": 28,
   "metadata": {},
   "outputs": [
    {
     "name": "stdout",
     "output_type": "stream",
     "text": [
      "0:2 \n",
      "1:7 5 \n",
      "2:2 6 9 \n",
      "3:5 11 4 \n"
     ]
    }
   ],
   "source": [
    "from regex import F\n",
    "\n",
    "\n",
    "def level_order_traversal(root):\n",
    "    \n",
    "    #initalize hashmpa and queue\n",
    "    hashmap=collections.defaultdict(list)\n",
    "    q=[]\n",
    "    \n",
    "    if root !=None:\n",
    "        q.append(root)\n",
    "    else: return \n",
    "    \n",
    "    while len(q)!=0:\n",
    "        \n",
    "        #get current root\n",
    "        curr=q.pop(0)\n",
    "        \n",
    "        #append to hashmap\n",
    "        hashmap[curr.level].append(curr.data)\n",
    "        \n",
    "        left,right=curr.left,curr.right\n",
    "        \n",
    "        #consider left\n",
    "        \n",
    "        if left!=None:\n",
    "            left.level=curr.level+1\n",
    "            q.append(left)\n",
    "        \n",
    "        #consider right\n",
    "        \n",
    "        if right!=None:\n",
    "            right.level=curr.level+1\n",
    "            q.append(right)\n",
    "        \n",
    "    #print level wise\n",
    "    for i in sorted(hashmap.keys()):\n",
    "        print(f'{i}:',end=\"\")\n",
    "        for j in hashmap[i]:\n",
    "            print(j,end=\" \")\n",
    "        print()\n",
    "\n",
    "\n",
    "level_order_traversal(root)\n",
    "        "
   ]
  },
  {
   "cell_type": "code",
   "execution_count": null,
   "metadata": {},
   "outputs": [],
   "source": []
  },
  {
   "cell_type": "code",
   "execution_count": null,
   "metadata": {},
   "outputs": [],
   "source": []
  }
 ],
 "metadata": {
  "kernelspec": {
   "display_name": "base",
   "language": "python",
   "name": "python3"
  },
  "language_info": {
   "codemirror_mode": {
    "name": "ipython",
    "version": 3
   },
   "file_extension": ".py",
   "mimetype": "text/x-python",
   "name": "python",
   "nbconvert_exporter": "python",
   "pygments_lexer": "ipython3",
   "version": "3.9.18"
  }
 },
 "nbformat": 4,
 "nbformat_minor": 2
}
