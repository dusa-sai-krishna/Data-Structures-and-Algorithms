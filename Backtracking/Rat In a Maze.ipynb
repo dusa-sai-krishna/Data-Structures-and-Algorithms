{
 "cells": [
  {
   "cell_type": "code",
   "execution_count": 2,
   "metadata": {},
   "outputs": [],
   "source": [
    "def helperfunc(i,j,maze,solution,n):\n",
    "    if i==n-1 and j==n-1:\n",
    "        solution[i][j]=1\n",
    "        print(solution)\n",
    "        return\n",
    "    if i<0 or i>=n or j<0 or j>=n or maze[i][j]==0 or solution[i][j]==1:\n",
    "        return \n",
    "    solution[i][j]=1\n",
    "    helperfunc(i+1,j,maze,solution,n)\n",
    "    helperfunc(i-1,j,maze,solution,n)\n",
    "    helperfunc(i,j+1,maze,solution,n)\n",
    "    helperfunc(i,j-1,maze,solution,n)\n",
    "    solution[i][j]=0\n",
    "    return "
   ]
  },
  {
   "cell_type": "code",
   "execution_count": 3,
   "metadata": {},
   "outputs": [],
   "source": [
    "def printMaze(maze):\n",
    "    n=len(maze)\n",
    "    solution=[[0 for j in range(n)] for i in range(n)]\n",
    "    helperfunc(0,0,maze,solution,n)"
   ]
  },
  {
   "cell_type": "code",
   "execution_count": 5,
   "metadata": {},
   "outputs": [
    {
     "name": "stdout",
     "output_type": "stream",
     "text": [
      "[[1, 0, 0, 0], [1, 0, 0, 0], [1, 0, 0, 0], [1, 1, 1, 1]]\n",
      "[[1, 0, 0, 0], [1, 0, 0, 0], [1, 1, 0, 0], [0, 1, 1, 1]]\n",
      "[[1, 1, 1, 0], [0, 0, 1, 1], [0, 0, 0, 1], [0, 0, 0, 1]]\n",
      "[[1, 1, 1, 1], [0, 0, 0, 1], [0, 0, 0, 1], [0, 0, 0, 1]]\n"
     ]
    }
   ],
   "source": [
    "#Driver Code\n",
    "maze=[[int(i) for i in input().split()] for i in range(4)]\n",
    "printMaze(maze)"
   ]
  },
  {
   "cell_type": "code",
   "execution_count": null,
   "metadata": {},
   "outputs": [],
   "source": []
  }
 ],
 "metadata": {
  "kernelspec": {
   "display_name": "base",
   "language": "python",
   "name": "python3"
  },
  "language_info": {
   "codemirror_mode": {
    "name": "ipython",
    "version": 3
   },
   "file_extension": ".py",
   "mimetype": "text/x-python",
   "name": "python",
   "nbconvert_exporter": "python",
   "pygments_lexer": "ipython3",
   "version": "3.9.13"
  },
  "orig_nbformat": 4
 },
 "nbformat": 4,
 "nbformat_minor": 2
}
