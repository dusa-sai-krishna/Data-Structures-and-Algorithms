{
 "cells": [
  {
   "cell_type": "code",
   "execution_count": 1,
   "id": "88fa9e75",
   "metadata": {},
   "outputs": [],
   "source": [
    "#creating nodes\n",
    "class Node:\n",
    "    def __init__(self,data):\n",
    "        self.data=data\n",
    "        self.next=None\n",
    "\n",
    "def takeInput():\n",
    "    lst=[int(i) for i in input().split()]\n",
    "    head=None\n",
    "    tail=None\n",
    "    for ele in lst:\n",
    "        if ele==-1:\n",
    "            break\n",
    "        newNode=Node(ele)\n",
    "        if head==None:\n",
    "            head=newNode\n",
    "            tail=newNode\n",
    "        else:\n",
    "            tail.next=newNode\n",
    "            tail=newNode\n",
    "    return head\n",
    "\n",
    "def printll(head):\n",
    "    curr=head\n",
    "    while curr is not None:\n",
    "        print(curr.data,end=\" \")\n",
    "        curr=curr.next\n",
    "    print(None)\n",
    "def length(head):\n",
    "    temp=head\n",
    "    count=0\n",
    "    while temp is not None:\n",
    "        count+=1\n",
    "        temp=temp.next\n",
    "    return count"
   ]
  },
  {
   "cell_type": "code",
   "execution_count": 2,
   "id": "d7b2ad26",
   "metadata": {},
   "outputs": [],
   "source": [
    "def deleteAlternateNodes(head):\n",
    "    if head is None or head.next is None:\n",
    "        return head\n",
    "    newHead=newTail=None\n",
    "    count=1\n",
    "    curr=head\n",
    "    while curr is not None:\n",
    "        if newHead==None:\n",
    "            newHead=newTail=curr\n",
    "            count+=1\n",
    "        elif count%2!=0:\n",
    "            newTail.next=curr\n",
    "            newTail=newTail.next\n",
    "            count+=1\n",
    "        else:\n",
    "            count+=1\n",
    "        curr=curr.next\n",
    "    newTail.next=None\n",
    "    head=newTail"
   ]
  },
  {
   "cell_type": "code",
   "execution_count": 3,
   "id": "9be4da10",
   "metadata": {},
   "outputs": [
    {
     "name": "stdout",
     "output_type": "stream",
     "text": [
      "1 2 3 4 5 6 -1\n"
     ]
    }
   ],
   "source": [
    "head=takeInput()"
   ]
  },
  {
   "cell_type": "code",
   "execution_count": 4,
   "id": "a888f881",
   "metadata": {},
   "outputs": [
    {
     "name": "stdout",
     "output_type": "stream",
     "text": [
      "1 2 3 4 5 6 None\n"
     ]
    }
   ],
   "source": [
    "printll(head)"
   ]
  },
  {
   "cell_type": "code",
   "execution_count": 5,
   "id": "88c8bfe9",
   "metadata": {},
   "outputs": [
    {
     "name": "stdout",
     "output_type": "stream",
     "text": [
      "1 3 5 None\n"
     ]
    }
   ],
   "source": [
    "deleteAlternateNodes(head)\n",
    "printll(head)"
   ]
  },
  {
   "cell_type": "code",
   "execution_count": null,
   "id": "f2f02792",
   "metadata": {},
   "outputs": [],
   "source": []
  },
  {
   "cell_type": "code",
   "execution_count": null,
   "id": "66c2a256",
   "metadata": {},
   "outputs": [],
   "source": []
  },
  {
   "cell_type": "code",
   "execution_count": null,
   "id": "c402d9e6",
   "metadata": {},
   "outputs": [],
   "source": []
  },
  {
   "cell_type": "code",
   "execution_count": null,
   "id": "8b0b4f7b",
   "metadata": {},
   "outputs": [],
   "source": []
  },
  {
   "cell_type": "code",
   "execution_count": null,
   "id": "8c54828d",
   "metadata": {},
   "outputs": [],
   "source": []
  },
  {
   "cell_type": "code",
   "execution_count": null,
   "id": "f0175e3d",
   "metadata": {},
   "outputs": [],
   "source": []
  }
 ],
 "metadata": {
  "kernelspec": {
   "display_name": "Python 3 (ipykernel)",
   "language": "python",
   "name": "python3"
  },
  "language_info": {
   "codemirror_mode": {
    "name": "ipython",
    "version": 3
   },
   "file_extension": ".py",
   "mimetype": "text/x-python",
   "name": "python",
   "nbconvert_exporter": "python",
   "pygments_lexer": "ipython3",
   "version": "3.9.13"
  }
 },
 "nbformat": 4,
 "nbformat_minor": 5
}
