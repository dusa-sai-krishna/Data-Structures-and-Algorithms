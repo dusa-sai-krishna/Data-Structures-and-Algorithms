{
 "cells": [
  {
   "cell_type": "code",
   "execution_count": 5,
   "metadata": {},
   "outputs": [],
   "source": [
    "\n",
    "\n",
    "\n",
    "def minStep(n):\n",
    "    if n==1:\n",
    "        return 0\n",
    "    else:\n",
    "        ans2=ans3=1000000000000\n",
    "        ans1=minStep(n-1)\n",
    "        if n%2==0:\n",
    "            ans2=minStep(n/2)\n",
    "        if n%3==0:\n",
    "            ans3=minStep(n/3)\n",
    "    return 1+min(ans1,ans2,ans3)"
   ]
  },
  {
   "cell_type": "code",
   "execution_count": 15,
   "metadata": {},
   "outputs": [],
   "source": [
    "def minStep2(n,arr):\n",
    "    if n==1 or n==0:\n",
    "        return 0\n",
    "    if arr[n]!=-1:\n",
    "        return arr[n]\n",
    "    else:\n",
    "        ans2=ans3=10000000000000000\n",
    "        if arr[n-1]!=-1:\n",
    "            ans1=arr[n-1]\n",
    "        else:\n",
    "            ans1=minStep2(n-1,arr)\n",
    "        if n%2==0:\n",
    "            if arr[n//2]!=-1:\n",
    "                ans2=arr[n//2]\n",
    "            else:\n",
    "                ans2=minStep2(n//2,arr)\n",
    "        if n%3==0:\n",
    "            if arr[n//3]!=-1:\n",
    "                ans3=arr[n//3]\n",
    "            else:\n",
    "                ans3=minStep2(n//3,arr)\n",
    "        ans=1+min(ans1,ans2,ans3)\n",
    "        arr[n]=ans\n",
    "        return ans"
   ]
  },
  {
   "cell_type": "code",
   "execution_count": 18,
   "metadata": {},
   "outputs": [],
   "source": [
    "def minStep3(n,arr):\n",
    "    if n==0 or n==1:\n",
    "        return arr[n]\n",
    "    for i in range(2,n+1):\n",
    "        ans2=ans3=1111100000000000000000000000000000\n",
    "        ans1=arr[i-1]\n",
    "        if i%2==0:\n",
    "            ans2=arr[i//2]\n",
    "        if i%3==0:\n",
    "            ans3=arr[i//3]\n",
    "        ans=1+min(ans1,ans2,ans3)\n",
    "        arr[i]=ans\n",
    "    return arr[n]"
   ]
  },
  {
   "cell_type": "code",
   "execution_count": 20,
   "metadata": {},
   "outputs": [
    {
     "name": "stdout",
     "output_type": "stream",
     "text": [
      "3\n",
      "[0, 0, 1, 1, 2, 3]\n"
     ]
    }
   ],
   "source": [
    "#DriverCode\n",
    "n=int(input(\"Enter the value\"))\n",
    "arr=[-1 for i in range(n+1)]\n",
    "arr[:2]=[0,0]\n",
    "print(minStep3(n,arr))\n",
    "print(arr)"
   ]
  },
  {
   "cell_type": "code",
   "execution_count": null,
   "metadata": {},
   "outputs": [],
   "source": []
  }
 ],
 "metadata": {
  "kernelspec": {
   "display_name": "base",
   "language": "python",
   "name": "python3"
  },
  "language_info": {
   "codemirror_mode": {
    "name": "ipython",
    "version": 3
   },
   "file_extension": ".py",
   "mimetype": "text/x-python",
   "name": "python",
   "nbconvert_exporter": "python",
   "pygments_lexer": "ipython3",
   "version": "3.9.13"
  },
  "orig_nbformat": 4
 },
 "nbformat": 4,
 "nbformat_minor": 2
}
