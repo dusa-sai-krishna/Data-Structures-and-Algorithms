{
 "cells": [
  {
   "cell_type": "code",
   "execution_count": 3,
   "metadata": {},
   "outputs": [],
   "source": [
    "def lis(arr,i,n):\n",
    "    if i==n:\n",
    "        return 0,0\n",
    "    including_max=1\n",
    "    for j in range(i+1,n):\n",
    "        if arr[j]>=arr[i]:\n",
    "            further_including_max=lis(arr,j,n)[0]\n",
    "            including_max=max(including_max,1+further_including_max)\n",
    "    overall_max=max(including_max,lis(arr,i+1,n)[1])\n",
    "    return including_max,overall_max\n",
    "    "
   ]
  },
  {
   "cell_type": "code",
   "execution_count": 4,
   "metadata": {},
   "outputs": [],
   "source": [
    "def lis2(arr,i,n,dp):\n",
    "    if i==n:\n",
    "        return 0,0\n",
    "    including_max=1\n",
    "    for j in range(i+1,n):\n",
    "        if arr[j]>=arr[i]:\n",
    "            if dp[j]!=-1:\n",
    "                further_including_max=dp[j][0]\n",
    "            else:\n",
    "                ans=lis2(arr,j,n,dp)\n",
    "                dp[j]=ans\n",
    "                further_including_max=ans[0]\n",
    "            including_max=max(including_max,1+further_including_max)\n",
    "    if dp[i+1]!=-1:\n",
    "        overall_max=dp[i+1][1]\n",
    "    else:\n",
    "        ans=lis2(arr,i+1,n,dp)\n",
    "        overall_max=ans[1]\n",
    "        dp[i+1]=ans\n",
    "    overall_max=max(including_max,lis2(arr,i+1,n,dp)[1])\n",
    "    return including_max,overall_max\n",
    "    "
   ]
  },
  {
   "cell_type": "code",
   "execution_count": 7,
   "metadata": {},
   "outputs": [],
   "source": [
    "def lis3(arr,n):\n",
    "    dp=[[0 for j in range(2)] for i in range(n+1)]\n",
    "    for i in range(n-1,-1,-1):\n",
    "        including_max=1\n",
    "        for j in range(i+1,n):\n",
    "            if arr[j]>=arr[i]:\n",
    "                including_max=max(1+dp[j][0],including_max)\n",
    "        dp[i][0]=including_max\n",
    "        excluding_max=dp[i+1][1]\n",
    "        overall_max=max(excluding_max,including_max)\n",
    "        dp[i][1]=overall_max\n",
    "    return dp[0][1]\n"
   ]
  },
  {
   "cell_type": "code",
   "execution_count": 8,
   "metadata": {},
   "outputs": [
    {
     "data": {
      "text/plain": [
       "4"
      ]
     },
     "execution_count": 8,
     "metadata": {},
     "output_type": "execute_result"
    }
   ],
   "source": [
    "#DriverCode\n",
    "arr=[int(i) for i in input().split()]\n",
    "dp=[-1 for i in range(len(arr)+1)]\n",
    "lis(arr,0,len(arr))\n",
    "lis2(arr,0,len(arr),dp)\n",
    "lis3(arr,len(arr))"
   ]
  },
  {
   "cell_type": "code",
   "execution_count": null,
   "metadata": {},
   "outputs": [],
   "source": []
  }
 ],
 "metadata": {
  "kernelspec": {
   "display_name": "base",
   "language": "python",
   "name": "python3"
  },
  "language_info": {
   "codemirror_mode": {
    "name": "ipython",
    "version": 3
   },
   "file_extension": ".py",
   "mimetype": "text/x-python",
   "name": "python",
   "nbconvert_exporter": "python",
   "pygments_lexer": "ipython3",
   "version": "3.9.13"
  },
  "orig_nbformat": 4
 },
 "nbformat": 4,
 "nbformat_minor": 2
}
