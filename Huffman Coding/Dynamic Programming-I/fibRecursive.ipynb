{
 "cells": [
  {
   "cell_type": "code",
   "execution_count": 18,
   "metadata": {},
   "outputs": [],
   "source": [
    "def fib(n,arr):\n",
    "    if n==0 or n==1:\n",
    "        return n\n",
    "    if arr[n-1]!=-1:\n",
    "        ans1=arr[n-1]\n",
    "    else:\n",
    "        ans1=fib(n-1,arr)\n",
    "        arr[n-1]=ans1\n",
    "    if arr[n-2]!=-1:\n",
    "        ans2=arr[n-2]\n",
    "    else:\n",
    "        ans2=fib(n-2,arr)\n",
    "        arr[n-2]=ans2   \n",
    "    ans=ans1+ans2\n",
    "    arr[n]=ans\n",
    "    return ans\n"
   ]
  },
  {
   "cell_type": "code",
   "execution_count": 22,
   "metadata": {},
   "outputs": [],
   "source": [
    "def fibI(n,arr):\n",
    "    if n==1 or n==0:\n",
    "        return arr[n]\n",
    "    for i in range(2,n+1):\n",
    "        arr[i]=arr[i-1]+arr[i-2]\n",
    "    return arr[n]"
   ]
  },
  {
   "cell_type": "code",
   "execution_count": 23,
   "metadata": {},
   "outputs": [
    {
     "name": "stdout",
     "output_type": "stream",
     "text": [
      "21\n",
      "[0, 1, 1, 2, 3, 5, 8, 13, 21]\n"
     ]
    }
   ],
   "source": [
    "#Driver Code\n",
    "n=int(input())\n",
    "arr=[-1 for i in range(n+1)]\n",
    "arr[:2]=[0,1]\n",
    "#ans=fib(n,arr)\n",
    "ans=fibI(n,arr)\n",
    "print(ans)\n",
    "print(arr)"
   ]
  },
  {
   "cell_type": "code",
   "execution_count": null,
   "metadata": {},
   "outputs": [],
   "source": []
  }
 ],
 "metadata": {
  "kernelspec": {
   "display_name": "base",
   "language": "python",
   "name": "python3"
  },
  "language_info": {
   "codemirror_mode": {
    "name": "ipython",
    "version": 3
   },
   "file_extension": ".py",
   "mimetype": "text/x-python",
   "name": "python",
   "nbconvert_exporter": "python",
   "pygments_lexer": "ipython3",
   "version": "3.9.13"
  },
  "orig_nbformat": 4
 },
 "nbformat": 4,
 "nbformat_minor": 2
}
