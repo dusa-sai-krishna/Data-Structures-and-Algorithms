{
 "cells": [
  {
   "cell_type": "code",
   "execution_count": 3,
   "metadata": {},
   "outputs": [],
   "source": [
    "def kS(val,wt,i,j,c_wt):\n",
    "    if i>=len(val) or j>=len(wt):\n",
    "        return 0\n",
    "    if wt[j]<=c_wt:\n",
    "        ans1=val[i]+kS(val,wt,i+1,j+1,c_wt-wt[j])\n",
    "        ans2=kS(val,wt,i+1,j+1,c_wt)\n",
    "        ans=max(ans1,ans2)\n",
    "    else:\n",
    "        ans=kS(val,wt,i+1,j+1,c_wt)\n",
    "    return ans"
   ]
  },
  {
   "cell_type": "code",
   "execution_count": 4,
   "metadata": {},
   "outputs": [],
   "source": [
    "def kS2(val,wt,i,c_wt,dp):\n",
    "    if i>=len(wt):\n",
    "        return 0\n",
    "    if wt[i]<=c_wt:\n",
    "        if dp[i][c_wt]!=-1:\n",
    "            ans=dp[i][c_wt]\n",
    "        else:\n",
    "            #include\n",
    "            if dp[i+1][c_wt-wt[i]]!=-1:\n",
    "                ans1=dp[i+1][c_wt-wt[i]]\n",
    "            else:\n",
    "                smallans1=kS2(val,wt,i+1,c_wt-wt[i],dp)\n",
    "                dp[i+1][c_wt-wt[i]]=smallans1\n",
    "                ans1=val[i]+smallans1\n",
    "            #exclude\n",
    "            if dp[i+1][c_wt]!=-1:\n",
    "                ans2=dp[i+1][c_wt]\n",
    "            else:\n",
    "                smallans2=kS2(val,wt,i+1,c_wt,dp)\n",
    "                dp[i+1][c_wt]=smallans2\n",
    "                ans2=smallans2\n",
    "        ans=max(ans1,ans2)\n",
    "        dp[i][c_wt]=ans\n",
    "    else:\n",
    "        if dp[i+1][c_wt]!=-1:\n",
    "            ans=dp[i+1][c_wt]\n",
    "        else:\n",
    "            ans=kS2(val,wt,i+1,c_wt,dp)\n",
    "            dp[i+1][c_wt]=ans\n",
    "    return ans\n",
    "        \n",
    "            \n",
    "        "
   ]
  },
  {
   "cell_type": "code",
   "execution_count": 12,
   "metadata": {},
   "outputs": [],
   "source": [
    "def kS3(wt,val,mwt):\n",
    "    if 0 in [len(wt),len(val),mwt]:\n",
    "        return 0\n",
    "    dp=[[0 for j in range(0,mwt+1)] for i in range(len(wt)+1)]\n",
    "    for i in range(len(wt)-1,-1,-1):\n",
    "        for j in range(mwt,-1,-1):\n",
    "            if wt[i]<=j:\n",
    "                ans1=val[i]+dp[i+1][j-wt[i]]\n",
    "                ans2=dp[i+1][j]\n",
    "                ans=max(ans1,ans2)\n",
    "                dp[i][j]=ans\n",
    "            else:\n",
    "                dp[i][j]=dp[i+1][j]\n",
    "    return max(dp[0])"
   ]
  },
  {
   "cell_type": "code",
   "execution_count": 13,
   "metadata": {},
   "outputs": [
    {
     "name": "stdout",
     "output_type": "stream",
     "text": [
      "500\n",
      "500\n",
      "500\n"
     ]
    }
   ],
   "source": [
    "#DriverCode\n",
    "val=[200,300,100]\n",
    "wt=[20,25,30]\n",
    "print(kS(val,wt,0,0,50))\n",
    "mwt=50\n",
    "dp=[[-1 for j in range(0,mwt+1)] for i in range(len(val)+1)]\n",
    "print(kS2(val,wt,0,50,dp))\n",
    "print(kS3(wt,val,50))"
   ]
  },
  {
   "cell_type": "code",
   "execution_count": null,
   "metadata": {},
   "outputs": [],
   "source": []
  }
 ],
 "metadata": {
  "kernelspec": {
   "display_name": "base",
   "language": "python",
   "name": "python3"
  },
  "language_info": {
   "codemirror_mode": {
    "name": "ipython",
    "version": 3
   },
   "file_extension": ".py",
   "mimetype": "text/x-python",
   "name": "python",
   "nbconvert_exporter": "python",
   "pygments_lexer": "ipython3",
   "version": "3.9.13"
  },
  "orig_nbformat": 4
 },
 "nbformat": 4,
 "nbformat_minor": 2
}
