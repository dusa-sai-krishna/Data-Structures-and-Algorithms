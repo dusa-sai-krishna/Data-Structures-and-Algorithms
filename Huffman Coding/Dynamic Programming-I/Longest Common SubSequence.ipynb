{
 "cells": [
  {
   "cell_type": "code",
   "execution_count": 2,
   "metadata": {},
   "outputs": [],
   "source": [
    "def longestCS(s1,s2,x,y):\n",
    "    if x>=len(s1) or y>=len(s2):\n",
    "        return 0\n",
    "    if s1[x]==s2[y]:\n",
    "        return 1+longestCS(s1,s2,x+1,y+1)\n",
    "    else:\n",
    "        return max(longestCS(s1,s2,x,y+1),longestCS(s1,s2,x+1,y))\n",
    "    \n",
    "    "
   ]
  },
  {
   "cell_type": "code",
   "execution_count": 5,
   "metadata": {},
   "outputs": [],
   "source": [
    "#Memoization\n",
    "def longestCS2(s1,s2,x,y,dp):\n",
    "    if x>=len(s1) or y>=len(s2):\n",
    "        return 0\n",
    "    if s1[x]==s2[y]:\n",
    "        if dp[x+1][y+1]!=-1:\n",
    "            ans=1+dp[x+1][y+1]\n",
    "        else:\n",
    "            smallans=longestCS2(s1,s2,x+1,y+1,dp)\n",
    "            dp[x+1][y+1]=smallans\n",
    "            ans=1+smallans\n",
    "    else:\n",
    "        if dp[x+1][y]!=-1:\n",
    "            ans1=dp[x+1][y]\n",
    "        else:\n",
    "            dp[x+1][y]=longestCS2(s1,s2,x+1,y,dp)\n",
    "            ans1=dp[x+1][y]\n",
    "        if dp[x][y+1]!=-1:\n",
    "            ans2=dp[x][y+1]\n",
    "        else:\n",
    "            dp[x][y+1]=longestCS2(s1,s2,x,y+1,dp)\n",
    "            ans2=dp[x][y+1]\n",
    "        ans=max(ans1,ans2)\n",
    "        \n",
    "    return ans\n",
    "    "
   ]
  },
  {
   "cell_type": "code",
   "execution_count": 17,
   "metadata": {},
   "outputs": [],
   "source": [
    "    def longestCS3(s1,s2):\n",
    "        if s1==None or s2==None:\n",
    "            return 0\n",
    "        n=len(s1)\n",
    "        m=len(s2)\n",
    "        dp=[[0 for j in range(m+1)] for i in range(n+1)]\n",
    "        for i in range(n-1,-1,-1):\n",
    "            for j in range(m-1,-1,-1):\n",
    "                if s1[i]==s2[j]:\n",
    "                    dp[i][j]=1+dp[i+1][j+1]\n",
    "                else:\n",
    "                    dp[i][j]=max(dp[i+1][j],dp[i][j+1])\n",
    "        return dp[0][0]"
   ]
  },
  {
   "cell_type": "code",
   "execution_count": 18,
   "metadata": {},
   "outputs": [
    {
     "name": "stdout",
     "output_type": "stream",
     "text": [
      "4\n",
      "4\n",
      "4\n"
     ]
    }
   ],
   "source": [
    "#Drivercode\n",
    "s1=\"abdgec\"\n",
    "s2=\"bfdmgic\"\n",
    "dp=[[-1 for j in range(len(s2)+1)] for i in range(len(s1)+1)]   \n",
    "print(longestCS(s1,s2,0,0))\n",
    "print(longestCS2(s1,s2,0,0,dp))\n",
    "print(longestCS3(s1,s2))"
   ]
  },
  {
   "cell_type": "code",
   "execution_count": null,
   "metadata": {},
   "outputs": [],
   "source": []
  }
 ],
 "metadata": {
  "kernelspec": {
   "display_name": "base",
   "language": "python",
   "name": "python3"
  },
  "language_info": {
   "codemirror_mode": {
    "name": "ipython",
    "version": 3
   },
   "file_extension": ".py",
   "mimetype": "text/x-python",
   "name": "python",
   "nbconvert_exporter": "python",
   "pygments_lexer": "ipython3",
   "version": "3.9.13"
  },
  "orig_nbformat": 4
 },
 "nbformat": 4,
 "nbformat_minor": 2
}
