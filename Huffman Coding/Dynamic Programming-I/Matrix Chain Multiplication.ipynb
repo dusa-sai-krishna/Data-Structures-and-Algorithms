{
 "cells": [
  {
   "cell_type": "code",
   "execution_count": 1,
   "metadata": {},
   "outputs": [],
   "source": [
    "import sys"
   ]
  },
  {
   "cell_type": "code",
   "execution_count": 11,
   "metadata": {},
   "outputs": [],
   "source": [
    "def MC(p,i,j):\n",
    "    if i==j:\n",
    "        return 0\n",
    "    minCost=sys.maxsize\n",
    "    for k in range(i,j):\n",
    "        ans1=MC(p,i,k)\n",
    "        ans2=MC(p,k+1,j)\n",
    "        mCost=p[i-1]*p[k]*p[j]\n",
    "        currCost=ans1+ans2+mCost\n",
    "        minCost=min(currCost,minCost)\n",
    "    return minCost"
   ]
  },
  {
   "cell_type": "code",
   "execution_count": 20,
   "metadata": {},
   "outputs": [],
   "source": [
    "#Memoization\n",
    "def MC2(p,i,j,dp):\n",
    "    if i==j:\n",
    "        return 0\n",
    "    minCost=sys.maxsize\n",
    "    for k in range(i,j):\n",
    "        if dp[i][k]!=-1:\n",
    "            ans1=dp[i][k]\n",
    "        else:\n",
    "            ans1=MC2(p,i,k,dp)\n",
    "            dp[i][k]=ans1\n",
    "        if dp[k+1][j]!=-1:\n",
    "            ans2=dp[k+1][j]\n",
    "        else:\n",
    "            ans2=MC2(p,k+1,j,dp)\n",
    "            dp[k+1][j]=ans2\n",
    "        mCost=p[i-1]*p[k]*p[j]\n",
    "        currCost=ans1+ans2+mCost\n",
    "        minCost=min(currCost,minCost)\n",
    "    return minCost"
   ]
  },
  {
   "cell_type": "code",
   "execution_count": null,
   "metadata": {},
   "outputs": [],
   "source": []
  },
  {
   "cell_type": "code",
   "execution_count": 22,
   "metadata": {},
   "outputs": [
    {
     "name": "stdout",
     "output_type": "stream",
     "text": [
      "124\n",
      "124\n"
     ]
    }
   ],
   "source": [
    "p=[2,3,4,5,6]\n",
    "print(MC(p,1,4))\n",
    "dp=[[-1 for j in range(len(p))] for i in range(len(p))]\n",
    "print(MC2(p,1,4,dp))\n"
   ]
  },
  {
   "cell_type": "code",
   "execution_count": null,
   "metadata": {},
   "outputs": [],
   "source": []
  }
 ],
 "metadata": {
  "kernelspec": {
   "display_name": "base",
   "language": "python",
   "name": "python3"
  },
  "language_info": {
   "codemirror_mode": {
    "name": "ipython",
    "version": 3
   },
   "file_extension": ".py",
   "mimetype": "text/x-python",
   "name": "python",
   "nbconvert_exporter": "python",
   "pygments_lexer": "ipython3",
   "version": "3.9.13"
  },
  "orig_nbformat": 4
 },
 "nbformat": 4,
 "nbformat_minor": 2
}
