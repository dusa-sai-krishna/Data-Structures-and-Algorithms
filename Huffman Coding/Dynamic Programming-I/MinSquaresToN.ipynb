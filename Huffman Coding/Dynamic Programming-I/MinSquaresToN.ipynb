{
 "cells": [
  {
   "cell_type": "code",
   "execution_count": 17,
   "metadata": {},
   "outputs": [],
   "source": [
    "import sys\n",
    "import math\n",
    "def minSquaresToN(n):\n",
    "    if n==0:\n",
    "        return 0\n",
    "    ans=sys.maxsize\n",
    "    root=int(math.sqrt(n))\n",
    "    for i in range(1,root+1):\n",
    "        currentans=1+minSquaresToN(n-(i*i))\n",
    "        ans=min(currentans,ans)\n",
    "    return ans"
   ]
  },
  {
   "cell_type": "code",
   "execution_count": 18,
   "metadata": {},
   "outputs": [],
   "source": [
    "def minSquaresToN2(n,arr):\n",
    "    if n==0:\n",
    "        return n\n",
    "\n",
    "    ans=sys.maxsize\n",
    "    root=int(math.sqrt(n))\n",
    "    for i in range(1,root+1):\n",
    "        x=n-(i*i)\n",
    "        if arr[x]!=-1:\n",
    "            currentans=arr[x]+1\n",
    "        else:\n",
    "            currentans=1+minSquaresToN(x)\n",
    "            arr[x]=currentans-1\n",
    "        ans=min(currentans,ans)\n",
    "    arr[n]=ans\n",
    "    return ans,arr"
   ]
  },
  {
   "cell_type": "code",
   "execution_count": 35,
   "metadata": {},
   "outputs": [],
   "source": [
    "def minSquaresToN3(n):\n",
    "    arr=[0,1]\n",
    "    if n==0 or n==1:\n",
    "        return arr[n]\n",
    "  \n",
    "    for i in range(2,n+1):\n",
    "        root=int(math.sqrt(i))\n",
    "        ans=sys.maxsize\n",
    "        for j in range(1,root+1):\n",
    "            currentans=1+arr[i-(j*j)]\n",
    "            ans=min(currentans,ans)\n",
    "        arr.append(ans)\n",
    "    return arr"
   ]
  },
  {
   "cell_type": "code",
   "execution_count": 36,
   "metadata": {},
   "outputs": [
    {
     "name": "stdout",
     "output_type": "stream",
     "text": [
      "4\n",
      "(4, [-1, -1, -1, -1, -1, -1, 3, -1, -1, -1, -1, 3, -1, -1, 3, 4])\n",
      "[0, 1, 2, 3, 1, 2, 3, 4, 2, 1, 2, 3, 3, 2, 3, 4]\n"
     ]
    }
   ],
   "source": [
    "#DriverCode\n",
    "n=int(input())\n",
    "arr=[-1 for i in range(n+1)]\n",
    "print(minSquaresToN(n))\n",
    "print(minSquaresToN2(n,arr))\n",
    "print(minSquaresToN3(n))"
   ]
  },
  {
   "cell_type": "code",
   "execution_count": null,
   "metadata": {},
   "outputs": [],
   "source": []
  }
 ],
 "metadata": {
  "kernelspec": {
   "display_name": "base",
   "language": "python",
   "name": "python3"
  },
  "language_info": {
   "codemirror_mode": {
    "name": "ipython",
    "version": 3
   },
   "file_extension": ".py",
   "mimetype": "text/x-python",
   "name": "python",
   "nbconvert_exporter": "python",
   "pygments_lexer": "ipython3",
   "version": "3.9.13"
  },
  "orig_nbformat": 4
 },
 "nbformat": 4,
 "nbformat_minor": 2
}
