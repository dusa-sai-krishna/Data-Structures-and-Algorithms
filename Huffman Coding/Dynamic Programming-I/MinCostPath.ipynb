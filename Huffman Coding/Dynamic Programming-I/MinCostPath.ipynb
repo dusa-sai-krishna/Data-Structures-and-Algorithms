{
 "cells": [
  {
   "cell_type": "code",
   "execution_count": 6,
   "metadata": {},
   "outputs": [],
   "source": [
    "import sys\n",
    "def minCostPath(matrix,r,c,i,j):\n",
    "    if i==r-1 and j==c-1:\n",
    "        return matrix[i][j]\n",
    "    if i>=r or j>=c:\n",
    "        return sys.maxsize\n",
    "    ans1=minCostPath(matrix,r,c,i,j+1)\n",
    "    ans2=minCostPath(matrix,r,c,i+1,j+1)\n",
    "    ans3=minCostPath(matrix,r,c,i+1,j)\n",
    "    ans=min(ans1,ans2,ans3)\n",
    "    return matrix[i][j]+ans\n"
   ]
  },
  {
   "cell_type": "code",
   "execution_count": 15,
   "metadata": {},
   "outputs": [],
   "source": [
    "def minCostPath2(matrix,r,c,i,j,dp):\n",
    "    if i==r-1 and j==c-1:\n",
    "        return matrix[i][j]\n",
    "    if i>=r or j>=c:\n",
    "        return sys.maxsize\n",
    "    if dp[i][j+1]==sys.maxsize:\n",
    "        ans1=minCostPath2(matrix,r,c,i,j+1,dp)\n",
    "        dp[i][j+1]=ans1\n",
    "    else:\n",
    "        ans1=dp[i][j+1]  \n",
    "    if dp[i+1][j+1]==sys.maxsize:\n",
    "        ans2=minCostPath2(matrix,r,c,i+1,j+1,dp)\n",
    "        dp[i+1][j+1]=ans2\n",
    "    else:\n",
    "        ans2=dp[i+1][j+1]   \n",
    "    if dp[i+1][j]==sys.maxsize:\n",
    "        ans3=minCostPath2(matrix,r,c,i+1,j,dp)\n",
    "        dp[i+1][j]=ans3\n",
    "    else:\n",
    "        ans3=dp[i+1][j] \n",
    "    ans=min(ans1,ans2,ans3)\n",
    "    return matrix[i][j]+ans\n"
   ]
  },
  {
   "cell_type": "code",
   "execution_count": 21,
   "metadata": {},
   "outputs": [],
   "source": [
    "def minCostPath3(matrix,r,c):\n",
    "    if (r,c)==(0,0):\n",
    "        return \n",
    "    if (r,c)==(1,1):\n",
    "        return matrix[r][c]\n",
    "    dp=[[sys.maxsize for j in range(c+1)]for i in range(r+1)]\n",
    "    for i in range(r-1,-1,-1):\n",
    "        for j in range(c-1,-1,-1):\n",
    "            if (i,j)==(r-1,c-1):\n",
    "                dp[i][j]=matrix[i][j]\n",
    "            else:\n",
    "                ans1=dp[i][j+1]\n",
    "                ans2=dp[i+1][j+1]\n",
    "                ans3=dp[i+1][j]\n",
    "                ans=matrix[i][j]+min(ans1,ans2,ans3)\n",
    "                dp[i][j]=ans\n",
    "    return dp[0][0]"
   ]
  },
  {
   "cell_type": "code",
   "execution_count": 22,
   "metadata": {},
   "outputs": [
    {
     "name": "stdout",
     "output_type": "stream",
     "text": [
      "76\n",
      "76\n"
     ]
    },
    {
     "data": {
      "text/plain": [
       "76"
      ]
     },
     "execution_count": 22,
     "metadata": {},
     "output_type": "execute_result"
    }
   ],
   "source": [
    "#DriverCode\n",
    "matrix=[[10,6,9,0],[-23,8,9,0],[-200,0,89,200]]\n",
    "dp=[[sys.maxsize for j in range(4+1)]for i in range(3+1)]\n",
    "print(minCostPath(matrix,3,4,0,0))\n",
    "print(minCostPath2(matrix,3,4,0,0,dp))\n",
    "minCostPath3(matrix,3,4)"
   ]
  },
  {
   "cell_type": "code",
   "execution_count": null,
   "metadata": {},
   "outputs": [],
   "source": []
  }
 ],
 "metadata": {
  "kernelspec": {
   "display_name": "base",
   "language": "python",
   "name": "python3"
  },
  "language_info": {
   "codemirror_mode": {
    "name": "ipython",
    "version": 3
   },
   "file_extension": ".py",
   "mimetype": "text/x-python",
   "name": "python",
   "nbconvert_exporter": "python",
   "pygments_lexer": "ipython3",
   "version": "3.9.13"
  },
  "orig_nbformat": 4
 },
 "nbformat": 4,
 "nbformat_minor": 2
}
