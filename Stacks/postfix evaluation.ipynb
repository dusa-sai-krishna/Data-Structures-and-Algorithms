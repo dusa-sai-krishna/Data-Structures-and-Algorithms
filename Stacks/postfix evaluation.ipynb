{
 "cells": [
  {
   "cell_type": "code",
   "execution_count": 11,
   "id": "a945ff58",
   "metadata": {},
   "outputs": [],
   "source": [
    "class Evaluate:\n",
    "    def __init__(self,capacity):\n",
    "        self.capacity=capacity\n",
    "        self.stack=[]\n",
    "        self.top=0\n",
    "        \n",
    "    def isEmpty(self):\n",
    "        return self.top==0\n",
    "    \n",
    "    def push(self,i):\n",
    "        self.stack.append(i)\n",
    "        self.top+=1\n",
    "    def pop(self):\n",
    "        if self.isEmpty():\n",
    "            return '$'\n",
    "        self.top-=1\n",
    "        return self.stack.pop()\n",
    "    \n",
    "    \n",
    "    def evaluate(self,exp):\n",
    "        for i in exp:\n",
    "            if i.isdigit():\n",
    "                self.push(i)\n",
    "            else:\n",
    "                a=self.pop()\n",
    "                b=self.pop()\n",
    "                self.push(str(eval(b+i+a)))\n",
    "        return int(self.pop())"
   ]
  },
  {
   "cell_type": "code",
   "execution_count": 12,
   "id": "048b49c8",
   "metadata": {},
   "outputs": [
    {
     "name": "stdout",
     "output_type": "stream",
     "text": [
      "-4\n"
     ]
    }
   ],
   "source": [
    "exp=\"231*+9-\"\n",
    "obj=Evaluate(100)\n",
    "print(obj.evaluate(exp))"
   ]
  },
  {
   "cell_type": "code",
   "execution_count": null,
   "id": "c0311b41",
   "metadata": {},
   "outputs": [],
   "source": []
  }
 ],
 "metadata": {
  "kernelspec": {
   "display_name": "Python 3 (ipykernel)",
   "language": "python",
   "name": "python3"
  },
  "language_info": {
   "codemirror_mode": {
    "name": "ipython",
    "version": 3
   },
   "file_extension": ".py",
   "mimetype": "text/x-python",
   "name": "python",
   "nbconvert_exporter": "python",
   "pygments_lexer": "ipython3",
   "version": "3.9.13"
  }
 },
 "nbformat": 4,
 "nbformat_minor": 5
}
