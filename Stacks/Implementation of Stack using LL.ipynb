{
 "cells": [
  {
   "cell_type": "code",
   "execution_count": 36,
   "id": "1491dcaf",
   "metadata": {},
   "outputs": [],
   "source": [
    "class Node:\n",
    "    def __init__(self,data):\n",
    "        self.data=data\n",
    "        self.next=None\n",
    "\n",
    "class Stack:\n",
    "    def __init__(self):\n",
    "        self.__head=None\n",
    "        self.__count=0\n",
    "    \n",
    "    def push(self,item):\n",
    "        #Create a node\n",
    "        newNode=Node(item)\n",
    "        newNode.next=self.__head\n",
    "        self.__head=newNode\n",
    "        self.__count=self.__count+1\n",
    "    def pop(self):\n",
    "        if self.isEmpty() is True:\n",
    "            return \"Stack is Empty!!\"\n",
    "        else:\n",
    "            temp=self.__head\n",
    "            self.__head=self.__head.next\n",
    "            self.__count=self.__count-1\n",
    "            return temp.data\n",
    "    def top(self):\n",
    "        if self.isEmpty() is True:\n",
    "            return \"Stack is Empty!!\"\n",
    "        else:\n",
    "            return self.__head.data\n",
    "    def size(self):\n",
    "        return self.__count\n",
    "    def isEmpty(self):\n",
    "        return self.size()==0\n",
    "    "
   ]
  },
  {
   "cell_type": "code",
   "execution_count": 37,
   "id": "0eb59cb5",
   "metadata": {},
   "outputs": [],
   "source": [
    "stack=Stack()"
   ]
  },
  {
   "cell_type": "code",
   "execution_count": 38,
   "id": "cf673e23",
   "metadata": {},
   "outputs": [],
   "source": [
    "stack.push(10)\n",
    "stack.push(11)\n",
    "stack.push(12)\n",
    "stack.push(15)"
   ]
  },
  {
   "cell_type": "code",
   "execution_count": 39,
   "id": "857c1d62",
   "metadata": {},
   "outputs": [
    {
     "data": {
      "text/plain": [
       "15"
      ]
     },
     "execution_count": 39,
     "metadata": {},
     "output_type": "execute_result"
    }
   ],
   "source": [
    "stack.top()"
   ]
  },
  {
   "cell_type": "code",
   "execution_count": 40,
   "id": "bdc05aa5",
   "metadata": {},
   "outputs": [
    {
     "data": {
      "text/plain": [
       "4"
      ]
     },
     "execution_count": 40,
     "metadata": {},
     "output_type": "execute_result"
    }
   ],
   "source": [
    "stack.size()"
   ]
  },
  {
   "cell_type": "code",
   "execution_count": 45,
   "id": "56f8d5b9",
   "metadata": {},
   "outputs": [
    {
     "data": {
      "text/plain": [
       "'Stack is Empty!!'"
      ]
     },
     "execution_count": 45,
     "metadata": {},
     "output_type": "execute_result"
    }
   ],
   "source": [
    "stack.pop()\n"
   ]
  },
  {
   "cell_type": "code",
   "execution_count": null,
   "id": "82d3d9c1",
   "metadata": {},
   "outputs": [],
   "source": []
  },
  {
   "cell_type": "code",
   "execution_count": null,
   "id": "289534d7",
   "metadata": {},
   "outputs": [],
   "source": []
  }
 ],
 "metadata": {
  "kernelspec": {
   "display_name": "Python 3 (ipykernel)",
   "language": "python",
   "name": "python3"
  },
  "language_info": {
   "codemirror_mode": {
    "name": "ipython",
    "version": 3
   },
   "file_extension": ".py",
   "mimetype": "text/x-python",
   "name": "python",
   "nbconvert_exporter": "python",
   "pygments_lexer": "ipython3",
   "version": "3.9.13"
  }
 },
 "nbformat": 4,
 "nbformat_minor": 5
}
