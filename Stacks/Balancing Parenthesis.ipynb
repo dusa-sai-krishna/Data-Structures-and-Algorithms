{
 "cells": [
  {
   "cell_type": "code",
   "execution_count": 1,
   "id": "65c8ef37",
   "metadata": {},
   "outputs": [],
   "source": [
    "class Stack():\n",
    "    def __init__(self):\n",
    "        self.__data=[]\n",
    "    def push(self,item):\n",
    "        self.__data.append(item)\n",
    "    def pop(self):\n",
    "        if self.isEmpty():\n",
    "            return \"Stack is Empty\"\n",
    "        else:\n",
    "            return self.__data.pop()\n",
    "    def top(self):\n",
    "        if self.isEmpty():\n",
    "            return  \"Stack is Empty\"\n",
    "        else:\n",
    "            return self.__data[-1]\n",
    "    def size(self):\n",
    "        return len(self.__data)\n",
    "    def isEmpty(self):\n",
    "        return self.size()==0"
   ]
  },
  {
   "cell_type": "code",
   "execution_count": 6,
   "id": "a6e585b7",
   "metadata": {},
   "outputs": [
    {
     "name": "stdout",
     "output_type": "stream",
     "text": [
      "()()(()\n",
      "False\n"
     ]
    }
   ],
   "source": [
    "#driver Code\n",
    "str=input().strip()\n",
    "pair={'(':')'}\n",
    "stack=Stack()\n",
    "for i in str:\n",
    "    if stack.isEmpty():\n",
    "        stack.push(i)\n",
    "    elif i==stack.top():\n",
    "        stack.push(i)\n",
    "    elif i==')':\n",
    "        stack.pop()\n",
    "    else:\n",
    "        print(\"False\")\n",
    "if stack.isEmpty() is False:\n",
    "    print(\"False\")\n",
    "else:\n",
    "    print(\"True\")"
   ]
  },
  {
   "cell_type": "code",
   "execution_count": null,
   "id": "888f320b",
   "metadata": {},
   "outputs": [],
   "source": []
  }
 ],
 "metadata": {
  "kernelspec": {
   "display_name": "Python 3 (ipykernel)",
   "language": "python",
   "name": "python3"
  },
  "language_info": {
   "codemirror_mode": {
    "name": "ipython",
    "version": 3
   },
   "file_extension": ".py",
   "mimetype": "text/x-python",
   "name": "python",
   "nbconvert_exporter": "python",
   "pygments_lexer": "ipython3",
   "version": "3.9.13"
  }
 },
 "nbformat": 4,
 "nbformat_minor": 5
}
