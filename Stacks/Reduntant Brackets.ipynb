{
 "cells": [
  {
   "cell_type": "code",
   "execution_count": 4,
   "id": "fd99bd8c",
   "metadata": {},
   "outputs": [],
   "source": [
    "def redbra(str):\n",
    "    stack=[]\n",
    "    for i in str:\n",
    "        if i!=\")\":\n",
    "            stack.append(i)\n",
    "        else:\n",
    "            count=0\n",
    "            while stack[-1]!=\"(\":\n",
    "                stack.pop()\n",
    "                count+=1\n",
    "            stack.pop()\n",
    "            if count in (0,1):\n",
    "                break\n",
    "    if count in (0,1):\n",
    "        return 1\n",
    "    else:\n",
    "        return 0\n",
    "    \n",
    "    "
   ]
  },
  {
   "cell_type": "code",
   "execution_count": 5,
   "id": "b2f51ccc",
   "metadata": {},
   "outputs": [
    {
     "data": {
      "text/plain": [
       "1"
      ]
     },
     "execution_count": 5,
     "metadata": {},
     "output_type": "execute_result"
    }
   ],
   "source": [
    "\n",
    "#driverCode\n",
    "redbra(\"a+(b)+c \")"
   ]
  },
  {
   "cell_type": "code",
   "execution_count": null,
   "id": "5fd81c08",
   "metadata": {},
   "outputs": [],
   "source": []
  },
  {
   "cell_type": "code",
   "execution_count": null,
   "id": "93930ad3",
   "metadata": {},
   "outputs": [],
   "source": []
  },
  {
   "cell_type": "code",
   "execution_count": null,
   "id": "be3c94a0",
   "metadata": {},
   "outputs": [],
   "source": []
  }
 ],
 "metadata": {
  "kernelspec": {
   "display_name": "Python 3 (ipykernel)",
   "language": "python",
   "name": "python3"
  },
  "language_info": {
   "codemirror_mode": {
    "name": "ipython",
    "version": 3
   },
   "file_extension": ".py",
   "mimetype": "text/x-python",
   "name": "python",
   "nbconvert_exporter": "python",
   "pygments_lexer": "ipython3",
   "version": "3.9.13"
  }
 },
 "nbformat": 4,
 "nbformat_minor": 5
}
