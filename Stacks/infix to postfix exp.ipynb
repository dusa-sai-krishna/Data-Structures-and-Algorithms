{
 "cells": [
  {
   "cell_type": "code",
   "execution_count": 19,
   "id": "23567203",
   "metadata": {},
   "outputs": [],
   "source": [
    "class Conversion:\n",
    "    def __init__(self,capacity):\n",
    "        self.capacity=capacity\n",
    "        self.top=0\n",
    "        self.stack=[]\n",
    "        self.output=[]\n",
    "        self.precedence={'+':1,'-':1,'*':2,'/':2,'^':3}\n",
    "        \n",
    "    def isEmpty(self):\n",
    "        return self.top==0\n",
    "    \n",
    "    def push(self,i):\n",
    "        self.stack.append(i)\n",
    "        self.top+=1\n",
    "    \n",
    "    def pop(self):\n",
    "        if self.top==0:\n",
    "            return '$'\n",
    "        self.top-=1\n",
    "        return self.stack.pop()\n",
    "    \n",
    "    \n",
    "    def peek(self):\n",
    "        if self.top==0:\n",
    "            return '$'\n",
    "        return self.stack[self.top-1]\n",
    "    \n",
    "    def isCharacter(self,ch):\n",
    "        return ch.isalpha()\n",
    "    \n",
    "    def isGreater(self,a,b):\n",
    "        try:\n",
    "            x=self.precedence[a]\n",
    "            y=self.precedence[b]\n",
    "            if x>y:\n",
    "                return True\n",
    "            else:\n",
    "                return False\n",
    "        except KeyError:\n",
    "            return False\n",
    "    def infixTopostfix(self,exp):\n",
    "        if exp is None:\n",
    "            return None\n",
    "        for i in exp:\n",
    "            #operand\n",
    "            if self.isCharacter(i):\n",
    "                self.output.append(i)\n",
    "            elif i=='(':\n",
    "                self.push(i)\n",
    "            elif i==')':\n",
    "                while((not self.isEmpty()) and\n",
    "                      self.peek() != '('):\n",
    "                    a = self.pop()\n",
    "                    self.output.append(a)\n",
    "                if (not self.isEmpty() and self.peek() != '('):\n",
    "                    return -1\n",
    "                else:\n",
    "                    self.pop()\n",
    "            else:\n",
    "                #operator\n",
    "                if self.top==0:\n",
    "                    self.push(i)\n",
    "                else:\n",
    "                    while self.top!=0 and not(self.isGreater(i,self.peek())):\n",
    "                        self.output.append(self.pop())\n",
    "                    self.push(i)\n",
    "        while not(self.isEmpty()):\n",
    "            self.output.append(self.pop())\n",
    "        \n",
    "        print(\"\".join(self.output)) \n",
    "        \n",
    "                \n",
    "                \n",
    "                \n",
    "                \n",
    "                \n",
    "                \n",
    "                \n",
    "                \n",
    "            "
   ]
  },
  {
   "cell_type": "code",
   "execution_count": 20,
   "id": "ee01fd09",
   "metadata": {},
   "outputs": [
    {
     "name": "stdout",
     "output_type": "stream",
     "text": [
      "a(i+\n"
     ]
    }
   ],
   "source": [
    "#Driver Code\n",
    "exp=\"(a+i)\"\n",
    "obj=Conversion(100)\n",
    "obj.infixTopostfix(exp)"
   ]
  },
  {
   "cell_type": "code",
   "execution_count": null,
   "id": "e3d639b7",
   "metadata": {},
   "outputs": [],
   "source": []
  }
 ],
 "metadata": {
  "kernelspec": {
   "display_name": "Python 3 (ipykernel)",
   "language": "python",
   "name": "python3"
  },
  "language_info": {
   "codemirror_mode": {
    "name": "ipython",
    "version": 3
   },
   "file_extension": ".py",
   "mimetype": "text/x-python",
   "name": "python",
   "nbconvert_exporter": "python",
   "pygments_lexer": "ipython3",
   "version": "3.9.13"
  }
 },
 "nbformat": 4,
 "nbformat_minor": 5
}
