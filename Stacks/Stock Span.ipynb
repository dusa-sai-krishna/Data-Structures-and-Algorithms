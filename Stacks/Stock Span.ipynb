{
 "cells": [
  {
   "cell_type": "code",
   "execution_count": 46,
   "id": "829eb106",
   "metadata": {},
   "outputs": [],
   "source": [
    "def stockSpan(lst,n):\n",
    "    stack=[]\n",
    "    ans=[]\n",
    "    for i in range(n):\n",
    "        while (stack!=[] and lst[stack[-1]]<lst[i]):\n",
    "            stack.pop()\n",
    "        if stack==[]:\n",
    "            ans.append(i+1)\n",
    "        else:\n",
    "            top=stack[-1]\n",
    "            ans.append(i-top)\n",
    "        stack.append(i)\n",
    "    return ans\n",
    "\n",
    "\n"
   ]
  },
  {
   "cell_type": "code",
   "execution_count": 47,
   "id": "0ffc64c1",
   "metadata": {
    "scrolled": true
   },
   "outputs": [
    {
     "name": "stdout",
     "output_type": "stream",
     "text": [
      "60 70 80 100 90 75 80 120\n",
      "[1, 2, 3, 4, 1, 1, 2, 8]\n"
     ]
    }
   ],
   "source": [
    "#driver code\n",
    "lst=[int(i) for i in input().split()]\n",
    "arr=stockSpan(lst,len(lst))\n",
    "print(arr)"
   ]
  },
  {
   "cell_type": "code",
   "execution_count": 31,
   "id": "63ec9ec9",
   "metadata": {},
   "outputs": [
    {
     "data": {
      "text/plain": [
       "2"
      ]
     },
     "execution_count": 31,
     "metadata": {},
     "output_type": "execute_result"
    }
   ],
   "source": [
    "check(lst,3,6)"
   ]
  },
  {
   "cell_type": "code",
   "execution_count": null,
   "id": "1f687fe4",
   "metadata": {},
   "outputs": [],
   "source": []
  },
  {
   "cell_type": "code",
   "execution_count": null,
   "id": "87c4a1d2",
   "metadata": {},
   "outputs": [],
   "source": []
  },
  {
   "cell_type": "code",
   "execution_count": null,
   "id": "dc2efc3e",
   "metadata": {},
   "outputs": [],
   "source": []
  },
  {
   "cell_type": "code",
   "execution_count": null,
   "id": "dc339d0a",
   "metadata": {},
   "outputs": [],
   "source": []
  },
  {
   "cell_type": "code",
   "execution_count": null,
   "id": "a50fd872",
   "metadata": {},
   "outputs": [],
   "source": []
  },
  {
   "cell_type": "code",
   "execution_count": null,
   "id": "4b5d0a47",
   "metadata": {},
   "outputs": [],
   "source": []
  }
 ],
 "metadata": {
  "kernelspec": {
   "display_name": "Python 3 (ipykernel)",
   "language": "python",
   "name": "python3"
  },
  "language_info": {
   "codemirror_mode": {
    "name": "ipython",
    "version": 3
   },
   "file_extension": ".py",
   "mimetype": "text/x-python",
   "name": "python",
   "nbconvert_exporter": "python",
   "pygments_lexer": "ipython3",
   "version": "3.9.13"
  }
 },
 "nbformat": 4,
 "nbformat_minor": 5
}
