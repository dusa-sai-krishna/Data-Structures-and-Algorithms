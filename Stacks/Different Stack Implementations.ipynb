{
 "cells": [
  {
   "cell_type": "markdown",
   "metadata": {},
   "source": [
    "# Two stacks in a Array"
   ]
  },
  {
   "cell_type": "code",
   "execution_count": 8,
   "metadata": {},
   "outputs": [
    {
     "name": "stdout",
     "output_type": "stream",
     "text": [
      "[1, 2, 3, 5, 4]\n",
      "3\n",
      "5\n",
      "[1, 2, None, None, 4]\n",
      "[1, 2, 3, 5, 4]\n",
      "Stack1 Overflow\n",
      "Stack2 Overflow\n"
     ]
    }
   ],
   "source": [
    "class TwoStacks:\n",
    "    \n",
    "    def __init__(self,n):\n",
    "        self.size=n\n",
    "        self.top1=-1\n",
    "        self.top2=self.size\n",
    "        self.arr=[None]*n\n",
    "        \n",
    "    def push1(self,data):\n",
    "        if self.top2-self.top1>=2:\n",
    "            self.top1+=1\n",
    "            self.arr[self.top1]=data\n",
    "        else: print('Stack1 Overflow')\n",
    "        \n",
    "    def push2(self,data):\n",
    "        if self.top2-self.top1>=2:\n",
    "            self.top2-=1\n",
    "            self.arr[self.top2]=data\n",
    "        else: print('Stack2 Overflow')\n",
    "        \n",
    "    def pop1(self):\n",
    "        if self.top1>=0:\n",
    "            data=self.arr[self.top1]\n",
    "            self.arr[self.top1]=None\n",
    "            self.top1-=1\n",
    "            return data\n",
    "        else: print('Stack1 Underflow')\n",
    "        \n",
    "    def pop2(self):\n",
    "        if self.top2<self.size:\n",
    "            data=self.arr[self.top2]\n",
    "            self.arr[self.top2]=None\n",
    "            self.top2+=1\n",
    "            return data\n",
    "        \n",
    "    def peek1(self):\n",
    "        if self.top1>=0: return self.arr[self.top1]\n",
    "        else: print('Stack1 Underflow')\n",
    "    \n",
    "    def peek2(self):\n",
    "        if self.top2<self.size: return self.arr[self.top2]\n",
    "        else: print('Stack2 Underflow')\n",
    "        \n",
    "        \n",
    "\n",
    "\n",
    "## Example Usage\n",
    "stacks=TwoStacks(5)\n",
    "stacks.push1(1)\n",
    "stacks.push1(2)\n",
    "stacks.push1(3)\n",
    "stacks.push2(4)\n",
    "stacks.push2(5)\n",
    "print(stacks.arr) \n",
    "print(stacks.pop1())\n",
    "print(stacks.pop2())\n",
    "print(stacks.arr)       \n",
    "stacks.push1(3)\n",
    "stacks.push2(5)\n",
    "print(stacks.arr) \n",
    "stacks.push1(6)\n",
    "stacks.push2(10)"
   ]
  },
  {
   "cell_type": "markdown",
   "metadata": {},
   "source": [
    "# Stack in two Queue"
   ]
  },
  {
   "cell_type": "code",
   "execution_count": 16,
   "metadata": {},
   "outputs": [
    {
     "name": "stdout",
     "output_type": "stream",
     "text": [
      "deque([3, 2, 1])\n",
      "3\n"
     ]
    }
   ],
   "source": [
    "from queue import Queue\n",
    "\n",
    "class StackFromQueues:\n",
    "    \n",
    "    def __init__(self):\n",
    "        self.q1=Queue()\n",
    "        self.q2=Queue()\n",
    "        \n",
    "    \n",
    "    def push(self,data):\n",
    "        #Take input from queue1\n",
    "        self.q1.put(data)\n",
    "        \n",
    "        # Transfer the data from q1 to q2. Since q2 is our storage. We don't \n",
    "        #do it initally, because any way we are going swap them\n",
    "        while not self.q2.empty():\n",
    "            self.q1.put(self.q2.get())\n",
    "        \n",
    "        #swap them\n",
    "        self.q1,self.q2=self.q2,self.q1\n",
    "        \n",
    "    def pop(self):\n",
    "        if not self.q2.empty():\n",
    "            data=self.q2.get()\n",
    "            return data\n",
    "        else: print('Stack Underflow')\n",
    "        \n",
    "    \n",
    "    def top(self):\n",
    "        if not self.q2.empty(): return self.q2.queue[0]\n",
    "        else: print('Stack Underflow')\n",
    "        \n",
    "    def isEmpty(self):\n",
    "        if not self.q2.empty(): return False\n",
    "        return True\n",
    "    \n",
    "    \n",
    "    \n",
    "## Example Usage\n",
    "stack=StackFromQueues()\n",
    "stack.push(1)\n",
    "stack.push(2)\n",
    "stack.push(3)\n",
    "print(stack.q2.queue)\n",
    "print(stack.top())\n",
    "                    \n",
    "        "
   ]
  },
  {
   "cell_type": "markdown",
   "metadata": {},
   "source": [
    "# Stack from a Queue"
   ]
  },
  {
   "cell_type": "code",
   "execution_count": 21,
   "metadata": {},
   "outputs": [
    {
     "name": "stdout",
     "output_type": "stream",
     "text": [
      "deque([3, 2, 1])\n",
      "3\n",
      "2\n",
      "1\n",
      "Stack Underflow\n",
      "None\n",
      "True\n"
     ]
    }
   ],
   "source": [
    "from collections import deque\n",
    "\n",
    "class StackFromQueue():\n",
    "    \n",
    "    def __init__(self):\n",
    "        self.q=deque()\n",
    "        \n",
    "    def push(self,data):\n",
    "        #Push into the stack\n",
    "        self.q.append(data)\n",
    "        # Now rotate all the variables\n",
    "        for _ in range(len(self.q)-1):\n",
    "            self.q.append(self.q.popleft())\n",
    "            \n",
    "    def pop(self):\n",
    "        if len(self.q)>0: return self.q.popleft()\n",
    "        else: print('Stack Underflow')\n",
    "        \n",
    "    def top(self):\n",
    "        if len(self.q)>0: return self.q[0]\n",
    "        else: print('Stack Underflow')\n",
    "        \n",
    "    def isEmpty(self):\n",
    "        if len(self.q)>0: return False\n",
    "        return True\n",
    "        \n",
    "## Example Usage\n",
    "\n",
    "stack=StackFromQueue()\n",
    "stack.push(1)\n",
    "stack.push(2)\n",
    "stack.push(3)\n",
    "print(stack.q)\n",
    "print(stack.pop())\n",
    "print(stack.pop())\n",
    "print(stack.pop())\n",
    "print(stack.pop())\n",
    "print(stack.isEmpty())"
   ]
  },
  {
   "cell_type": "markdown",
   "metadata": {},
   "source": [
    "# Min Stack"
   ]
  },
  {
   "cell_type": "code",
   "execution_count": null,
   "metadata": {},
   "outputs": [],
   "source": [
    "class Minstack():\n",
    "    \n",
    "    def __init__(self):\n",
    "        self.stack=[]\n",
    "        self.Minstack=[]\n",
    "    \n",
    "    def push(self,data):\n",
    "        self.stack.append(data)\n",
    "        data=data if not self.minStack or min(self.minStack)> data else self.minStack[-1]\n",
    "        self.Minstack.append(data)\n",
    "        \n",
    "    def pop(self):\n",
    "        if self.stack:\n",
    "            self.stack.pop()\n",
    "            self.minStack.pop()\n",
    "            \n",
    "    def top(self):\n",
    "        return self.stack[-1] if self.stack else None\n",
    "    \n",
    "    def getMin(self):\n",
    "        return self.minStack[-1] if self.Minstack else None\n",
    "        "
   ]
  }
 ],
 "metadata": {
  "kernelspec": {
   "display_name": "base",
   "language": "python",
   "name": "python3"
  },
  "language_info": {
   "codemirror_mode": {
    "name": "ipython",
    "version": 3
   },
   "file_extension": ".py",
   "mimetype": "text/x-python",
   "name": "python",
   "nbconvert_exporter": "python",
   "pygments_lexer": "ipython3",
   "version": "3.9.18"
  }
 },
 "nbformat": 4,
 "nbformat_minor": 2
}
