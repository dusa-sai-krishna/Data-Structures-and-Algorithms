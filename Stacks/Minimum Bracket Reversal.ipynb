{
 "cells": [
  {
   "cell_type": "code",
   "execution_count": 6,
   "id": "f49d50d3",
   "metadata": {},
   "outputs": [],
   "source": [
    "def minrev(str):\n",
    "    if len(str)%2!=0:\n",
    "        return -1\n",
    "    else:\n",
    "        stack=[]\n",
    "        for i in str:\n",
    "            if i==\"{\":\n",
    "                stack.append(i)\n",
    "            else:\n",
    "                if stack==[] or stack[-1]!=\"{\":\n",
    "                    stack.append(i)\n",
    "                else:\n",
    "                    stack.pop()\n",
    "        count=0\n",
    "        while stack!=[]:\n",
    "            a=stack.pop()\n",
    "            b=stack.pop()\n",
    "            if a==b:\n",
    "                count+=1\n",
    "            else:\n",
    "                count+=2\n",
    "        return count"
   ]
  },
  {
   "cell_type": "code",
   "execution_count": 7,
   "id": "8b22a4a0",
   "metadata": {},
   "outputs": [
    {
     "data": {
      "text/plain": [
       "1"
      ]
     },
     "execution_count": 7,
     "metadata": {},
     "output_type": "execute_result"
    }
   ],
   "source": [
    "#driver Code\n",
    "str=\"{{{{}}\"\n",
    "minrev(str)"
   ]
  },
  {
   "cell_type": "code",
   "execution_count": null,
   "id": "edd1e407",
   "metadata": {},
   "outputs": [],
   "source": []
  },
  {
   "cell_type": "code",
   "execution_count": null,
   "id": "b69a54ce",
   "metadata": {},
   "outputs": [],
   "source": []
  },
  {
   "cell_type": "code",
   "execution_count": null,
   "id": "25cf8d62",
   "metadata": {},
   "outputs": [],
   "source": []
  },
  {
   "cell_type": "code",
   "execution_count": null,
   "id": "428dfac6",
   "metadata": {},
   "outputs": [],
   "source": []
  }
 ],
 "metadata": {
  "kernelspec": {
   "display_name": "Python 3 (ipykernel)",
   "language": "python",
   "name": "python3"
  },
  "language_info": {
   "codemirror_mode": {
    "name": "ipython",
    "version": 3
   },
   "file_extension": ".py",
   "mimetype": "text/x-python",
   "name": "python",
   "nbconvert_exporter": "python",
   "pygments_lexer": "ipython3",
   "version": "3.9.13"
  }
 },
 "nbformat": 4,
 "nbformat_minor": 5
}
