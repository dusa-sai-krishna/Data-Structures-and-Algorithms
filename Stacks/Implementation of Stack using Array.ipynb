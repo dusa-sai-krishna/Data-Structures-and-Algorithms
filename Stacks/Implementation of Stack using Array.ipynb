{
 "cells": [
  {
   "cell_type": "code",
   "execution_count": 4,
   "id": "51bed077",
   "metadata": {},
   "outputs": [],
   "source": [
    "class Stack():\n",
    "    def __init__(self):\n",
    "        self.__data=[]\n",
    "    def push(self,item):\n",
    "        self.__data.append(item)\n",
    "    def pop(self):\n",
    "        if self.isEmpty():\n",
    "            return \"Stack is Empty\"\n",
    "        else:\n",
    "            return self.__data.pop()\n",
    "    def top(self):\n",
    "        if self.isEmpty():\n",
    "            return  \"Stack is Empty\"\n",
    "        else:\n",
    "            return self.__data[-1]\n",
    "    def size(self):\n",
    "        return len(self.__data)\n",
    "    def isEmpty(self):\n",
    "        return self.size()==0"
   ]
  },
  {
   "cell_type": "code",
   "execution_count": 5,
   "id": "78592068",
   "metadata": {},
   "outputs": [
    {
     "data": {
      "text/plain": [
       "3"
      ]
     },
     "execution_count": 5,
     "metadata": {},
     "output_type": "execute_result"
    }
   ],
   "source": [
    "data=Stack()\n",
    "data.push(10)\n",
    "data.push(12)\n",
    "data.push(23)\n",
    "data.size()"
   ]
  },
  {
   "cell_type": "code",
   "execution_count": 6,
   "id": "0925af1f",
   "metadata": {},
   "outputs": [
    {
     "data": {
      "text/plain": [
       "False"
      ]
     },
     "execution_count": 6,
     "metadata": {},
     "output_type": "execute_result"
    }
   ],
   "source": [
    "data.isEmpty()"
   ]
  },
  {
   "cell_type": "code",
   "execution_count": 7,
   "id": "b3569f50",
   "metadata": {},
   "outputs": [
    {
     "data": {
      "text/plain": [
       "23"
      ]
     },
     "execution_count": 7,
     "metadata": {},
     "output_type": "execute_result"
    }
   ],
   "source": [
    "data.pop()"
   ]
  },
  {
   "cell_type": "code",
   "execution_count": null,
   "id": "22e7029c",
   "metadata": {},
   "outputs": [],
   "source": []
  },
  {
   "cell_type": "code",
   "execution_count": null,
   "id": "2b6cc110",
   "metadata": {},
   "outputs": [],
   "source": []
  },
  {
   "cell_type": "code",
   "execution_count": null,
   "id": "63097c7b",
   "metadata": {},
   "outputs": [],
   "source": [
    "import sys\n",
    "class Stack:\n",
    "    def __init__(self):\n",
    "        self.arr=[]\n",
    "    def isEmpty(self):\n",
    "        return len(self.arr)==0\n",
    "    def display(self):\n",
    "        for i in self.arr:\n",
    "            print(i,end=\" \")\n",
    "    def size(self):\n",
    "        return len(self.arr)\n",
    "    def push(self,item):\n",
    "        if self.size()==sys.maxsize:\n",
    "            print(\"Overflow\")\n",
    "        else:\n",
    "            self.arr.append(item)\n",
    "    def pop(self):\n",
    "        if self.isEmpty():\n",
    "            print(\"Underflow\")\n",
    "        else:\n",
    "            x=self.arr.pop()\n",
    "            print(\"{} has been popped\".format(x))\n",
    "    def peek(self)"
   ]
  },
  {
   "cell_type": "code",
   "execution_count": null,
   "id": "563d4a89",
   "metadata": {},
   "outputs": [],
   "source": []
  },
  {
   "cell_type": "code",
   "execution_count": null,
   "id": "642fc648",
   "metadata": {},
   "outputs": [],
   "source": []
  }
 ],
 "metadata": {
  "kernelspec": {
   "display_name": "Python 3 (ipykernel)",
   "language": "python",
   "name": "python3"
  },
  "language_info": {
   "codemirror_mode": {
    "name": "ipython",
    "version": 3
   },
   "file_extension": ".py",
   "mimetype": "text/x-python",
   "name": "python",
   "nbconvert_exporter": "python",
   "pygments_lexer": "ipython3",
   "version": "3.9.13"
  }
 },
 "nbformat": 4,
 "nbformat_minor": 5
}
