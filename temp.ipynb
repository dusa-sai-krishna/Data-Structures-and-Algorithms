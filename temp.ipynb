{
 "cells": [
  {
   "cell_type": "markdown",
   "metadata": {},
   "source": [
    "# Build Stack"
   ]
  },
  {
   "cell_type": "code",
   "execution_count": 19,
   "metadata": {},
   "outputs": [],
   "source": [
    "class Stack:\n",
    "    \n",
    "    def __init__(self,capacity):\n",
    "        self.capacity=capacity\n",
    "        self.stack=[]\n",
    "        self.value=0\n",
    "    \n",
    "    def isEmpty(self):\n",
    "        return self.value==0\n",
    "\n",
    "    def push_ele(self,x):\n",
    "        if type(x) not in (int,float):\n",
    "            print('Enter valid data')\n",
    "        elif self.value==self.capacity:\n",
    "            print('OverFlow')\n",
    "        else:\n",
    "            self.stack.append(x)\n",
    "            self.value+=1\n",
    "    \n",
    "    def pop_ele(self):\n",
    "        if self.isEmpty():\n",
    "            print('UnderFlow')\n",
    "        else:\n",
    "            print(f'{self.stack.pop()} has been deleted ')\n",
    "            self.value-=1\n",
    "    \n",
    "    def top(self):\n",
    "        if self.isEmpty():\n",
    "            print('UnderFlow')\n",
    "        else:\n",
    "            print(f'{self.stack[-1]} is at top of the stack')\n",
    "    \n",
    "    def displayStack(self):\n",
    "        print(self.stack)\n",
    "    \n",
    "\n",
    "            \n",
    "    "
   ]
  },
  {
   "cell_type": "code",
   "execution_count": 20,
   "metadata": {},
   "outputs": [
    {
     "name": "stdout",
     "output_type": "stream",
     "text": [
      "1\n",
      "[10]\n",
      "1\n",
      "10 has been deleted \n"
     ]
    },
    {
     "data": {
      "text/plain": [
       "0"
      ]
     },
     "execution_count": 20,
     "metadata": {},
     "output_type": "execute_result"
    }
   ],
   "source": [
    "stack=Stack(5)\n",
    "stack.push_ele(10)\n",
    "print(stack.value)\n",
    "stack.displayStack()\n",
    "stack.pop_ele()\n",
    "stack.value"
   ]
  },
  {
   "cell_type": "markdown",
   "metadata": {},
   "source": [
    "# Balanced Paranthesis"
   ]
  },
  {
   "cell_type": "code",
   "execution_count": 21,
   "metadata": {},
   "outputs": [],
   "source": [
    "def isBalanced(string):\n",
    "    stack=[]\n",
    "    for char in string:\n",
    "        if char=='(': stack.append(char)\n",
    "        elif char==')' and stack!=[] and stack[-1]=='(': stack.pop()\n",
    "        else: return False\n",
    "    \n",
    "    if stack!=[]: return False\n",
    "    return True\n",
    "        "
   ]
  },
  {
   "cell_type": "code",
   "execution_count": 26,
   "metadata": {},
   "outputs": [
    {
     "data": {
      "text/plain": [
       "False"
      ]
     },
     "execution_count": 26,
     "metadata": {},
     "output_type": "execute_result"
    }
   ],
   "source": [
    "isBalanced('(()')\n",
    "isBalanced('())()')\n",
    "isBalanced('(())()')\n",
    "isBalanced('))(())')"
   ]
  },
  {
   "cell_type": "markdown",
   "metadata": {},
   "source": [
    "# Next Greatest Element\n",
    "\n",
    "- Given a non empty array. Find the next greatest element for every number. and insert them in other array. If not present, insert -1 in the output array"
   ]
  },
  {
   "cell_type": "code",
   "execution_count": null,
   "metadata": {},
   "outputs": [],
   "source": []
  },
  {
   "cell_type": "markdown",
   "metadata": {},
   "source": [
    "# Build Queue"
   ]
  },
  {
   "cell_type": "code",
   "execution_count": 27,
   "metadata": {},
   "outputs": [],
   "source": [
    "class Queue:\n",
    "    \n",
    "    def __init__(self,capacity):\n",
    "        self.capacity=capacity\n",
    "        self.stack=[]\n",
    "        self.value=0\n",
    "    \n",
    "    def isEmpty(self):\n",
    "        return self.value==0\n",
    "\n",
    "    def push_ele(self,x):\n",
    "        if type(x) not in (int,float):\n",
    "            print('Enter valid data')\n",
    "        elif self.value==self.capacity:\n",
    "            print('OverFlow')\n",
    "        else:\n",
    "            self.stack.append(x)\n",
    "            self.value+=1\n",
    "    \n",
    "    def pop_ele(self):\n",
    "        if self.isEmpty():\n",
    "            print('UnderFlow')\n",
    "        else:\n",
    "            print(f'{self.stack.pop(0)} has been deleted ')\n",
    "            self.value-=1\n",
    "    \n",
    "    def top(self):\n",
    "        if self.isEmpty():\n",
    "            print('UnderFlow')\n",
    "        else:\n",
    "            print(f'{self.stack[-1]} is at top of the stack')\n",
    "    \n",
    "    def displayStack(self):\n",
    "        print(self.stack)\n",
    "    \n",
    "\n",
    "            \n",
    "    "
   ]
  },
  {
   "cell_type": "code",
   "execution_count": 29,
   "metadata": {},
   "outputs": [
    {
     "name": "stdout",
     "output_type": "stream",
     "text": [
      "[1, 2]\n",
      "1 has been deleted \n",
      "[2]\n"
     ]
    }
   ],
   "source": [
    "q=Queue(5)\n",
    "q.push_ele(1)\n",
    "q.push_ele(2)\n",
    "q.displayStack()\n",
    "q.pop_ele()\n",
    "q.displayStack()"
   ]
  },
  {
   "cell_type": "markdown",
   "metadata": {},
   "source": [
    "# Linkedlist"
   ]
  },
  {
   "cell_type": "code",
   "execution_count": 2,
   "metadata": {},
   "outputs": [
    {
     "name": "stdout",
     "output_type": "stream",
     "text": [
      "1\n",
      "2\n",
      "3\n",
      "4\n"
     ]
    }
   ],
   "source": [
    "class Node:\n",
    "    def __init__(self,val) -> None:\n",
    "        self.val=val\n",
    "        self.next=None\n",
    "        \n",
    "def buildLL():\n",
    "    lst=[int(i) for i in input().split()]\n",
    "    head,tail=None,None\n",
    "    for ele in lst:\n",
    "        node=Node(ele)\n",
    "        if head==None:\n",
    "            head,tail=node,node\n",
    "        else:\n",
    "            tail.next=node\n",
    "            tail=tail.next\n",
    "    return head\n",
    "\n",
    "def printLL(head):\n",
    "    curr=head\n",
    "    while curr:\n",
    "        print(curr.val)\n",
    "        curr=curr.next\n",
    "        \n",
    "printLL(buildLL())\n",
    "    "
   ]
  },
  {
   "cell_type": "code",
   "execution_count": 3,
   "metadata": {},
   "outputs": [],
   "source": [
    "board=[[1,1,1,1],[0,1,0,0],[0,1,0,0],[0,1,1,1]]\n",
    "m,n=len(board),len(board[0])\n",
    "\n",
    "def isPath(i,j,m,n):\n",
    "    if i==m and j==n: return True\n",
    "    if i>m or j>n or i<0 or j<0: return False\n",
    "    if board[i][j]==0: return False    \n",
    "    if isPath(i+1,j,m,n):\n",
    "        return True  \n",
    "    elif isPath(i-1,j,m,n):\n",
    "        return True  \n",
    "    elif isPath(i,j+1,m,n):\n",
    "        return True \n",
    "    elif isPath(i,j-1,m,n):\n",
    "        return True\n",
    "    else: return False   \n",
    "    "
   ]
  },
  {
   "cell_type": "code",
   "execution_count": 4,
   "metadata": {},
   "outputs": [
    {
     "ename": "",
     "evalue": "",
     "output_type": "error",
     "traceback": [
      "\u001b[1;31mThe Kernel crashed while executing code in the current cell or a previous cell. \n",
      "\u001b[1;31mPlease review the code in the cell(s) to identify a possible cause of the failure. \n",
      "\u001b[1;31mClick <a href='https://aka.ms/vscodeJupyterKernelCrash'>here</a> for more info. \n",
      "\u001b[1;31mView Jupyter <a href='command:jupyter.viewOutput'>log</a> for further details."
     ]
    }
   ],
   "source": [
    "isPath(0,0,3,3)"
   ]
  },
  {
   "cell_type": "code",
   "execution_count": null,
   "metadata": {},
   "outputs": [],
   "source": []
  },
  {
   "cell_type": "code",
   "execution_count": null,
   "metadata": {},
   "outputs": [],
   "source": []
  },
  {
   "cell_type": "code",
   "execution_count": null,
   "metadata": {},
   "outputs": [],
   "source": []
  }
 ],
 "metadata": {
  "kernelspec": {
   "display_name": "base",
   "language": "python",
   "name": "python3"
  },
  "language_info": {
   "codemirror_mode": {
    "name": "ipython",
    "version": 3
   },
   "file_extension": ".py",
   "mimetype": "text/x-python",
   "name": "python",
   "nbconvert_exporter": "python",
   "pygments_lexer": "ipython3",
   "version": "3.9.18"
  },
  "orig_nbformat": 4
 },
 "nbformat": 4,
 "nbformat_minor": 2
}
