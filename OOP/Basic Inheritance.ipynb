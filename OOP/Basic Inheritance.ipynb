{
 "cells": [
  {
   "cell_type": "code",
   "execution_count": 10,
   "id": "0a6dc501",
   "metadata": {},
   "outputs": [],
   "source": [
    "#Parent Class\n",
    "class Vehicle():\n",
    "    def __init(self,make,model,fuel):\n",
    "        self.make=make\n",
    "        self.model=model\n",
    "        self.fuel=fuel\n",
    "\n",
    "    "
   ]
  },
  {
   "cell_type": "code",
   "execution_count": 29,
   "id": "bc2a7081",
   "metadata": {},
   "outputs": [],
   "source": [
    "#child class\n",
    "class Car(Vehicle):\n",
    "    #instance attriutes\n",
    "    def __init__(self,make,model,fuel,ifac,sunroof):\n",
    "        Vehicle.make=make\n",
    "        Vehicle.model=model\n",
    "        Vehicle.fuel=fuel\n",
    "        \n",
    "        \n",
    "        \n",
    "        self.ifac=ifac\n",
    "        self.sunroof=sunroof\n",
    "        \n",
    "    #__dict__do not return the attributes inherited from Parnet class\n",
    "    #Need to create a method which does the job\n",
    "    def print_vehicle_attr(self):\n",
    "        return (Vehicle.make,\" \",Vehicle.model,\" \",Vehicle.fuel)\n",
    "    "
   ]
  },
  {
   "cell_type": "code",
   "execution_count": 30,
   "id": "a247937f",
   "metadata": {},
   "outputs": [],
   "source": [
    "#creating the object\n",
    "Creta=Car(\"2020\",\"LXI\",\"Electric\",True,True)"
   ]
  },
  {
   "cell_type": "code",
   "execution_count": 31,
   "id": "7d6bf7ea",
   "metadata": {},
   "outputs": [
    {
     "data": {
      "text/plain": [
       "{'ifac': True, 'sunroof': True}"
      ]
     },
     "execution_count": 31,
     "metadata": {},
     "output_type": "execute_result"
    }
   ],
   "source": [
    "Creta.__dict__"
   ]
  },
  {
   "cell_type": "code",
   "execution_count": 32,
   "id": "b6203c21",
   "metadata": {},
   "outputs": [
    {
     "data": {
      "text/plain": [
       "'2020'"
      ]
     },
     "execution_count": 32,
     "metadata": {},
     "output_type": "execute_result"
    }
   ],
   "source": [
    "Creta.make"
   ]
  },
  {
   "cell_type": "code",
   "execution_count": 33,
   "id": "a3783993",
   "metadata": {},
   "outputs": [
    {
     "data": {
      "text/plain": [
       "<bound method Car.print_vehicle_attr of <__main__.Car object at 0x000002075D861070>>"
      ]
     },
     "execution_count": 33,
     "metadata": {},
     "output_type": "execute_result"
    }
   ],
   "source": [
    "Creta.print_vehicle_attr"
   ]
  },
  {
   "cell_type": "code",
   "execution_count": null,
   "id": "a4bd638c",
   "metadata": {},
   "outputs": [],
   "source": []
  }
 ],
 "metadata": {
  "kernelspec": {
   "display_name": "Python 3 (ipykernel)",
   "language": "python",
   "name": "python3"
  },
  "language_info": {
   "codemirror_mode": {
    "name": "ipython",
    "version": 3
   },
   "file_extension": ".py",
   "mimetype": "text/x-python",
   "name": "python",
   "nbconvert_exporter": "python",
   "pygments_lexer": "ipython3",
   "version": "3.9.12"
  }
 },
 "nbformat": 4,
 "nbformat_minor": 5
}
