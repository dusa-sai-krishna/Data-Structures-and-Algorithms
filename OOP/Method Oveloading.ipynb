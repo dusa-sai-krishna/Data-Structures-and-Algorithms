{
 "cells": [
  {
   "cell_type": "code",
   "execution_count": 1,
   "id": "18a99a9f",
   "metadata": {},
   "outputs": [],
   "source": [
    "#class\n",
    "class vehicle:\n",
    "    def __init__(self,model,fuel,mileage):\n",
    "        self.model=model\n",
    "        self.fuel=fuel\n",
    "        self.mileage=mileage"
   ]
  },
  {
   "cell_type": "code",
   "execution_count": 2,
   "id": "bf8ab7b2",
   "metadata": {},
   "outputs": [
    {
     "name": "stdout",
     "output_type": "stream",
     "text": [
      "{'model': 2002, 'fuel': 'Electric', 'mileage': 100}\n",
      "{'model': 2005, 'fuel': 'Diesel', 'mileage': 200}\n"
     ]
    }
   ],
   "source": [
    "c1=vehicle(2002,\"Electric\",100)\n",
    "c2=vehicle(2005,\"Diesel\",200)\n",
    "print(c1.__dict__)\n",
    "print(c2.__dict__)"
   ]
  },
  {
   "cell_type": "code",
   "execution_count": 3,
   "id": "f3fb3a22",
   "metadata": {},
   "outputs": [
    {
     "ename": "TypeError",
     "evalue": "unsupported operand type(s) for +: 'vehicle' and 'vehicle'",
     "output_type": "error",
     "traceback": [
      "\u001b[1;31m---------------------------------------------------------------------------\u001b[0m",
      "\u001b[1;31mTypeError\u001b[0m                                 Traceback (most recent call last)",
      "Input \u001b[1;32mIn [3]\u001b[0m, in \u001b[0;36m<cell line: 2>\u001b[1;34m()\u001b[0m\n\u001b[0;32m      1\u001b[0m \u001b[38;5;66;03m#when I do this operation\u001b[39;00m\n\u001b[1;32m----> 2\u001b[0m \u001b[43mc1\u001b[49m\u001b[38;5;241;43m+\u001b[39;49m\u001b[43mc2\u001b[49m\n",
      "\u001b[1;31mTypeError\u001b[0m: unsupported operand type(s) for +: 'vehicle' and 'vehicle'"
     ]
    }
   ],
   "source": [
    "#when I do this operation\n",
    "c1+c2"
   ]
  },
  {
   "cell_type": "code",
   "execution_count": null,
   "id": "6327f10f",
   "metadata": {},
   "outputs": [],
   "source": [
    "#Lets redefine the behaviour of the arithmetic operator\n"
   ]
  },
  {
   "cell_type": "code",
   "execution_count": 6,
   "id": "d6dae615",
   "metadata": {},
   "outputs": [],
   "source": [
    "#class\n",
    "class vehicle:\n",
    "    def __init__(self,model,fuel,mileage):\n",
    "        self.model=model\n",
    "        self.fuel=fuel\n",
    "        self.mileage=mileage\n",
    "    \n",
    "    def __add__(self,other):\n",
    "        return self.mileage+other.mileage"
   ]
  },
  {
   "cell_type": "code",
   "execution_count": 7,
   "id": "7c4fd2bd",
   "metadata": {},
   "outputs": [
    {
     "name": "stdout",
     "output_type": "stream",
     "text": [
      "{'model': 2002, 'fuel': 'Electric', 'mileage': 100}\n",
      "{'model': 2005, 'fuel': 'Diesel', 'mileage': 200}\n"
     ]
    }
   ],
   "source": [
    "c1=vehicle(2002,\"Electric\",100)\n",
    "c2=vehicle(2005,\"Diesel\",200)\n",
    "print(c1.__dict__)\n",
    "print(c2.__dict__)"
   ]
  },
  {
   "cell_type": "code",
   "execution_count": 8,
   "id": "eff24b27",
   "metadata": {},
   "outputs": [
    {
     "data": {
      "text/plain": [
       "300"
      ]
     },
     "execution_count": 8,
     "metadata": {},
     "output_type": "execute_result"
    }
   ],
   "source": [
    "c1+c2"
   ]
  },
  {
   "cell_type": "code",
   "execution_count": null,
   "id": "bba3eea0",
   "metadata": {},
   "outputs": [],
   "source": []
  },
  {
   "cell_type": "code",
   "execution_count": null,
   "id": "92615eaa",
   "metadata": {},
   "outputs": [],
   "source": []
  },
  {
   "cell_type": "code",
   "execution_count": null,
   "id": "9e752f99",
   "metadata": {},
   "outputs": [],
   "source": []
  },
  {
   "cell_type": "code",
   "execution_count": null,
   "id": "360732d0",
   "metadata": {},
   "outputs": [],
   "source": []
  }
 ],
 "metadata": {
  "kernelspec": {
   "display_name": "Python 3 (ipykernel)",
   "language": "python",
   "name": "python3"
  },
  "language_info": {
   "codemirror_mode": {
    "name": "ipython",
    "version": 3
   },
   "file_extension": ".py",
   "mimetype": "text/x-python",
   "name": "python",
   "nbconvert_exporter": "python",
   "pygments_lexer": "ipython3",
   "version": "3.9.12"
  }
 },
 "nbformat": 4,
 "nbformat_minor": 5
}
