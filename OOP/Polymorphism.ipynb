{
 "cells": [
  {
   "cell_type": "code",
   "execution_count": 6,
   "id": "f8f6d739",
   "metadata": {},
   "outputs": [],
   "source": [
    "#parent class\n",
    "class Vehicle:\n",
    "    def __init__(self,color,name,mileage):\n",
    "        self.color=color\n",
    "        self.name=name\n",
    "        self.mileage=mileage\n",
    "    #instance method\n",
    "    def consumption(self):\n",
    "        if self.mileage<10:\n",
    "            print(\"Non-Economic\")\n",
    "        else:\n",
    "            print(\"Economic\")\n",
    "        print(\"Default method\")"
   ]
  },
  {
   "cell_type": "code",
   "execution_count": 7,
   "id": "614d353a",
   "metadata": {},
   "outputs": [],
   "source": [
    "class Car(Vehicle):\n",
    "    #class constructor\n",
    "    def __init__(self,color,name,mileage,category,fuel):\n",
    "        #super func()\n",
    "        super(Car,self).__init__(color,name,mileage)\n",
    "        #instance attributes\n",
    "        self.category=category\n",
    "        self.fuel=fuel\n",
    "    \n",
    "    #instance methods\n",
    "    def consumption(self):\n",
    "        if self.mileage<20:\n",
    "            print(\"Non -Economic\")\n",
    "        else:\n",
    "            print(\"Economic\")\n",
    "        print(\"Method overriding happend,Polymorphism successful\")"
   ]
  },
  {
   "cell_type": "code",
   "execution_count": 8,
   "id": "7c907baa",
   "metadata": {},
   "outputs": [],
   "source": [
    "creta=Car(\"Blue\",\"Creta\",25,\"SUV\",\"Electric\")"
   ]
  },
  {
   "cell_type": "code",
   "execution_count": 9,
   "id": "1f43b641",
   "metadata": {},
   "outputs": [
    {
     "data": {
      "text/plain": [
       "{'color': 'Blue',\n",
       " 'name': 'Creta',\n",
       " 'mileage': 25,\n",
       " 'category': 'SUV',\n",
       " 'fuel': 'Electric'}"
      ]
     },
     "execution_count": 9,
     "metadata": {},
     "output_type": "execute_result"
    }
   ],
   "source": [
    "creta.__dict__"
   ]
  },
  {
   "cell_type": "code",
   "execution_count": 10,
   "id": "a25d6fbf",
   "metadata": {},
   "outputs": [
    {
     "name": "stdout",
     "output_type": "stream",
     "text": [
      "Economic\n",
      "Method overriding happend,Polymorphism successful\n"
     ]
    }
   ],
   "source": [
    "creta.consumption()"
   ]
  },
  {
   "cell_type": "code",
   "execution_count": null,
   "id": "b0e32060",
   "metadata": {},
   "outputs": [],
   "source": []
  },
  {
   "cell_type": "code",
   "execution_count": null,
   "id": "31ff83ce",
   "metadata": {},
   "outputs": [],
   "source": []
  },
  {
   "cell_type": "code",
   "execution_count": null,
   "id": "911c4b0e",
   "metadata": {},
   "outputs": [],
   "source": []
  },
  {
   "cell_type": "code",
   "execution_count": null,
   "id": "9e1ccbd2",
   "metadata": {},
   "outputs": [],
   "source": []
  },
  {
   "cell_type": "code",
   "execution_count": null,
   "id": "959580bf",
   "metadata": {},
   "outputs": [],
   "source": []
  },
  {
   "cell_type": "code",
   "execution_count": null,
   "id": "4f313568",
   "metadata": {},
   "outputs": [],
   "source": []
  }
 ],
 "metadata": {
  "kernelspec": {
   "display_name": "Python 3 (ipykernel)",
   "language": "python",
   "name": "python3"
  },
  "language_info": {
   "codemirror_mode": {
    "name": "ipython",
    "version": 3
   },
   "file_extension": ".py",
   "mimetype": "text/x-python",
   "name": "python",
   "nbconvert_exporter": "python",
   "pygments_lexer": "ipython3",
   "version": "3.9.12"
  }
 },
 "nbformat": 4,
 "nbformat_minor": 5
}
