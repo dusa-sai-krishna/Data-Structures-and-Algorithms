{
 "cells": [
  {
   "cell_type": "code",
   "execution_count": 31,
   "id": "db4134f8",
   "metadata": {},
   "outputs": [],
   "source": [
    "#Parent Class\n",
    "class Vehicle():\n",
    "    def __init__(self,make,model,fuel):\n",
    "        self.make=make\n",
    "        #private\n",
    "        self.__model=model\n",
    "        self.__fuel=fuel\n",
    "    def __print_private_attr(self):\n",
    "        print(\"This is private\")\n",
    "    "
   ]
  },
  {
   "cell_type": "code",
   "execution_count": 32,
   "id": "8042052d",
   "metadata": {},
   "outputs": [],
   "source": [
    "#child class\n",
    "class Car(Vehicle):\n",
    "    #instance attriutes\n",
    "    def __init__(self,make,model,fuel,ifac,sunroof):\n",
    "        super(Car,self).__init__(make,model,fuel)\n",
    "        \n",
    "        #Vehicle.make=make\n",
    "        #Vehicle.__model=model\n",
    "        #Vehicle.__fuel=fuel\n",
    "        \n",
    "        \n",
    "        \n",
    "        self.ifac=ifac\n",
    "        self.sunroof=sunroof\n",
    "        \n",
    "    #__dict__do not return the attributes inherited from Parnet class\n",
    "    #Need to create a method which does the job\n",
    "    #def print_vehicle_attr(self):\n",
    "        #\"{} {} {}\".format(Vehicle.make,Vehicle.__model,Vehicle.__fuel)\n",
    "    \n",
    "    #access private mehtod in Vehicle class\n",
    "    #def print_Vehicle_private(self):\n",
    "        #self._Vehicle__print_private_attr\n",
    "    "
   ]
  },
  {
   "cell_type": "code",
   "execution_count": 33,
   "id": "6b2a1ce1",
   "metadata": {},
   "outputs": [],
   "source": [
    "#creating the object\n",
    "Creta=Car(\"2020\",\"LXI\",\"Electric\",True,True)"
   ]
  },
  {
   "cell_type": "code",
   "execution_count": 34,
   "id": "e6baef71",
   "metadata": {},
   "outputs": [
    {
     "data": {
      "text/plain": [
       "{'make': '2020',\n",
       " '_Vehicle__model': 'LXI',\n",
       " '_Vehicle__fuel': 'Electric',\n",
       " 'ifac': True,\n",
       " 'sunroof': True}"
      ]
     },
     "execution_count": 34,
     "metadata": {},
     "output_type": "execute_result"
    }
   ],
   "source": [
    "Creta.__dict__"
   ]
  },
  {
   "cell_type": "code",
   "execution_count": 35,
   "id": "815c1eca",
   "metadata": {},
   "outputs": [
    {
     "data": {
      "text/plain": [
       "'2020'"
      ]
     },
     "execution_count": 35,
     "metadata": {},
     "output_type": "execute_result"
    }
   ],
   "source": [
    "Creta.make"
   ]
  },
  {
   "cell_type": "code",
   "execution_count": 36,
   "id": "cfa8ecfa",
   "metadata": {},
   "outputs": [
    {
     "data": {
      "text/plain": [
       "'LXI'"
      ]
     },
     "execution_count": 36,
     "metadata": {},
     "output_type": "execute_result"
    }
   ],
   "source": [
    "\n",
    "Creta._Vehicle__model"
   ]
  },
  {
   "cell_type": "code",
   "execution_count": 39,
   "id": "e38f1873",
   "metadata": {},
   "outputs": [
    {
     "data": {
      "text/plain": [
       "'Electric'"
      ]
     },
     "execution_count": 39,
     "metadata": {},
     "output_type": "execute_result"
    }
   ],
   "source": [
    "Creta._Vehicle__fuel"
   ]
  },
  {
   "cell_type": "code",
   "execution_count": 41,
   "id": "56d01fa7",
   "metadata": {},
   "outputs": [
    {
     "name": "stdout",
     "output_type": "stream",
     "text": [
      "This is private\n"
     ]
    }
   ],
   "source": [
    "#accessing the private method in superclass\n",
    "Creta._Vehicle__print_private_attr()"
   ]
  },
  {
   "cell_type": "code",
   "execution_count": null,
   "id": "c00d79b7",
   "metadata": {},
   "outputs": [],
   "source": []
  }
 ],
 "metadata": {
  "kernelspec": {
   "display_name": "Python 3 (ipykernel)",
   "language": "python",
   "name": "python3"
  },
  "language_info": {
   "codemirror_mode": {
    "name": "ipython",
    "version": 3
   },
   "file_extension": ".py",
   "mimetype": "text/x-python",
   "name": "python",
   "nbconvert_exporter": "python",
   "pygments_lexer": "ipython3",
   "version": "3.9.12"
  }
 },
 "nbformat": 4,
 "nbformat_minor": 5
}
