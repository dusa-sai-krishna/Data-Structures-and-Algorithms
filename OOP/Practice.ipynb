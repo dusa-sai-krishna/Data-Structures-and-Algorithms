{
 "cells": [
  {
   "cell_type": "code",
   "execution_count": 29,
   "id": "f8f6d739",
   "metadata": {},
   "outputs": [],
   "source": [
    "#parent class\n",
    "class Vehicle:\n",
    "    #instance attributes\n",
    "    def __init__(self,color,name):\n",
    "        self.color=color\n",
    "        self.name=name\n",
    "    #instance method\n",
    "    def Display(self):\n",
    "        print(\"The color of Vehicle {} is {}\".format(self.name,self.color))"
   ]
  },
  {
   "cell_type": "code",
   "execution_count": null,
   "id": "715eaf5e",
   "metadata": {},
   "outputs": [],
   "source": []
  },
  {
   "cell_type": "code",
   "execution_count": null,
   "id": "64a66837",
   "metadata": {},
   "outputs": [],
   "source": []
  },
  {
   "cell_type": "code",
   "execution_count": 30,
   "id": "8cc7bf02",
   "metadata": {},
   "outputs": [],
   "source": [
    "class Car(Vehicle):\n",
    "    #class attribute\n",
    "    color=\"blue\"\n",
    "    #class constructor\n",
    "    def __init__(self,color,name,category,mileage,fuel):\n",
    "        #inherited attributes\n",
    "        Vehicle.color=color\n",
    "        Vehicle.name=name\n",
    "        #instance attributes\n",
    "        self.category=category\n",
    "        self.mileage=mileage\n",
    "        self.fuel=fuel\n",
    "    \n",
    "    #instance methods\n",
    "    def consumption(self):\n",
    "        if self.mileage<20:\n",
    "            return \"Economic\"\n",
    "        else:\n",
    "            return \"Non-Economic\"\n",
    "    "
   ]
  },
  {
   "cell_type": "code",
   "execution_count": 31,
   "id": "d778e145",
   "metadata": {},
   "outputs": [],
   "source": [
    "#creating an object\n",
    "creta=Car(\"Blue\",\"Creta\",\"SUV\",20,\"Electric\")\n"
   ]
  },
  {
   "cell_type": "code",
   "execution_count": 32,
   "id": "7c907baa",
   "metadata": {},
   "outputs": [
    {
     "data": {
      "text/plain": [
       "{'category': 'SUV', 'mileage': 20, 'fuel': 'Electric'}"
      ]
     },
     "execution_count": 32,
     "metadata": {},
     "output_type": "execute_result"
    }
   ],
   "source": [
    "#checking whether creta obj is created\n",
    "creta.__dict__\n",
    "#not showing any value which were inherited from Vehicle class"
   ]
  },
  {
   "cell_type": "code",
   "execution_count": 33,
   "id": "1f43b641",
   "metadata": {},
   "outputs": [
    {
     "name": "stdout",
     "output_type": "stream",
     "text": [
      "blue Creta\n"
     ]
    }
   ],
   "source": [
    "#Try to access them individually\n",
    "print(\"{} {}\".format(creta.color,creta.name))\n",
    "#able to access instance attributes inherited from Class Vehicle locally"
   ]
  },
  {
   "cell_type": "code",
   "execution_count": 34,
   "id": "a25d6fbf",
   "metadata": {},
   "outputs": [
    {
     "name": "stdout",
     "output_type": "stream",
     "text": [
      "The color of Vehicle Creta is blue\n"
     ]
    }
   ],
   "source": [
    "#Lets try to access instance method of class Vehicle\n",
    "creta.Display()"
   ]
  },
  {
   "cell_type": "code",
   "execution_count": null,
   "id": "b0e32060",
   "metadata": {},
   "outputs": [],
   "source": []
  },
  {
   "cell_type": "code",
   "execution_count": null,
   "id": "31ff83ce",
   "metadata": {},
   "outputs": [],
   "source": []
  },
  {
   "cell_type": "code",
   "execution_count": 35,
   "id": "911c4b0e",
   "metadata": {},
   "outputs": [],
   "source": [
    "# When private modifiers are introduced\n"
   ]
  },
  {
   "cell_type": "code",
   "execution_count": 36,
   "id": "9e1ccbd2",
   "metadata": {},
   "outputs": [],
   "source": [
    "#parent class\n",
    "class Vehicle:\n",
    "    #instance attributes\n",
    "    def __init__(self,color,name):\n",
    "        self.__color=color\n",
    "        self.__name=name\n",
    "    #instance method\n",
    "    def __Display(self):\n",
    "        print(\"The color of Vehicle {} is {}\\nThis is a private method\".format(self.name,self.color))"
   ]
  },
  {
   "cell_type": "code",
   "execution_count": 37,
   "id": "959580bf",
   "metadata": {},
   "outputs": [],
   "source": [
    "class Car(Vehicle):\n",
    "    #class attribute\n",
    "    color=\"blue\"\n",
    "    #class constructor\n",
    "    def __init__(self,color,name,category,mileage,fuel):\n",
    "        #inherited attributes\n",
    "        Vehicle.__color=color\n",
    "        Vehicle.__name=name\n",
    "        #instance attributes\n",
    "        self.category=category\n",
    "        self.mileage=mileage\n",
    "        self.fuel=fuel\n",
    "    \n",
    "    #instance methods\n",
    "    def consumption(self):\n",
    "        if self.mileage<20:\n",
    "            return \"Economic\"\n",
    "        else:\n",
    "            return \"Non-Economic\"\n",
    "    "
   ]
  },
  {
   "cell_type": "code",
   "execution_count": 38,
   "id": "ab689e19",
   "metadata": {},
   "outputs": [],
   "source": [
    "#creating an object\n",
    "creta=Car(\"Blue\",\"Creta\",\"SUV\",20,\"Electric\")\n"
   ]
  },
  {
   "cell_type": "code",
   "execution_count": 39,
   "id": "4f313568",
   "metadata": {},
   "outputs": [
    {
     "name": "stdout",
     "output_type": "stream",
     "text": [
      "Blue Creta\n"
     ]
    }
   ],
   "source": [
    "#accessing instance attributes of parent class which are private \n",
    "print(\"{} {}\".format(creta._Car__color,creta._Car__name))"
   ]
  },
  {
   "cell_type": "code",
   "execution_count": 40,
   "id": "6392bcca",
   "metadata": {},
   "outputs": [
    {
     "ename": "AttributeError",
     "evalue": "'Car' object has no attribute '_Vehicle__color'",
     "output_type": "error",
     "traceback": [
      "\u001b[1;31m---------------------------------------------------------------------------\u001b[0m",
      "\u001b[1;31mAttributeError\u001b[0m                            Traceback (most recent call last)",
      "\u001b[1;32m~\\AppData\\Local\\Temp\\ipykernel_7676\\2638471616.py\u001b[0m in \u001b[0;36m<module>\u001b[1;34m\u001b[0m\n\u001b[0;32m      1\u001b[0m \u001b[1;31m#accessing instance attributes of parent class which are private by changing class name\u001b[0m\u001b[1;33m\u001b[0m\u001b[1;33m\u001b[0m\u001b[0m\n\u001b[1;32m----> 2\u001b[1;33m \u001b[0mprint\u001b[0m\u001b[1;33m(\u001b[0m\u001b[1;34m\"{} {}\"\u001b[0m\u001b[1;33m.\u001b[0m\u001b[0mformat\u001b[0m\u001b[1;33m(\u001b[0m\u001b[0mcreta\u001b[0m\u001b[1;33m.\u001b[0m\u001b[0m_Vehicle__color\u001b[0m\u001b[1;33m,\u001b[0m\u001b[0mcreta\u001b[0m\u001b[1;33m.\u001b[0m\u001b[0m_Vehicle__name\u001b[0m\u001b[1;33m)\u001b[0m\u001b[1;33m)\u001b[0m\u001b[1;33m\u001b[0m\u001b[1;33m\u001b[0m\u001b[0m\n\u001b[0m",
      "\u001b[1;31mAttributeError\u001b[0m: 'Car' object has no attribute '_Vehicle__color'"
     ]
    }
   ],
   "source": [
    "#accessing instance attributes of parent class which are private by changing class name\n",
    "print(\"{} {}\".format(creta._Vehicle__color,creta._Vehicle__name))"
   ]
  },
  {
   "cell_type": "code",
   "execution_count": null,
   "id": "807355b6",
   "metadata": {},
   "outputs": [],
   "source": [
    "#we are unable to access private attributes as well as methods of parent class\n",
    "#But there is a work around for this problem. One can create a public method inside child class which access these\n",
    "#private mehods"
   ]
  },
  {
   "cell_type": "code",
   "execution_count": null,
   "id": "49c4d800",
   "metadata": {},
   "outputs": [],
   "source": [
    "#parent class\n",
    "class Vehicle:\n",
    "    #instance attributes\n",
    "    def __init__(self,color,name):\n",
    "        self.__color=color\n",
    "        self.__name=name\n",
    "    #instance method\n",
    "    def __Display(self):\n",
    "        print(\"The color of Vehicle {} is {}\\nThis is a private method\".format(self.name,self.color))"
   ]
  },
  {
   "cell_type": "code",
   "execution_count": null,
   "id": "df771320",
   "metadata": {},
   "outputs": [],
   "source": [
    "class Car(Vehicle):\n",
    "    #class attribute\n",
    "    color=\"blue\"\n",
    "    #class constructor\n",
    "    def __init__(self,color,name,category,mileage,fuel):\n",
    "        #inherited attributes\n",
    "        Vehicle.__color=color\n",
    "        Vehicle.__name=name\n",
    "        #instance attributes\n",
    "        self.category=category\n",
    "        self.mileage=mileage\n",
    "        self.fuel=fuel\n",
    "    \n",
    "    #instance methods\n",
    "    def consumption(self):\n",
    "        if self.mileage<20:\n",
    "            return \"Economic\"\n",
    "        else:\n",
    "            return \"Non-Economic\"\n",
    "    \n",
    "    #method which displays private attributes of parent class\n",
    "    def Display_private(self):\n",
    "        print(\"{} {}\".format(Vehicle.__name,Vehicle.__color))\n",
    "    \n",
    "    #method which displays the private method of parent class\n",
    "    def Display_private_method(self):\n",
    "        self._Vehicle__Display()"
   ]
  },
  {
   "cell_type": "code",
   "execution_count": null,
   "id": "550a2304",
   "metadata": {},
   "outputs": [],
   "source": [
    "#creating an object\n",
    "creta=Car(\"Blue\",\"Creta\",\"SUV\",20,\"Electric\")\n"
   ]
  },
  {
   "cell_type": "code",
   "execution_count": null,
   "id": "90a7df90",
   "metadata": {},
   "outputs": [
    {
     "data": {
      "text/plain": [
       "{'category': 'SUV', 'mileage': 20, 'fuel': 'Electric'}"
      ]
     },
     "execution_count": 24,
     "metadata": {},
     "output_type": "execute_result"
    }
   ],
   "source": [
    "creta.__dict__"
   ]
  },
  {
   "cell_type": "code",
   "execution_count": null,
   "id": "2344c057",
   "metadata": {},
   "outputs": [
    {
     "name": "stdout",
     "output_type": "stream",
     "text": [
      "Creta Blue\n"
     ]
    }
   ],
   "source": [
    "#accessing private attributes through an public method in child class\n",
    "creta.Display_private()"
   ]
  },
  {
   "cell_type": "code",
   "execution_count": null,
   "id": "48fb59db",
   "metadata": {},
   "outputs": [
    {
     "name": "stdout",
     "output_type": "stream",
     "text": [
      "The color of Vehicle Creta is blue\n",
      "This is a private method\n"
     ]
    }
   ],
   "source": [
    "#accessing private method through an public method in child class\n",
    "creta.Display_private_method()"
   ]
  },
  {
   "cell_type": "markdown",
   "id": "07c1af41",
   "metadata": {},
   "source": [
    "#utilizing super() function\n",
    "It returns a temp object of parent class allowing sub class access its private and public methods locally\n",
    "We were able to access both attributes and methods of parent classs when they were public. This super() also allows to access \n",
    "private methods"
   ]
  },
  {
   "cell_type": "code",
   "execution_count": 47,
   "id": "dca778a3",
   "metadata": {},
   "outputs": [],
   "source": [
    "#parent class\n",
    "class Vehicle:\n",
    "    #instance attributes\n",
    "    def __init__(self,color,name):\n",
    "        self.__color=color\n",
    "        self.__name=name\n",
    "    #instance method\n",
    "    def __Display(self):\n",
    "        print(\"The color of Vehicle {} is {}\\nThis is a private method\".format(self.__name,self.__color))"
   ]
  },
  {
   "cell_type": "code",
   "execution_count": 48,
   "id": "cb7e8abb",
   "metadata": {},
   "outputs": [],
   "source": [
    "class Car(Vehicle):\n",
    "    #class attribute\n",
    "    color=\"blue\"\n",
    "    #class constructor\n",
    "    def __init__(self,color,name,category,mileage,fuel):\n",
    "        \n",
    "        #super function\n",
    "        super(Car,self).__init__(color,name)\n",
    "        \n",
    "        #inherited attributes\n",
    "        #Vehicle.__color=color\n",
    "        #Vehicle.__name=name\n",
    "        #instance attributes\n",
    "        self.category=category\n",
    "        self.mileage=mileage\n",
    "        self.fuel=fuel\n",
    "    \n",
    "    #instance methods\n",
    "    def consumption(self):\n",
    "        if self.mileage<20:\n",
    "            return \"Economic\"\n",
    "        else:\n",
    "            return \"Non-Economic\"\n",
    "    \n",
    "    #method which displays private attributes of parent class\n",
    "    #def Display_private(self):\n",
    "        print(\"{} {}\".format(Vehicle.__name,Vehicle.__color))\n",
    "    \n",
    "    #method which displays the private method of parent class\n",
    "    #def Display_private_method(self):\n",
    "        self._Vehicle__Display()"
   ]
  },
  {
   "cell_type": "code",
   "execution_count": 49,
   "id": "a71bee16",
   "metadata": {},
   "outputs": [],
   "source": [
    "#creating an object\n",
    "creta=Car(\"Blue\",\"Creta\",\"SUV\",20,\"Electric\")\n"
   ]
  },
  {
   "cell_type": "code",
   "execution_count": 50,
   "id": "4987a24d",
   "metadata": {},
   "outputs": [
    {
     "data": {
      "text/plain": [
       "{'_Vehicle__color': 'Blue',\n",
       " '_Vehicle__name': 'Creta',\n",
       " 'category': 'SUV',\n",
       " 'mileage': 20,\n",
       " 'fuel': 'Electric'}"
      ]
     },
     "execution_count": 50,
     "metadata": {},
     "output_type": "execute_result"
    }
   ],
   "source": [
    "creta.__dict__\n",
    "#able to access all attributes of Parent class locally even they are private\n"
   ]
  },
  {
   "cell_type": "code",
   "execution_count": 51,
   "id": "5826a474",
   "metadata": {},
   "outputs": [
    {
     "name": "stdout",
     "output_type": "stream",
     "text": [
      "The color of Vehicle Creta is Blue\n",
      "This is a private method\n"
     ]
    }
   ],
   "source": [
    "#accessing private instance methods\n",
    "creta._Vehicle__Display()"
   ]
  },
  {
   "cell_type": "code",
   "execution_count": 53,
   "id": "594693d3",
   "metadata": {},
   "outputs": [
    {
     "data": {
      "text/plain": [
       "'Creta'"
      ]
     },
     "execution_count": 53,
     "metadata": {},
     "output_type": "execute_result"
    }
   ],
   "source": [
    "creta._Vehicle__name"
   ]
  },
  {
   "cell_type": "code",
   "execution_count": null,
   "id": "0f9cbf32",
   "metadata": {},
   "outputs": [],
   "source": []
  },
  {
   "cell_type": "code",
   "execution_count": null,
   "id": "423fbf1b",
   "metadata": {},
   "outputs": [],
   "source": []
  },
  {
   "cell_type": "code",
   "execution_count": null,
   "id": "8d3207ba",
   "metadata": {},
   "outputs": [
    {
     "name": "stdout",
     "output_type": "stream",
     "text": [
      "function 1 called\n"
     ]
    }
   ],
   "source": [
    "from abc import ABC,abstractmethod\n",
    "\n",
    "class A(ABC):\n",
    "\n",
    "    @abstractmethod\n",
    "    def fun1(self):\n",
    "        print(\"function of class A called\")\n",
    "\n",
    "    @abstractmethod\n",
    "    def fun2(self):\n",
    "        pass\n",
    "\n",
    "class B(A):\n",
    "    def fun1(self):\n",
    "        print(\"function 1 called\")\n",
    "    def fun2(self):\n",
    "        print(\"function 2 called\")\n",
    "o = B()\n",
    "o.fun1()"
   ]
  },
  {
   "cell_type": "code",
   "execution_count": null,
   "id": "d845f1af",
   "metadata": {},
   "outputs": [
    {
     "name": "stdout",
     "output_type": "stream",
     "text": [
      "Zero Division Error occured\n"
     ]
    }
   ],
   "source": [
    "class ZeroDenominatorError(ZeroDivisionError):\n",
    "    pass\n",
    "try:\n",
    "    a = 10\n",
    "    b = 0\n",
    "    if(b==0):\n",
    "        raise ZeroDenominatorError()\n",
    "    c = a/b\n",
    "except ZeroDivisionError:\n",
    "    print('Zero Division Error occured')\n",
    "except ZeroDenominatorError:\n",
    "    print('Zero Denominator Error occured')"
   ]
  },
  {
   "cell_type": "code",
   "execution_count": null,
   "id": "ac91da6a",
   "metadata": {},
   "outputs": [],
   "source": []
  }
 ],
 "metadata": {
  "kernelspec": {
   "display_name": "Python 3 (ipykernel)",
   "language": "python",
   "name": "python3"
  },
  "language_info": {
   "codemirror_mode": {
    "name": "ipython",
    "version": 3
   },
   "file_extension": ".py",
   "mimetype": "text/x-python",
   "name": "python",
   "nbconvert_exporter": "python",
   "pygments_lexer": "ipython3",
   "version": "3.9.13"
  }
 },
 "nbformat": 4,
 "nbformat_minor": 5
}
