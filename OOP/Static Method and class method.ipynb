{
 "cells": [
  {
   "cell_type": "code",
   "execution_count": 3,
   "id": "f8f6d739",
   "metadata": {},
   "outputs": [],
   "source": [
    "class Car:\n",
    "    #class attribute\n",
    "    color=\"blue\"\n",
    "    #class constructor\n",
    "    def __init__(self,category,mileage,fuel):\n",
    "        #instance attributes\n",
    "        self.category=category\n",
    "        self.mileage=mileage\n",
    "        self.fuel=fuel\n",
    "    \n",
    "    #instance methods\n",
    "    def consumption(self):\n",
    "        if self.mileage<20:\n",
    "            return \"Economic\"\n",
    "        else:\n",
    "            return \"Non-Economic\"\n",
    "        \n",
    "    #static method\n",
    "    @staticmethod\n",
    "    def convert_to_float(mileage):\n",
    "        return float(mileage)\n",
    "    \n",
    "    \n",
    "    @classmethod\n",
    "    def get_attr(cls,str):\n",
    "        category,mileage,fuel=str.split(\" \")\n",
    "        return Car(category.capitalize(),float(mileage),fuel.capitalize())\n",
    "    "
   ]
  },
  {
   "cell_type": "code",
   "execution_count": 5,
   "id": "7c907baa",
   "metadata": {},
   "outputs": [],
   "source": [
    "creta=Car.get_attr(\"suv 20 electric\")"
   ]
  },
  {
   "cell_type": "code",
   "execution_count": 6,
   "id": "1f43b641",
   "metadata": {},
   "outputs": [
    {
     "data": {
      "text/plain": [
       "{'category': 'Suv', 'mileage': 20.0, 'fuel': 'Electric'}"
      ]
     },
     "execution_count": 6,
     "metadata": {},
     "output_type": "execute_result"
    }
   ],
   "source": [
    "creta.__dict__"
   ]
  },
  {
   "cell_type": "code",
   "execution_count": null,
   "id": "a25d6fbf",
   "metadata": {},
   "outputs": [],
   "source": []
  },
  {
   "cell_type": "code",
   "execution_count": null,
   "id": "b0e32060",
   "metadata": {},
   "outputs": [],
   "source": []
  },
  {
   "cell_type": "code",
   "execution_count": null,
   "id": "31ff83ce",
   "metadata": {},
   "outputs": [],
   "source": []
  },
  {
   "cell_type": "code",
   "execution_count": null,
   "id": "911c4b0e",
   "metadata": {},
   "outputs": [],
   "source": []
  },
  {
   "cell_type": "code",
   "execution_count": null,
   "id": "9e1ccbd2",
   "metadata": {},
   "outputs": [],
   "source": []
  },
  {
   "cell_type": "code",
   "execution_count": null,
   "id": "959580bf",
   "metadata": {},
   "outputs": [],
   "source": []
  },
  {
   "cell_type": "code",
   "execution_count": null,
   "id": "4f313568",
   "metadata": {},
   "outputs": [],
   "source": []
  }
 ],
 "metadata": {
  "kernelspec": {
   "display_name": "Python 3 (ipykernel)",
   "language": "python",
   "name": "python3"
  },
  "language_info": {
   "codemirror_mode": {
    "name": "ipython",
    "version": 3
   },
   "file_extension": ".py",
   "mimetype": "text/x-python",
   "name": "python",
   "nbconvert_exporter": "python",
   "pygments_lexer": "ipython3",
   "version": "3.9.12"
  }
 },
 "nbformat": 4,
 "nbformat_minor": 5
}
