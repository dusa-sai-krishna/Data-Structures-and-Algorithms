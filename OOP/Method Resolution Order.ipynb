{
 "cells": [
  {
   "cell_type": "code",
   "execution_count": 1,
   "id": "15437f2d",
   "metadata": {},
   "outputs": [],
   "source": [
    "#parent class 1\n",
    "class Vehicle:\n",
    "    def __init__(self,fuel,mileage):\n",
    "        self.fuel=fuel\n",
    "        self.mileage=mileage\n",
    "    def Display(self):\n",
    "        print(\"This message is from Vehicle Class\")"
   ]
  },
  {
   "cell_type": "code",
   "execution_count": 2,
   "id": "f42741c8",
   "metadata": {},
   "outputs": [],
   "source": [
    "#parent class 2\n",
    "class Car:\n",
    "    def __init__(self,fuel,mileage):\n",
    "        self.fuel=fuel\n",
    "        self.mileage=mileage\n",
    "    def Display(self):\n",
    "        print(\"This message is from Car Class\")"
   ]
  },
  {
   "cell_type": "code",
   "execution_count": 3,
   "id": "3644556c",
   "metadata": {},
   "outputs": [],
   "source": [
    "#child class\n",
    "class ElectricCar(Vehicle,Car):\n",
    "    def __init__(self,fuel,mileage,range):\n",
    "        super(ElectricCar,self).__init__(fuel,mileage)\n",
    "        self.range=range"
   ]
  },
  {
   "cell_type": "code",
   "execution_count": 4,
   "id": "242a9fa6",
   "metadata": {},
   "outputs": [
    {
     "data": {
      "text/plain": [
       "{'fuel': 'Electric', 'mileage': '100', 'range': '200'}"
      ]
     },
     "execution_count": 4,
     "metadata": {},
     "output_type": "execute_result"
    }
   ],
   "source": [
    "Tesla=ElectricCar('Electric','100','200')\n",
    "Tesla.__dict__"
   ]
  },
  {
   "cell_type": "code",
   "execution_count": 5,
   "id": "aac9dc7f",
   "metadata": {},
   "outputs": [
    {
     "name": "stdout",
     "output_type": "stream",
     "text": [
      "This message is from Vehicle Class\n"
     ]
    }
   ],
   "source": [
    "Tesla.Display()"
   ]
  },
  {
   "cell_type": "code",
   "execution_count": 6,
   "id": "14c1ac4f",
   "metadata": {},
   "outputs": [],
   "source": [
    "class X: \n",
    "      pass\n",
    "class Y: \n",
    "      pass\n",
    "class Z:\n",
    "      pass\n",
    "class A(X,Y):\n",
    "      pass\n",
    "class B(Y,Z):\n",
    "      pass\n",
    "class C(B,A,Y):\n",
    "      pass"
   ]
  },
  {
   "cell_type": "code",
   "execution_count": 7,
   "id": "2c25fc20",
   "metadata": {},
   "outputs": [],
   "source": [
    "obj=C()"
   ]
  },
  {
   "cell_type": "code",
   "execution_count": 11,
   "id": "dcb2b892",
   "metadata": {},
   "outputs": [
    {
     "name": "stdout",
     "output_type": "stream",
     "text": [
      "[<class '__main__.C'>, <class '__main__.B'>, <class '__main__.A'>, <class '__main__.X'>, <class '__main__.Y'>, <class '__main__.Z'>, <class 'object'>]\n"
     ]
    }
   ],
   "source": [
    "print(C.mro())"
   ]
  },
  {
   "cell_type": "code",
   "execution_count": null,
   "id": "3348c75f",
   "metadata": {},
   "outputs": [],
   "source": []
  }
 ],
 "metadata": {
  "kernelspec": {
   "display_name": "Python 3 (ipykernel)",
   "language": "python",
   "name": "python3"
  },
  "language_info": {
   "codemirror_mode": {
    "name": "ipython",
    "version": 3
   },
   "file_extension": ".py",
   "mimetype": "text/x-python",
   "name": "python",
   "nbconvert_exporter": "python",
   "pygments_lexer": "ipython3",
   "version": "3.9.12"
  }
 },
 "nbformat": 4,
 "nbformat_minor": 5
}
