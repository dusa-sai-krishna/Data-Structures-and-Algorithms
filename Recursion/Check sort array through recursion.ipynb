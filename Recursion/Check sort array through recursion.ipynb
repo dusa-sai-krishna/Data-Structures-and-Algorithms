{
 "cells": [
  {
   "cell_type": "code",
   "execution_count": 10,
   "id": "40c839cc",
   "metadata": {},
   "outputs": [],
   "source": [
    "def sort_array(lst):\n",
    "    #base step step\n",
    "    if(len(lst)==0 or len(lst)==1):\n",
    "        return True\n",
    "    \n",
    "    else:\n",
    "       #induction step\n",
    "       if(lst[0]>lst[1]):\n",
    "           return False\n",
    "       else:\n",
    "           return sort_array(lst[1:])"
   ]
  },
  {
   "cell_type": "code",
   "execution_count": 12,
   "id": "29896185",
   "metadata": {},
   "outputs": [
    {
     "name": "stdout",
     "output_type": "stream",
     "text": [
      "2 3 4 8 45 3\n",
      "False\n"
     ]
    }
   ],
   "source": [
    "#input\n",
    "lst=[int(i) for i in input().split()]\n",
    "print(sort_array(lst))"
   ]
  },
  {
   "cell_type": "code",
   "execution_count": null,
   "id": "992cbc3c",
   "metadata": {},
   "outputs": [],
   "source": []
  },
  {
   "cell_type": "code",
   "execution_count": null,
   "id": "0180858d",
   "metadata": {},
   "outputs": [],
   "source": []
  },
  {
   "cell_type": "code",
   "execution_count": 1,
   "id": "e8940edd",
   "metadata": {},
   "outputs": [],
   "source": [
    "# 2 method\n"
   ]
  },
  {
   "cell_type": "code",
   "execution_count": 10,
   "id": "23e271ce",
   "metadata": {},
   "outputs": [],
   "source": [
    "def sort_array(arr,i):\n",
    "    if len(arr)==0 or len(arr)==1:\n",
    "        return 0\n",
    "    elif (i==len(arr)-1):\n",
    "        return 1\n",
    "    else:\n",
    "        if arr[i]>arr[i+1]:\n",
    "            return 0\n",
    "        else:\n",
    "            return sort_array(arr,i+1)"
   ]
  },
  {
   "cell_type": "code",
   "execution_count": 4,
   "id": "96d731b6",
   "metadata": {},
   "outputs": [
    {
     "name": "stdout",
     "output_type": "stream",
     "text": [
      "1 2 3 4 6 5\n"
     ]
    },
    {
     "data": {
      "text/plain": [
       "0"
      ]
     },
     "execution_count": 4,
     "metadata": {},
     "output_type": "execute_result"
    }
   ],
   "source": [
    "#input()\n",
    "lst=[int(i) for i in input().split()]\n",
    "sort_array(lst,i=0)"
   ]
  },
  {
   "cell_type": "code",
   "execution_count": 11,
   "id": "56bea03f",
   "metadata": {},
   "outputs": [
    {
     "name": "stdout",
     "output_type": "stream",
     "text": [
      "1 2 3 4 5 6\n"
     ]
    },
    {
     "data": {
      "text/plain": [
       "1"
      ]
     },
     "execution_count": 11,
     "metadata": {},
     "output_type": "execute_result"
    }
   ],
   "source": [
    "#input()\n",
    "lst=[int(i) for i in input().split()]\n",
    "sort_array(lst,i=0)"
   ]
  },
  {
   "cell_type": "code",
   "execution_count": null,
   "id": "73070518",
   "metadata": {},
   "outputs": [],
   "source": []
  },
  {
   "cell_type": "code",
   "execution_count": null,
   "id": "6a849ae0",
   "metadata": {},
   "outputs": [],
   "source": []
  }
 ],
 "metadata": {
  "kernelspec": {
   "display_name": "Python 3 (ipykernel)",
   "language": "python",
   "name": "python3"
  },
  "language_info": {
   "codemirror_mode": {
    "name": "ipython",
    "version": 3
   },
   "file_extension": ".py",
   "mimetype": "text/x-python",
   "name": "python",
   "nbconvert_exporter": "python",
   "pygments_lexer": "ipython3",
   "version": "3.9.12"
  }
 },
 "nbformat": 4,
 "nbformat_minor": 5
}
