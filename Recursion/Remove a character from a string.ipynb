{
 "cells": [
  {
   "cell_type": "code",
   "execution_count": 3,
   "id": "8fe844a7",
   "metadata": {},
   "outputs": [],
   "source": [
    "def remove(str,ch):\n",
    "    if (len(str)==0):\n",
    "        return str\n",
    "    smallstr=remove(str[1:],ch)\n",
    "    if(str[0]==ch):\n",
    "        return smallstr\n",
    "    else:\n",
    "        return str[0]+smallstr"
   ]
  },
  {
   "cell_type": "code",
   "execution_count": 4,
   "id": "9d56f52b",
   "metadata": {},
   "outputs": [
    {
     "name": "stdout",
     "output_type": "stream",
     "text": [
      "Enter the str\n",
      "axaab\n",
      "x\n",
      "aaab\n"
     ]
    }
   ],
   "source": [
    "#input\n",
    "print(\"Enter the str\")\n",
    "str=input()\n",
    "ch=input()\n",
    "print(remove(str,ch))"
   ]
  },
  {
   "cell_type": "code",
   "execution_count": null,
   "id": "acdb5553",
   "metadata": {},
   "outputs": [],
   "source": []
  },
  {
   "cell_type": "code",
   "execution_count": null,
   "id": "5b0ed2fb",
   "metadata": {},
   "outputs": [],
   "source": []
  },
  {
   "cell_type": "code",
   "execution_count": null,
   "id": "80003986",
   "metadata": {},
   "outputs": [],
   "source": []
  },
  {
   "cell_type": "code",
   "execution_count": null,
   "id": "1d01316a",
   "metadata": {},
   "outputs": [],
   "source": []
  },
  {
   "cell_type": "code",
   "execution_count": null,
   "id": "6ad39853",
   "metadata": {},
   "outputs": [],
   "source": []
  }
 ],
 "metadata": {
  "kernelspec": {
   "display_name": "Python 3 (ipykernel)",
   "language": "python",
   "name": "python3"
  },
  "language_info": {
   "codemirror_mode": {
    "name": "ipython",
    "version": 3
   },
   "file_extension": ".py",
   "mimetype": "text/x-python",
   "name": "python",
   "nbconvert_exporter": "python",
   "pygments_lexer": "ipython3",
   "version": "3.9.12"
  }
 },
 "nbformat": 4,
 "nbformat_minor": 5
}
