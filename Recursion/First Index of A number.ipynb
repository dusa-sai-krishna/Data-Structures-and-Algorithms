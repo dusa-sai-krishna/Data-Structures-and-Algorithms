{
 "cells": [
  {
   "cell_type": "code",
   "execution_count": 1,
   "id": "34701cbb",
   "metadata": {},
   "outputs": [],
   "source": [
    "def first_index(arr,x):\n",
    "    if len(arr)==0:\n",
    "        return -1\n",
    "    if arr[0]==x:\n",
    "        return 0\n",
    "    smallerlistoutput=first_index(arr[1:],x)\n",
    "    if smallerlistoutput==-1:\n",
    "        return -1\n",
    "    else:\n",
    "        return smallerlistoutput+1"
   ]
  },
  {
   "cell_type": "code",
   "execution_count": 3,
   "id": "08747194",
   "metadata": {},
   "outputs": [
    {
     "name": "stdout",
     "output_type": "stream",
     "text": [
      "1 2 3 4 5 6\n",
      "5\n",
      "4\n"
     ]
    }
   ],
   "source": [
    "#input\n",
    "data=[int(i) for i in input().split()]\n",
    "x=int(input())\n",
    "print(first_index(data,x))"
   ]
  },
  {
   "cell_type": "code",
   "execution_count": null,
   "id": "06e2a070",
   "metadata": {},
   "outputs": [],
   "source": []
  },
  {
   "cell_type": "code",
   "execution_count": 4,
   "id": "2f286bbf",
   "metadata": {},
   "outputs": [],
   "source": [
    "# second method"
   ]
  },
  {
   "cell_type": "code",
   "execution_count": 5,
   "id": "48690003",
   "metadata": {},
   "outputs": [],
   "source": [
    "def first_index2(arr,x,si=0):\n",
    "    if(len(arr)==0):\n",
    "        return -1\n",
    "    if(si==len(arr)-1 and arr[si]!=x):\n",
    "        return -1\n",
    "    else:\n",
    "        if(arr[si]==x):\n",
    "            return si\n",
    "        else:\n",
    "            return first_index2(arr,x,si+1)"
   ]
  },
  {
   "cell_type": "code",
   "execution_count": 6,
   "id": "518169fb",
   "metadata": {},
   "outputs": [
    {
     "name": "stdout",
     "output_type": "stream",
     "text": [
      "1 2 3 4 5 6\n",
      "6\n",
      "5\n"
     ]
    }
   ],
   "source": [
    "\n",
    "#input\n",
    "data=[int(i) for i in input().split()]\n",
    "x=int(input())\n",
    "print(first_index2(data,x))"
   ]
  },
  {
   "cell_type": "code",
   "execution_count": null,
   "id": "cb9e4c92",
   "metadata": {},
   "outputs": [],
   "source": []
  },
  {
   "cell_type": "code",
   "execution_count": null,
   "id": "d6ddcd0e",
   "metadata": {},
   "outputs": [],
   "source": []
  },
  {
   "cell_type": "code",
   "execution_count": null,
   "id": "120d4fa0",
   "metadata": {},
   "outputs": [],
   "source": []
  },
  {
   "cell_type": "code",
   "execution_count": null,
   "id": "9924c7d6",
   "metadata": {},
   "outputs": [],
   "source": []
  },
  {
   "cell_type": "code",
   "execution_count": null,
   "id": "c3cfbe41",
   "metadata": {},
   "outputs": [],
   "source": []
  }
 ],
 "metadata": {
  "kernelspec": {
   "display_name": "Python 3 (ipykernel)",
   "language": "python",
   "name": "python3"
  },
  "language_info": {
   "codemirror_mode": {
    "name": "ipython",
    "version": 3
   },
   "file_extension": ".py",
   "mimetype": "text/x-python",
   "name": "python",
   "nbconvert_exporter": "python",
   "pygments_lexer": "ipython3",
   "version": "3.9.12"
  }
 },
 "nbformat": 4,
 "nbformat_minor": 5
}
