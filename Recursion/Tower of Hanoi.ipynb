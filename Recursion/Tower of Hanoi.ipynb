{
 "cells": [
  {
   "cell_type": "code",
   "execution_count": 6,
   "id": "df1a269c",
   "metadata": {},
   "outputs": [],
   "source": [
    "def ToH(n,a,b,c):\n",
    "    if n==0:\n",
    "        return \n",
    "    if n==1:\n",
    "        print(\"move 1st the disk from\",a,\"to\",c)\n",
    "        return\n",
    "    ToH(n-1,a,c,b)\n",
    "    print(\"move\",n,\"th disk from \",a,\"to\",c)\n",
    "    ToH(n-1,b,a,c)"
   ]
  },
  {
   "cell_type": "code",
   "execution_count": 7,
   "id": "1fb4aef6",
   "metadata": {},
   "outputs": [
    {
     "name": "stdout",
     "output_type": "stream",
     "text": [
      "move 1st the disk from A to C\n",
      "move 2 th disk from  A to B\n",
      "move 1st the disk from C to B\n",
      "move 3 th disk from  A to C\n",
      "move 1st the disk from B to A\n",
      "move 2 th disk from  B to C\n",
      "move 1st the disk from A to C\n"
     ]
    }
   ],
   "source": [
    "#input\n",
    "ToH(3,'A','B','C')"
   ]
  },
  {
   "cell_type": "code",
   "execution_count": null,
   "id": "bfe881d5",
   "metadata": {},
   "outputs": [],
   "source": []
  },
  {
   "cell_type": "code",
   "execution_count": null,
   "id": "ce88b2fb",
   "metadata": {},
   "outputs": [],
   "source": []
  },
  {
   "cell_type": "code",
   "execution_count": null,
   "id": "bf0ab558",
   "metadata": {},
   "outputs": [],
   "source": []
  },
  {
   "cell_type": "code",
   "execution_count": null,
   "id": "3cf1db8c",
   "metadata": {},
   "outputs": [],
   "source": []
  },
  {
   "cell_type": "code",
   "execution_count": null,
   "id": "ea6b0600",
   "metadata": {},
   "outputs": [],
   "source": []
  },
  {
   "cell_type": "code",
   "execution_count": null,
   "id": "ed00289e",
   "metadata": {},
   "outputs": [],
   "source": []
  },
  {
   "cell_type": "code",
   "execution_count": null,
   "id": "46c5e386",
   "metadata": {},
   "outputs": [],
   "source": []
  },
  {
   "cell_type": "code",
   "execution_count": null,
   "id": "6f21c582",
   "metadata": {},
   "outputs": [],
   "source": []
  },
  {
   "cell_type": "code",
   "execution_count": null,
   "id": "056c4838",
   "metadata": {},
   "outputs": [],
   "source": []
  },
  {
   "cell_type": "code",
   "execution_count": null,
   "id": "0d6c41e2",
   "metadata": {},
   "outputs": [],
   "source": []
  }
 ],
 "metadata": {
  "kernelspec": {
   "display_name": "Python 3 (ipykernel)",
   "language": "python",
   "name": "python3"
  },
  "language_info": {
   "codemirror_mode": {
    "name": "ipython",
    "version": 3
   },
   "file_extension": ".py",
   "mimetype": "text/x-python",
   "name": "python",
   "nbconvert_exporter": "python",
   "pygments_lexer": "ipython3",
   "version": "3.9.12"
  }
 },
 "nbformat": 4,
 "nbformat_minor": 5
}
