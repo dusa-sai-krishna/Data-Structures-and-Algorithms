{
 "cells": [
  {
   "cell_type": "code",
   "execution_count": 8,
   "id": "cb384b07",
   "metadata": {},
   "outputs": [],
   "source": [
    "def replace(str):\n",
    "    if len(str)==0:\n",
    "        return str\n",
    "    smallstr=replace(str[1:])\n",
    "    if str[0]=='a':\n",
    "        return 'b'+smallstr\n",
    "    else:\n",
    "        return str[0]+smallstr"
   ]
  },
  {
   "cell_type": "code",
   "execution_count": 9,
   "id": "8d6e7401",
   "metadata": {},
   "outputs": [
    {
     "name": "stdout",
     "output_type": "stream",
     "text": [
      "Enter the string:\n",
      "saib\n",
      "sbib\n"
     ]
    }
   ],
   "source": [
    "#input\n",
    "print(\"Enter the string:\")\n",
    "str=input()\n",
    "print(replace(str))"
   ]
  },
  {
   "cell_type": "code",
   "execution_count": null,
   "id": "d425699e",
   "metadata": {},
   "outputs": [],
   "source": []
  },
  {
   "cell_type": "code",
   "execution_count": null,
   "id": "6b029b9a",
   "metadata": {},
   "outputs": [],
   "source": []
  },
  {
   "cell_type": "code",
   "execution_count": null,
   "id": "40237f32",
   "metadata": {},
   "outputs": [],
   "source": []
  }
 ],
 "metadata": {
  "kernelspec": {
   "display_name": "Python 3 (ipykernel)",
   "language": "python",
   "name": "python3"
  },
  "language_info": {
   "codemirror_mode": {
    "name": "ipython",
    "version": 3
   },
   "file_extension": ".py",
   "mimetype": "text/x-python",
   "name": "python",
   "nbconvert_exporter": "python",
   "pygments_lexer": "ipython3",
   "version": "3.9.12"
  }
 },
 "nbformat": 4,
 "nbformat_minor": 5
}
