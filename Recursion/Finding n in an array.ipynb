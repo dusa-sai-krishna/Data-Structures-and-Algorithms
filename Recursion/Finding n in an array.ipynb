{
 "cells": [
  {
   "cell_type": "code",
   "execution_count": 2,
   "id": "66bf79a7",
   "metadata": {},
   "outputs": [],
   "source": [
    "def find_n(arr,x):\n",
    "    if(len(arr)==0):\n",
    "      return False\n",
    "    elif (arr[0]==x):\n",
    "       return True\n",
    "    else:\n",
    "       return find_n(arr[1:],x)"
   ]
  },
  {
   "cell_type": "code",
   "execution_count": 3,
   "id": "6b53df16",
   "metadata": {},
   "outputs": [
    {
     "name": "stdout",
     "output_type": "stream",
     "text": [
      "1 2 3 4 5\n",
      "The number to be finded:\n",
      "5\n",
      "True\n"
     ]
    }
   ],
   "source": [
    "#input()\n",
    "lst=[int(i) for i in input().split()]\n",
    "print(\"The number to be finded:\")\n",
    "x=int(input())\n",
    "print(find_n(lst,x))"
   ]
  },
  {
   "cell_type": "code",
   "execution_count": 4,
   "id": "2dc3b27f",
   "metadata": {},
   "outputs": [
    {
     "name": "stdout",
     "output_type": "stream",
     "text": [
      "1 2 3 4 5\n",
      "The number to be finded:\n",
      "6\n",
      "False\n"
     ]
    }
   ],
   "source": [
    "#input()\n",
    "lst=[int(i) for i in input().split()]\n",
    "print(\"The number to be finded:\")\n",
    "x=int(input())\n",
    "print(find_n(lst,x))"
   ]
  },
  {
   "cell_type": "code",
   "execution_count": null,
   "id": "5e147302",
   "metadata": {},
   "outputs": [],
   "source": []
  },
  {
   "cell_type": "code",
   "execution_count": null,
   "id": "c90f5eff",
   "metadata": {},
   "outputs": [],
   "source": []
  }
 ],
 "metadata": {
  "kernelspec": {
   "display_name": "Python 3 (ipykernel)",
   "language": "python",
   "name": "python3"
  },
  "language_info": {
   "codemirror_mode": {
    "name": "ipython",
    "version": 3
   },
   "file_extension": ".py",
   "mimetype": "text/x-python",
   "name": "python",
   "nbconvert_exporter": "python",
   "pygments_lexer": "ipython3",
   "version": "3.9.12"
  }
 },
 "nbformat": 4,
 "nbformat_minor": 5
}
