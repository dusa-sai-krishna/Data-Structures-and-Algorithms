{
 "cells": [
  {
   "cell_type": "code",
   "execution_count": 1,
   "id": "2d8dab1c",
   "metadata": {},
   "outputs": [],
   "source": [
    "def replacePI(str):\n",
    "    if len(str)==0 or len(str)==1:\n",
    "        return str\n",
    "    if str[0:2]==\"pi\":\n",
    "        smallstr=replacePI(str[2:])\n",
    "        return '3.14'+smallstr\n",
    "    else:\n",
    "        smallstr=replacePI(str[1:])\n",
    "        return str[0]+smallstr"
   ]
  },
  {
   "cell_type": "code",
   "execution_count": 2,
   "id": "9d964fdb",
   "metadata": {},
   "outputs": [
    {
     "name": "stdout",
     "output_type": "stream",
     "text": [
      "abcpi\n",
      "abc3.14\n"
     ]
    }
   ],
   "source": [
    "#input()\n",
    "print(replacePI(input()))"
   ]
  },
  {
   "cell_type": "code",
   "execution_count": null,
   "id": "6d8ed10c",
   "metadata": {},
   "outputs": [],
   "source": []
  },
  {
   "cell_type": "code",
   "execution_count": null,
   "id": "92d1fed6",
   "metadata": {},
   "outputs": [],
   "source": []
  },
  {
   "cell_type": "code",
   "execution_count": null,
   "id": "78330f44",
   "metadata": {},
   "outputs": [],
   "source": []
  },
  {
   "cell_type": "code",
   "execution_count": null,
   "id": "3061a2e4",
   "metadata": {},
   "outputs": [],
   "source": []
  },
  {
   "cell_type": "code",
   "execution_count": null,
   "id": "fc17a037",
   "metadata": {},
   "outputs": [],
   "source": []
  },
  {
   "cell_type": "code",
   "execution_count": null,
   "id": "906d4483",
   "metadata": {},
   "outputs": [],
   "source": []
  },
  {
   "cell_type": "code",
   "execution_count": null,
   "id": "e3de9a7b",
   "metadata": {},
   "outputs": [],
   "source": []
  },
  {
   "cell_type": "code",
   "execution_count": null,
   "id": "798d3500",
   "metadata": {},
   "outputs": [],
   "source": []
  }
 ],
 "metadata": {
  "kernelspec": {
   "display_name": "Python 3 (ipykernel)",
   "language": "python",
   "name": "python3"
  },
  "language_info": {
   "codemirror_mode": {
    "name": "ipython",
    "version": 3
   },
   "file_extension": ".py",
   "mimetype": "text/x-python",
   "name": "python",
   "nbconvert_exporter": "python",
   "pygments_lexer": "ipython3",
   "version": "3.9.12"
  }
 },
 "nbformat": 4,
 "nbformat_minor": 5
}
