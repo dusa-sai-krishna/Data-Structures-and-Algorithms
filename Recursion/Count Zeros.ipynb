{
 "cells": [
  {
   "cell_type": "code",
   "execution_count": null,
   "id": "e6a820bd",
   "metadata": {},
   "outputs": [],
   "source": [
    "def countz(txt):\n",
    "    if len(txt)==0:\n",
    "        return 0\n",
    "    count=countz(txt[1:])\n",
    "    if txt[0]=='0':\n",
    "        return 1+count\n",
    "    else:\n",
    "        return 0+count\n",
    "    \n",
    "x=int(input())\n",
    "print(countz(str(x)))"
   ]
  }
 ],
 "metadata": {
  "kernelspec": {
   "display_name": "Python 3 (ipykernel)",
   "language": "python",
   "name": "python3"
  },
  "language_info": {
   "codemirror_mode": {
    "name": "ipython",
    "version": 3
   },
   "file_extension": ".py",
   "mimetype": "text/x-python",
   "name": "python",
   "nbconvert_exporter": "python",
   "pygments_lexer": "ipython3",
   "version": "3.9.12"
  }
 },
 "nbformat": 4,
 "nbformat_minor": 5
}
