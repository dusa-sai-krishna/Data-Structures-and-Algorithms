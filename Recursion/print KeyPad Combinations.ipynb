{
 "cells": [
  {
   "cell_type": "code",
   "execution_count": 2,
   "metadata": {},
   "outputs": [],
   "source": [
    "dict={1:' @',2:'abc',3:'def',4:'ghi',5:'jkl',6:'mno',7:'pqrs',8:'tuv',9:'wxyz'}\n"
   ]
  },
  {
   "cell_type": "code",
   "execution_count": 3,
   "metadata": {},
   "outputs": [],
   "source": [
    "def printkeyPadCombinations(number,ans,dict):\n",
    "    if number==0:\n",
    "        print(ans)\n",
    "        return\n",
    "    lastdigit=number%10\n",
    "    str=dict[lastdigit]\n",
    "    for i in range(len(str)):\n",
    "        printkeyPadCombinations(number//10,str[i]+ans,dict)\n",
    "    \n",
    "    "
   ]
  },
  {
   "cell_type": "code",
   "execution_count": 5,
   "metadata": {},
   "outputs": [
    {
     "name": "stdout",
     "output_type": "stream",
     "text": [
      "adg\n",
      "bdg\n",
      "cdg\n",
      "aeg\n",
      "beg\n",
      "ceg\n",
      "afg\n",
      "bfg\n",
      "cfg\n",
      "adh\n",
      "bdh\n",
      "cdh\n",
      "aeh\n",
      "beh\n",
      "ceh\n",
      "afh\n",
      "bfh\n",
      "cfh\n",
      "adi\n",
      "bdi\n",
      "cdi\n",
      "aei\n",
      "bei\n",
      "cei\n",
      "afi\n",
      "bfi\n",
      "cfi\n"
     ]
    }
   ],
   "source": [
    "#Driver Code\n",
    "printkeyPadCombinations(234,'',dict)"
   ]
  },
  {
   "cell_type": "code",
   "execution_count": null,
   "metadata": {},
   "outputs": [],
   "source": []
  }
 ],
 "metadata": {
  "kernelspec": {
   "display_name": "base",
   "language": "python",
   "name": "python3"
  },
  "language_info": {
   "codemirror_mode": {
    "name": "ipython",
    "version": 3
   },
   "file_extension": ".py",
   "mimetype": "text/x-python",
   "name": "python",
   "nbconvert_exporter": "python",
   "pygments_lexer": "ipython3",
   "version": "3.9.13"
  },
  "orig_nbformat": 4
 },
 "nbformat": 4,
 "nbformat_minor": 2
}
