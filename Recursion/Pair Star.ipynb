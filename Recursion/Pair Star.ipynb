{
 "cells": [
  {
   "cell_type": "code",
   "execution_count": 2,
   "id": "7139989d",
   "metadata": {},
   "outputs": [],
   "source": [
    "def pair(str):\n",
    "    if len(str)==0 or len(str)==1:\n",
    "        return str\n",
    "    if len(str)==2 and str[0]==str[1]:\n",
    "        return str[0]+'*'+str[1]\n",
    "    if str[0]==str[1]:\n",
    "        smallstr=pair(str[2:])\n",
    "        if str[1]==smallstr[0]:\n",
    "            return str[0]+'*'+str[1]+'*'+smallstr\n",
    "        return str[0]+'*'+str[1]+smallstr\n",
    "    smallstr=pair(str[1:])\n",
    "    if str[0]==smallstr[0]:\n",
    "        return str[0]+'*'+smallstr\n",
    "    return str[0]+smallstr\n",
    "\n",
    "print(pair(input()))"
   ]
  },
  {
   "cell_type": "code",
   "execution_count": 3,
   "id": "dd7378ee",
   "metadata": {},
   "outputs": [
    {
     "name": "stdout",
     "output_type": "stream",
     "text": [
      "hello\n",
      "hel*lo\n"
     ]
    }
   ],
   "source": [
    "print(pair(input()))"
   ]
  },
  {
   "cell_type": "code",
   "execution_count": null,
   "id": "f870b825",
   "metadata": {},
   "outputs": [],
   "source": []
  },
  {
   "cell_type": "code",
   "execution_count": null,
   "id": "ff0c0644",
   "metadata": {},
   "outputs": [],
   "source": []
  },
  {
   "cell_type": "code",
   "execution_count": null,
   "id": "6f9e45f4",
   "metadata": {},
   "outputs": [],
   "source": []
  },
  {
   "cell_type": "code",
   "execution_count": null,
   "id": "421e0372",
   "metadata": {},
   "outputs": [],
   "source": []
  },
  {
   "cell_type": "code",
   "execution_count": null,
   "id": "2c3839c1",
   "metadata": {},
   "outputs": [],
   "source": []
  },
  {
   "cell_type": "code",
   "execution_count": null,
   "id": "15be418c",
   "metadata": {},
   "outputs": [],
   "source": []
  },
  {
   "cell_type": "code",
   "execution_count": null,
   "id": "77a3a9e0",
   "metadata": {},
   "outputs": [],
   "source": []
  },
  {
   "cell_type": "code",
   "execution_count": null,
   "id": "7bb1fd65",
   "metadata": {},
   "outputs": [],
   "source": []
  },
  {
   "cell_type": "code",
   "execution_count": null,
   "id": "37e40ff9",
   "metadata": {},
   "outputs": [],
   "source": []
  },
  {
   "cell_type": "code",
   "execution_count": null,
   "id": "d972c572",
   "metadata": {},
   "outputs": [],
   "source": []
  },
  {
   "cell_type": "code",
   "execution_count": null,
   "id": "567c41a4",
   "metadata": {},
   "outputs": [],
   "source": []
  }
 ],
 "metadata": {
  "kernelspec": {
   "display_name": "Python 3 (ipykernel)",
   "language": "python",
   "name": "python3"
  },
  "language_info": {
   "codemirror_mode": {
    "name": "ipython",
    "version": 3
   },
   "file_extension": ".py",
   "mimetype": "text/x-python",
   "name": "python",
   "nbconvert_exporter": "python",
   "pygments_lexer": "ipython3",
   "version": "3.9.12"
  }
 },
 "nbformat": 4,
 "nbformat_minor": 5
}
