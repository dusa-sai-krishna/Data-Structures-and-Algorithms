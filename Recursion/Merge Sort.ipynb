{
 "cells": [
  {
   "cell_type": "code",
   "execution_count": 1,
   "id": "0ad880c8",
   "metadata": {},
   "outputs": [],
   "source": [
    "def merge(s1,s2,arr):\n",
    "    i=0\n",
    "    j=0\n",
    "    k=0\n",
    "    while i<len(s1) and j<len(s2):\n",
    "        if(s1[i]>s2[j]):\n",
    "            arr[k]=s2[j]\n",
    "            j=j+1\n",
    "            k=k+1\n",
    "        else:\n",
    "            arr[k]=s1[i]\n",
    "            i=i+1\n",
    "            k=k+1\n",
    "            \n",
    "    while i<len(s1):\n",
    "        arr[k]=s1[i]\n",
    "        i=i+1\n",
    "        k=k+1\n",
    "            \n",
    "    while j<len(s2):\n",
    "        arr[k]=s2[j]\n",
    "        j=j+1\n",
    "        k=k+1"
   ]
  },
  {
   "cell_type": "code",
   "execution_count": 2,
   "id": "d5e24ccd",
   "metadata": {},
   "outputs": [],
   "source": [
    "def mergesort(arr):\n",
    "    if len(arr)==0 or len(arr)==1:\n",
    "        return arr\n",
    "    mid=len(arr)//2\n",
    "    s1=arr[0:mid]\n",
    "    s2=arr[mid:]\n",
    "    mergesort(s1)\n",
    "    mergesort(s2)\n",
    "    merge(s1,s2,arr)"
   ]
  },
  {
   "cell_type": "code",
   "execution_count": 3,
   "id": "031869bf",
   "metadata": {},
   "outputs": [
    {
     "name": "stdout",
     "output_type": "stream",
     "text": [
      "15 68 4 8 941 3 45\n",
      "[3, 4, 8, 15, 45, 68, 941]\n"
     ]
    }
   ],
   "source": [
    "#input()\n",
    "lst=[int(i) for i in input().split()]\n",
    "mergesort(lst)\n",
    "print(lst)"
   ]
  },
  {
   "cell_type": "code",
   "execution_count": null,
   "id": "4167377c",
   "metadata": {},
   "outputs": [],
   "source": []
  },
  {
   "cell_type": "code",
   "execution_count": null,
   "id": "bac70530",
   "metadata": {},
   "outputs": [],
   "source": []
  },
  {
   "cell_type": "code",
   "execution_count": 3,
   "id": "bfcb6b1e",
   "metadata": {},
   "outputs": [
    {
     "name": "stdout",
     "output_type": "stream",
     "text": [
      "5\n",
      "1 4 5 7 8 \n",
      "1 4 5 7 8\n"
     ]
    }
   ],
   "source": [
    "def merge(s1,s2,arr):\n",
    "    i=0\n",
    "    j=0\n",
    "    k=0\n",
    "    while i<len(s1) and j<len(s2):\n",
    "        if(s1[i]>s2[j]):\n",
    "            arr[k]=s2[j]\n",
    "            k=k+1\n",
    "            j=j+1\n",
    "        else:\n",
    "            arr[k]=s1[i]\n",
    "            k=k+1\n",
    "            i=i+1\n",
    "    while  i<len(s1):\n",
    "        arr[k]=s1[i]\n",
    "        i=i+1\n",
    "        k=k+1\n",
    "    while j<len(s2):\n",
    "        arr[k]=s2[j]\n",
    "        k=k+1\n",
    "        j=j+1\n",
    "            \n",
    "def mergeSort(arr,x,y):\n",
    "    # Please add your code here\n",
    "    if len(arr)==0 or len(arr)==1:\n",
    "        return arr\n",
    "    mid=len(arr)//2\n",
    "    s1=arr[:mid]\n",
    "    s2=arr[mid:]\n",
    "    mergeSort(s1,0,0)\n",
    "    mergeSort(s2,0,0)\n",
    "    merge(s1,s2,arr)\n",
    "# Main\n",
    "n=int(input())\n",
    "arr=list(int(i) for i in input().strip().split(' '))\n",
    "mergeSort(arr,0,0)\n",
    "print(*arr)\n"
   ]
  },
  {
   "cell_type": "code",
   "execution_count": null,
   "id": "795d5aaf",
   "metadata": {},
   "outputs": [],
   "source": []
  },
  {
   "cell_type": "code",
   "execution_count": null,
   "id": "faa2aeb9",
   "metadata": {},
   "outputs": [],
   "source": []
  },
  {
   "cell_type": "code",
   "execution_count": 1,
   "id": "b7a55465",
   "metadata": {},
   "outputs": [],
   "source": [
    "def mergeSort2(arr,si,ei):\n",
    "    if si>=ei:\n",
    "        return arr\n",
    "    #calculate the mid \n",
    "    mid=(si+ei)//2\n",
    "    s1=mergeSort2(arr,si,mid-1)\n",
    "    s2=mergeSort2(arr,mid,ei)\n",
    "    #Let's rearrange\n",
    "    i=0\n",
    "    j=0\n",
    "    k=0\n",
    "    while i<mid and j<ei+1:\n",
    "        if s1[i]<s2[j]:\n",
    "            arr[k]=s1[i]\n",
    "            i=i+1\n",
    "        else:\n",
    "            arr[k]=s2[j]\n",
    "            j+=1\n",
    "        k+=1\n",
    "       \n",
    "    while i<mid:\n",
    "        arr[k]=s1[i]\n",
    "        i+=1\n",
    "        k+=1\n",
    "        \n",
    "    while j<ei+1:\n",
    "        arr[k]=s2[j]\n",
    "        j+=1\n",
    "        k+=1\n",
    "    return arr"
   ]
  },
  {
   "cell_type": "code",
   "execution_count": null,
   "id": "d8781b5f",
   "metadata": {},
   "outputs": [
    {
     "name": "stdout",
     "output_type": "stream",
     "text": [
      "1 5 9 7\n"
     ]
    }
   ],
   "source": [
    "arr=[int(i) for i in input().split()]\n",
    "mergeSort2(arr,0,len(arr)-1)"
   ]
  },
  {
   "cell_type": "code",
   "execution_count": null,
   "id": "f162f0c6",
   "metadata": {},
   "outputs": [],
   "source": []
  }
 ],
 "metadata": {
  "kernelspec": {
   "display_name": "Python 3 (ipykernel)",
   "language": "python",
   "name": "python3"
  },
  "language_info": {
   "codemirror_mode": {
    "name": "ipython",
    "version": 3
   },
   "file_extension": ".py",
   "mimetype": "text/x-python",
   "name": "python",
   "nbconvert_exporter": "python",
   "pygments_lexer": "ipython3",
   "version": "3.9.13"
  }
 },
 "nbformat": 4,
 "nbformat_minor": 5
}
