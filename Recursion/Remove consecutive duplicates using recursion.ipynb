{
 "cells": [
  {
   "cell_type": "code",
   "execution_count": 7,
   "id": "dd9a2c87",
   "metadata": {},
   "outputs": [],
   "source": [
    "def remove(str):\n",
    "    if len(str)==0 or len(str)==1:\n",
    "        return str\n",
    "    if str[0]==str[1] and len(str)>2:\n",
    "        smallstr=remove(str[2:])\n",
    "        if str[1]==smallstr[0]:\n",
    "            return smallstr\n",
    "        else:\n",
    "            return str[1]+smallstr\n",
    "    else:\n",
    "        smallstr=remove(str[1:])\n",
    "        return str[0]+smallstr"
   ]
  },
  {
   "cell_type": "code",
   "execution_count": 8,
   "id": "a9ad3963",
   "metadata": {},
   "outputs": [
    {
     "name": "stdout",
     "output_type": "stream",
     "text": [
      "baabbsbbahsahbahshhbhsjjjj\n",
      "babsbahsahbahshbhsjj\n"
     ]
    }
   ],
   "source": [
    "print(remove(input()))"
   ]
  },
  {
   "cell_type": "code",
   "execution_count": null,
   "id": "9504d2f3",
   "metadata": {},
   "outputs": [],
   "source": []
  },
  {
   "cell_type": "code",
   "execution_count": null,
   "id": "c0ade3f6",
   "metadata": {},
   "outputs": [],
   "source": []
  },
  {
   "cell_type": "code",
   "execution_count": null,
   "id": "6065057c",
   "metadata": {},
   "outputs": [],
   "source": []
  },
  {
   "cell_type": "code",
   "execution_count": null,
   "id": "e02947bc",
   "metadata": {},
   "outputs": [],
   "source": []
  },
  {
   "cell_type": "code",
   "execution_count": null,
   "id": "1e3dbe4f",
   "metadata": {},
   "outputs": [],
   "source": []
  },
  {
   "cell_type": "code",
   "execution_count": null,
   "id": "a7d67214",
   "metadata": {},
   "outputs": [],
   "source": []
  }
 ],
 "metadata": {
  "kernelspec": {
   "display_name": "Python 3 (ipykernel)",
   "language": "python",
   "name": "python3"
  },
  "language_info": {
   "codemirror_mode": {
    "name": "ipython",
    "version": 3
   },
   "file_extension": ".py",
   "mimetype": "text/x-python",
   "name": "python",
   "nbconvert_exporter": "python",
   "pygments_lexer": "ipython3",
   "version": "3.9.12"
  }
 },
 "nbformat": 4,
 "nbformat_minor": 5
}
