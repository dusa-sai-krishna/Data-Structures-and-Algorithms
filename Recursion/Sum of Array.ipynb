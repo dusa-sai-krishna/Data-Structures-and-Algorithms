{
 "cells": [
  {
   "cell_type": "code",
   "execution_count": 1,
   "id": "40821086",
   "metadata": {},
   "outputs": [],
   "source": [
    "def sum_array(arr):\n",
    "    if(len(arr)==0):\n",
    "        return 0\n",
    "    elif (len(arr)==1):\n",
    "        return arr[0]\n",
    "    else:\n",
    "        return arr[0]+sum_array(arr[1:])"
   ]
  },
  {
   "cell_type": "code",
   "execution_count": 3,
   "id": "8621110a",
   "metadata": {},
   "outputs": [
    {
     "name": "stdout",
     "output_type": "stream",
     "text": [
      "1 2 3 4 5\n",
      "The sum of the array is: 15\n"
     ]
    }
   ],
   "source": [
    "#input\n",
    "lst=[int(i) for i in input().split()]\n",
    "print(\"The sum of the array is:\",sum_array(lst))"
   ]
  },
  {
   "cell_type": "code",
   "execution_count": null,
   "id": "dba9d839",
   "metadata": {},
   "outputs": [],
   "source": []
  },
  {
   "cell_type": "code",
   "execution_count": null,
   "id": "aa3f806b",
   "metadata": {},
   "outputs": [],
   "source": []
  },
  {
   "cell_type": "code",
   "execution_count": null,
   "id": "ab743e5f",
   "metadata": {},
   "outputs": [],
   "source": []
  },
  {
   "cell_type": "code",
   "execution_count": null,
   "id": "e2bc5026",
   "metadata": {},
   "outputs": [],
   "source": []
  }
 ],
 "metadata": {
  "kernelspec": {
   "display_name": "Python 3 (ipykernel)",
   "language": "python",
   "name": "python3"
  },
  "language_info": {
   "codemirror_mode": {
    "name": "ipython",
    "version": 3
   },
   "file_extension": ".py",
   "mimetype": "text/x-python",
   "name": "python",
   "nbconvert_exporter": "python",
   "pygments_lexer": "ipython3",
   "version": "3.9.12"
  }
 },
 "nbformat": 4,
 "nbformat_minor": 5
}
