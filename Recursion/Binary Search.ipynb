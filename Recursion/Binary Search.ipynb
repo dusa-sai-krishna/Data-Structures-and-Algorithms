{
 "cells": [
  {
   "cell_type": "code",
   "execution_count": 2,
   "id": "0505663c",
   "metadata": {},
   "outputs": [],
   "source": [
    "def BinarySearch(arr,x,si=0,ei=len(arr)):\n",
    "    if si>ei:\n",
    "        return -1\n",
    "    mid=(si+ei)//2\n",
    "    if(arr[mid]==x):\n",
    "        return mid\n",
    "    elif (arr[mid]>x):\n",
    "        return BinarySearch(arr,x,si,mid-1)\n",
    "    else:\n",
    "        return BinarySearch(arr,x,mid+1,ei)"
   ]
  },
  {
   "cell_type": "code",
   "execution_count": null,
   "id": "837ff251",
   "metadata": {},
   "outputs": [
    {
     "name": "stdout",
     "output_type": "stream",
     "text": [
      "1 2 3 4 7 8 9\n",
      "Enter the number to be found\n"
     ]
    }
   ],
   "source": [
    "#input\n",
    "arr=[int(i) for i in input().split()]\n",
    "arr.sort()\n",
    "print(\"Enter the number to be found\")\n",
    "x=int(input())\n",
    "print(BinarySearch(arr,x))\n"
   ]
  },
  {
   "cell_type": "code",
   "execution_count": null,
   "id": "dafed9ea",
   "metadata": {},
   "outputs": [],
   "source": []
  },
  {
   "cell_type": "code",
   "execution_count": null,
   "id": "da78626c",
   "metadata": {},
   "outputs": [],
   "source": []
  },
  {
   "cell_type": "code",
   "execution_count": null,
   "id": "5cf3efc6",
   "metadata": {},
   "outputs": [],
   "source": []
  },
  {
   "cell_type": "code",
   "execution_count": null,
   "id": "ea1e391d",
   "metadata": {},
   "outputs": [],
   "source": []
  }
 ],
 "metadata": {
  "kernelspec": {
   "display_name": "Python 3 (ipykernel)",
   "language": "python",
   "name": "python3"
  },
  "language_info": {
   "codemirror_mode": {
    "name": "ipython",
    "version": 3
   },
   "file_extension": ".py",
   "mimetype": "text/x-python",
   "name": "python",
   "nbconvert_exporter": "python",
   "pygments_lexer": "ipython3",
   "version": "3.9.13"
  }
 },
 "nbformat": 4,
 "nbformat_minor": 5
}
