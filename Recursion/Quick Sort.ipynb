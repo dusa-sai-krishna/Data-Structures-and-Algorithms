{
 "cells": [
  {
   "cell_type": "code",
   "execution_count": 5,
   "id": "cd834f8a",
   "metadata": {},
   "outputs": [],
   "source": [
    "def quicksort(arr,si,e):\n",
    "    if si>=e:\n",
    "        return arr\n",
    "    p=partition(arr,si,e)\n",
    "    quicksort(arr,si,p-1)\n",
    "    quicksort(arr,p+1,e)\n",
    "    "
   ]
  },
  {
   "cell_type": "code",
   "execution_count": 6,
   "id": "75f99e24",
   "metadata": {},
   "outputs": [],
   "source": [
    "def partition(arr,si,e):\n",
    "    p=arr[si]\n",
    "    #finding count of elements less than p\n",
    "    count=0\n",
    "    for i in range(si,e+1):\n",
    "        if arr[i]<p:\n",
    "            count=count+1\n",
    "    #changing pos of p\n",
    "    arr[si+count],arr[si]=arr[si],arr[si+count]\n",
    "    i=si\n",
    "    j=e\n",
    "    while i<j:\n",
    "        if arr[i]<p:\n",
    "            i=i+1\n",
    "        elif arr[j]>=p:\n",
    "            j=j-1\n",
    "        else:\n",
    "            arr[i],arr[j]=arr[j],arr[i]\n",
    "    return si+count\n",
    "        "
   ]
  },
  {
   "cell_type": "code",
   "execution_count": 7,
   "id": "444de0f4",
   "metadata": {},
   "outputs": [
    {
     "name": "stdout",
     "output_type": "stream",
     "text": [
      "1 2 4 7 8 6 3\n",
      "[1, 2, 3, 4, 6, 7, 8]\n"
     ]
    }
   ],
   "source": [
    "#input()\n",
    "arr=[int(i) for i in input().split()]\n",
    "quicksort(arr,0,len(arr)-1)\n",
    "print(arr)"
   ]
  },
  {
   "cell_type": "code",
   "execution_count": null,
   "id": "b77f9f47",
   "metadata": {},
   "outputs": [],
   "source": []
  },
  {
   "cell_type": "code",
   "execution_count": 9,
   "id": "ac243cb2",
   "metadata": {},
   "outputs": [],
   "source": [
    "def partition(arr):\n",
    "    #let's take first ele to be pivot\n",
    "    pivot=arr[0]\n",
    "    pi=0\n",
    "    #Find number of elements less than pivot in the array\n",
    "    count=0\n",
    "    for i in arr:\n",
    "        if pivot>i:\n",
    "            count+=1\n",
    "    #swap the elements\n",
    "    arr[pi],arr[pi+count]=arr[pi+count],arr[pi]\n",
    "    pi=pi+count\n",
    "    #Rearrange the elements\n",
    "    si=0\n",
    "    ei=len(arr)-1\n",
    "    while si<=ei:\n",
    "        if arr[si]<pivot:\n",
    "            si+=1\n",
    "        elif arr[ei]>pivot:\n",
    "            ei-=1\n",
    "        else:\n",
    "            arr[si],arr[ei]=arr[ei],arr[si]\n",
    "            si+=1\n",
    "            ei-=1\n",
    "    return pi\n",
    "\n",
    "def quickSort(arr):\n",
    "    #get pivot index\n",
    "    if len(arr) in (0,1):\n",
    "        return arr\n",
    "    pi=partition(arr)\n",
    "    quickSort(arr[:pi])\n",
    "    quickSort(arr[pi+1:])"
   ]
  },
  {
   "cell_type": "code",
   "execution_count": 10,
   "id": "93e1e9a0",
   "metadata": {},
   "outputs": [
    {
     "name": "stdout",
     "output_type": "stream",
     "text": [
      "1 5 9 8 7\n"
     ]
    },
    {
     "data": {
      "text/plain": [
       "[1, 5, 9, 8, 7]"
      ]
     },
     "execution_count": 10,
     "metadata": {},
     "output_type": "execute_result"
    }
   ],
   "source": [
    "arr=[int(i) for i in input().split()]\n",
    "quickSort(arr)\n",
    "arr"
   ]
  },
  {
   "cell_type": "code",
   "execution_count": null,
   "id": "13434374",
   "metadata": {},
   "outputs": [],
   "source": []
  },
  {
   "cell_type": "code",
   "execution_count": null,
   "id": "ee91f3f7",
   "metadata": {},
   "outputs": [],
   "source": []
  },
  {
   "cell_type": "code",
   "execution_count": null,
   "id": "07abc222",
   "metadata": {},
   "outputs": [],
   "source": []
  },
  {
   "cell_type": "code",
   "execution_count": null,
   "id": "fcd8365e",
   "metadata": {},
   "outputs": [],
   "source": []
  },
  {
   "cell_type": "code",
   "execution_count": null,
   "id": "e62501d5",
   "metadata": {},
   "outputs": [],
   "source": []
  }
 ],
 "metadata": {
  "kernelspec": {
   "display_name": "Python 3 (ipykernel)",
   "language": "python",
   "name": "python3"
  },
  "language_info": {
   "codemirror_mode": {
    "name": "ipython",
    "version": 3
   },
   "file_extension": ".py",
   "mimetype": "text/x-python",
   "name": "python",
   "nbconvert_exporter": "python",
   "pygments_lexer": "ipython3",
   "version": "3.9.13"
  }
 },
 "nbformat": 4,
 "nbformat_minor": 5
}
