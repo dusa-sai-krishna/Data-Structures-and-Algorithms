{
 "cells": [
  {
   "cell_type": "code",
   "execution_count": 1,
   "metadata": {},
   "outputs": [],
   "source": [
    "#A node should have two attr\n",
    "class Node:\n",
    "    def __init__(self,data):\n",
    "        self.data=data\n",
    "        self.next=None\n",
    "\n",
    "#Let's create nodes\n",
    "def takeInput():\n",
    "    print(\"Enter the elements with a space\")\n",
    "    lst=[int(i) for i in input().split()]\n",
    "    head=None\n",
    "    for ele in lst:\n",
    "        if ele==-1:\n",
    "            break\n",
    "        else:\n",
    "            newNode=Node(ele)\n",
    "            if head is  None:\n",
    "                head=newNode\n",
    "            else:\n",
    "                curr=head\n",
    "                while curr.next is not None:\n",
    "                    curr=curr.next\n",
    "                curr.next=newNode\n",
    "    return head\n",
    "\n",
    "\n",
    "#let's print the nodes\n",
    "def printll(head):\n",
    "    while head is not None:\n",
    "        print(head.data,end=\" \")\n",
    "        head=head.next\n",
    "    print(\"None\")\n",
    "    \n",
    "    \n",
    "def lengthLL(head):\n",
    "    curr=head\n",
    "    count=0\n",
    "    while curr is not None:\n",
    "        count+=1\n",
    "        curr=curr.next\n",
    "    return count\n",
    "    "
   ]
  },
  {
   "cell_type": "code",
   "execution_count": 2,
   "metadata": {},
   "outputs": [],
   "source": [
    "\n",
    "\n",
    "\n",
    "def pairWiseSwapLL(head):\n",
    "    if head is None:\n",
    "        return head\n",
    "    length=lengthLL(head)\n",
    "    if length in (0,1):\n",
    "        return head\n",
    "    prev=None\n",
    "    curr=head\n",
    "    next=curr.next\n",
    "    for i in range(length//2):\n",
    "        if prev is None:\n",
    "            print('prev is None, assigning head')\n",
    "            curr.next=next.next\n",
    "            next.next=curr\n",
    "            head=next\n",
    "            prev=curr\n",
    "            curr=curr.next\n",
    "            print(curr.data,prev.data)\n",
    "            if curr is None:\n",
    "                return head\n",
    "            else:\n",
    "                next=curr.next\n",
    "        else:\n",
    "            print('Prev is not None')\n",
    "            print(prev.data,curr.data,next.data)\n",
    "            curr.next=next.next\n",
    "            prev.next=next\n",
    "            next.next=curr\n",
    "            prev=curr\n",
    "            curr=curr.next\n",
    "            if curr is None:\n",
    "                return head\n",
    "            else:\n",
    "                next=curr.next\n",
    "    return head            "
   ]
  },
  {
   "cell_type": "code",
   "execution_count": 4,
   "metadata": {},
   "outputs": [
    {
     "name": "stdout",
     "output_type": "stream",
     "text": [
      "Enter the elements with a space\n",
      "1 2 3 4 5 None\n"
     ]
    }
   ],
   "source": [
    "#take input\n",
    "head=takeInput()\n",
    "printll(head)\n"
   ]
  },
  {
   "cell_type": "code",
   "execution_count": 5,
   "metadata": {},
   "outputs": [],
   "source": [
    "def even_odd(head):\n",
    "    #define even and odd heads\n",
    "    eh,et,oh,ot=None,None,None,None\n",
    "    curr,count=head,1\n",
    "    \n",
    "    while curr!=None:\n",
    "        if count%2==0: #even\n",
    "            if eh==None:\n",
    "                eh=et=curr\n",
    "            else:\n",
    "                et.next=curr\n",
    "                et=et.next\n",
    "        else: #odd\n",
    "            if oh==None:\n",
    "                oh=ot=curr\n",
    "            else:\n",
    "                ot.next=curr\n",
    "                ot=ot.next\n",
    "        curr=curr.next\n",
    "        count+=1\n",
    "    et.next,ot.next=None,None\n",
    "    return oh,eh\n",
    "    \n",
    "    \n"
   ]
  },
  {
   "cell_type": "code",
   "execution_count": 6,
   "metadata": {},
   "outputs": [
    {
     "name": "stdout",
     "output_type": "stream",
     "text": [
      "1 3 5 None\n",
      "2 4 None\n"
     ]
    }
   ],
   "source": [
    "oh,eh=even_odd(head)\n",
    "printll(oh)\n",
    "printll(eh)"
   ]
  },
  {
   "cell_type": "markdown",
   "metadata": {},
   "source": [
    "Create  a function to segregate students based on their branches"
   ]
  },
  {
   "cell_type": "code",
   "execution_count": 17,
   "metadata": {},
   "outputs": [],
   "source": [
    "# Create linked list baased on the branches of the students\n",
    "class Student:\n",
    "    def __init__(self,name,rn,branch):\n",
    "        self.name=name\n",
    "        self.rn=rn\n",
    "        self.branch=branch\n",
    "        self.next=None\n",
    "\n",
    "#Let's create nodes\n",
    "def takeInput():\n",
    "    t=int(input('Number of students'))\n",
    "    lst=[]\n",
    "    for i in range(t):\n",
    "        name=input('Enter name')\n",
    "        rn=input('Enter roll number')\n",
    "        branch=input('Enter branch')\n",
    "        lst.append((name,rn,branch))\n",
    "    head=None\n",
    "    for name,rn,branch in lst:\n",
    "        if name==-1:\n",
    "            break\n",
    "        else:\n",
    "            newStudent=Student(name,rn,branch)\n",
    "            if head is  None:\n",
    "                head=newStudent\n",
    "            else:\n",
    "                curr=head\n",
    "                while curr.next is not None:\n",
    "                    curr=curr.next\n",
    "                curr.next=newStudent\n",
    "    return head\n",
    "\n",
    "\n",
    "#let's print the nodes\n",
    "def printll_branch(head):\n",
    "    while head is not None:\n",
    "        print(f\"{head.name} {head.rn} {head.branch}\")\n",
    "        head=head.next\n",
    "    print(\"None\")\n",
    "    \n",
    "    \n",
    "def lengthLL(head):\n",
    "    curr=head\n",
    "    count=0\n",
    "    while curr is not None:\n",
    "        count+=1\n",
    "        curr=curr.next\n",
    "    return count\n",
    "    "
   ]
  },
  {
   "cell_type": "code",
   "execution_count": 12,
   "metadata": {},
   "outputs": [],
   "source": [
    "# Create students\n",
    "head=takeInput()"
   ]
  },
  {
   "cell_type": "code",
   "execution_count": 15,
   "metadata": {},
   "outputs": [
    {
     "name": "stdout",
     "output_type": "stream",
     "text": [
      "sai 101 CSE\n",
      "krishna 102 Non-CSE\n",
      "raju 103 CSE\n",
      "ravi 104 CSE\n",
      "priyanka 105 Non-CSE\n",
      "None\n"
     ]
    }
   ],
   "source": [
    "printll(head)"
   ]
  },
  {
   "cell_type": "code",
   "execution_count": 16,
   "metadata": {},
   "outputs": [],
   "source": [
    "def segregate_by_branch(head):\n",
    "    #define even and odd heads\n",
    "    cse_h,cse_t,ncse_h,ncse_t=None,None,None,None\n",
    "    curr=head\n",
    "    \n",
    "    while curr!=None:\n",
    "        if curr.branch=='CSE':\n",
    "            if cse_h==None:\n",
    "                cse_h=cse_t=curr\n",
    "            else:\n",
    "                cse_t.next=curr\n",
    "                cse_t=cse_t.next\n",
    "        else:\n",
    "            if ncse_h==None:\n",
    "                ncse_h=ncse_t=curr\n",
    "            else:\n",
    "                ncse_t.next=curr\n",
    "                ncse_t=ncse_t.next\n",
    "        curr=curr.next\n",
    "    cse_t.next,ncse_t.next=None,None\n",
    "    return cse_h,ncse_h"
   ]
  },
  {
   "cell_type": "code",
   "execution_count": 18,
   "metadata": {},
   "outputs": [
    {
     "name": "stdout",
     "output_type": "stream",
     "text": [
      "sai 101 CSE\n",
      "raju 103 CSE\n",
      "ravi 104 CSE\n",
      "None\n",
      "krishna 102 Non-CSE\n",
      "priyanka 105 Non-CSE\n",
      "None\n"
     ]
    }
   ],
   "source": [
    "cse_h,ncse_h=segregate_by_branch(head)\n",
    "printll_branch(cse_h)\n",
    "printll_branch(ncse_h)"
   ]
  },
  {
   "cell_type": "code",
   "execution_count": null,
   "metadata": {},
   "outputs": [],
   "source": []
  }
 ],
 "metadata": {
  "kernelspec": {
   "display_name": "base",
   "language": "python",
   "name": "python3"
  },
  "language_info": {
   "codemirror_mode": {
    "name": "ipython",
    "version": 3
   },
   "file_extension": ".py",
   "mimetype": "text/x-python",
   "name": "python",
   "nbconvert_exporter": "python",
   "pygments_lexer": "ipython3",
   "version": "3.9.18"
  }
 },
 "nbformat": 4,
 "nbformat_minor": 2
}
