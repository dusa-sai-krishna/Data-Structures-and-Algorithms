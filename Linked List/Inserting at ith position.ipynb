{
 "cells": [
  {
   "cell_type": "code",
   "execution_count": 6,
   "id": "10450f86",
   "metadata": {},
   "outputs": [],
   "source": [
    "#creating nodes\n",
    "class Node:\n",
    "    def __init__(self,data):\n",
    "        self.data=data\n",
    "        self.next=None\n",
    "\n",
    "def takeInput():\n",
    "    lst=[int(i) for i in input().split()]\n",
    "    head=None\n",
    "    tail=None\n",
    "    for ele in lst:\n",
    "        if ele==-1:\n",
    "            break\n",
    "        newNode=Node(ele)\n",
    "        if head==None:\n",
    "            head=newNode\n",
    "            tail=newNode\n",
    "        else:\n",
    "            tail.next=newNode\n",
    "            tail=newNode\n",
    "    return head\n",
    "\n",
    "def printll(head):\n",
    "    curr=head\n",
    "    while curr is not None:\n",
    "        print(curr.data,end=\" \")\n",
    "        curr=curr.next\n",
    "    print(None)\n",
    "def length(head):\n",
    "    temp=head\n",
    "    count=0\n",
    "    while temp is not None:\n",
    "        count+=1\n",
    "        temp=temp.next\n",
    "    return count"
   ]
  },
  {
   "cell_type": "code",
   "execution_count": 2,
   "id": "bcf5f3c2",
   "metadata": {},
   "outputs": [
    {
     "name": "stdout",
     "output_type": "stream",
     "text": [
      "1 7 8 9 4 5 9 -1\n",
      "1 7 8 9 4 5 9 None\n"
     ]
    }
   ],
   "source": [
    "head=takeInput()\n",
    "printll(head)"
   ]
  },
  {
   "cell_type": "code",
   "execution_count": 9,
   "id": "cc349353",
   "metadata": {},
   "outputs": [
    {
     "name": "stdout",
     "output_type": "stream",
     "text": [
      "Enter the pos:3\n",
      "Enter the ele:100\n"
     ]
    }
   ],
   "source": [
    "#Let's insert\n",
    "pos=int(input(\"Enter the pos:\"))\n",
    "ele=int(input(\"Enter the ele:\"))\n",
    "def insert(head,pos,ele):\n",
    "    if pos<0 or pos>length(head):\n",
    "        return head\n",
    "    else:\n",
    "        prev=None\n",
    "        curr=head\n",
    "        count=0\n",
    "        while count<pos:\n",
    "            prev=curr\n",
    "            curr=curr.next\n",
    "            count+=1\n",
    "        #creating new node\n",
    "        newNode=Node(ele)\n",
    "        if prev==None:\n",
    "            head=newNode\n",
    "            head.next=curr\n",
    "            return head\n",
    "        else:\n",
    "            prev.next=newNode\n",
    "            newNode.next=curr\n",
    "            return head"
   ]
  },
  {
   "cell_type": "code",
   "execution_count": 10,
   "id": "4cee0e47",
   "metadata": {},
   "outputs": [
    {
     "name": "stdout",
     "output_type": "stream",
     "text": [
      "1 7 100 8 9 4 5 9 None\n"
     ]
    }
   ],
   "source": [
    "#after insert\n",
    "head=insert(head,2,100)\n",
    "printll(head)"
   ]
  },
  {
   "cell_type": "code",
   "execution_count": 11,
   "id": "ee971382",
   "metadata": {},
   "outputs": [],
   "source": [
    "#Let's delete a node\n",
    "def delete(head,pos):\n",
    "    if pos<0 or pos>length(head):\n",
    "            return head\n",
    "    else:\n",
    "        prev=None\n",
    "        curr=head\n",
    "        count=0\n",
    "        while count<pos:\n",
    "            prev=curr\n",
    "            curr=curr.next\n",
    "            count+=1\n",
    "        curr=curr.next\n",
    "        if prev==None:\n",
    "            curr=curr.next\n",
    "            head=curr\n",
    "            return head\n",
    "        else:\n",
    "            prev.next=curr\n",
    "            return head"
   ]
  },
  {
   "cell_type": "code",
   "execution_count": 12,
   "id": "07a50bf9",
   "metadata": {},
   "outputs": [
    {
     "name": "stdout",
     "output_type": "stream",
     "text": [
      "1 7 8 9 4 5 9 None\n"
     ]
    }
   ],
   "source": [
    "#after delete\n",
    "head=delete(head,2)\n",
    "printll(head)"
   ]
  },
  {
   "cell_type": "code",
   "execution_count": null,
   "id": "deff22c4",
   "metadata": {},
   "outputs": [],
   "source": []
  }
 ],
 "metadata": {
  "kernelspec": {
   "display_name": "Python 3 (ipykernel)",
   "language": "python",
   "name": "python3"
  },
  "language_info": {
   "codemirror_mode": {
    "name": "ipython",
    "version": 3
   },
   "file_extension": ".py",
   "mimetype": "text/x-python",
   "name": "python",
   "nbconvert_exporter": "python",
   "pygments_lexer": "ipython3",
   "version": "3.9.13"
  }
 },
 "nbformat": 4,
 "nbformat_minor": 5
}
