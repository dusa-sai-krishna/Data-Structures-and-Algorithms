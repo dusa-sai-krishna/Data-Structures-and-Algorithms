{
 "cells": [
  {
   "cell_type": "code",
   "execution_count": 3,
   "id": "ec79ddc1",
   "metadata": {},
   "outputs": [],
   "source": [
    "#creating nodes\n",
    "class Node:\n",
    "    def __init__(self,data):\n",
    "        self.data=data\n",
    "        self.next=None\n",
    "\n",
    "def takeInput():\n",
    "    lst=[int(i) for i in input().split()]\n",
    "    head=None\n",
    "    tail=None\n",
    "    for ele in lst:\n",
    "        if ele==-1:\n",
    "            break\n",
    "        newNode=Node(ele)\n",
    "        if head==None:\n",
    "            head=newNode\n",
    "            tail=newNode\n",
    "        else:\n",
    "            tail.next=newNode\n",
    "            tail=newNode\n",
    "    return head\n",
    "\n",
    "def printll(head):\n",
    "    curr=head\n",
    "    while curr is not None:\n",
    "        print(curr.data,end=\" \")\n",
    "        curr=curr.next\n",
    "    print(None)\n",
    "def length(head):\n",
    "    temp=head\n",
    "    count=0\n",
    "    while temp is not None:\n",
    "        count+=1\n",
    "        temp=temp.next\n",
    "    return count"
   ]
  },
  {
   "cell_type": "code",
   "execution_count": 4,
   "id": "13ae7cdd",
   "metadata": {},
   "outputs": [
    {
     "name": "stdout",
     "output_type": "stream",
     "text": [
      "1 2 3 4 5 9 -1\n",
      "1 2 3 4 5 9 None\n"
     ]
    }
   ],
   "source": [
    "head=takeInput()\n",
    "printll(head)"
   ]
  },
  {
   "cell_type": "code",
   "execution_count": 8,
   "id": "f75fbb05",
   "metadata": {},
   "outputs": [],
   "source": [
    "# Reverse of Linked List\n",
    "def rev(head):\n",
    "    if head.next is None:\n",
    "        return head\n",
    "    else:\n",
    "        smallhead=rev(head.next)\n",
    "        curr=smallhead\n",
    "        while curr.next is not None:\n",
    "            curr=curr.next\n",
    "        curr.next=head\n",
    "        head.next=None\n",
    "        return smallhead"
   ]
  },
  {
   "cell_type": "code",
   "execution_count": 9,
   "id": "b677c2dd",
   "metadata": {},
   "outputs": [
    {
     "name": "stdout",
     "output_type": "stream",
     "text": [
      "9 5 4 3 2 1 None\n"
     ]
    }
   ],
   "source": [
    "revhead=rev(head)\n",
    "printll(revhead)"
   ]
  },
  {
   "cell_type": "code",
   "execution_count": 14,
   "id": "0b02ead5",
   "metadata": {},
   "outputs": [],
   "source": [
    "#optimizes code\n",
    "# Reverse of Linked List\n",
    "def rev2(head):\n",
    "    if head is None or head.next is None:\n",
    "        return head,head\n",
    "    else:\n",
    "        smallhead,smalltail=rev(head.next)\n",
    "        smalltail.next=head\n",
    "        head.next=None\n",
    "        return smallhead,head"
   ]
  },
  {
   "cell_type": "code",
   "execution_count": 16,
   "id": "1468231e",
   "metadata": {},
   "outputs": [
    {
     "name": "stdout",
     "output_type": "stream",
     "text": [
      "1 2 3 4 5 9 -1\n",
      "9 5 4 3 2 1 None\n"
     ]
    }
   ],
   "source": [
    "head=takeInput()\n",
    "revhead,tail=rev2(head)\n",
    "printll(revhead)"
   ]
  },
  {
   "cell_type": "code",
   "execution_count": 23,
   "id": "fecb3628",
   "metadata": {},
   "outputs": [],
   "source": [
    "#optimizes code\n",
    "# Reverse of Linked List\n",
    "def rev3(head):\n",
    "    if head is None or head.next is None:\n",
    "        return head\n",
    "    else:\n",
    "        smallhead=rev3(head.next)\n",
    "        tail=head.next\n",
    "        tail.next=head\n",
    "        head.next=None\n",
    "        return smallhead"
   ]
  },
  {
   "cell_type": "code",
   "execution_count": 24,
   "id": "c37db35f",
   "metadata": {},
   "outputs": [
    {
     "name": "stdout",
     "output_type": "stream",
     "text": [
      "1 2 3 4 5 6 9 -1\n",
      "9 6 5 4 3 2 1 None\n"
     ]
    }
   ],
   "source": [
    "head=takeInput()\n",
    "printll(rev3(head))"
   ]
  },
  {
   "cell_type": "code",
   "execution_count": 25,
   "id": "81ca6ac7",
   "metadata": {},
   "outputs": [],
   "source": [
    "#iterative\n",
    "def rev4(head):\n",
    "    prev=None\n",
    "    curr=head\n",
    "    while curr is not None:\n",
    "        next=curr.next\n",
    "        curr.next=prev\n",
    "        prev=curr\n",
    "        curr=next\n",
    "    return prev"
   ]
  },
  {
   "cell_type": "code",
   "execution_count": 26,
   "id": "4eaed8e1",
   "metadata": {},
   "outputs": [
    {
     "name": "stdout",
     "output_type": "stream",
     "text": [
      "1 2 3 4 5 6 9 -1\n",
      "1 2 3 4 5 6 9 None\n",
      "9 6 5 4 3 2 1 None\n"
     ]
    }
   ],
   "source": [
    "head=takeInput()\n",
    "printll(head)\n",
    "printll(rev4(head))"
   ]
  },
  {
   "cell_type": "code",
   "execution_count": null,
   "id": "835e3c9a",
   "metadata": {},
   "outputs": [],
   "source": []
  }
 ],
 "metadata": {
  "kernelspec": {
   "display_name": "Python 3 (ipykernel)",
   "language": "python",
   "name": "python3"
  },
  "language_info": {
   "codemirror_mode": {
    "name": "ipython",
    "version": 3
   },
   "file_extension": ".py",
   "mimetype": "text/x-python",
   "name": "python",
   "nbconvert_exporter": "python",
   "pygments_lexer": "ipython3",
   "version": "3.9.13"
  }
 },
 "nbformat": 4,
 "nbformat_minor": 5
}
