{
 "cells": [
  {
   "cell_type": "code",
   "execution_count": 9,
   "id": "d4e1ab42",
   "metadata": {},
   "outputs": [],
   "source": [
    "#A node should have two attr\n",
    "class Node:\n",
    "    def __init__(self,data):\n",
    "        self.data=data\n",
    "        self.next=None\n",
    "\n",
    "#Let's create nodes\n",
    "def takeInput():\n",
    "    print(\"Enter the elements with a space\")\n",
    "    lst=[int(i) for i in input().split()]\n",
    "    head=None\n",
    "    for ele in lst:\n",
    "        if ele==-1:\n",
    "            break\n",
    "        else:\n",
    "            newNode=Node(ele)\n",
    "            if head is  None:\n",
    "                head=newNode\n",
    "            else:\n",
    "                curr=head\n",
    "                while curr.next is not None:\n",
    "                    curr=curr.next\n",
    "                curr.next=newNode\n",
    "    return head\n",
    "\n",
    "\n",
    "    "
   ]
  },
  {
   "cell_type": "code",
   "execution_count": 10,
   "id": "1bade6b4",
   "metadata": {},
   "outputs": [],
   "source": [
    "#let's print the nodes\n",
    "def printll(head):\n",
    "    while head is not None:\n",
    "        print(head.data+\"->\",end=\"\")\n",
    "        head=head.next\n",
    "    print(\"None\")\n",
    "    "
   ]
  },
  {
   "cell_type": "code",
   "execution_count": 5,
   "id": "a27e9463",
   "metadata": {},
   "outputs": [
    {
     "name": "stdout",
     "output_type": "stream",
     "text": [
      "Enter the elements with a space\n",
      "1 2 3\n"
     ]
    }
   ],
   "source": [
    "head=takeinput()"
   ]
  },
  {
   "cell_type": "code",
   "execution_count": 24,
   "id": "3eb0a60c",
   "metadata": {},
   "outputs": [
    {
     "data": {
      "text/plain": [
       "1"
      ]
     },
     "execution_count": 24,
     "metadata": {},
     "output_type": "execute_result"
    }
   ],
   "source": [
    "head.data"
   ]
  },
  {
   "cell_type": "code",
   "execution_count": 28,
   "id": "95367613",
   "metadata": {},
   "outputs": [
    {
     "name": "stdout",
     "output_type": "stream",
     "text": [
      "1 ->4 ->58 ->9 ->7 ->4 ->None\n"
     ]
    }
   ],
   "source": [
    "#Let's print the nodes\n",
    "printll(head)"
   ]
  },
  {
   "cell_type": "code",
   "execution_count": null,
   "id": "cbef803b",
   "metadata": {},
   "outputs": [],
   "source": []
  },
  {
   "cell_type": "code",
   "execution_count": 11,
   "id": "31706f39",
   "metadata": {},
   "outputs": [],
   "source": [
    "#Let's create a more optimized solution\n",
    "def takeInput2():\n",
    "    lst=[int(i) for i in input().split()]#Take input from the user\n",
    "    head=None\n",
    "    for ele in lst:\n",
    "        if ele==-1:\n",
    "            break\n",
    "        else:\n",
    "            newNode=Node(ele)\n",
    "            if head==None:\n",
    "                head=newNode\n",
    "                tail=newNode\n",
    "            else:\n",
    "                tail.next=newNode\n",
    "                tail=tail.next\n",
    "    return head"
   ]
  },
  {
   "cell_type": "code",
   "execution_count": 12,
   "id": "05e6ce42",
   "metadata": {},
   "outputs": [
    {
     "name": "stdout",
     "output_type": "stream",
     "text": [
      "1 2 3 4 5 6 -1\n"
     ]
    },
    {
     "ename": "TypeError",
     "evalue": "unsupported operand type(s) for +: 'int' and 'str'",
     "output_type": "error",
     "traceback": [
      "\u001b[1;31m---------------------------------------------------------------------------\u001b[0m",
      "\u001b[1;31mTypeError\u001b[0m                                 Traceback (most recent call last)",
      "\u001b[1;32m~\\AppData\\Local\\Temp\\ipykernel_5420\\2616158562.py\u001b[0m in \u001b[0;36m<module>\u001b[1;34m\u001b[0m\n\u001b[0;32m      1\u001b[0m \u001b[1;31m#Driver Code\u001b[0m\u001b[1;33m\u001b[0m\u001b[1;33m\u001b[0m\u001b[0m\n\u001b[0;32m      2\u001b[0m \u001b[0mhead\u001b[0m\u001b[1;33m=\u001b[0m\u001b[0mtakeInput2\u001b[0m\u001b[1;33m(\u001b[0m\u001b[1;33m)\u001b[0m\u001b[1;33m\u001b[0m\u001b[1;33m\u001b[0m\u001b[0m\n\u001b[1;32m----> 3\u001b[1;33m \u001b[0mprintll\u001b[0m\u001b[1;33m(\u001b[0m\u001b[0mhead\u001b[0m\u001b[1;33m)\u001b[0m\u001b[1;33m\u001b[0m\u001b[1;33m\u001b[0m\u001b[0m\n\u001b[0m",
      "\u001b[1;32m~\\AppData\\Local\\Temp\\ipykernel_5420\\2014215971.py\u001b[0m in \u001b[0;36mprintll\u001b[1;34m(head)\u001b[0m\n\u001b[0;32m      2\u001b[0m \u001b[1;32mdef\u001b[0m \u001b[0mprintll\u001b[0m\u001b[1;33m(\u001b[0m\u001b[0mhead\u001b[0m\u001b[1;33m)\u001b[0m\u001b[1;33m:\u001b[0m\u001b[1;33m\u001b[0m\u001b[1;33m\u001b[0m\u001b[0m\n\u001b[0;32m      3\u001b[0m     \u001b[1;32mwhile\u001b[0m \u001b[0mhead\u001b[0m \u001b[1;32mis\u001b[0m \u001b[1;32mnot\u001b[0m \u001b[1;32mNone\u001b[0m\u001b[1;33m:\u001b[0m\u001b[1;33m\u001b[0m\u001b[1;33m\u001b[0m\u001b[0m\n\u001b[1;32m----> 4\u001b[1;33m         \u001b[0mprint\u001b[0m\u001b[1;33m(\u001b[0m\u001b[0mhead\u001b[0m\u001b[1;33m.\u001b[0m\u001b[0mdata\u001b[0m\u001b[1;33m+\u001b[0m\u001b[1;34m\"->\"\u001b[0m\u001b[1;33m,\u001b[0m\u001b[0mend\u001b[0m\u001b[1;33m=\u001b[0m\u001b[1;34m\"\"\u001b[0m\u001b[1;33m)\u001b[0m\u001b[1;33m\u001b[0m\u001b[1;33m\u001b[0m\u001b[0m\n\u001b[0m\u001b[0;32m      5\u001b[0m         \u001b[0mhead\u001b[0m\u001b[1;33m=\u001b[0m\u001b[0mhead\u001b[0m\u001b[1;33m.\u001b[0m\u001b[0mnext\u001b[0m\u001b[1;33m\u001b[0m\u001b[1;33m\u001b[0m\u001b[0m\n\u001b[0;32m      6\u001b[0m     \u001b[0mprint\u001b[0m\u001b[1;33m(\u001b[0m\u001b[1;34m\"None\"\u001b[0m\u001b[1;33m)\u001b[0m\u001b[1;33m\u001b[0m\u001b[1;33m\u001b[0m\u001b[0m\n",
      "\u001b[1;31mTypeError\u001b[0m: unsupported operand type(s) for +: 'int' and 'str'"
     ]
    }
   ],
   "source": [
    "#Driver Code\n",
    "head=takeInput2()\n",
    "printll(head)"
   ]
  },
  {
   "cell_type": "code",
   "execution_count": null,
   "id": "c06bec06",
   "metadata": {},
   "outputs": [],
   "source": []
  },
  {
   "cell_type": "code",
   "execution_count": null,
   "id": "cf8aca02",
   "metadata": {},
   "outputs": [],
   "source": []
  },
  {
   "cell_type": "code",
   "execution_count": 1,
   "id": "0f5ccd64",
   "metadata": {},
   "outputs": [],
   "source": [
    "#reversing\n",
    "def rev(head):\n",
    "    if head is None:\n",
    "        return head\n",
    "    else:\n",
    "        curr==head.next\n",
    "        temp=curr.next\n",
    "        while temp is not None:\n",
    "            curr.next=head\n",
    "            head=curr\n",
    "            curr=curr.next\n",
    "            temp=temp.next\n",
    "        head=curr\n",
    "        return  head"
   ]
  },
  {
   "cell_type": "code",
   "execution_count": 2,
   "id": "6faaa2ed",
   "metadata": {},
   "outputs": [
    {
     "ename": "NameError",
     "evalue": "name 'takeInput2' is not defined",
     "output_type": "error",
     "traceback": [
      "\u001b[1;31m---------------------------------------------------------------------------\u001b[0m",
      "\u001b[1;31mNameError\u001b[0m                                 Traceback (most recent call last)",
      "\u001b[1;32m~\\AppData\\Local\\Temp\\ipykernel_5420\\2616158562.py\u001b[0m in \u001b[0;36m<module>\u001b[1;34m\u001b[0m\n\u001b[0;32m      1\u001b[0m \u001b[1;31m#Driver Code\u001b[0m\u001b[1;33m\u001b[0m\u001b[1;33m\u001b[0m\u001b[0m\n\u001b[1;32m----> 2\u001b[1;33m \u001b[0mhead\u001b[0m\u001b[1;33m=\u001b[0m\u001b[0mtakeInput2\u001b[0m\u001b[1;33m(\u001b[0m\u001b[1;33m)\u001b[0m\u001b[1;33m\u001b[0m\u001b[1;33m\u001b[0m\u001b[0m\n\u001b[0m\u001b[0;32m      3\u001b[0m \u001b[0mprintll\u001b[0m\u001b[1;33m(\u001b[0m\u001b[0mhead\u001b[0m\u001b[1;33m)\u001b[0m\u001b[1;33m\u001b[0m\u001b[1;33m\u001b[0m\u001b[0m\n",
      "\u001b[1;31mNameError\u001b[0m: name 'takeInput2' is not defined"
     ]
    }
   ],
   "source": [
    "#Driver Code\n",
    "head=takeInput2()\n",
    "printll(head)"
   ]
  },
  {
   "cell_type": "code",
   "execution_count": null,
   "id": "e7e87bf0",
   "metadata": {},
   "outputs": [],
   "source": []
  },
  {
   "cell_type": "code",
   "execution_count": null,
   "id": "bd6c3e38",
   "metadata": {},
   "outputs": [],
   "source": []
  },
  {
   "cell_type": "code",
   "execution_count": 27,
   "id": "b9f47c81",
   "metadata": {},
   "outputs": [
    {
     "name": "stdout",
     "output_type": "stream",
     "text": [
      "1 ->4 ->58 ->9 ->7 ->4 ->None\n"
     ]
    }
   ],
   "source": []
  },
  {
   "cell_type": "code",
   "execution_count": null,
   "id": "44deddd4",
   "metadata": {},
   "outputs": [],
   "source": []
  }
 ],
 "metadata": {
  "kernelspec": {
   "display_name": "Python 3 (ipykernel)",
   "language": "python",
   "name": "python3"
  },
  "language_info": {
   "codemirror_mode": {
    "name": "ipython",
    "version": 3
   },
   "file_extension": ".py",
   "mimetype": "text/x-python",
   "name": "python",
   "nbconvert_exporter": "python",
   "pygments_lexer": "ipython3",
   "version": "3.9.13"
  }
 },
 "nbformat": 4,
 "nbformat_minor": 5
}
