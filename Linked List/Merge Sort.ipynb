{
 "cells": [
  {
   "cell_type": "code",
   "execution_count": 1,
   "id": "49c3ef1a",
   "metadata": {},
   "outputs": [],
   "source": [
    "#creating nodes\n",
    "class Node:\n",
    "    def __init__(self,data):\n",
    "        self.data=data\n",
    "        self.next=None\n",
    "\n",
    "def takeInput():\n",
    "    lst=[int(i) for i in input().split()]\n",
    "    head=None\n",
    "    tail=None\n",
    "    for ele in lst:\n",
    "        if ele==-1:\n",
    "            break\n",
    "        newNode=Node(ele)\n",
    "        if head==None:\n",
    "            head=newNode\n",
    "            tail=newNode\n",
    "        else:\n",
    "            tail.next=newNode\n",
    "            tail=newNode\n",
    "    return head\n",
    "\n",
    "def printll(head):\n",
    "    curr=head\n",
    "    while curr is not None:\n",
    "        print(curr.data,end=\" \")\n",
    "        curr=curr.next\n",
    "    print(None)\n",
    "def length(head):\n",
    "    temp=head\n",
    "    count=0\n",
    "    while temp is not None:\n",
    "        count+=1\n",
    "        temp=temp.next\n",
    "    return count"
   ]
  },
  {
   "cell_type": "code",
   "execution_count": 2,
   "id": "c7225d84",
   "metadata": {},
   "outputs": [],
   "source": [
    "def midpointll(head):\n",
    "    fast=slow=head\n",
    "    while fast.next!=None and fast.next.next!=None:\n",
    "        slow=slow.next\n",
    "        fast=fast.next.next\n",
    "    return slow"
   ]
  },
  {
   "cell_type": "code",
   "execution_count": 3,
   "id": "2e105ad1",
   "metadata": {},
   "outputs": [],
   "source": [
    "def mergell(x,y):\n",
    "    if x!=None and y==None:\n",
    "        return x\n",
    "    elif x==None and y!=None:\n",
    "        return y\n",
    "    elif x==None and y==None:\n",
    "        return None\n",
    "    else:\n",
    "        pass\n",
    "    fh=0\n",
    "    ft=0\n",
    "    if x.data<y.data:\n",
    "        fh=ft=x\n",
    "        x=x.next\n",
    "    else:\n",
    "        fh=ft=y\n",
    "        y=y.next\n",
    "    while x!=None and y!=None:\n",
    "        if x.data<y.data:\n",
    "            ft.next=x\n",
    "            ft=ft.next\n",
    "            x=x.next\n",
    "        else:\n",
    "            ft.next=y\n",
    "            ft=ft.next\n",
    "            y=y.next\n",
    "    if x!=None:\n",
    "        ft.next=x\n",
    "    if y!=None:\n",
    "        ft.next=y\n",
    "    return fh\n",
    "            "
   ]
  },
  {
   "cell_type": "code",
   "execution_count": 5,
   "id": "088f9442",
   "metadata": {},
   "outputs": [
    {
     "name": "stdout",
     "output_type": "stream",
     "text": [
      "\n",
      "None\n"
     ]
    },
    {
     "ename": "AttributeError",
     "evalue": "'NoneType' object has no attribute 'next'",
     "output_type": "error",
     "traceback": [
      "\u001b[1;31m---------------------------------------------------------------------------\u001b[0m",
      "\u001b[1;31mAttributeError\u001b[0m                            Traceback (most recent call last)",
      "\u001b[1;32m~\\AppData\\Local\\Temp\\ipykernel_10888\\223375620.py\u001b[0m in \u001b[0;36m<module>\u001b[1;34m\u001b[0m\n\u001b[0;32m      1\u001b[0m \u001b[0mh1\u001b[0m\u001b[1;33m=\u001b[0m\u001b[0mtakeInput\u001b[0m\u001b[1;33m(\u001b[0m\u001b[1;33m)\u001b[0m\u001b[1;33m\u001b[0m\u001b[1;33m\u001b[0m\u001b[0m\n\u001b[0;32m      2\u001b[0m \u001b[0mprintll\u001b[0m\u001b[1;33m(\u001b[0m\u001b[0mh1\u001b[0m\u001b[1;33m)\u001b[0m\u001b[1;33m\u001b[0m\u001b[1;33m\u001b[0m\u001b[0m\n\u001b[1;32m----> 3\u001b[1;33m \u001b[0mprint\u001b[0m\u001b[1;33m(\u001b[0m\u001b[0mmidpointll\u001b[0m\u001b[1;33m(\u001b[0m\u001b[0mh1\u001b[0m\u001b[1;33m)\u001b[0m\u001b[1;33m.\u001b[0m\u001b[0mdata\u001b[0m\u001b[1;33m)\u001b[0m\u001b[1;33m\u001b[0m\u001b[1;33m\u001b[0m\u001b[0m\n\u001b[0m",
      "\u001b[1;32m~\\AppData\\Local\\Temp\\ipykernel_10888\\2963267330.py\u001b[0m in \u001b[0;36mmidpointll\u001b[1;34m(head)\u001b[0m\n\u001b[0;32m      1\u001b[0m \u001b[1;32mdef\u001b[0m \u001b[0mmidpointll\u001b[0m\u001b[1;33m(\u001b[0m\u001b[0mhead\u001b[0m\u001b[1;33m)\u001b[0m\u001b[1;33m:\u001b[0m\u001b[1;33m\u001b[0m\u001b[1;33m\u001b[0m\u001b[0m\n\u001b[0;32m      2\u001b[0m     \u001b[0mfast\u001b[0m\u001b[1;33m=\u001b[0m\u001b[0mslow\u001b[0m\u001b[1;33m=\u001b[0m\u001b[0mhead\u001b[0m\u001b[1;33m\u001b[0m\u001b[1;33m\u001b[0m\u001b[0m\n\u001b[1;32m----> 3\u001b[1;33m     \u001b[1;32mwhile\u001b[0m \u001b[0mfast\u001b[0m\u001b[1;33m.\u001b[0m\u001b[0mnext\u001b[0m\u001b[1;33m!=\u001b[0m\u001b[1;32mNone\u001b[0m \u001b[1;32mand\u001b[0m \u001b[0mfast\u001b[0m\u001b[1;33m.\u001b[0m\u001b[0mnext\u001b[0m\u001b[1;33m.\u001b[0m\u001b[0mnext\u001b[0m\u001b[1;33m!=\u001b[0m\u001b[1;32mNone\u001b[0m\u001b[1;33m:\u001b[0m\u001b[1;33m\u001b[0m\u001b[1;33m\u001b[0m\u001b[0m\n\u001b[0m\u001b[0;32m      4\u001b[0m         \u001b[0mslow\u001b[0m\u001b[1;33m=\u001b[0m\u001b[0mslow\u001b[0m\u001b[1;33m.\u001b[0m\u001b[0mnext\u001b[0m\u001b[1;33m\u001b[0m\u001b[1;33m\u001b[0m\u001b[0m\n\u001b[0;32m      5\u001b[0m         \u001b[0mfast\u001b[0m\u001b[1;33m=\u001b[0m\u001b[0mfast\u001b[0m\u001b[1;33m.\u001b[0m\u001b[0mnext\u001b[0m\u001b[1;33m.\u001b[0m\u001b[0mnext\u001b[0m\u001b[1;33m\u001b[0m\u001b[1;33m\u001b[0m\u001b[0m\n",
      "\u001b[1;31mAttributeError\u001b[0m: 'NoneType' object has no attribute 'next'"
     ]
    }
   ],
   "source": [
    "h1=takeInput()\n",
    "printll(h1)\n",
    "print(midpointll(h1).data)"
   ]
  },
  {
   "cell_type": "code",
   "execution_count": 6,
   "id": "1cd9e159",
   "metadata": {},
   "outputs": [
    {
     "name": "stdout",
     "output_type": "stream",
     "text": [
      "2 4 6 7 9 -1\n",
      "2 4 6 7 9 None\n",
      "6\n"
     ]
    }
   ],
   "source": [
    "h2=takeInput()\n",
    "printll(h2)\n",
    "print(midpointll(h2).data)"
   ]
  },
  {
   "cell_type": "code",
   "execution_count": 9,
   "id": "d711cc42",
   "metadata": {},
   "outputs": [
    {
     "name": "stdout",
     "output_type": "stream",
     "text": [
      "1 2 3 4 5 6 7 8 9 None\n"
     ]
    }
   ],
   "source": [
    "mh=mergell(h1,h2)\n",
    "printll(mh)"
   ]
  },
  {
   "cell_type": "code",
   "execution_count": 4,
   "id": "eea7befb",
   "metadata": {},
   "outputs": [],
   "source": [
    "#MergeSort\n",
    "def mergeSort(head):\n",
    "    if head is None or head.next is None:\n",
    "        return head\n",
    "    h1=head\n",
    "    mid=midpointll(h1)\n",
    "    h2=mid\n",
    "    h2=h2.next\n",
    "    mid.next=None\n",
    "    x=mergeSort(h1)\n",
    "    y=mergeSort(h2)\n",
    "    sh=mergell(x,y)\n",
    "    return sh"
   ]
  },
  {
   "cell_type": "code",
   "execution_count": 5,
   "id": "2122e674",
   "metadata": {},
   "outputs": [
    {
     "name": "stdout",
     "output_type": "stream",
     "text": [
      "1 45 7 8 9 4 2 4 6 4 7 8 9 -1\n",
      "1 45 7 8 9 4 2 4 6 4 7 8 9 None\n"
     ]
    }
   ],
   "source": [
    "h3=takeInput()\n",
    "printll(h3)"
   ]
  },
  {
   "cell_type": "code",
   "execution_count": 6,
   "id": "612897e6",
   "metadata": {},
   "outputs": [
    {
     "data": {
      "text/plain": [
       "2"
      ]
     },
     "execution_count": 6,
     "metadata": {},
     "output_type": "execute_result"
    }
   ],
   "source": [
    "midpointll(h3).data"
   ]
  },
  {
   "cell_type": "code",
   "execution_count": 7,
   "id": "f2714f78",
   "metadata": {},
   "outputs": [
    {
     "name": "stdout",
     "output_type": "stream",
     "text": [
      "1 45 7 8 9 4 2 4 6 4 7 8 9 None\n"
     ]
    }
   ],
   "source": [
    "printll(h3)"
   ]
  },
  {
   "cell_type": "code",
   "execution_count": 8,
   "id": "44db0f26",
   "metadata": {},
   "outputs": [
    {
     "name": "stdout",
     "output_type": "stream",
     "text": [
      "1 2 4 4 4 6 7 7 8 8 9 9 45 None\n"
     ]
    }
   ],
   "source": [
    "sh=mergeSort(h3)\n",
    "printll(sh)"
   ]
  },
  {
   "cell_type": "code",
   "execution_count": null,
   "id": "95dabce0",
   "metadata": {},
   "outputs": [],
   "source": []
  },
  {
   "cell_type": "code",
   "execution_count": null,
   "id": "a5b69a5b",
   "metadata": {},
   "outputs": [],
   "source": []
  }
 ],
 "metadata": {
  "kernelspec": {
   "display_name": "Python 3 (ipykernel)",
   "language": "python",
   "name": "python3"
  },
  "language_info": {
   "codemirror_mode": {
    "name": "ipython",
    "version": 3
   },
   "file_extension": ".py",
   "mimetype": "text/x-python",
   "name": "python",
   "nbconvert_exporter": "python",
   "pygments_lexer": "ipython3",
   "version": "3.9.13"
  }
 },
 "nbformat": 4,
 "nbformat_minor": 5
}
