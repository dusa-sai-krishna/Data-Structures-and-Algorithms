{
 "cells": [
  {
   "cell_type": "code",
   "execution_count": 18,
   "id": "49258d70",
   "metadata": {},
   "outputs": [],
   "source": [
    "def reverseStack(inputStack,extraStack):\n",
    "    if len(inputStack) in (0,1):\n",
    "        return inputStack\n",
    "    else:\n",
    "        #Move n-1 ele to extraStack\n",
    "        while len(inputStack)!=1:\n",
    "            extraStack.append(inputStack.pop())\n",
    "        temp=inputStack.pop()\n",
    "        #Move n-1 back to inputStack\n",
    "        while len(extraStack)!=0:\n",
    "            inputStack.append(extraStack.pop())\n",
    "        reverseStack(inputStack,extraStack)\n",
    "        inputStack.append(temp)\n",
    "        \n",
    "def printStack(lst):\n",
    "    while len(lst)!=0:\n",
    "        print(lst.pop(),end=\" \")"
   ]
  },
  {
   "cell_type": "code",
   "execution_count": 19,
   "id": "d675d91f",
   "metadata": {},
   "outputs": [
    {
     "name": "stdout",
     "output_type": "stream",
     "text": [
      "1 2 3 4 "
     ]
    }
   ],
   "source": [
    "inputStack=[1,2,3,4]\n",
    "extraStack=[]\n",
    "reverseStack(inputStack,extraStack)\n",
    "printStack(inputStack)"
   ]
  },
  {
   "cell_type": "code",
   "execution_count": 11,
   "id": "d847512d",
   "metadata": {},
   "outputs": [
    {
     "data": {
      "text/plain": [
       "[]"
      ]
     },
     "execution_count": 11,
     "metadata": {},
     "output_type": "execute_result"
    }
   ],
   "source": [
    "inputStack\n"
   ]
  },
  {
   "cell_type": "code",
   "execution_count": null,
   "id": "cf260905",
   "metadata": {},
   "outputs": [],
   "source": []
  }
 ],
 "metadata": {
  "kernelspec": {
   "display_name": "Python 3 (ipykernel)",
   "language": "python",
   "name": "python3"
  },
  "language_info": {
   "codemirror_mode": {
    "name": "ipython",
    "version": 3
   },
   "file_extension": ".py",
   "mimetype": "text/x-python",
   "name": "python",
   "nbconvert_exporter": "python",
   "pygments_lexer": "ipython3",
   "version": "3.9.13"
  }
 },
 "nbformat": 4,
 "nbformat_minor": 5
}
