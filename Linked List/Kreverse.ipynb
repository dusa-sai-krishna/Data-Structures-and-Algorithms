{
 "cells": [
  {
   "cell_type": "code",
   "execution_count": 1,
   "id": "4aff2659",
   "metadata": {},
   "outputs": [],
   "source": [
    "#creating nodes\n",
    "class Node:\n",
    "    def __init__(self,data):\n",
    "        self.data=data\n",
    "        self.next=None\n",
    "\n",
    "def takeInput():\n",
    "    lst=[int(i) for i in input().split()]\n",
    "    head=None\n",
    "    tail=None\n",
    "    for ele in lst:\n",
    "        if ele==-1:\n",
    "            break\n",
    "        newNode=Node(ele)\n",
    "        if head==None:\n",
    "            head=newNode\n",
    "            tail=newNode\n",
    "        else:\n",
    "            tail.next=newNode\n",
    "            tail=newNode\n",
    "    return head\n",
    "\n",
    "def printll(head):\n",
    "    curr=head\n",
    "    while curr is not None:\n",
    "        print(curr.data,end=\" \")\n",
    "        curr=curr.next\n",
    "    print(None)\n",
    "def length(head):\n",
    "    temp=head\n",
    "    count=0\n",
    "    while temp is not None:\n",
    "        count+=1\n",
    "        temp=temp.next\n",
    "    return count"
   ]
  },
  {
   "cell_type": "code",
   "execution_count": 28,
   "id": "c0531839",
   "metadata": {},
   "outputs": [],
   "source": [
    "def reverse(head):\n",
    "    if head is None or head.next is None:\n",
    "        return head,head\n",
    "    else:\n",
    "        smallhead,smalltail=revll(head.next)\n",
    "        smalltail.next=head\n",
    "        head.next=None\n",
    "        return smallhead,head"
   ]
  },
  {
   "cell_type": "code",
   "execution_count": 20,
   "id": "408e0c35",
   "metadata": {},
   "outputs": [
    {
     "name": "stdout",
     "output_type": "stream",
     "text": [
      "1 2 -1\n",
      "1 2 None\n"
     ]
    }
   ],
   "source": [
    "head=takeInput()\n",
    "printll(head)\n"
   ]
  },
  {
   "cell_type": "code",
   "execution_count": 21,
   "id": "bc0a03db",
   "metadata": {},
   "outputs": [
    {
     "name": "stdout",
     "output_type": "stream",
     "text": [
      "2 1 None\n",
      "1\n"
     ]
    }
   ],
   "source": [
    "x,y=revll(head)\n",
    "printll(x)\n",
    "print(y.data)"
   ]
  },
  {
   "cell_type": "code",
   "execution_count": 29,
   "id": "6c86c7d9",
   "metadata": {},
   "outputs": [],
   "source": [
    "      \n",
    "        \n",
    "def kReverse(head, n):\n",
    "   \n",
    "  if head is None or head.next is None or n <= 0:\n",
    "    return head\n",
    " \n",
    "  curr = head\n",
    "  tail = head\n",
    "\n",
    "  cnt = 1\n",
    "  while tail.next is not None:\n",
    "    if cnt == n:\n",
    "      break\n",
    "    cnt += 1\n",
    "    tail = tail.next\n",
    " \n",
    "  nextHead = tail.next\n",
    "  tail.next = None\n",
    "  newHead, newTail = reverse(curr)\n",
    "  newTail.next = kReverse(nextHead, n)\n",
    " \n",
    "  return newHead"
   ]
  },
  {
   "cell_type": "code",
   "execution_count": 30,
   "id": "e58b71af",
   "metadata": {},
   "outputs": [
    {
     "name": "stdout",
     "output_type": "stream",
     "text": [
      "1 2 3 4 5 6 8 9 -1\n",
      "1 2 3 4 5 6 8 9 None\n"
     ]
    }
   ],
   "source": [
    "head=takeInput()\n",
    "printll(head)"
   ]
  },
  {
   "cell_type": "code",
   "execution_count": 31,
   "id": "93316965",
   "metadata": {},
   "outputs": [
    {
     "name": "stdout",
     "output_type": "stream",
     "text": [
      "2 1 4 3 6 5 9 8 None\n"
     ]
    }
   ],
   "source": [
    "printll(kReverse(head,2))"
   ]
  },
  {
   "cell_type": "code",
   "execution_count": null,
   "id": "e1e897d4",
   "metadata": {},
   "outputs": [],
   "source": []
  },
  {
   "cell_type": "code",
   "execution_count": null,
   "id": "67f0a876",
   "metadata": {},
   "outputs": [],
   "source": []
  },
  {
   "cell_type": "code",
   "execution_count": null,
   "id": "b793327e",
   "metadata": {},
   "outputs": [],
   "source": []
  },
  {
   "cell_type": "code",
   "execution_count": null,
   "id": "e650832f",
   "metadata": {},
   "outputs": [],
   "source": []
  },
  {
   "cell_type": "code",
   "execution_count": null,
   "id": "89db053e",
   "metadata": {},
   "outputs": [],
   "source": []
  },
  {
   "cell_type": "code",
   "execution_count": null,
   "id": "b2c77ab8",
   "metadata": {},
   "outputs": [],
   "source": []
  },
  {
   "cell_type": "code",
   "execution_count": null,
   "id": "585d92b3",
   "metadata": {},
   "outputs": [],
   "source": []
  },
  {
   "cell_type": "code",
   "execution_count": null,
   "id": "80841ba3",
   "metadata": {},
   "outputs": [],
   "source": []
  },
  {
   "cell_type": "code",
   "execution_count": null,
   "id": "c3adfc7b",
   "metadata": {},
   "outputs": [],
   "source": []
  }
 ],
 "metadata": {
  "kernelspec": {
   "display_name": "Python 3 (ipykernel)",
   "language": "python",
   "name": "python3"
  },
  "language_info": {
   "codemirror_mode": {
    "name": "ipython",
    "version": 3
   },
   "file_extension": ".py",
   "mimetype": "text/x-python",
   "name": "python",
   "nbconvert_exporter": "python",
   "pygments_lexer": "ipython3",
   "version": "3.9.13"
  }
 },
 "nbformat": 4,
 "nbformat_minor": 5
}
