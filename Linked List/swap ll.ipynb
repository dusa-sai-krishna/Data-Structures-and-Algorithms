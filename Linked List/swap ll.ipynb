{
 "cells": [
  {
   "cell_type": "code",
   "execution_count": 4,
   "id": "4eb98db0",
   "metadata": {},
   "outputs": [],
   "source": [
    "#creating nodes\n",
    "class Node:\n",
    "    def __init__(self,data):\n",
    "        self.data=data\n",
    "        self.next=None\n",
    "\n",
    "def takeInput():\n",
    "    lst=[int(i) for i in input().split()]\n",
    "    head=None\n",
    "    tail=None\n",
    "    for ele in lst:\n",
    "        if ele==-1:\n",
    "            break\n",
    "        newNode=Node(ele)\n",
    "        if head==None:\n",
    "            head=newNode\n",
    "            tail=newNode\n",
    "        else:\n",
    "            tail.next=newNode\n",
    "            tail=newNode\n",
    "    return head\n",
    "\n",
    "def printll(head):\n",
    "    curr=head\n",
    "    while curr is not None:\n",
    "        print(curr.data,end=\" \")\n",
    "        curr=curr.next\n",
    "    print(None)\n",
    "def length(head):\n",
    "    temp=head\n",
    "    count=0\n",
    "    while temp is not None:\n",
    "        count+=1\n",
    "        temp=temp.next\n",
    "    return count"
   ]
  },
  {
   "cell_type": "code",
   "execution_count": 8,
   "id": "32b993e9",
   "metadata": {},
   "outputs": [],
   "source": []
  },
  {
   "cell_type": "code",
   "execution_count": 6,
   "id": "7502e06b",
   "metadata": {},
   "outputs": [
    {
     "name": "stdout",
     "output_type": "stream",
     "text": [
      "1 2 3 4 5 6 7 8 9 -1\n",
      "1 2 3 4 5 6 7 8 9 None\n"
     ]
    }
   ],
   "source": [
    "head=takeInput()\n",
    "printll(head)"
   ]
  },
  {
   "cell_type": "code",
   "execution_count": 9,
   "id": "7a8b9ba4",
   "metadata": {},
   "outputs": [
    {
     "name": "stdout",
     "output_type": "stream",
     "text": [
      "1 2 4 3 5 6 7 8 9 None\n"
     ]
    }
   ],
   "source": [
    "sh=swapll(head,2,3)\n",
    "printll(sh)"
   ]
  },
  {
   "cell_type": "code",
   "execution_count": null,
   "id": "e0b4b0f3",
   "metadata": {},
   "outputs": [],
   "source": []
  }
 ],
 "metadata": {
  "kernelspec": {
   "display_name": "Python 3 (ipykernel)",
   "language": "python",
   "name": "python3"
  },
  "language_info": {
   "codemirror_mode": {
    "name": "ipython",
    "version": 3
   },
   "file_extension": ".py",
   "mimetype": "text/x-python",
   "name": "python",
   "nbconvert_exporter": "python",
   "pygments_lexer": "ipython3",
   "version": "3.9.13"
  }
 },
 "nbformat": 4,
 "nbformat_minor": 5
}
