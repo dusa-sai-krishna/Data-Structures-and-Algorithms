{
 "cells": [
  {
   "cell_type": "code",
   "execution_count": 3,
   "id": "604d5b5d",
   "metadata": {},
   "outputs": [],
   "source": [
    "#creating nodes\n",
    "class Node:\n",
    "    def __init__(self,data):\n",
    "        self.data=data\n",
    "        self.next=None\n",
    "\n",
    "def takeInput():\n",
    "    lst=[int(i) for i in input().split()]\n",
    "    head=None\n",
    "    tail=None\n",
    "    for ele in lst:\n",
    "        if ele==-1:\n",
    "            break\n",
    "        newNode=Node(ele)\n",
    "        if head==None:\n",
    "            head=newNode\n",
    "            tail=newNode\n",
    "        else:\n",
    "            tail.next=newNode\n",
    "            tail=newNode\n",
    "    return head\n",
    "\n",
    "def printll(head):\n",
    "    curr=head\n",
    "    while curr is not None:\n",
    "        print(curr.data,end=\" \")\n",
    "        curr=curr.next\n",
    "    print(None)\n",
    "def length(head):\n",
    "    temp=head\n",
    "    count=0\n",
    "    while temp is not None:\n",
    "        count+=1\n",
    "        temp=temp.next\n",
    "    return count"
   ]
  },
  {
   "cell_type": "code",
   "execution_count": 27,
   "id": "0d284b3a",
   "metadata": {},
   "outputs": [],
   "source": [
    "def skipll(head,m,n):\n",
    "    if m==0:\n",
    "        return None\n",
    "    if n==0:\n",
    "        return head\n",
    "    c1=1\n",
    "    c2=1\n",
    "    curr=head\n",
    "    while curr is not None:\n",
    "        t1=curr\n",
    "        while c1!=m:\n",
    "            if t1.next is not None:\n",
    "                t1=t1.next\n",
    "                c1+=1\n",
    "            else:\n",
    "                return head\n",
    "        if t1.next is not None:\n",
    "            t2=t1.next\n",
    "        else:\n",
    "            return head\n",
    "        while c2!=n:\n",
    "            if t2 is not None:\n",
    "                t2=t2.next\n",
    "                c2+=1\n",
    "            else:\n",
    "                t1.next=None\n",
    "                return head\n",
    "        if t2.next is not None:\n",
    "            t2=t2.next\n",
    "            t1.next=t2\n",
    "            t1=t2\n",
    "        else:\n",
    "            t1.next=None\n",
    "            return head\n",
    "        c1=1\n",
    "        c2=1\n",
    "        curr=t1\n",
    "    return head"
   ]
  },
  {
   "cell_type": "code",
   "execution_count": 28,
   "id": "f350a65f",
   "metadata": {},
   "outputs": [
    {
     "name": "stdout",
     "output_type": "stream",
     "text": [
      "1 2 3 4 5 6 7 8 -1\n",
      "1 2 3 4 5 6 7 8 None\n"
     ]
    }
   ],
   "source": [
    "head=takeInput()\n",
    "printll(head)"
   ]
  },
  {
   "cell_type": "code",
   "execution_count": 29,
   "id": "4def6495",
   "metadata": {},
   "outputs": [
    {
     "name": "stdout",
     "output_type": "stream",
     "text": [
      "1 2 5 6 None\n"
     ]
    }
   ],
   "source": [
    "sh=skipll(head,2,2)\n",
    "printll(sh)"
   ]
  },
  {
   "cell_type": "code",
   "execution_count": null,
   "id": "190e67b1",
   "metadata": {},
   "outputs": [],
   "source": []
  }
 ],
 "metadata": {
  "kernelspec": {
   "display_name": "Python 3 (ipykernel)",
   "language": "python",
   "name": "python3"
  },
  "language_info": {
   "codemirror_mode": {
    "name": "ipython",
    "version": 3
   },
   "file_extension": ".py",
   "mimetype": "text/x-python",
   "name": "python",
   "nbconvert_exporter": "python",
   "pygments_lexer": "ipython3",
   "version": "3.9.13"
  }
 },
 "nbformat": 4,
 "nbformat_minor": 5
}
