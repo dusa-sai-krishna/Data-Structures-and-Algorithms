{
 "cells": [
  {
   "cell_type": "code",
   "execution_count": 1,
   "id": "93a4bc18",
   "metadata": {},
   "outputs": [],
   "source": [
    "class Node:\n",
    "    def __init__(self,data):\n",
    "        self.data=data\n",
    "        self.next=None\n"
   ]
  },
  {
   "cell_type": "code",
   "execution_count": 6,
   "id": "19a3c6b7",
   "metadata": {},
   "outputs": [
    {
     "name": "stdout",
     "output_type": "stream",
     "text": [
      "10 15 15\n",
      "<__main__.Node object at 0x000002D9FD141490> <__main__.Node object at 0x000002D9FD12BE80> <__main__.Node object at 0x000002D9FD12BE80>\n"
     ]
    }
   ],
   "source": [
    "#Driver code\n",
    "a=Node(10)\n",
    "b=Node(15)\n",
    "a.next=b\n",
    "print(a.data,b.data,a.next.data)\n",
    "print(a,b,a.next)"
   ]
  },
  {
   "cell_type": "code",
   "execution_count": null,
   "id": "0bb0d3ae",
   "metadata": {},
   "outputs": [],
   "source": []
  }
 ],
 "metadata": {
  "kernelspec": {
   "display_name": "Python 3 (ipykernel)",
   "language": "python",
   "name": "python3"
  },
  "language_info": {
   "codemirror_mode": {
    "name": "ipython",
    "version": 3
   },
   "file_extension": ".py",
   "mimetype": "text/x-python",
   "name": "python",
   "nbconvert_exporter": "python",
   "pygments_lexer": "ipython3",
   "version": "3.9.12"
  }
 },
 "nbformat": 4,
 "nbformat_minor": 5
}
