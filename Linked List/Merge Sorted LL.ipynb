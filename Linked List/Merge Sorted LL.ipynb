{
 "cells": [
  {
   "cell_type": "code",
   "execution_count": 1,
   "id": "896a2304",
   "metadata": {},
   "outputs": [],
   "source": [
    "#creating nodes\n",
    "class Node:\n",
    "    def __init__(self,data):\n",
    "        self.data=data\n",
    "        self.next=None\n",
    "\n",
    "def takeInput():\n",
    "    lst=[int(i) for i in input().split()]\n",
    "    head=None\n",
    "    tail=None\n",
    "    for ele in lst:\n",
    "        if ele==-1:\n",
    "            break\n",
    "        newNode=Node(ele)\n",
    "        if head==None:\n",
    "            head=newNode\n",
    "            tail=newNode\n",
    "        else:\n",
    "            tail.next=newNode\n",
    "            tail=newNode\n",
    "    return head\n",
    "\n",
    "def printll(head):\n",
    "    curr=head\n",
    "    while curr is not None:\n",
    "        print(curr.data,end=\" \")\n",
    "        curr=curr.next\n",
    "    print(None)\n",
    "def length(head):\n",
    "    temp=head\n",
    "    count=0\n",
    "    while temp is not None:\n",
    "        count+=1\n",
    "        temp=temp.next\n",
    "    return count"
   ]
  },
  {
   "cell_type": "code",
   "execution_count": 2,
   "id": "45018567",
   "metadata": {},
   "outputs": [
    {
     "name": "stdout",
     "output_type": "stream",
     "text": [
      "1 2 4 7 8 9 -1\n",
      "1 2 4 7 8 9 None\n"
     ]
    }
   ],
   "source": [
    "h1=takeInput()\n",
    "printll(h1)"
   ]
  },
  {
   "cell_type": "code",
   "execution_count": 3,
   "id": "b3656b9b",
   "metadata": {},
   "outputs": [
    {
     "name": "stdout",
     "output_type": "stream",
     "text": [
      "2 3 4 6 7 -1\n",
      "2 3 4 6 7 None\n"
     ]
    }
   ],
   "source": [
    "h2=takeInput()\n",
    "printll(h2)"
   ]
  },
  {
   "cell_type": "code",
   "execution_count": 4,
   "id": "bce94094",
   "metadata": {},
   "outputs": [],
   "source": [
    "def mergell(x,y):\n",
    "    finalhead=0\n",
    "    finaltail=0\n",
    "    if x.data<y.data:\n",
    "        finalhead=x\n",
    "        finaltail=x\n",
    "        x=x.next\n",
    "    else:\n",
    "        finalhead=y\n",
    "        finaltail=y\n",
    "        y=y.next\n",
    "    while x!=None and y!=None:\n",
    "        if x.data<y.data:\n",
    "            finaltail.next=x\n",
    "            finaltail=finaltail.next\n",
    "            x=x.next\n",
    "        else:\n",
    "            finaltail.next=y\n",
    "            finaltail=finaltail.next\n",
    "            y=y.next\n",
    "    if x!=None:\n",
    "        finaltail.next=x\n",
    "    if y!=None:\n",
    "        finaltail.next=y\n",
    "    return finalhead"
   ]
  },
  {
   "cell_type": "code",
   "execution_count": 5,
   "id": "ea42a65e",
   "metadata": {},
   "outputs": [
    {
     "name": "stdout",
     "output_type": "stream",
     "text": [
      "1 2 2 3 4 4 6 7 7 8 9 None\n"
     ]
    }
   ],
   "source": [
    "printll(mergell(h1,h2))\n"
   ]
  },
  {
   "cell_type": "code",
   "execution_count": null,
   "id": "3e5a5158",
   "metadata": {},
   "outputs": [],
   "source": []
  },
  {
   "cell_type": "code",
   "execution_count": null,
   "id": "40778082",
   "metadata": {},
   "outputs": [],
   "source": []
  },
  {
   "cell_type": "code",
   "execution_count": null,
   "id": "1f7885e2",
   "metadata": {},
   "outputs": [],
   "source": []
  }
 ],
 "metadata": {
  "kernelspec": {
   "display_name": "Python 3 (ipykernel)",
   "language": "python",
   "name": "python3"
  },
  "language_info": {
   "codemirror_mode": {
    "name": "ipython",
    "version": 3
   },
   "file_extension": ".py",
   "mimetype": "text/x-python",
   "name": "python",
   "nbconvert_exporter": "python",
   "pygments_lexer": "ipython3",
   "version": "3.9.13"
  }
 },
 "nbformat": 4,
 "nbformat_minor": 5
}
