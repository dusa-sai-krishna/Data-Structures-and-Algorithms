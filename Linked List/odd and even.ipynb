{
 "cells": [
  {
   "cell_type": "code",
   "execution_count": 1,
   "id": "58c56f69",
   "metadata": {},
   "outputs": [],
   "source": [
    "#creating nodes\n",
    "class Node:\n",
    "    def __init__(self,data):\n",
    "        self.data=data\n",
    "        self.next=None\n",
    "\n",
    "def takeInput():\n",
    "    lst=[int(i) for i in input().split()]\n",
    "    head=None\n",
    "    tail=None\n",
    "    for ele in lst:\n",
    "        if ele==-1:\n",
    "            break\n",
    "        newNode=Node(ele)\n",
    "        if head==None:\n",
    "            head=newNode\n",
    "            tail=newNode\n",
    "        else:\n",
    "            tail.next=newNode\n",
    "            tail=newNode\n",
    "    return head\n",
    "\n",
    "def printll(head):\n",
    "    curr=head\n",
    "    while curr is not None:\n",
    "        print(curr.data,end=\" \")\n",
    "        curr=curr.next\n",
    "    print(None)\n",
    "def length(head):\n",
    "    temp=head\n",
    "    count=0\n",
    "    while temp is not None:\n",
    "        count+=1\n",
    "        temp=temp.next\n",
    "    return count"
   ]
  },
  {
   "cell_type": "code",
   "execution_count": 14,
   "id": "6492e8b8",
   "metadata": {},
   "outputs": [],
   "source": [
    "def replacell(head):\n",
    "    oh=ot=eh=et=None\n",
    "    curr=head\n",
    "    while curr is not None:\n",
    "        if curr.data%2==0:\n",
    "            if eh==None:\n",
    "                eh=et=curr\n",
    "            else:\n",
    "                et.next=curr\n",
    "                et=et.next\n",
    "        else:\n",
    "            if oh==None:\n",
    "                oh=ot=curr\n",
    "            else:\n",
    "                ot.next=curr\n",
    "                ot=ot.next\n",
    "        curr=curr.next\n",
    "    if oh==None:\n",
    "        return head\n",
    "    elif eh==None:\n",
    "        return head\n",
    "    else:\n",
    "        ot.next=eh\n",
    "        et.next=None\n",
    "        return oh"
   ]
  },
  {
   "cell_type": "code",
   "execution_count": 15,
   "id": "28ec6e1e",
   "metadata": {},
   "outputs": [
    {
     "name": "stdout",
     "output_type": "stream",
     "text": [
      "10 20 30 40 -1\n",
      "10 20 30 40 None\n"
     ]
    }
   ],
   "source": [
    "head=takeInput()\n",
    "printll(head)"
   ]
  },
  {
   "cell_type": "code",
   "execution_count": 16,
   "id": "b859187a",
   "metadata": {},
   "outputs": [
    {
     "name": "stdout",
     "output_type": "stream",
     "text": [
      "10 20 30 40 None\n"
     ]
    }
   ],
   "source": [
    "printll(replacell(head))"
   ]
  },
  {
   "cell_type": "code",
   "execution_count": null,
   "id": "45ecdba5",
   "metadata": {},
   "outputs": [],
   "source": []
  },
  {
   "cell_type": "code",
   "execution_count": null,
   "id": "ff4b829a",
   "metadata": {},
   "outputs": [],
   "source": []
  },
  {
   "cell_type": "code",
   "execution_count": null,
   "id": "0a27aa79",
   "metadata": {},
   "outputs": [],
   "source": []
  },
  {
   "cell_type": "code",
   "execution_count": null,
   "id": "6e87ced0",
   "metadata": {},
   "outputs": [],
   "source": []
  },
  {
   "cell_type": "code",
   "execution_count": null,
   "id": "20114b80",
   "metadata": {},
   "outputs": [],
   "source": []
  }
 ],
 "metadata": {
  "kernelspec": {
   "display_name": "Python 3 (ipykernel)",
   "language": "python",
   "name": "python3"
  },
  "language_info": {
   "codemirror_mode": {
    "name": "ipython",
    "version": 3
   },
   "file_extension": ".py",
   "mimetype": "text/x-python",
   "name": "python",
   "nbconvert_exporter": "python",
   "pygments_lexer": "ipython3",
   "version": "3.9.13"
  }
 },
 "nbformat": 4,
 "nbformat_minor": 5
}
