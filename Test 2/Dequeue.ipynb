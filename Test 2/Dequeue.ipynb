{
 "cells": [
  {
   "cell_type": "code",
   "execution_count": 1,
   "id": "21c4249a",
   "metadata": {},
   "outputs": [],
   "source": [
    "#creating nodes\n",
    "class Node:\n",
    "    def __init__(self,data):\n",
    "        self.data=data\n",
    "        self.next=None\n",
    "\n",
    "def takeInput():\n",
    "    lst=[int(i) for i in input().split()]\n",
    "    head=None\n",
    "    tail=None\n",
    "    for ele in lst:\n",
    "        if ele==-1:\n",
    "            break\n",
    "        newNode=Node(ele)\n",
    "        if head==None:\n",
    "            head=newNode\n",
    "            tail=newNode\n",
    "        else:\n",
    "            tail.next=newNode\n",
    "            tail=newNode\n",
    "    return head\n",
    "\n",
    "def printll(head):\n",
    "    curr=head\n",
    "    while curr is not None:\n",
    "        print(curr.data,end=\" \")\n",
    "        curr=curr.next\n",
    "    print(None)\n",
    "def length(head):\n",
    "    temp=head\n",
    "    count=0\n",
    "    while temp is not None:\n",
    "        count+=1\n",
    "        temp=temp.next\n",
    "    return count"
   ]
  },
  {
   "cell_type": "code",
   "execution_count": 2,
   "id": "2fc7c5f0",
   "metadata": {},
   "outputs": [],
   "source": [
    "class Dequeue:\n",
    "    def __init__(self):\n",
    "        self.head=None\n",
    "        self.tail=None\n",
    "        self.count=0\n",
    "    \n",
    "    def insertFront(self,data):\n",
    "        if self.count>=10:\n",
    "            print(-1)\n",
    "            return 0\n",
    "        else:\n",
    "            newNode=Node(data)\n",
    "            #Checking if head is None\n",
    "            if self.head is None:\n",
    "                self.head=self.tail=newNode\n",
    "                self.count+=1\n",
    "                self.tail.next=None\n",
    "            else:\n",
    "                curr=self.head\n",
    "                self.head=newNode\n",
    "                self.head.next=curr\n",
    "                self.count+=1\n",
    "    \n",
    "    def insertRear(self,data):\n",
    "        if self.count>=10:\n",
    "            print(-1)\n",
    "            return 0\n",
    "        else:\n",
    "            newNode=Node(data)\n",
    "            #Checking if head is None\n",
    "            if self.tail is None:\n",
    "                self.head=self.tail=newNode\n",
    "                self.count+=1\n",
    "                self.tail.next=None\n",
    "            else:\n",
    "                self.tail.next=newNode\n",
    "                self.tail=self.tail.next\n",
    "                self.count+=1\n",
    "    \n",
    "    \n",
    "    \n",
    "    def deleteFront(self):\n",
    "        if self.count==0:\n",
    "            print(-1)\n",
    "            return 0\n",
    "        else:\n",
    "            self.head=self.head.next\n",
    "            self.count-=1\n",
    "     \n",
    "    \n",
    "    def deleteRear(self):\n",
    "        if self.count==0:\n",
    "            print(-1)\n",
    "            return 0\n",
    "        \n",
    "        else:\n",
    "            prev=None\n",
    "            curr=self.head\n",
    "            while curr.next is not None:\n",
    "                prev=curr\n",
    "                curr=curr.next\n",
    "            self.tail=prev\n",
    "            self.count-=1\n",
    "            if self.tail==None:\n",
    "                return 0\n",
    "            self.tail.next=None\n",
    "   \t\n",
    "    def getFront(self):\n",
    "        if self.count==0:\n",
    "            print(-1)\n",
    "            return 0\n",
    "        else:\n",
    "            print(self.head.data)\n",
    "    def getRear(self):\n",
    "        if self.count==0:\n",
    "            print(-1)\n",
    "            return 0\n",
    "        else:\n",
    "            print(self.tail.data)\n",
    "            \n",
    "         "
   ]
  },
  {
   "cell_type": "code",
   "execution_count": 3,
   "id": "35e6befe",
   "metadata": {},
   "outputs": [
    {
     "name": "stdout",
     "output_type": "stream",
     "text": [
      "5 1 49 1 64 2 99 5 6 -1\n",
      "-1\n",
      "64\n",
      "99\n"
     ]
    }
   ],
   "source": [
    "input=[int(i) for i in input().split()]\n",
    "index=0\n",
    "dq=Dequeue()\n",
    "while index<len(input):\n",
    "    if input[index]==1:\n",
    "        index+=1\n",
    "        data=input[index]\n",
    "        dq.insertFront(data)\n",
    "    elif input[index]==2:\n",
    "        index+=1\n",
    "        data=input[index]\n",
    "        dq.insertRear(data)\n",
    "    elif input[index]==3:\n",
    "        dq.deleteFront()\n",
    "    elif input[index]==4:\n",
    "        dq.deleteRear()\n",
    "    elif input[index]==5:\n",
    "        dq.getFront()\n",
    "    elif input[index]==6:\n",
    "        dq.getRear()\n",
    "    else:\n",
    "        pass\n",
    "    index+=1\n",
    "    "
   ]
  },
  {
   "cell_type": "code",
   "execution_count": 131,
   "id": "16ff985e",
   "metadata": {},
   "outputs": [],
   "source": [
    "dq=Dequeue()\n",
    "dq.insertFront(10)\n",
    "dq.insertFront(20)\n",
    "dq.insertRear(50)\n",
    "dq.insertRear(70)"
   ]
  },
  {
   "cell_type": "code",
   "execution_count": 117,
   "id": "17547d1d",
   "metadata": {},
   "outputs": [
    {
     "name": "stdout",
     "output_type": "stream",
     "text": [
      "20\n"
     ]
    }
   ],
   "source": [
    "dq.getFront()"
   ]
  },
  {
   "cell_type": "code",
   "execution_count": 118,
   "id": "09479731",
   "metadata": {},
   "outputs": [
    {
     "name": "stdout",
     "output_type": "stream",
     "text": [
      "70\n"
     ]
    }
   ],
   "source": [
    "dq.getRear()"
   ]
  },
  {
   "cell_type": "code",
   "execution_count": 119,
   "id": "96e36fb9",
   "metadata": {},
   "outputs": [],
   "source": [
    "dq.deleteFront()"
   ]
  },
  {
   "cell_type": "code",
   "execution_count": 120,
   "id": "d4b12788",
   "metadata": {},
   "outputs": [
    {
     "name": "stdout",
     "output_type": "stream",
     "text": [
      "10\n"
     ]
    }
   ],
   "source": [
    "dq.getFront()"
   ]
  },
  {
   "cell_type": "code",
   "execution_count": 121,
   "id": "da41d224",
   "metadata": {},
   "outputs": [],
   "source": [
    "dq.deleteRear()"
   ]
  },
  {
   "cell_type": "code",
   "execution_count": 122,
   "id": "88648dc6",
   "metadata": {},
   "outputs": [
    {
     "name": "stdout",
     "output_type": "stream",
     "text": [
      "50\n"
     ]
    }
   ],
   "source": [
    "dq.getRear()"
   ]
  },
  {
   "cell_type": "code",
   "execution_count": 123,
   "id": "0720fa97",
   "metadata": {},
   "outputs": [],
   "source": [
    "dq.deleteRear()"
   ]
  },
  {
   "cell_type": "code",
   "execution_count": 124,
   "id": "b3be01c2",
   "metadata": {},
   "outputs": [
    {
     "name": "stdout",
     "output_type": "stream",
     "text": [
      "10\n"
     ]
    }
   ],
   "source": [
    "dq.getFront()"
   ]
  },
  {
   "cell_type": "code",
   "execution_count": 125,
   "id": "06f21b3d",
   "metadata": {},
   "outputs": [
    {
     "name": "stdout",
     "output_type": "stream",
     "text": [
      "10\n"
     ]
    }
   ],
   "source": [
    "dq.getRear()"
   ]
  },
  {
   "cell_type": "code",
   "execution_count": 126,
   "id": "53381eed",
   "metadata": {},
   "outputs": [
    {
     "data": {
      "text/plain": [
       "1"
      ]
     },
     "execution_count": 126,
     "metadata": {},
     "output_type": "execute_result"
    }
   ],
   "source": [
    "dq.count"
   ]
  },
  {
   "cell_type": "code",
   "execution_count": 127,
   "id": "302a754b",
   "metadata": {},
   "outputs": [
    {
     "data": {
      "text/plain": [
       "0"
      ]
     },
     "execution_count": 127,
     "metadata": {},
     "output_type": "execute_result"
    }
   ],
   "source": [
    "dq.deleteRear()"
   ]
  },
  {
   "cell_type": "code",
   "execution_count": 128,
   "id": "6de50671",
   "metadata": {},
   "outputs": [
    {
     "name": "stdout",
     "output_type": "stream",
     "text": [
      "-1\n"
     ]
    },
    {
     "data": {
      "text/plain": [
       "0"
      ]
     },
     "execution_count": 128,
     "metadata": {},
     "output_type": "execute_result"
    }
   ],
   "source": [
    "dq.deleteRear()"
   ]
  },
  {
   "cell_type": "code",
   "execution_count": 101,
   "id": "372d6fe5",
   "metadata": {},
   "outputs": [
    {
     "name": "stdout",
     "output_type": "stream",
     "text": [
      "-1\n"
     ]
    },
    {
     "data": {
      "text/plain": [
       "0"
      ]
     },
     "execution_count": 101,
     "metadata": {},
     "output_type": "execute_result"
    }
   ],
   "source": []
  },
  {
   "cell_type": "code",
   "execution_count": null,
   "id": "885f0e59",
   "metadata": {},
   "outputs": [],
   "source": []
  }
 ],
 "metadata": {
  "kernelspec": {
   "display_name": "Python 3 (ipykernel)",
   "language": "python",
   "name": "python3"
  },
  "language_info": {
   "codemirror_mode": {
    "name": "ipython",
    "version": 3
   },
   "file_extension": ".py",
   "mimetype": "text/x-python",
   "name": "python",
   "nbconvert_exporter": "python",
   "pygments_lexer": "ipython3",
   "version": "3.9.13"
  }
 },
 "nbformat": 4,
 "nbformat_minor": 5
}
